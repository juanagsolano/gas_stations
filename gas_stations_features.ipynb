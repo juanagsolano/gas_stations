{
 "cells": [
  {
   "cell_type": "markdown",
   "metadata": {},
   "source": [
    "# Get gas station prices by location\n",
    "\n",
    "This notebook extract gas and diesel prices for all stations in Mexico and create a dataframe and map locations.\n",
    "\n",
    "The data was extracted from [datos.gob.mx](https://datos.gob.mx/) and its provided by CRE (Comisión Reguladora de Energía).\n",
    "\n",
    "Info about data:\n",
    "\n",
    "[https://datos.gob.mx/busca/dataset/estaciones-de-servicio-gasolineras-y-precios-finales-de-gasolina-y-diesel](https://datos.gob.mx/busca/dataset/estaciones-de-servicio-gasolineras-y-precios-finales-de-gasolina-y-diesel)\n",
    "\n",
    "The dataset consist in two XML file format, first contains attributes of gas stations services and second file contains prices for all gas stations services.\n",
    "\n",
    "List of service stations, XML File [https://bit.ly/2V1Z3sm](https://bit.ly/2V1Z3sm)\n",
    "\n",
    "List prices of gas and diesel for station, XML file [https://bit.ly/2JNcTha](https://bit.ly/2JNcTha)\n",
    "\n",
    "License info:\n",
    "\n",
    "[https://datos.gob.mx/libreusomx](https://datos.gob.mx/libreusomx)"
   ]
  },
  {
   "cell_type": "markdown",
   "metadata": {},
   "source": [
    "## Get gas stations in Mexico"
   ]
  },
  {
   "cell_type": "code",
   "execution_count": 1,
   "metadata": {},
   "outputs": [],
   "source": [
    "import requests\n",
    "import xml.etree.ElementTree as et"
   ]
  },
  {
   "cell_type": "code",
   "execution_count": 2,
   "metadata": {},
   "outputs": [],
   "source": [
    "# xml file information\n",
    "url = \"https://bit.ly/2V1Z3sm\"\n",
    "\n",
    "# Load xml file in memory\n",
    "r = requests.get(url,allow_redirects=True)"
   ]
  },
  {
   "cell_type": "code",
   "execution_count": 3,
   "metadata": {},
   "outputs": [
    {
     "name": "stdout",
     "output_type": "stream",
     "text": [
      "<Element 'places' at 0x00000241703E6360>\n"
     ]
    }
   ],
   "source": [
    "# Using element tree to handle xml file\n",
    "root = et.fromstring(r.content)\n",
    "print(root)"
   ]
  },
  {
   "cell_type": "markdown",
   "metadata": {},
   "source": [
    "## Extracting attributes function 1"
   ]
  },
  {
   "cell_type": "code",
   "execution_count": 4,
   "metadata": {},
   "outputs": [],
   "source": [
    "def place_info(idx: int):\n",
    "    \"\"\"\n",
    "    Create a dictionary list from xml file with attributes.\\n\n",
    "    [place_id, name, cree_id, latitude, longitude]\n",
    "    \"\"\"\n",
    "    place_dict = {}\n",
    "    # Get place_id\n",
    "    place_dict[\"place_id\"] = int(root[idx].attrib.get(\"place_id\"))\n",
    "\n",
    "    # Get name station\n",
    "    place_dict[\"name\"] = root[idx][0].text\n",
    "\n",
    "    # Get cree_id\n",
    "    place_dict[\"cree_id\"] = root[idx][1].text\n",
    "\n",
    "    # Get location coordinates\n",
    "    place_dict[\"latitude\"] = float(root[idx][2][1].text)\n",
    "    place_dict[\"longitude\"] = float(root[idx][2][0].text)\n",
    "    \n",
    "    return place_dict"
   ]
  },
  {
   "cell_type": "markdown",
   "metadata": {},
   "source": [
    "## Creating pandas dataframe for places"
   ]
  },
  {
   "cell_type": "code",
   "execution_count": 5,
   "metadata": {},
   "outputs": [],
   "source": [
    "places_list = []\n",
    "for i in range(len(root)):\n",
    "    places_list.append(place_info(i))"
   ]
  },
  {
   "cell_type": "code",
   "execution_count": 6,
   "metadata": {},
   "outputs": [
    {
     "data": {
      "text/html": [
       "<div>\n",
       "<style scoped>\n",
       "    .dataframe tbody tr th:only-of-type {\n",
       "        vertical-align: middle;\n",
       "    }\n",
       "\n",
       "    .dataframe tbody tr th {\n",
       "        vertical-align: top;\n",
       "    }\n",
       "\n",
       "    .dataframe thead th {\n",
       "        text-align: right;\n",
       "    }\n",
       "</style>\n",
       "<table border=\"1\" class=\"dataframe\">\n",
       "  <thead>\n",
       "    <tr style=\"text-align: right;\">\n",
       "      <th></th>\n",
       "      <th>name</th>\n",
       "      <th>cree_id</th>\n",
       "      <th>latitude</th>\n",
       "      <th>longitude</th>\n",
       "    </tr>\n",
       "    <tr>\n",
       "      <th>place_id</th>\n",
       "      <th></th>\n",
       "      <th></th>\n",
       "      <th></th>\n",
       "      <th></th>\n",
       "    </tr>\n",
       "  </thead>\n",
       "  <tbody>\n",
       "    <tr>\n",
       "      <th>2039</th>\n",
       "      <td>ESTACION DE SERVICIO CALAFIA, S.A. DE C.V.</td>\n",
       "      <td>PL/658/EXP/ES/2015</td>\n",
       "      <td>32.47641</td>\n",
       "      <td>-116.92140</td>\n",
       "    </tr>\n",
       "    <tr>\n",
       "      <th>2040</th>\n",
       "      <td>LAS MEJORES ESTACIONES, S.A DE C.V</td>\n",
       "      <td>PL/902/EXP/ES/2015</td>\n",
       "      <td>20.30370</td>\n",
       "      <td>-99.74484</td>\n",
       "    </tr>\n",
       "    <tr>\n",
       "      <th>2041</th>\n",
       "      <td>DIAZ GAS, S.A. DE C.V.</td>\n",
       "      <td>PL/760/EXP/ES/2015</td>\n",
       "      <td>31.71947</td>\n",
       "      <td>-106.45140</td>\n",
       "    </tr>\n",
       "    <tr>\n",
       "      <th>2042</th>\n",
       "      <td>COMBU-EXPRESS, S.A. DE C.V.</td>\n",
       "      <td>PL/825/EXP/ES/2015</td>\n",
       "      <td>20.71413</td>\n",
       "      <td>-103.30420</td>\n",
       "    </tr>\n",
       "    <tr>\n",
       "      <th>2043</th>\n",
       "      <td>PETROMAX, S.A. DE C.V.</td>\n",
       "      <td>PL/585/EXP/ES/2015</td>\n",
       "      <td>26.03787</td>\n",
       "      <td>-98.29977</td>\n",
       "    </tr>\n",
       "    <tr>\n",
       "      <th>...</th>\n",
       "      <td>...</td>\n",
       "      <td>...</td>\n",
       "      <td>...</td>\n",
       "      <td>...</td>\n",
       "    </tr>\n",
       "    <tr>\n",
       "      <th>27758</th>\n",
       "      <td>SUMINISTRO DE COMBUSTIBLES EL SEIS S. DE R.L. ...</td>\n",
       "      <td>PL/23961/EXP/ES/2022</td>\n",
       "      <td>20.88375</td>\n",
       "      <td>-102.70250</td>\n",
       "    </tr>\n",
       "    <tr>\n",
       "      <th>27759</th>\n",
       "      <td>GASOLINERA SACSALUM SA DE CV</td>\n",
       "      <td>PL/23960/EXP/ES/2022</td>\n",
       "      <td>16.32370</td>\n",
       "      <td>-91.97680</td>\n",
       "    </tr>\n",
       "    <tr>\n",
       "      <th>27764</th>\n",
       "      <td>AEROPUERTO INTERNACIONAL FELIPE ANGELES, SOCIE...</td>\n",
       "      <td>PL/23974/EXP/ES/2022</td>\n",
       "      <td>19.72579</td>\n",
       "      <td>-99.03263</td>\n",
       "    </tr>\n",
       "    <tr>\n",
       "      <th>27765</th>\n",
       "      <td>AEROPUERTO INTERNACIONAL FELIPE ANGELES, SOCIE...</td>\n",
       "      <td>PL/23975/EXP/ES/2022</td>\n",
       "      <td>19.76109</td>\n",
       "      <td>-98.98862</td>\n",
       "    </tr>\n",
       "    <tr>\n",
       "      <th>27766</th>\n",
       "      <td>AEROPUERTO INTERNACIONAL FELIPE ANGELES, SOCIE...</td>\n",
       "      <td>PL/23976/EXP/ES/2022</td>\n",
       "      <td>19.74581</td>\n",
       "      <td>-99.00842</td>\n",
       "    </tr>\n",
       "  </tbody>\n",
       "</table>\n",
       "<p>12959 rows × 4 columns</p>\n",
       "</div>"
      ],
      "text/plain": [
       "                                                       name  \\\n",
       "place_id                                                      \n",
       "2039             ESTACION DE SERVICIO CALAFIA, S.A. DE C.V.   \n",
       "2040                     LAS MEJORES ESTACIONES, S.A DE C.V   \n",
       "2041                                 DIAZ GAS, S.A. DE C.V.   \n",
       "2042                            COMBU-EXPRESS, S.A. DE C.V.   \n",
       "2043                                 PETROMAX, S.A. DE C.V.   \n",
       "...                                                     ...   \n",
       "27758     SUMINISTRO DE COMBUSTIBLES EL SEIS S. DE R.L. ...   \n",
       "27759                          GASOLINERA SACSALUM SA DE CV   \n",
       "27764     AEROPUERTO INTERNACIONAL FELIPE ANGELES, SOCIE...   \n",
       "27765     AEROPUERTO INTERNACIONAL FELIPE ANGELES, SOCIE...   \n",
       "27766     AEROPUERTO INTERNACIONAL FELIPE ANGELES, SOCIE...   \n",
       "\n",
       "                       cree_id  latitude  longitude  \n",
       "place_id                                             \n",
       "2039        PL/658/EXP/ES/2015  32.47641 -116.92140  \n",
       "2040        PL/902/EXP/ES/2015  20.30370  -99.74484  \n",
       "2041        PL/760/EXP/ES/2015  31.71947 -106.45140  \n",
       "2042        PL/825/EXP/ES/2015  20.71413 -103.30420  \n",
       "2043        PL/585/EXP/ES/2015  26.03787  -98.29977  \n",
       "...                        ...       ...        ...  \n",
       "27758     PL/23961/EXP/ES/2022  20.88375 -102.70250  \n",
       "27759     PL/23960/EXP/ES/2022  16.32370  -91.97680  \n",
       "27764     PL/23974/EXP/ES/2022  19.72579  -99.03263  \n",
       "27765     PL/23975/EXP/ES/2022  19.76109  -98.98862  \n",
       "27766     PL/23976/EXP/ES/2022  19.74581  -99.00842  \n",
       "\n",
       "[12959 rows x 4 columns]"
      ]
     },
     "execution_count": 6,
     "metadata": {},
     "output_type": "execute_result"
    }
   ],
   "source": [
    "import pandas as pd\n",
    "import numpy as np\n",
    "\n",
    "places = pd.DataFrame(places_list)\n",
    "places.set_index(\"place_id\",inplace=True)\n",
    "places.replace(0, np.nan, inplace=True)\n",
    "places"
   ]
  },
  {
   "cell_type": "markdown",
   "metadata": {},
   "source": [
    "## Fix coordinates\n",
    "\n",
    "Coordinates system consist in two values, latitude and longitude.\n",
    "\n",
    "latitude domain --> [-90, 90]\n",
    "\n",
    "longitude domain --> [-180, 180]\n",
    "\n",
    "For Mexico the coordinates ranges from:\n",
    "Latitude [14, 34]\n",
    "Longitude [-116, -86]\n",
    "\n",
    "![Coordinates in Mexico](images\\mapa-mexico-coordenadas-geograficas.jpg)"
   ]
  },
  {
   "cell_type": "markdown",
   "metadata": {},
   "source": [
    "### Exploring max and min values\n",
    "In following sorted data we can see some issues in coordinates:\n",
    "\n",
    "1. Station with place_id = 23393 have not valid coordinates (is not in domain) and the values does not have sense.\n",
    "2. Latitude domain is [-90,90], the last 4 stations does not have latitude in this domain, so we suspect this value is longitude and not latitude."
   ]
  },
  {
   "cell_type": "code",
   "execution_count": 116,
   "metadata": {},
   "outputs": [
    {
     "data": {
      "text/html": [
       "<div>\n",
       "<style scoped>\n",
       "    .dataframe tbody tr th:only-of-type {\n",
       "        vertical-align: middle;\n",
       "    }\n",
       "\n",
       "    .dataframe tbody tr th {\n",
       "        vertical-align: top;\n",
       "    }\n",
       "\n",
       "    .dataframe thead th {\n",
       "        text-align: right;\n",
       "    }\n",
       "</style>\n",
       "<table border=\"1\" class=\"dataframe\">\n",
       "  <thead>\n",
       "    <tr style=\"text-align: right;\">\n",
       "      <th></th>\n",
       "      <th>latitude</th>\n",
       "      <th>longitude</th>\n",
       "    </tr>\n",
       "    <tr>\n",
       "      <th>place_id</th>\n",
       "      <th></th>\n",
       "      <th></th>\n",
       "    </tr>\n",
       "  </thead>\n",
       "  <tbody>\n",
       "    <tr>\n",
       "      <th>23393</th>\n",
       "      <td>2272.49000</td>\n",
       "      <td>355773.10000</td>\n",
       "    </tr>\n",
       "    <tr>\n",
       "      <th>9351</th>\n",
       "      <td>32.71629</td>\n",
       "      <td>-114.73260</td>\n",
       "    </tr>\n",
       "    <tr>\n",
       "      <th>9675</th>\n",
       "      <td>32.67113</td>\n",
       "      <td>-115.40400</td>\n",
       "    </tr>\n",
       "    <tr>\n",
       "      <th>3909</th>\n",
       "      <td>32.66928</td>\n",
       "      <td>-115.39360</td>\n",
       "    </tr>\n",
       "    <tr>\n",
       "      <th>7740</th>\n",
       "      <td>32.66899</td>\n",
       "      <td>-115.42610</td>\n",
       "    </tr>\n",
       "    <tr>\n",
       "      <th>...</th>\n",
       "      <td>...</td>\n",
       "      <td>...</td>\n",
       "    </tr>\n",
       "    <tr>\n",
       "      <th>2415</th>\n",
       "      <td>14.67243</td>\n",
       "      <td>-92.15979</td>\n",
       "    </tr>\n",
       "    <tr>\n",
       "      <th>7146</th>\n",
       "      <td>-98.85688</td>\n",
       "      <td>19.35144</td>\n",
       "    </tr>\n",
       "    <tr>\n",
       "      <th>5852</th>\n",
       "      <td>-99.02986</td>\n",
       "      <td>19.38820</td>\n",
       "    </tr>\n",
       "    <tr>\n",
       "      <th>5812</th>\n",
       "      <td>-99.03223</td>\n",
       "      <td>19.41447</td>\n",
       "    </tr>\n",
       "    <tr>\n",
       "      <th>7024</th>\n",
       "      <td>-99.03712</td>\n",
       "      <td>19.48694</td>\n",
       "    </tr>\n",
       "  </tbody>\n",
       "</table>\n",
       "<p>12852 rows × 2 columns</p>\n",
       "</div>"
      ],
      "text/plain": [
       "            latitude     longitude\n",
       "place_id                          \n",
       "23393     2272.49000  355773.10000\n",
       "9351        32.71629    -114.73260\n",
       "9675        32.67113    -115.40400\n",
       "3909        32.66928    -115.39360\n",
       "7740        32.66899    -115.42610\n",
       "...              ...           ...\n",
       "2415        14.67243     -92.15979\n",
       "7146       -98.85688      19.35144\n",
       "5852       -99.02986      19.38820\n",
       "5812       -99.03223      19.41447\n",
       "7024       -99.03712      19.48694\n",
       "\n",
       "[12852 rows x 2 columns]"
      ]
     },
     "execution_count": 116,
     "metadata": {},
     "output_type": "execute_result"
    }
   ],
   "source": [
    "places[[\"latitude\",\"longitude\"]].dropna().sort_values(by=[\"latitude\",\"longitude\"],ascending=False)"
   ]
  },
  {
   "cell_type": "markdown",
   "metadata": {},
   "source": [
    "### Cleaning wrong coordinates\n",
    "Coordinates system does not have sense and we can't see it in a geographic map, so, we will drop it."
   ]
  },
  {
   "cell_type": "code",
   "execution_count": 117,
   "metadata": {},
   "outputs": [
    {
     "data": {
      "text/plain": [
       "name         INMOBILIARIA HOTELA S.A. DE C.V.\n",
       "cree_id                  PL/20670/EXP/ES/2017\n",
       "latitude                              2272.49\n",
       "longitude                            355773.1\n",
       "Name: 23393, dtype: object"
      ]
     },
     "execution_count": 117,
     "metadata": {},
     "output_type": "execute_result"
    }
   ],
   "source": [
    "places.loc[23393]"
   ]
  },
  {
   "cell_type": "code",
   "execution_count": 118,
   "metadata": {},
   "outputs": [
    {
     "data": {
      "text/plain": [
       "name         INMOBILIARIA HOTELA S.A. DE C.V.\n",
       "cree_id                  PL/20670/EXP/ES/2017\n",
       "latitude                                  NaN\n",
       "longitude                                 NaN\n",
       "Name: 23393, dtype: object"
      ]
     },
     "execution_count": 118,
     "metadata": {},
     "output_type": "execute_result"
    }
   ],
   "source": [
    "places.loc[23393,[\"latitude\",\"longitude\"]] = [np.nan,np.nan]\n",
    "places.loc[23393]"
   ]
  },
  {
   "cell_type": "markdown",
   "metadata": {},
   "source": [
    "### Change latitude and longitude\n",
    "\n",
    "We change latitud to longitude and longitude to latitude."
   ]
  },
  {
   "cell_type": "code",
   "execution_count": 119,
   "metadata": {},
   "outputs": [],
   "source": [
    "# Fix location coordinates\n",
    "for index in places.index:\n",
    "    # latitude domain [-90,90]\n",
    "    # longitude domain [-180,180]\n",
    "    if places.loc[index,\"latitude\"] > 90 or places.loc[index,\"latitude\"] < -90:\n",
    "        longitud = places.loc[index, \"latitude\"].copy()\n",
    "        latitud = places.loc[index, \"longitude\"].copy()\n",
    "        \n",
    "        places.loc[index, \"longitude\"] = longitud\n",
    "        places.loc[index, \"latitude\"] = latitud"
   ]
  },
  {
   "cell_type": "markdown",
   "metadata": {},
   "source": [
    "### First Boxplot"
   ]
  },
  {
   "cell_type": "code",
   "execution_count": 120,
   "metadata": {},
   "outputs": [
    {
     "data": {
      "image/png": "[encoded data removed]",
      "text/plain": [
       "<Figure size 720x360 with 2 Axes>"
      ]
     },
     "metadata": {
      "needs_background": "light"
     },
     "output_type": "display_data"
    }
   ],
   "source": [
    "import matplotlib.pyplot as plt\n",
    "\n",
    "plt.figure(figsize=(10,5))\n",
    "plt.style.use(\"bmh\")\n",
    "plt.subplot(1,2,1)\n",
    "places[[\"longitude\"]].boxplot()\n",
    "plt.subplot(1,2,2)\n",
    "places[[\"latitude\"]].boxplot()\n",
    "plt.show()"
   ]
  },
  {
   "cell_type": "markdown",
   "metadata": {},
   "source": [
    "### Fixing coordinates\n",
    "In previous boxplot we can see some values for longitude that are not valid because longitude values of aproximately 100 are in Myanmar or Tailand. We suspect that this values are in fact negative values because that makes sense."
   ]
  },
  {
   "cell_type": "code",
   "execution_count": 121,
   "metadata": {},
   "outputs": [
    {
     "name": "stdout",
     "output_type": "stream",
     "text": [
      "Values to fix: 23\n"
     ]
    }
   ],
   "source": [
    "print(\"Values to fix:\",len(places[[\"longitude\"]][places[\"longitude\"] > 50]))"
   ]
  },
  {
   "cell_type": "code",
   "execution_count": 122,
   "metadata": {},
   "outputs": [],
   "source": [
    "coordinates_fix_idx = places[[\"longitude\"]][places[\"longitude\"] > 50].index\n",
    "places.loc[coordinates_fix_idx, \"longitude\"] *= -1"
   ]
  },
  {
   "cell_type": "code",
   "execution_count": 123,
   "metadata": {},
   "outputs": [
    {
     "name": "stdout",
     "output_type": "stream",
     "text": [
      "Values to fix: 0\n"
     ]
    }
   ],
   "source": [
    "print(\"Values to fix:\",len(places[[\"longitude\"]][places[\"longitude\"] > 50]))"
   ]
  },
  {
   "cell_type": "markdown",
   "metadata": {},
   "source": [
    "### Second Boxplot\n",
    "\n",
    "Finally we can se the distribution for all gas stations coordinates. This values are in valid ranges."
   ]
  },
  {
   "cell_type": "code",
   "execution_count": 124,
   "metadata": {},
   "outputs": [
    {
     "data": {
      "image/png": "[encoded data removed]",
      "text/plain": [
       "<Figure size 720x360 with 2 Axes>"
      ]
     },
     "metadata": {
      "needs_background": "light"
     },
     "output_type": "display_data"
    }
   ],
   "source": [
    "import matplotlib.pyplot as plt\n",
    "\n",
    "plt.figure(figsize=(10,5))\n",
    "plt.style.use(\"bmh\")\n",
    "plt.subplot(1,2,1)\n",
    "places[[\"longitude\"]].boxplot()\n",
    "plt.subplot(1,2,2)\n",
    "places[[\"latitude\"]].boxplot()\n",
    "plt.show()"
   ]
  },
  {
   "cell_type": "markdown",
   "metadata": {},
   "source": [
    "## Get prices for gas stations"
   ]
  },
  {
   "cell_type": "code",
   "execution_count": 125,
   "metadata": {},
   "outputs": [],
   "source": [
    "url = \"https://bit.ly/2JNcTha\"\n",
    "r = requests.get(url, allow_redirects=True)"
   ]
  },
  {
   "cell_type": "code",
   "execution_count": 126,
   "metadata": {},
   "outputs": [
    {
     "name": "stdout",
     "output_type": "stream",
     "text": [
      "<Element 'places' at 0x000002916FA47810>\n"
     ]
    }
   ],
   "source": [
    "root = et.fromstring(r.content)\n",
    "print(root)"
   ]
  },
  {
   "cell_type": "markdown",
   "metadata": {},
   "source": [
    "### Extracting attributes function 2"
   ]
  },
  {
   "cell_type": "code",
   "execution_count": 127,
   "metadata": {},
   "outputs": [],
   "source": [
    "def price_info(idx: int):\n",
    "    \"\"\"\n",
    "    The function extract features from an xml file.\n",
    "    [regular, premium, diesel]\n",
    "    \"\"\"\n",
    "    place_dict = {}\n",
    "    # Get place_id\n",
    "    place_dict[\"place_id\"] = int(root[idx].attrib.get(\"place_id\"))\n",
    "\n",
    "    for gas_types in root[idx]:\n",
    "        place_dict[gas_types.get(\"type\")] = float(gas_types.text)\n",
    "        \n",
    "    return place_dict"
   ]
  },
  {
   "cell_type": "markdown",
   "metadata": {},
   "source": [
    "## Creating pandas dataframe for prices"
   ]
  },
  {
   "cell_type": "code",
   "execution_count": 128,
   "metadata": {},
   "outputs": [],
   "source": [
    "prices_list = []\n",
    "for i in range(len(root)):\n",
    "    prices_list.append(price_info(i))"
   ]
  },
  {
   "cell_type": "code",
   "execution_count": 129,
   "metadata": {},
   "outputs": [
    {
     "data": {
      "text/html": [
       "<div>\n",
       "<style scoped>\n",
       "    .dataframe tbody tr th:only-of-type {\n",
       "        vertical-align: middle;\n",
       "    }\n",
       "\n",
       "    .dataframe tbody tr th {\n",
       "        vertical-align: top;\n",
       "    }\n",
       "\n",
       "    .dataframe thead th {\n",
       "        text-align: right;\n",
       "    }\n",
       "</style>\n",
       "<table border=\"1\" class=\"dataframe\">\n",
       "  <thead>\n",
       "    <tr style=\"text-align: right;\">\n",
       "      <th></th>\n",
       "      <th>regular</th>\n",
       "      <th>premium</th>\n",
       "      <th>diesel</th>\n",
       "    </tr>\n",
       "    <tr>\n",
       "      <th>place_id</th>\n",
       "      <th></th>\n",
       "      <th></th>\n",
       "      <th></th>\n",
       "    </tr>\n",
       "  </thead>\n",
       "  <tbody>\n",
       "    <tr>\n",
       "      <th>2039</th>\n",
       "      <td>22.49</td>\n",
       "      <td>24.99</td>\n",
       "      <td>21.99</td>\n",
       "    </tr>\n",
       "    <tr>\n",
       "      <th>2040</th>\n",
       "      <td>21.25</td>\n",
       "      <td>23.19</td>\n",
       "      <td>23.09</td>\n",
       "    </tr>\n",
       "    <tr>\n",
       "      <th>2041</th>\n",
       "      <td>17.28</td>\n",
       "      <td>19.20</td>\n",
       "      <td>NaN</td>\n",
       "    </tr>\n",
       "    <tr>\n",
       "      <th>2042</th>\n",
       "      <td>21.79</td>\n",
       "      <td>24.39</td>\n",
       "      <td>23.54</td>\n",
       "    </tr>\n",
       "    <tr>\n",
       "      <th>2043</th>\n",
       "      <td>17.79</td>\n",
       "      <td>19.99</td>\n",
       "      <td>NaN</td>\n",
       "    </tr>\n",
       "    <tr>\n",
       "      <th>...</th>\n",
       "      <td>...</td>\n",
       "      <td>...</td>\n",
       "      <td>...</td>\n",
       "    </tr>\n",
       "    <tr>\n",
       "      <th>27732</th>\n",
       "      <td>22.69</td>\n",
       "      <td>23.79</td>\n",
       "      <td>NaN</td>\n",
       "    </tr>\n",
       "    <tr>\n",
       "      <th>27734</th>\n",
       "      <td>21.99</td>\n",
       "      <td>23.85</td>\n",
       "      <td>23.98</td>\n",
       "    </tr>\n",
       "    <tr>\n",
       "      <th>27738</th>\n",
       "      <td>20.62</td>\n",
       "      <td>22.11</td>\n",
       "      <td>NaN</td>\n",
       "    </tr>\n",
       "    <tr>\n",
       "      <th>27739</th>\n",
       "      <td>21.70</td>\n",
       "      <td>23.50</td>\n",
       "      <td>NaN</td>\n",
       "    </tr>\n",
       "    <tr>\n",
       "      <th>27766</th>\n",
       "      <td>21.77</td>\n",
       "      <td>23.41</td>\n",
       "      <td>23.17</td>\n",
       "    </tr>\n",
       "  </tbody>\n",
       "</table>\n",
       "<p>12717 rows × 3 columns</p>\n",
       "</div>"
      ],
      "text/plain": [
       "          regular  premium  diesel\n",
       "place_id                          \n",
       "2039        22.49    24.99   21.99\n",
       "2040        21.25    23.19   23.09\n",
       "2041        17.28    19.20     NaN\n",
       "2042        21.79    24.39   23.54\n",
       "2043        17.79    19.99     NaN\n",
       "...           ...      ...     ...\n",
       "27732       22.69    23.79     NaN\n",
       "27734       21.99    23.85   23.98\n",
       "27738       20.62    22.11     NaN\n",
       "27739       21.70    23.50     NaN\n",
       "27766       21.77    23.41   23.17\n",
       "\n",
       "[12717 rows x 3 columns]"
      ]
     },
     "execution_count": 129,
     "metadata": {},
     "output_type": "execute_result"
    }
   ],
   "source": [
    "import numpy as np\n",
    "\n",
    "prices = pd.DataFrame(places_list)\n",
    "prices.set_index(\"place_id\",inplace=True)\n",
    "prices = prices.groupby(prices.index).sum()\n",
    "prices.replace(0.0,np.nan,inplace=True)\n",
    "prices"
   ]
  },
  {
   "cell_type": "markdown",
   "metadata": {},
   "source": [
    "## Merge dataframes"
   ]
  },
  {
   "cell_type": "code",
   "execution_count": 131,
   "metadata": {},
   "outputs": [
    {
     "data": {
      "text/html": [
       "<div>\n",
       "<style scoped>\n",
       "    .dataframe tbody tr th:only-of-type {\n",
       "        vertical-align: middle;\n",
       "    }\n",
       "\n",
       "    .dataframe tbody tr th {\n",
       "        vertical-align: top;\n",
       "    }\n",
       "\n",
       "    .dataframe thead th {\n",
       "        text-align: right;\n",
       "    }\n",
       "</style>\n",
       "<table border=\"1\" class=\"dataframe\">\n",
       "  <thead>\n",
       "    <tr style=\"text-align: right;\">\n",
       "      <th></th>\n",
       "      <th>name</th>\n",
       "      <th>cree_id</th>\n",
       "      <th>latitude</th>\n",
       "      <th>longitude</th>\n",
       "      <th>regular</th>\n",
       "      <th>premium</th>\n",
       "      <th>diesel</th>\n",
       "    </tr>\n",
       "    <tr>\n",
       "      <th>place_id</th>\n",
       "      <th></th>\n",
       "      <th></th>\n",
       "      <th></th>\n",
       "      <th></th>\n",
       "      <th></th>\n",
       "      <th></th>\n",
       "      <th></th>\n",
       "    </tr>\n",
       "  </thead>\n",
       "  <tbody>\n",
       "    <tr>\n",
       "      <th>2039</th>\n",
       "      <td>ESTACION DE SERVICIO CALAFIA, S.A. DE C.V.</td>\n",
       "      <td>PL/658/EXP/ES/2015</td>\n",
       "      <td>32.47641</td>\n",
       "      <td>-116.92140</td>\n",
       "      <td>22.49</td>\n",
       "      <td>24.99</td>\n",
       "      <td>21.99</td>\n",
       "    </tr>\n",
       "    <tr>\n",
       "      <th>2040</th>\n",
       "      <td>LAS MEJORES ESTACIONES, S.A DE C.V</td>\n",
       "      <td>PL/902/EXP/ES/2015</td>\n",
       "      <td>20.30370</td>\n",
       "      <td>-99.74484</td>\n",
       "      <td>21.25</td>\n",
       "      <td>23.19</td>\n",
       "      <td>23.09</td>\n",
       "    </tr>\n",
       "    <tr>\n",
       "      <th>2041</th>\n",
       "      <td>DIAZ GAS, S.A. DE C.V.</td>\n",
       "      <td>PL/760/EXP/ES/2015</td>\n",
       "      <td>31.71947</td>\n",
       "      <td>-106.45140</td>\n",
       "      <td>17.28</td>\n",
       "      <td>19.20</td>\n",
       "      <td>NaN</td>\n",
       "    </tr>\n",
       "    <tr>\n",
       "      <th>2042</th>\n",
       "      <td>COMBU-EXPRESS, S.A. DE C.V.</td>\n",
       "      <td>PL/825/EXP/ES/2015</td>\n",
       "      <td>20.71413</td>\n",
       "      <td>-103.30420</td>\n",
       "      <td>21.79</td>\n",
       "      <td>24.39</td>\n",
       "      <td>23.54</td>\n",
       "    </tr>\n",
       "    <tr>\n",
       "      <th>2043</th>\n",
       "      <td>PETROMAX, S.A. DE C.V.</td>\n",
       "      <td>PL/585/EXP/ES/2015</td>\n",
       "      <td>26.03787</td>\n",
       "      <td>-98.29977</td>\n",
       "      <td>17.79</td>\n",
       "      <td>19.99</td>\n",
       "      <td>NaN</td>\n",
       "    </tr>\n",
       "    <tr>\n",
       "      <th>...</th>\n",
       "      <td>...</td>\n",
       "      <td>...</td>\n",
       "      <td>...</td>\n",
       "      <td>...</td>\n",
       "      <td>...</td>\n",
       "      <td>...</td>\n",
       "      <td>...</td>\n",
       "    </tr>\n",
       "    <tr>\n",
       "      <th>27758</th>\n",
       "      <td>SUMINISTRO DE COMBUSTIBLES EL SEIS S. DE R.L. ...</td>\n",
       "      <td>PL/23961/EXP/ES/2022</td>\n",
       "      <td>20.88375</td>\n",
       "      <td>-102.70250</td>\n",
       "      <td>NaN</td>\n",
       "      <td>NaN</td>\n",
       "      <td>NaN</td>\n",
       "    </tr>\n",
       "    <tr>\n",
       "      <th>27759</th>\n",
       "      <td>GASOLINERA SACSALUM SA DE CV</td>\n",
       "      <td>PL/23960/EXP/ES/2022</td>\n",
       "      <td>16.32370</td>\n",
       "      <td>-91.97680</td>\n",
       "      <td>NaN</td>\n",
       "      <td>NaN</td>\n",
       "      <td>NaN</td>\n",
       "    </tr>\n",
       "    <tr>\n",
       "      <th>27764</th>\n",
       "      <td>AEROPUERTO INTERNACIONAL FELIPE ANGELES, SOCIE...</td>\n",
       "      <td>PL/23974/EXP/ES/2022</td>\n",
       "      <td>19.72579</td>\n",
       "      <td>-99.03263</td>\n",
       "      <td>NaN</td>\n",
       "      <td>NaN</td>\n",
       "      <td>NaN</td>\n",
       "    </tr>\n",
       "    <tr>\n",
       "      <th>27765</th>\n",
       "      <td>AEROPUERTO INTERNACIONAL FELIPE ANGELES, SOCIE...</td>\n",
       "      <td>PL/23975/EXP/ES/2022</td>\n",
       "      <td>19.76109</td>\n",
       "      <td>-98.98862</td>\n",
       "      <td>NaN</td>\n",
       "      <td>NaN</td>\n",
       "      <td>NaN</td>\n",
       "    </tr>\n",
       "    <tr>\n",
       "      <th>27766</th>\n",
       "      <td>AEROPUERTO INTERNACIONAL FELIPE ANGELES, SOCIE...</td>\n",
       "      <td>PL/23976/EXP/ES/2022</td>\n",
       "      <td>19.74581</td>\n",
       "      <td>-99.00842</td>\n",
       "      <td>21.77</td>\n",
       "      <td>23.41</td>\n",
       "      <td>23.17</td>\n",
       "    </tr>\n",
       "  </tbody>\n",
       "</table>\n",
       "<p>12851 rows × 7 columns</p>\n",
       "</div>"
      ],
      "text/plain": [
       "                                                       name  \\\n",
       "place_id                                                      \n",
       "2039             ESTACION DE SERVICIO CALAFIA, S.A. DE C.V.   \n",
       "2040                     LAS MEJORES ESTACIONES, S.A DE C.V   \n",
       "2041                                 DIAZ GAS, S.A. DE C.V.   \n",
       "2042                            COMBU-EXPRESS, S.A. DE C.V.   \n",
       "2043                                 PETROMAX, S.A. DE C.V.   \n",
       "...                                                     ...   \n",
       "27758     SUMINISTRO DE COMBUSTIBLES EL SEIS S. DE R.L. ...   \n",
       "27759                          GASOLINERA SACSALUM SA DE CV   \n",
       "27764     AEROPUERTO INTERNACIONAL FELIPE ANGELES, SOCIE...   \n",
       "27765     AEROPUERTO INTERNACIONAL FELIPE ANGELES, SOCIE...   \n",
       "27766     AEROPUERTO INTERNACIONAL FELIPE ANGELES, SOCIE...   \n",
       "\n",
       "                       cree_id  latitude  longitude  regular  premium  diesel  \n",
       "place_id                                                                       \n",
       "2039        PL/658/EXP/ES/2015  32.47641 -116.92140    22.49    24.99   21.99  \n",
       "2040        PL/902/EXP/ES/2015  20.30370  -99.74484    21.25    23.19   23.09  \n",
       "2041        PL/760/EXP/ES/2015  31.71947 -106.45140    17.28    19.20     NaN  \n",
       "2042        PL/825/EXP/ES/2015  20.71413 -103.30420    21.79    24.39   23.54  \n",
       "2043        PL/585/EXP/ES/2015  26.03787  -98.29977    17.79    19.99     NaN  \n",
       "...                        ...       ...        ...      ...      ...     ...  \n",
       "27758     PL/23961/EXP/ES/2022  20.88375 -102.70250      NaN      NaN     NaN  \n",
       "27759     PL/23960/EXP/ES/2022  16.32370  -91.97680      NaN      NaN     NaN  \n",
       "27764     PL/23974/EXP/ES/2022  19.72579  -99.03263      NaN      NaN     NaN  \n",
       "27765     PL/23975/EXP/ES/2022  19.76109  -98.98862      NaN      NaN     NaN  \n",
       "27766     PL/23976/EXP/ES/2022  19.74581  -99.00842    21.77    23.41   23.17  \n",
       "\n",
       "[12851 rows x 7 columns]"
      ]
     },
     "execution_count": 131,
     "metadata": {},
     "output_type": "execute_result"
    }
   ],
   "source": [
    "df = places.merge(prices,how=\"left\",left_index=True,right_index=True)\n",
    "\n",
    "# Drop stations with nan location\n",
    "df.dropna(subset=[\"latitude\",\"longitude\"],inplace=True)\n",
    "df"
   ]
  },
  {
   "cell_type": "markdown",
   "metadata": {},
   "source": [
    "## Export dataframe"
   ]
  },
  {
   "cell_type": "code",
   "execution_count": 43,
   "metadata": {},
   "outputs": [],
   "source": [
    "from datetime import datetime\n",
    "import re\n",
    "\n",
    "#Creating name of file based in date\n",
    "date_ex = re.sub(\"[-]\",\"\",str(datetime.today()))\n",
    "date_ex = re.sub(\"[ ]\",\"_\",date_ex)\n",
    "date_ex = re.sub(\"[:]\",\"\",date_ex)\n",
    "date_ex = date_ex[:-7]\n",
    "\n",
    "df.to_csv(\"export_files\\gas_prices_{}.csv\".format(date_ex))"
   ]
  }
 ],
 "metadata": {
  "interpreter": {
   "hash": "60be713148929cc7b3e8f61adf12124ea268898f94907036d1fa158e91da1f3f"
  },
  "kernelspec": {
   "display_name": "Python 3.9.2 64-bit",
   "language": "python",
   "name": "python3"
  },
  "language_info": {
   "codemirror_mode": {
    "name": "ipython",
    "version": 3
   },
   "file_extension": ".py",
   "mimetype": "text/x-python",
   "name": "python",
   "nbconvert_exporter": "python",
   "pygments_lexer": "ipython3",
   "version": "3.9.2"
  },
  "orig_nbformat": 4
 },
 "nbformat": 4,
 "nbformat_minor": 2
}
