{
 "cells": [
  {
   "cell_type": "markdown",
   "metadata": {},
   "source": [
    "# Creating database\n",
    "We will create a database with exported csv file from previous script analysis."
   ]
  },
  {
   "cell_type": "markdown",
   "metadata": {},
   "source": [
    "## Create connection to database\n",
    "Using sqlalchemy to stablish connection to database."
   ]
  },
  {
   "cell_type": "code",
   "execution_count": 12,
   "metadata": {},
   "outputs": [],
   "source": [
    "import sqlalchemy\n",
    "\n",
    "# This part of code is private\n",
    "username = \"-----\"\n",
    "password = \"-----\"\n",
    "server = \"-----\"\n",
    "database = \"-----\"\n",
    "\n",
    "engine_stmt = \"mysql+mysqldb://{}:{}@{}:3306/{}\".format(username,password,server,database)\n",
    "engine = sqlalchemy.create_engine(engine_stmt)"
   ]
  },
  {
   "cell_type": "markdown",
   "metadata": {},
   "source": [
    "## Date variable to export db\n",
    "We save date to use in prices tables. "
   ]
  },
  {
   "cell_type": "code",
   "execution_count": 15,
   "metadata": {},
   "outputs": [
    {
     "data": {
      "text/plain": [
       "'2022-04-19'"
      ]
     },
     "execution_count": 15,
     "metadata": {},
     "output_type": "execute_result"
    }
   ],
   "source": [
    "import datetime\n",
    "date = str(datetime.datetime.now())[:10]\n",
    "date"
   ]
  },
  {
   "cell_type": "markdown",
   "metadata": {},
   "source": [
    "## Load gas_prices.csv as dataframe\n",
    "We load the first csv file with pandas dataframe."
   ]
  },
  {
   "cell_type": "code",
   "execution_count": 22,
   "metadata": {},
   "outputs": [
    {
     "data": {
      "text/html": [
       "<div>\n",
       "<style scoped>\n",
       "    .dataframe tbody tr th:only-of-type {\n",
       "        vertical-align: middle;\n",
       "    }\n",
       "\n",
       "    .dataframe tbody tr th {\n",
       "        vertical-align: top;\n",
       "    }\n",
       "\n",
       "    .dataframe thead th {\n",
       "        text-align: right;\n",
       "    }\n",
       "</style>\n",
       "<table border=\"1\" class=\"dataframe\">\n",
       "  <thead>\n",
       "    <tr style=\"text-align: right;\">\n",
       "      <th></th>\n",
       "      <th>name</th>\n",
       "      <th>cree_id</th>\n",
       "      <th>latitude</th>\n",
       "      <th>longitude</th>\n",
       "      <th>regular</th>\n",
       "      <th>premium</th>\n",
       "      <th>diesel</th>\n",
       "    </tr>\n",
       "    <tr>\n",
       "      <th>place_id</th>\n",
       "      <th></th>\n",
       "      <th></th>\n",
       "      <th></th>\n",
       "      <th></th>\n",
       "      <th></th>\n",
       "      <th></th>\n",
       "      <th></th>\n",
       "    </tr>\n",
       "  </thead>\n",
       "  <tbody>\n",
       "    <tr>\n",
       "      <th>2039</th>\n",
       "      <td>ESTACION DE SERVICIO CALAFIA, S.A. DE C.V.</td>\n",
       "      <td>PL/658/EXP/ES/2015</td>\n",
       "      <td>32.47641</td>\n",
       "      <td>-116.92140</td>\n",
       "      <td>22.49</td>\n",
       "      <td>24.99</td>\n",
       "      <td>21.99</td>\n",
       "    </tr>\n",
       "    <tr>\n",
       "      <th>2040</th>\n",
       "      <td>LAS MEJORES ESTACIONES, S.A DE C.V</td>\n",
       "      <td>PL/902/EXP/ES/2015</td>\n",
       "      <td>20.30370</td>\n",
       "      <td>-99.74484</td>\n",
       "      <td>21.25</td>\n",
       "      <td>23.19</td>\n",
       "      <td>23.09</td>\n",
       "    </tr>\n",
       "    <tr>\n",
       "      <th>2041</th>\n",
       "      <td>DIAZ GAS, S.A. DE C.V.</td>\n",
       "      <td>PL/760/EXP/ES/2015</td>\n",
       "      <td>31.71947</td>\n",
       "      <td>-106.45140</td>\n",
       "      <td>17.28</td>\n",
       "      <td>19.20</td>\n",
       "      <td>NaN</td>\n",
       "    </tr>\n",
       "    <tr>\n",
       "      <th>2042</th>\n",
       "      <td>COMBU-EXPRESS, S.A. DE C.V.</td>\n",
       "      <td>PL/825/EXP/ES/2015</td>\n",
       "      <td>20.71413</td>\n",
       "      <td>-103.30420</td>\n",
       "      <td>21.79</td>\n",
       "      <td>24.39</td>\n",
       "      <td>23.54</td>\n",
       "    </tr>\n",
       "    <tr>\n",
       "      <th>2043</th>\n",
       "      <td>PETROMAX, S.A. DE C.V.</td>\n",
       "      <td>PL/585/EXP/ES/2015</td>\n",
       "      <td>26.03787</td>\n",
       "      <td>-98.29977</td>\n",
       "      <td>17.79</td>\n",
       "      <td>19.99</td>\n",
       "      <td>NaN</td>\n",
       "    </tr>\n",
       "    <tr>\n",
       "      <th>...</th>\n",
       "      <td>...</td>\n",
       "      <td>...</td>\n",
       "      <td>...</td>\n",
       "      <td>...</td>\n",
       "      <td>...</td>\n",
       "      <td>...</td>\n",
       "      <td>...</td>\n",
       "    </tr>\n",
       "    <tr>\n",
       "      <th>27758</th>\n",
       "      <td>SUMINISTRO DE COMBUSTIBLES EL SEIS S. DE R.L. ...</td>\n",
       "      <td>PL/23961/EXP/ES/2022</td>\n",
       "      <td>20.88375</td>\n",
       "      <td>-102.70250</td>\n",
       "      <td>NaN</td>\n",
       "      <td>NaN</td>\n",
       "      <td>NaN</td>\n",
       "    </tr>\n",
       "    <tr>\n",
       "      <th>27759</th>\n",
       "      <td>GASOLINERA SACSALUM SA DE CV</td>\n",
       "      <td>PL/23960/EXP/ES/2022</td>\n",
       "      <td>16.32370</td>\n",
       "      <td>-91.97680</td>\n",
       "      <td>NaN</td>\n",
       "      <td>NaN</td>\n",
       "      <td>NaN</td>\n",
       "    </tr>\n",
       "    <tr>\n",
       "      <th>27764</th>\n",
       "      <td>AEROPUERTO INTERNACIONAL FELIPE ANGELES, SOCIE...</td>\n",
       "      <td>PL/23974/EXP/ES/2022</td>\n",
       "      <td>19.72579</td>\n",
       "      <td>-99.03263</td>\n",
       "      <td>NaN</td>\n",
       "      <td>NaN</td>\n",
       "      <td>NaN</td>\n",
       "    </tr>\n",
       "    <tr>\n",
       "      <th>27765</th>\n",
       "      <td>AEROPUERTO INTERNACIONAL FELIPE ANGELES, SOCIE...</td>\n",
       "      <td>PL/23975/EXP/ES/2022</td>\n",
       "      <td>19.76109</td>\n",
       "      <td>-98.98862</td>\n",
       "      <td>NaN</td>\n",
       "      <td>NaN</td>\n",
       "      <td>NaN</td>\n",
       "    </tr>\n",
       "    <tr>\n",
       "      <th>27766</th>\n",
       "      <td>AEROPUERTO INTERNACIONAL FELIPE ANGELES, SOCIE...</td>\n",
       "      <td>PL/23976/EXP/ES/2022</td>\n",
       "      <td>19.74581</td>\n",
       "      <td>-99.00842</td>\n",
       "      <td>21.77</td>\n",
       "      <td>23.41</td>\n",
       "      <td>23.17</td>\n",
       "    </tr>\n",
       "  </tbody>\n",
       "</table>\n",
       "<p>12959 rows × 7 columns</p>\n",
       "</div>"
      ],
      "text/plain": [
       "                                                       name  \\\n",
       "place_id                                                      \n",
       "2039             ESTACION DE SERVICIO CALAFIA, S.A. DE C.V.   \n",
       "2040                     LAS MEJORES ESTACIONES, S.A DE C.V   \n",
       "2041                                 DIAZ GAS, S.A. DE C.V.   \n",
       "2042                            COMBU-EXPRESS, S.A. DE C.V.   \n",
       "2043                                 PETROMAX, S.A. DE C.V.   \n",
       "...                                                     ...   \n",
       "27758     SUMINISTRO DE COMBUSTIBLES EL SEIS S. DE R.L. ...   \n",
       "27759                          GASOLINERA SACSALUM SA DE CV   \n",
       "27764     AEROPUERTO INTERNACIONAL FELIPE ANGELES, SOCIE...   \n",
       "27765     AEROPUERTO INTERNACIONAL FELIPE ANGELES, SOCIE...   \n",
       "27766     AEROPUERTO INTERNACIONAL FELIPE ANGELES, SOCIE...   \n",
       "\n",
       "                       cree_id  latitude  longitude  regular  premium  diesel  \n",
       "place_id                                                                       \n",
       "2039        PL/658/EXP/ES/2015  32.47641 -116.92140    22.49    24.99   21.99  \n",
       "2040        PL/902/EXP/ES/2015  20.30370  -99.74484    21.25    23.19   23.09  \n",
       "2041        PL/760/EXP/ES/2015  31.71947 -106.45140    17.28    19.20     NaN  \n",
       "2042        PL/825/EXP/ES/2015  20.71413 -103.30420    21.79    24.39   23.54  \n",
       "2043        PL/585/EXP/ES/2015  26.03787  -98.29977    17.79    19.99     NaN  \n",
       "...                        ...       ...        ...      ...      ...     ...  \n",
       "27758     PL/23961/EXP/ES/2022  20.88375 -102.70250      NaN      NaN     NaN  \n",
       "27759     PL/23960/EXP/ES/2022  16.32370  -91.97680      NaN      NaN     NaN  \n",
       "27764     PL/23974/EXP/ES/2022  19.72579  -99.03263      NaN      NaN     NaN  \n",
       "27765     PL/23975/EXP/ES/2022  19.76109  -98.98862      NaN      NaN     NaN  \n",
       "27766     PL/23976/EXP/ES/2022  19.74581  -99.00842    21.77    23.41   23.17  \n",
       "\n",
       "[12959 rows x 7 columns]"
      ]
     },
     "execution_count": 22,
     "metadata": {},
     "output_type": "execute_result"
    }
   ],
   "source": [
    "import pandas as pd\n",
    "df = pd.read_csv(\"export_files\\gas_prices_20220415_160024.csv\")\n",
    "df.set_index(\"place_id\", inplace=True)\n",
    "df"
   ]
  },
  {
   "cell_type": "markdown",
   "metadata": {},
   "source": [
    "### Creating gas stations dataframe\n",
    "Our first table consist on gas stations places information."
   ]
  },
  {
   "cell_type": "code",
   "execution_count": 23,
   "metadata": {},
   "outputs": [
    {
     "data": {
      "text/html": [
       "<div>\n",
       "<style scoped>\n",
       "    .dataframe tbody tr th:only-of-type {\n",
       "        vertical-align: middle;\n",
       "    }\n",
       "\n",
       "    .dataframe tbody tr th {\n",
       "        vertical-align: top;\n",
       "    }\n",
       "\n",
       "    .dataframe thead th {\n",
       "        text-align: right;\n",
       "    }\n",
       "</style>\n",
       "<table border=\"1\" class=\"dataframe\">\n",
       "  <thead>\n",
       "    <tr style=\"text-align: right;\">\n",
       "      <th></th>\n",
       "      <th>name</th>\n",
       "      <th>cree_id</th>\n",
       "      <th>latitude</th>\n",
       "      <th>longitude</th>\n",
       "    </tr>\n",
       "    <tr>\n",
       "      <th>place_id</th>\n",
       "      <th></th>\n",
       "      <th></th>\n",
       "      <th></th>\n",
       "      <th></th>\n",
       "    </tr>\n",
       "  </thead>\n",
       "  <tbody>\n",
       "    <tr>\n",
       "      <th>2039</th>\n",
       "      <td>ESTACION DE SERVICIO CALAFIA, S.A. DE C.V.</td>\n",
       "      <td>PL/658/EXP/ES/2015</td>\n",
       "      <td>32.47641</td>\n",
       "      <td>-116.92140</td>\n",
       "    </tr>\n",
       "    <tr>\n",
       "      <th>2040</th>\n",
       "      <td>LAS MEJORES ESTACIONES, S.A DE C.V</td>\n",
       "      <td>PL/902/EXP/ES/2015</td>\n",
       "      <td>20.30370</td>\n",
       "      <td>-99.74484</td>\n",
       "    </tr>\n",
       "    <tr>\n",
       "      <th>2041</th>\n",
       "      <td>DIAZ GAS, S.A. DE C.V.</td>\n",
       "      <td>PL/760/EXP/ES/2015</td>\n",
       "      <td>31.71947</td>\n",
       "      <td>-106.45140</td>\n",
       "    </tr>\n",
       "    <tr>\n",
       "      <th>2042</th>\n",
       "      <td>COMBU-EXPRESS, S.A. DE C.V.</td>\n",
       "      <td>PL/825/EXP/ES/2015</td>\n",
       "      <td>20.71413</td>\n",
       "      <td>-103.30420</td>\n",
       "    </tr>\n",
       "    <tr>\n",
       "      <th>2043</th>\n",
       "      <td>PETROMAX, S.A. DE C.V.</td>\n",
       "      <td>PL/585/EXP/ES/2015</td>\n",
       "      <td>26.03787</td>\n",
       "      <td>-98.29977</td>\n",
       "    </tr>\n",
       "    <tr>\n",
       "      <th>...</th>\n",
       "      <td>...</td>\n",
       "      <td>...</td>\n",
       "      <td>...</td>\n",
       "      <td>...</td>\n",
       "    </tr>\n",
       "    <tr>\n",
       "      <th>27758</th>\n",
       "      <td>SUMINISTRO DE COMBUSTIBLES EL SEIS S. DE R.L. ...</td>\n",
       "      <td>PL/23961/EXP/ES/2022</td>\n",
       "      <td>20.88375</td>\n",
       "      <td>-102.70250</td>\n",
       "    </tr>\n",
       "    <tr>\n",
       "      <th>27759</th>\n",
       "      <td>GASOLINERA SACSALUM SA DE CV</td>\n",
       "      <td>PL/23960/EXP/ES/2022</td>\n",
       "      <td>16.32370</td>\n",
       "      <td>-91.97680</td>\n",
       "    </tr>\n",
       "    <tr>\n",
       "      <th>27764</th>\n",
       "      <td>AEROPUERTO INTERNACIONAL FELIPE ANGELES, SOCIE...</td>\n",
       "      <td>PL/23974/EXP/ES/2022</td>\n",
       "      <td>19.72579</td>\n",
       "      <td>-99.03263</td>\n",
       "    </tr>\n",
       "    <tr>\n",
       "      <th>27765</th>\n",
       "      <td>AEROPUERTO INTERNACIONAL FELIPE ANGELES, SOCIE...</td>\n",
       "      <td>PL/23975/EXP/ES/2022</td>\n",
       "      <td>19.76109</td>\n",
       "      <td>-98.98862</td>\n",
       "    </tr>\n",
       "    <tr>\n",
       "      <th>27766</th>\n",
       "      <td>AEROPUERTO INTERNACIONAL FELIPE ANGELES, SOCIE...</td>\n",
       "      <td>PL/23976/EXP/ES/2022</td>\n",
       "      <td>19.74581</td>\n",
       "      <td>-99.00842</td>\n",
       "    </tr>\n",
       "  </tbody>\n",
       "</table>\n",
       "<p>12959 rows × 4 columns</p>\n",
       "</div>"
      ],
      "text/plain": [
       "                                                       name  \\\n",
       "place_id                                                      \n",
       "2039             ESTACION DE SERVICIO CALAFIA, S.A. DE C.V.   \n",
       "2040                     LAS MEJORES ESTACIONES, S.A DE C.V   \n",
       "2041                                 DIAZ GAS, S.A. DE C.V.   \n",
       "2042                            COMBU-EXPRESS, S.A. DE C.V.   \n",
       "2043                                 PETROMAX, S.A. DE C.V.   \n",
       "...                                                     ...   \n",
       "27758     SUMINISTRO DE COMBUSTIBLES EL SEIS S. DE R.L. ...   \n",
       "27759                          GASOLINERA SACSALUM SA DE CV   \n",
       "27764     AEROPUERTO INTERNACIONAL FELIPE ANGELES, SOCIE...   \n",
       "27765     AEROPUERTO INTERNACIONAL FELIPE ANGELES, SOCIE...   \n",
       "27766     AEROPUERTO INTERNACIONAL FELIPE ANGELES, SOCIE...   \n",
       "\n",
       "                       cree_id  latitude  longitude  \n",
       "place_id                                             \n",
       "2039        PL/658/EXP/ES/2015  32.47641 -116.92140  \n",
       "2040        PL/902/EXP/ES/2015  20.30370  -99.74484  \n",
       "2041        PL/760/EXP/ES/2015  31.71947 -106.45140  \n",
       "2042        PL/825/EXP/ES/2015  20.71413 -103.30420  \n",
       "2043        PL/585/EXP/ES/2015  26.03787  -98.29977  \n",
       "...                        ...       ...        ...  \n",
       "27758     PL/23961/EXP/ES/2022  20.88375 -102.70250  \n",
       "27759     PL/23960/EXP/ES/2022  16.32370  -91.97680  \n",
       "27764     PL/23974/EXP/ES/2022  19.72579  -99.03263  \n",
       "27765     PL/23975/EXP/ES/2022  19.76109  -98.98862  \n",
       "27766     PL/23976/EXP/ES/2022  19.74581  -99.00842  \n",
       "\n",
       "[12959 rows x 4 columns]"
      ]
     },
     "execution_count": 23,
     "metadata": {},
     "output_type": "execute_result"
    }
   ],
   "source": [
    "df_places = df.iloc[:,:4]\n",
    "df_places"
   ]
  },
  {
   "cell_type": "markdown",
   "metadata": {},
   "source": [
    "#### Upload gas stations dataframe to db"
   ]
  },
  {
   "cell_type": "code",
   "execution_count": 24,
   "metadata": {},
   "outputs": [
    {
     "name": "stderr",
     "output_type": "stream",
     "text": [
      "Exception during reset or similar\n",
      "Traceback (most recent call last):\n",
      "  File \"C:\\Users\\chccr\\AppData\\Local\\Programs\\Python\\Python39\\lib\\site-packages\\sqlalchemy\\pool\\base.py\", line 739, in _finalize_fairy\n",
      "    fairy._reset(pool)\n",
      "  File \"C:\\Users\\chccr\\AppData\\Local\\Programs\\Python\\Python39\\lib\\site-packages\\sqlalchemy\\pool\\base.py\", line 988, in _reset\n",
      "    pool._dialect.do_rollback(self)\n",
      "  File \"C:\\Users\\chccr\\AppData\\Local\\Programs\\Python\\Python39\\lib\\site-packages\\sqlalchemy\\engine\\default.py\", line 682, in do_rollback\n",
      "    dbapi_connection.rollback()\n",
      "MySQLdb._exceptions.OperationalError: (2006, 'Server has gone away')\n"
     ]
    },
    {
     "data": {
      "text/plain": [
       "12959"
      ]
     },
     "execution_count": 24,
     "metadata": {},
     "output_type": "execute_result"
    }
   ],
   "source": [
    "df_places.to_sql(name=\"gas_stations\",\n",
    "                 con=engine,\n",
    "                 if_exists=\"replace\")"
   ]
  },
  {
   "cell_type": "markdown",
   "metadata": {},
   "source": [
    "#### Set primary key"
   ]
  },
  {
   "cell_type": "code",
   "execution_count": 25,
   "metadata": {},
   "outputs": [],
   "source": [
    "with engine.connect() as con:\n",
    "    con.execute(\n",
    "        \"\"\"\n",
    "        ALTER TABLE gas_stations\n",
    "        ADD PRIMARY KEY (place_id);\n",
    "        \"\"\")"
   ]
  },
  {
   "cell_type": "markdown",
   "metadata": {},
   "source": [
    "#### Drop gas_stations table"
   ]
  },
  {
   "cell_type": "code",
   "execution_count": 18,
   "metadata": {},
   "outputs": [],
   "source": [
    "with engine.connect() as con:\n",
    "    con.execute(\n",
    "        \"\"\"\n",
    "        DROP TABLE gas_stations;\n",
    "        \"\"\"\n",
    "    )"
   ]
  },
  {
   "cell_type": "markdown",
   "metadata": {},
   "source": [
    "### Creating regular dataframe\n",
    "We create three tables for prices (regular, premium and diesel)."
   ]
  },
  {
   "cell_type": "code",
   "execution_count": 26,
   "metadata": {},
   "outputs": [
    {
     "data": {
      "text/html": [
       "<div>\n",
       "<style scoped>\n",
       "    .dataframe tbody tr th:only-of-type {\n",
       "        vertical-align: middle;\n",
       "    }\n",
       "\n",
       "    .dataframe tbody tr th {\n",
       "        vertical-align: top;\n",
       "    }\n",
       "\n",
       "    .dataframe thead th {\n",
       "        text-align: right;\n",
       "    }\n",
       "</style>\n",
       "<table border=\"1\" class=\"dataframe\">\n",
       "  <thead>\n",
       "    <tr style=\"text-align: right;\">\n",
       "      <th></th>\n",
       "      <th>2022-04-19</th>\n",
       "    </tr>\n",
       "    <tr>\n",
       "      <th>place_id</th>\n",
       "      <th></th>\n",
       "    </tr>\n",
       "  </thead>\n",
       "  <tbody>\n",
       "    <tr>\n",
       "      <th>2039</th>\n",
       "      <td>22.49</td>\n",
       "    </tr>\n",
       "    <tr>\n",
       "      <th>2040</th>\n",
       "      <td>21.25</td>\n",
       "    </tr>\n",
       "    <tr>\n",
       "      <th>2041</th>\n",
       "      <td>17.28</td>\n",
       "    </tr>\n",
       "    <tr>\n",
       "      <th>2042</th>\n",
       "      <td>21.79</td>\n",
       "    </tr>\n",
       "    <tr>\n",
       "      <th>2043</th>\n",
       "      <td>17.79</td>\n",
       "    </tr>\n",
       "    <tr>\n",
       "      <th>...</th>\n",
       "      <td>...</td>\n",
       "    </tr>\n",
       "    <tr>\n",
       "      <th>27758</th>\n",
       "      <td>NaN</td>\n",
       "    </tr>\n",
       "    <tr>\n",
       "      <th>27759</th>\n",
       "      <td>NaN</td>\n",
       "    </tr>\n",
       "    <tr>\n",
       "      <th>27764</th>\n",
       "      <td>NaN</td>\n",
       "    </tr>\n",
       "    <tr>\n",
       "      <th>27765</th>\n",
       "      <td>NaN</td>\n",
       "    </tr>\n",
       "    <tr>\n",
       "      <th>27766</th>\n",
       "      <td>21.77</td>\n",
       "    </tr>\n",
       "  </tbody>\n",
       "</table>\n",
       "<p>12959 rows × 1 columns</p>\n",
       "</div>"
      ],
      "text/plain": [
       "          2022-04-19\n",
       "place_id            \n",
       "2039           22.49\n",
       "2040           21.25\n",
       "2041           17.28\n",
       "2042           21.79\n",
       "2043           17.79\n",
       "...              ...\n",
       "27758            NaN\n",
       "27759            NaN\n",
       "27764            NaN\n",
       "27765            NaN\n",
       "27766          21.77\n",
       "\n",
       "[12959 rows x 1 columns]"
      ]
     },
     "execution_count": 26,
     "metadata": {},
     "output_type": "execute_result"
    }
   ],
   "source": [
    "df_regular = df.loc[:,[\"regular\"]]\n",
    "df_regular.rename(columns={\"regular\":date},inplace=True)\n",
    "df_regular"
   ]
  },
  {
   "cell_type": "markdown",
   "metadata": {},
   "source": [
    "#### Upload regular dataframe to db"
   ]
  },
  {
   "cell_type": "code",
   "execution_count": 27,
   "metadata": {},
   "outputs": [
    {
     "name": "stderr",
     "output_type": "stream",
     "text": [
      "Exception during reset or similar\n",
      "Traceback (most recent call last):\n",
      "  File \"C:\\Users\\chccr\\AppData\\Local\\Programs\\Python\\Python39\\lib\\site-packages\\sqlalchemy\\pool\\base.py\", line 739, in _finalize_fairy\n",
      "    fairy._reset(pool)\n",
      "  File \"C:\\Users\\chccr\\AppData\\Local\\Programs\\Python\\Python39\\lib\\site-packages\\sqlalchemy\\pool\\base.py\", line 988, in _reset\n",
      "    pool._dialect.do_rollback(self)\n",
      "  File \"C:\\Users\\chccr\\AppData\\Local\\Programs\\Python\\Python39\\lib\\site-packages\\sqlalchemy\\engine\\default.py\", line 682, in do_rollback\n",
      "    dbapi_connection.rollback()\n",
      "MySQLdb._exceptions.OperationalError: (2006, 'Server has gone away')\n"
     ]
    },
    {
     "data": {
      "text/plain": [
       "12959"
      ]
     },
     "execution_count": 27,
     "metadata": {},
     "output_type": "execute_result"
    }
   ],
   "source": [
    "df_regular.to_sql(name=\"regular\",\n",
    "                 con=engine,\n",
    "                 if_exists=\"replace\")"
   ]
  },
  {
   "cell_type": "markdown",
   "metadata": {},
   "source": [
    "#### Set primary key"
   ]
  },
  {
   "cell_type": "code",
   "execution_count": 28,
   "metadata": {},
   "outputs": [],
   "source": [
    "with engine.connect() as con:\n",
    "    con.execute(\n",
    "        \"\"\"\n",
    "        ALTER TABLE regular\n",
    "        ADD PRIMARY KEY (place_id);\n",
    "        \"\"\")"
   ]
  },
  {
   "cell_type": "markdown",
   "metadata": {},
   "source": [
    "#### Drop regular table"
   ]
  },
  {
   "cell_type": "code",
   "execution_count": 17,
   "metadata": {},
   "outputs": [],
   "source": [
    "with engine.connect() as con:\n",
    "    con.execute(\n",
    "        \"\"\"\n",
    "        DROP TABLE regular;\n",
    "        \"\"\"\n",
    "    )"
   ]
  },
  {
   "cell_type": "markdown",
   "metadata": {},
   "source": [
    "### Creating premium dataframe"
   ]
  },
  {
   "cell_type": "code",
   "execution_count": 29,
   "metadata": {},
   "outputs": [
    {
     "data": {
      "text/html": [
       "<div>\n",
       "<style scoped>\n",
       "    .dataframe tbody tr th:only-of-type {\n",
       "        vertical-align: middle;\n",
       "    }\n",
       "\n",
       "    .dataframe tbody tr th {\n",
       "        vertical-align: top;\n",
       "    }\n",
       "\n",
       "    .dataframe thead th {\n",
       "        text-align: right;\n",
       "    }\n",
       "</style>\n",
       "<table border=\"1\" class=\"dataframe\">\n",
       "  <thead>\n",
       "    <tr style=\"text-align: right;\">\n",
       "      <th></th>\n",
       "      <th>2022-04-19</th>\n",
       "    </tr>\n",
       "    <tr>\n",
       "      <th>place_id</th>\n",
       "      <th></th>\n",
       "    </tr>\n",
       "  </thead>\n",
       "  <tbody>\n",
       "    <tr>\n",
       "      <th>2039</th>\n",
       "      <td>24.99</td>\n",
       "    </tr>\n",
       "    <tr>\n",
       "      <th>2040</th>\n",
       "      <td>23.19</td>\n",
       "    </tr>\n",
       "    <tr>\n",
       "      <th>2041</th>\n",
       "      <td>19.20</td>\n",
       "    </tr>\n",
       "    <tr>\n",
       "      <th>2042</th>\n",
       "      <td>24.39</td>\n",
       "    </tr>\n",
       "    <tr>\n",
       "      <th>2043</th>\n",
       "      <td>19.99</td>\n",
       "    </tr>\n",
       "    <tr>\n",
       "      <th>...</th>\n",
       "      <td>...</td>\n",
       "    </tr>\n",
       "    <tr>\n",
       "      <th>27758</th>\n",
       "      <td>NaN</td>\n",
       "    </tr>\n",
       "    <tr>\n",
       "      <th>27759</th>\n",
       "      <td>NaN</td>\n",
       "    </tr>\n",
       "    <tr>\n",
       "      <th>27764</th>\n",
       "      <td>NaN</td>\n",
       "    </tr>\n",
       "    <tr>\n",
       "      <th>27765</th>\n",
       "      <td>NaN</td>\n",
       "    </tr>\n",
       "    <tr>\n",
       "      <th>27766</th>\n",
       "      <td>23.41</td>\n",
       "    </tr>\n",
       "  </tbody>\n",
       "</table>\n",
       "<p>12959 rows × 1 columns</p>\n",
       "</div>"
      ],
      "text/plain": [
       "          2022-04-19\n",
       "place_id            \n",
       "2039           24.99\n",
       "2040           23.19\n",
       "2041           19.20\n",
       "2042           24.39\n",
       "2043           19.99\n",
       "...              ...\n",
       "27758            NaN\n",
       "27759            NaN\n",
       "27764            NaN\n",
       "27765            NaN\n",
       "27766          23.41\n",
       "\n",
       "[12959 rows x 1 columns]"
      ]
     },
     "execution_count": 29,
     "metadata": {},
     "output_type": "execute_result"
    }
   ],
   "source": [
    "df_premium = df.loc[:, [\"premium\"]]\n",
    "df_premium.rename(columns={\"premium\": date}, inplace=True)\n",
    "df_premium"
   ]
  },
  {
   "cell_type": "markdown",
   "metadata": {},
   "source": [
    "#### Upload premium dataframe to db"
   ]
  },
  {
   "cell_type": "code",
   "execution_count": 30,
   "metadata": {},
   "outputs": [
    {
     "name": "stderr",
     "output_type": "stream",
     "text": [
      "Exception during reset or similar\n",
      "Traceback (most recent call last):\n",
      "  File \"C:\\Users\\chccr\\AppData\\Local\\Programs\\Python\\Python39\\lib\\site-packages\\sqlalchemy\\pool\\base.py\", line 739, in _finalize_fairy\n",
      "    fairy._reset(pool)\n",
      "  File \"C:\\Users\\chccr\\AppData\\Local\\Programs\\Python\\Python39\\lib\\site-packages\\sqlalchemy\\pool\\base.py\", line 988, in _reset\n",
      "    pool._dialect.do_rollback(self)\n",
      "  File \"C:\\Users\\chccr\\AppData\\Local\\Programs\\Python\\Python39\\lib\\site-packages\\sqlalchemy\\engine\\default.py\", line 682, in do_rollback\n",
      "    dbapi_connection.rollback()\n",
      "MySQLdb._exceptions.OperationalError: (2006, 'Server has gone away')\n"
     ]
    },
    {
     "data": {
      "text/plain": [
       "12959"
      ]
     },
     "execution_count": 30,
     "metadata": {},
     "output_type": "execute_result"
    }
   ],
   "source": [
    "df_premium.to_sql(name=\"premium\",\n",
    "                 con=engine,\n",
    "                 if_exists=\"replace\")"
   ]
  },
  {
   "cell_type": "markdown",
   "metadata": {},
   "source": [
    "#### Set primary key"
   ]
  },
  {
   "cell_type": "code",
   "execution_count": 31,
   "metadata": {},
   "outputs": [],
   "source": [
    "with engine.connect() as con:\n",
    "    con.execute(\n",
    "        \"\"\"\n",
    "        ALTER TABLE premium\n",
    "        ADD PRIMARY KEY (place_id);\n",
    "        \"\"\")"
   ]
  },
  {
   "cell_type": "markdown",
   "metadata": {},
   "source": [
    "#### Drop premium table"
   ]
  },
  {
   "cell_type": "code",
   "execution_count": null,
   "metadata": {},
   "outputs": [],
   "source": [
    "with engine.connect() as con:\n",
    "    con.execute(\n",
    "        \"\"\"\n",
    "        DROP TABLE premium;\n",
    "        \"\"\"\n",
    "    )"
   ]
  },
  {
   "cell_type": "markdown",
   "metadata": {},
   "source": [
    "### Creating diesel dataframe"
   ]
  },
  {
   "cell_type": "code",
   "execution_count": 32,
   "metadata": {},
   "outputs": [
    {
     "data": {
      "text/html": [
       "<div>\n",
       "<style scoped>\n",
       "    .dataframe tbody tr th:only-of-type {\n",
       "        vertical-align: middle;\n",
       "    }\n",
       "\n",
       "    .dataframe tbody tr th {\n",
       "        vertical-align: top;\n",
       "    }\n",
       "\n",
       "    .dataframe thead th {\n",
       "        text-align: right;\n",
       "    }\n",
       "</style>\n",
       "<table border=\"1\" class=\"dataframe\">\n",
       "  <thead>\n",
       "    <tr style=\"text-align: right;\">\n",
       "      <th></th>\n",
       "      <th>2022-04-19</th>\n",
       "    </tr>\n",
       "    <tr>\n",
       "      <th>place_id</th>\n",
       "      <th></th>\n",
       "    </tr>\n",
       "  </thead>\n",
       "  <tbody>\n",
       "    <tr>\n",
       "      <th>2039</th>\n",
       "      <td>21.99</td>\n",
       "    </tr>\n",
       "    <tr>\n",
       "      <th>2040</th>\n",
       "      <td>23.09</td>\n",
       "    </tr>\n",
       "    <tr>\n",
       "      <th>2041</th>\n",
       "      <td>NaN</td>\n",
       "    </tr>\n",
       "    <tr>\n",
       "      <th>2042</th>\n",
       "      <td>23.54</td>\n",
       "    </tr>\n",
       "    <tr>\n",
       "      <th>2043</th>\n",
       "      <td>NaN</td>\n",
       "    </tr>\n",
       "    <tr>\n",
       "      <th>...</th>\n",
       "      <td>...</td>\n",
       "    </tr>\n",
       "    <tr>\n",
       "      <th>27758</th>\n",
       "      <td>NaN</td>\n",
       "    </tr>\n",
       "    <tr>\n",
       "      <th>27759</th>\n",
       "      <td>NaN</td>\n",
       "    </tr>\n",
       "    <tr>\n",
       "      <th>27764</th>\n",
       "      <td>NaN</td>\n",
       "    </tr>\n",
       "    <tr>\n",
       "      <th>27765</th>\n",
       "      <td>NaN</td>\n",
       "    </tr>\n",
       "    <tr>\n",
       "      <th>27766</th>\n",
       "      <td>23.17</td>\n",
       "    </tr>\n",
       "  </tbody>\n",
       "</table>\n",
       "<p>12959 rows × 1 columns</p>\n",
       "</div>"
      ],
      "text/plain": [
       "          2022-04-19\n",
       "place_id            \n",
       "2039           21.99\n",
       "2040           23.09\n",
       "2041             NaN\n",
       "2042           23.54\n",
       "2043             NaN\n",
       "...              ...\n",
       "27758            NaN\n",
       "27759            NaN\n",
       "27764            NaN\n",
       "27765            NaN\n",
       "27766          23.17\n",
       "\n",
       "[12959 rows x 1 columns]"
      ]
     },
     "execution_count": 32,
     "metadata": {},
     "output_type": "execute_result"
    }
   ],
   "source": [
    "df_diesel = df.loc[:, [\"diesel\"]]\n",
    "df_diesel.rename(columns={\"diesel\": date}, inplace=True)\n",
    "df_diesel"
   ]
  },
  {
   "cell_type": "markdown",
   "metadata": {},
   "source": [
    "#### Upload premium dataframe to db"
   ]
  },
  {
   "cell_type": "code",
   "execution_count": 33,
   "metadata": {},
   "outputs": [
    {
     "data": {
      "text/plain": [
       "12959"
      ]
     },
     "execution_count": 33,
     "metadata": {},
     "output_type": "execute_result"
    }
   ],
   "source": [
    "df_diesel.to_sql(name=\"diesel\",\n",
    "                 con=engine,\n",
    "                 if_exists=\"replace\")"
   ]
  },
  {
   "cell_type": "markdown",
   "metadata": {},
   "source": [
    "#### Set primary key"
   ]
  },
  {
   "cell_type": "code",
   "execution_count": null,
   "metadata": {},
   "outputs": [],
   "source": [
    "with engine.connect() as con:\n",
    "    con.execute(\n",
    "        \"\"\"\n",
    "        ALTER TABLE diesel\n",
    "        ADD PRIMARY KEY (place_id);\n",
    "        \"\"\")"
   ]
  },
  {
   "cell_type": "markdown",
   "metadata": {},
   "source": [
    "#### Drop diesel table"
   ]
  },
  {
   "cell_type": "code",
   "execution_count": null,
   "metadata": {},
   "outputs": [],
   "source": [
    "with engine.connect() as con:\n",
    "    con.execute(\n",
    "        \"\"\"\n",
    "        DROP TABLE diesel;\n",
    "        \"\"\"\n",
    "    )"
   ]
  },
  {
   "cell_type": "markdown",
   "metadata": {},
   "source": [
    "## Load gas_address.csv\n",
    "Second csv file that we will upload to database and contains address for gas stations."
   ]
  },
  {
   "cell_type": "code",
   "execution_count": 19,
   "metadata": {},
   "outputs": [
    {
     "data": {
      "text/html": [
       "<div>\n",
       "<style scoped>\n",
       "    .dataframe tbody tr th:only-of-type {\n",
       "        vertical-align: middle;\n",
       "    }\n",
       "\n",
       "    .dataframe tbody tr th {\n",
       "        vertical-align: top;\n",
       "    }\n",
       "\n",
       "    .dataframe thead th {\n",
       "        text-align: right;\n",
       "    }\n",
       "</style>\n",
       "<table border=\"1\" class=\"dataframe\">\n",
       "  <thead>\n",
       "    <tr style=\"text-align: right;\">\n",
       "      <th></th>\n",
       "      <th>amenity</th>\n",
       "      <th>road</th>\n",
       "      <th>hamlet</th>\n",
       "      <th>city</th>\n",
       "      <th>county</th>\n",
       "      <th>state</th>\n",
       "      <th>ISO3166-2-lvl4</th>\n",
       "      <th>postcode</th>\n",
       "    </tr>\n",
       "    <tr>\n",
       "      <th>place_id</th>\n",
       "      <th></th>\n",
       "      <th></th>\n",
       "      <th></th>\n",
       "      <th></th>\n",
       "      <th></th>\n",
       "      <th></th>\n",
       "      <th></th>\n",
       "      <th></th>\n",
       "    </tr>\n",
       "  </thead>\n",
       "  <tbody>\n",
       "    <tr>\n",
       "      <th>2039</th>\n",
       "      <td>Pemex</td>\n",
       "      <td>Boulevard de los Insurgentes</td>\n",
       "      <td>El Porvenir</td>\n",
       "      <td>Tijuana</td>\n",
       "      <td>Municipio de Tijuana</td>\n",
       "      <td>Baja California</td>\n",
       "      <td>MX-BCN</td>\n",
       "      <td>22223</td>\n",
       "    </tr>\n",
       "    <tr>\n",
       "      <th>2040</th>\n",
       "      <td>NaN</td>\n",
       "      <td>MEX 45</td>\n",
       "      <td>NaN</td>\n",
       "      <td>NaN</td>\n",
       "      <td>Nopala de Villagrán</td>\n",
       "      <td>Hidalgo</td>\n",
       "      <td>MX-HID</td>\n",
       "      <td>NaN</td>\n",
       "    </tr>\n",
       "    <tr>\n",
       "      <th>2041</th>\n",
       "      <td>Pemex E02526</td>\n",
       "      <td>Avenida Licenciado Adolfo López Mateos</td>\n",
       "      <td>NaN</td>\n",
       "      <td>Ciudad Juárez</td>\n",
       "      <td>Municipio de Juárez</td>\n",
       "      <td>Chihuahua</td>\n",
       "      <td>MX-CHH</td>\n",
       "      <td>94158</td>\n",
       "    </tr>\n",
       "    <tr>\n",
       "      <th>2042</th>\n",
       "      <td>Pemex</td>\n",
       "      <td>Anillo Periférico Norte Manuel Gómez Morín</td>\n",
       "      <td>NaN</td>\n",
       "      <td>Guadalajara</td>\n",
       "      <td>NaN</td>\n",
       "      <td>Jalisco</td>\n",
       "      <td>MX-JAL</td>\n",
       "      <td>44390</td>\n",
       "    </tr>\n",
       "    <tr>\n",
       "      <th>2043</th>\n",
       "      <td>NaN</td>\n",
       "      <td>NaN</td>\n",
       "      <td>NaN</td>\n",
       "      <td>Reynosa</td>\n",
       "      <td>Municipio de Reynosa</td>\n",
       "      <td>Tamaulipas</td>\n",
       "      <td>MX-TAM</td>\n",
       "      <td>88500</td>\n",
       "    </tr>\n",
       "    <tr>\n",
       "      <th>...</th>\n",
       "      <td>...</td>\n",
       "      <td>...</td>\n",
       "      <td>...</td>\n",
       "      <td>...</td>\n",
       "      <td>...</td>\n",
       "      <td>...</td>\n",
       "      <td>...</td>\n",
       "      <td>...</td>\n",
       "    </tr>\n",
       "    <tr>\n",
       "      <th>27758</th>\n",
       "      <td>NaN</td>\n",
       "      <td>Carretera Tepatitlán-Las Adjuntas</td>\n",
       "      <td>NaN</td>\n",
       "      <td>NaN</td>\n",
       "      <td>San Ignacio Cerro Gordo</td>\n",
       "      <td>Jalisco</td>\n",
       "      <td>MX-JAL</td>\n",
       "      <td>47601</td>\n",
       "    </tr>\n",
       "    <tr>\n",
       "      <th>27759</th>\n",
       "      <td>NaN</td>\n",
       "      <td>Chiapas 218</td>\n",
       "      <td>NaN</td>\n",
       "      <td>NaN</td>\n",
       "      <td>Las Margaritas</td>\n",
       "      <td>Chiapas</td>\n",
       "      <td>MX-CHP</td>\n",
       "      <td>30187</td>\n",
       "    </tr>\n",
       "    <tr>\n",
       "      <th>27764</th>\n",
       "      <td>NaN</td>\n",
       "      <td>Acceso a Aeropuerto Int. Felipe Angeles</td>\n",
       "      <td>NaN</td>\n",
       "      <td>NaN</td>\n",
       "      <td>Nextlalpan</td>\n",
       "      <td>Estado de México</td>\n",
       "      <td>MX-MEX</td>\n",
       "      <td>55789</td>\n",
       "    </tr>\n",
       "    <tr>\n",
       "      <th>27765</th>\n",
       "      <td>NaN</td>\n",
       "      <td>Circunvalación Aeropuerto</td>\n",
       "      <td>NaN</td>\n",
       "      <td>NaN</td>\n",
       "      <td>Zumpango</td>\n",
       "      <td>Estado de México</td>\n",
       "      <td>MX-MEX</td>\n",
       "      <td>55755</td>\n",
       "    </tr>\n",
       "    <tr>\n",
       "      <th>27766</th>\n",
       "      <td>NaN</td>\n",
       "      <td>NaN</td>\n",
       "      <td>NaN</td>\n",
       "      <td>NaN</td>\n",
       "      <td>Zumpango</td>\n",
       "      <td>Estado de México</td>\n",
       "      <td>MX-MEX</td>\n",
       "      <td>55755</td>\n",
       "    </tr>\n",
       "  </tbody>\n",
       "</table>\n",
       "<p>12848 rows × 8 columns</p>\n",
       "</div>"
      ],
      "text/plain": [
       "               amenity                                        road  \\\n",
       "place_id                                                             \n",
       "2039             Pemex                Boulevard de los Insurgentes   \n",
       "2040               NaN                                      MEX 45   \n",
       "2041      Pemex E02526      Avenida Licenciado Adolfo López Mateos   \n",
       "2042             Pemex  Anillo Periférico Norte Manuel Gómez Morín   \n",
       "2043               NaN                                         NaN   \n",
       "...                ...                                         ...   \n",
       "27758              NaN           Carretera Tepatitlán-Las Adjuntas   \n",
       "27759              NaN                                 Chiapas 218   \n",
       "27764              NaN     Acceso a Aeropuerto Int. Felipe Angeles   \n",
       "27765              NaN                   Circunvalación Aeropuerto   \n",
       "27766              NaN                                         NaN   \n",
       "\n",
       "               hamlet           city                   county  \\\n",
       "place_id                                                        \n",
       "2039      El Porvenir        Tijuana     Municipio de Tijuana   \n",
       "2040              NaN            NaN      Nopala de Villagrán   \n",
       "2041              NaN  Ciudad Juárez      Municipio de Juárez   \n",
       "2042              NaN    Guadalajara                      NaN   \n",
       "2043              NaN        Reynosa     Municipio de Reynosa   \n",
       "...               ...            ...                      ...   \n",
       "27758             NaN            NaN  San Ignacio Cerro Gordo   \n",
       "27759             NaN            NaN           Las Margaritas   \n",
       "27764             NaN            NaN               Nextlalpan   \n",
       "27765             NaN            NaN                 Zumpango   \n",
       "27766             NaN            NaN                 Zumpango   \n",
       "\n",
       "                     state ISO3166-2-lvl4 postcode  \n",
       "place_id                                            \n",
       "2039       Baja California         MX-BCN    22223  \n",
       "2040               Hidalgo         MX-HID      NaN  \n",
       "2041             Chihuahua         MX-CHH    94158  \n",
       "2042               Jalisco         MX-JAL    44390  \n",
       "2043            Tamaulipas         MX-TAM    88500  \n",
       "...                    ...            ...      ...  \n",
       "27758              Jalisco         MX-JAL    47601  \n",
       "27759              Chiapas         MX-CHP    30187  \n",
       "27764     Estado de México         MX-MEX    55789  \n",
       "27765     Estado de México         MX-MEX    55755  \n",
       "27766     Estado de México         MX-MEX    55755  \n",
       "\n",
       "[12848 rows x 8 columns]"
      ]
     },
     "execution_count": 19,
     "metadata": {},
     "output_type": "execute_result"
    }
   ],
   "source": [
    "df = pd.read_csv(\"export_files\\gas_address_20220415_160024.csv\")\n",
    "df.set_index(\"place_id\",inplace=True)\n",
    "df"
   ]
  },
  {
   "cell_type": "markdown",
   "metadata": {},
   "source": [
    "#### Upload station address dataframe to db"
   ]
  },
  {
   "cell_type": "code",
   "execution_count": 20,
   "metadata": {},
   "outputs": [
    {
     "name": "stderr",
     "output_type": "stream",
     "text": [
      "Exception during reset or similar\n",
      "Traceback (most recent call last):\n",
      "  File \"C:\\Users\\chccr\\AppData\\Local\\Programs\\Python\\Python39\\lib\\site-packages\\sqlalchemy\\pool\\base.py\", line 739, in _finalize_fairy\n",
      "    fairy._reset(pool)\n",
      "  File \"C:\\Users\\chccr\\AppData\\Local\\Programs\\Python\\Python39\\lib\\site-packages\\sqlalchemy\\pool\\base.py\", line 988, in _reset\n",
      "    pool._dialect.do_rollback(self)\n",
      "  File \"C:\\Users\\chccr\\AppData\\Local\\Programs\\Python\\Python39\\lib\\site-packages\\sqlalchemy\\engine\\default.py\", line 682, in do_rollback\n",
      "    dbapi_connection.rollback()\n",
      "MySQLdb._exceptions.OperationalError: (2006, 'Server has gone away')\n"
     ]
    },
    {
     "data": {
      "text/plain": [
       "12848"
      ]
     },
     "execution_count": 20,
     "metadata": {},
     "output_type": "execute_result"
    }
   ],
   "source": [
    "df.to_sql(name=\"station_address\",\n",
    "          con=engine,\n",
    "          if_exists=\"replace\")"
   ]
  },
  {
   "cell_type": "markdown",
   "metadata": {},
   "source": [
    "#### Set primary key"
   ]
  },
  {
   "cell_type": "code",
   "execution_count": 21,
   "metadata": {},
   "outputs": [],
   "source": [
    "with engine.connect() as con:\n",
    "    con.execute(\n",
    "        \"\"\"\n",
    "        ALTER TABLE station_address\n",
    "        ADD PRIMARY KEY (place_id);\n",
    "        \"\"\")"
   ]
  },
  {
   "cell_type": "markdown",
   "metadata": {},
   "source": [
    "#### Drop station address table"
   ]
  },
  {
   "cell_type": "code",
   "execution_count": null,
   "metadata": {},
   "outputs": [],
   "source": [
    "with engine.connect() as con:\n",
    "    con.execute(\n",
    "        \"\"\"\n",
    "        DROP TABLE station_address;\n",
    "        \"\"\"\n",
    "    )"
   ]
  }
 ],
 "metadata": {
  "interpreter": {
   "hash": "60be713148929cc7b3e8f61adf12124ea268898f94907036d1fa158e91da1f3f"
  },
  "kernelspec": {
   "display_name": "Python 3.9.2 64-bit",
   "language": "python",
   "name": "python3"
  },
  "language_info": {
   "codemirror_mode": {
    "name": "ipython",
    "version": 3
   },
   "file_extension": ".py",
   "mimetype": "text/x-python",
   "name": "python",
   "nbconvert_exporter": "python",
   "pygments_lexer": "ipython3",
   "version": "3.9.2"
  },
  "orig_nbformat": 4
 },
 "nbformat": 4,
 "nbformat_minor": 2
}
