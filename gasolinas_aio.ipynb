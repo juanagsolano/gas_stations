{
 "cells": [
  {
   "cell_type": "markdown",
   "metadata": {},
   "source": [
    "# Get gas station prices by location\n",
    "\n",
    "This notebook extract gas and diesel prices for all stations in Mexico and create a dataframe and map locations.\n",
    "\n",
    "The data was extracted from [datos.gob.mx](https://datos.gob.mx/) and its provided by CRE (Comisión Reguladora de Energía).\n",
    "\n",
    "Info about data:\n",
    "\n",
    "[https://datos.gob.mx/busca/dataset/estaciones-de-servicio-gasolineras-y-precios-finales-de-gasolina-y-diesel](https://datos.gob.mx/busca/dataset/estaciones-de-servicio-gasolineras-y-precios-finales-de-gasolina-y-diesel)\n",
    "\n",
    "The dataset consist in two XML file format, first contains attributes of gas stations services and second file contains prices for all gas stations services.\n",
    "\n",
    "List of service stations, XML File [https://bit.ly/2V1Z3sm](https://bit.ly/2V1Z3sm)\n",
    "\n",
    "List prices of gas and diesel for station, XML file [https://bit.ly/2JNcTha](https://bit.ly/2JNcTha)\n",
    "\n",
    "License info:\n",
    "\n",
    "[https://datos.gob.mx/libreusomx](https://datos.gob.mx/libreusomx)"
   ]
  },
  {
   "cell_type": "markdown",
   "metadata": {},
   "source": [
    "## Get gas stations in Mexico"
   ]
  },
  {
   "cell_type": "code",
   "execution_count": 1,
   "metadata": {},
   "outputs": [],
   "source": [
    "import requests\n",
    "import xml.etree.ElementTree as et"
   ]
  },
  {
   "cell_type": "code",
   "execution_count": 2,
   "metadata": {},
   "outputs": [],
   "source": [
    "# xml file information\n",
    "url = \"https://bit.ly/2V1Z3sm\"\n",
    "\n",
    "# Load xml file in memory\n",
    "r = requests.get(url,allow_redirects=True)"
   ]
  },
  {
   "cell_type": "code",
   "execution_count": 3,
   "metadata": {},
   "outputs": [
    {
     "name": "stdout",
     "output_type": "stream",
     "text": [
      "<Element 'places' at 0x00000241703E6360>\n"
     ]
    }
   ],
   "source": [
    "# Using element tree to handle xml file\n",
    "root = et.fromstring(r.content)\n",
    "print(root)"
   ]
  },
  {
   "cell_type": "markdown",
   "metadata": {},
   "source": [
    "## Extracting attributes function 1"
   ]
  },
  {
   "cell_type": "code",
   "execution_count": 4,
   "metadata": {},
   "outputs": [],
   "source": [
    "def place_info(idx: int):\n",
    "    \"\"\"\n",
    "    Create a dictionary list from xml file with attributes.\\n\n",
    "    [place_id, name, cree_id, latitude, longitude]\n",
    "    \"\"\"\n",
    "    place_dict = {}\n",
    "    # Get place_id\n",
    "    place_dict[\"place_id\"] = int(root[idx].attrib.get(\"place_id\"))\n",
    "\n",
    "    # Get name station\n",
    "    place_dict[\"name\"] = root[idx][0].text\n",
    "\n",
    "    # Get cree_id\n",
    "    place_dict[\"cree_id\"] = root[idx][1].text\n",
    "\n",
    "    # Get location coordinates\n",
    "    place_dict[\"latitude\"] = float(root[idx][2][1].text)\n",
    "    place_dict[\"longitude\"] = float(root[idx][2][0].text)\n",
    "    \n",
    "    return place_dict"
   ]
  },
  {
   "cell_type": "markdown",
   "metadata": {},
   "source": [
    "## Creating pandas dataframe for places"
   ]
  },
  {
   "cell_type": "code",
   "execution_count": 5,
   "metadata": {},
   "outputs": [],
   "source": [
    "places_list = []\n",
    "for i in range(len(root)):\n",
    "    places_list.append(place_info(i))"
   ]
  },
  {
   "cell_type": "code",
   "execution_count": 6,
   "metadata": {},
   "outputs": [
    {
     "data": {
      "text/html": [
       "<div>\n",
       "<style scoped>\n",
       "    .dataframe tbody tr th:only-of-type {\n",
       "        vertical-align: middle;\n",
       "    }\n",
       "\n",
       "    .dataframe tbody tr th {\n",
       "        vertical-align: top;\n",
       "    }\n",
       "\n",
       "    .dataframe thead th {\n",
       "        text-align: right;\n",
       "    }\n",
       "</style>\n",
       "<table border=\"1\" class=\"dataframe\">\n",
       "  <thead>\n",
       "    <tr style=\"text-align: right;\">\n",
       "      <th></th>\n",
       "      <th>name</th>\n",
       "      <th>cree_id</th>\n",
       "      <th>latitude</th>\n",
       "      <th>longitude</th>\n",
       "    </tr>\n",
       "    <tr>\n",
       "      <th>place_id</th>\n",
       "      <th></th>\n",
       "      <th></th>\n",
       "      <th></th>\n",
       "      <th></th>\n",
       "    </tr>\n",
       "  </thead>\n",
       "  <tbody>\n",
       "    <tr>\n",
       "      <th>2039</th>\n",
       "      <td>ESTACION DE SERVICIO CALAFIA, S.A. DE C.V.</td>\n",
       "      <td>PL/658/EXP/ES/2015</td>\n",
       "      <td>32.47641</td>\n",
       "      <td>-116.92140</td>\n",
       "    </tr>\n",
       "    <tr>\n",
       "      <th>2040</th>\n",
       "      <td>LAS MEJORES ESTACIONES, S.A DE C.V</td>\n",
       "      <td>PL/902/EXP/ES/2015</td>\n",
       "      <td>20.30370</td>\n",
       "      <td>-99.74484</td>\n",
       "    </tr>\n",
       "    <tr>\n",
       "      <th>2041</th>\n",
       "      <td>DIAZ GAS, S.A. DE C.V.</td>\n",
       "      <td>PL/760/EXP/ES/2015</td>\n",
       "      <td>31.71947</td>\n",
       "      <td>-106.45140</td>\n",
       "    </tr>\n",
       "    <tr>\n",
       "      <th>2042</th>\n",
       "      <td>COMBU-EXPRESS, S.A. DE C.V.</td>\n",
       "      <td>PL/825/EXP/ES/2015</td>\n",
       "      <td>20.71413</td>\n",
       "      <td>-103.30420</td>\n",
       "    </tr>\n",
       "    <tr>\n",
       "      <th>2043</th>\n",
       "      <td>PETROMAX, S.A. DE C.V.</td>\n",
       "      <td>PL/585/EXP/ES/2015</td>\n",
       "      <td>26.03787</td>\n",
       "      <td>-98.29977</td>\n",
       "    </tr>\n",
       "    <tr>\n",
       "      <th>...</th>\n",
       "      <td>...</td>\n",
       "      <td>...</td>\n",
       "      <td>...</td>\n",
       "      <td>...</td>\n",
       "    </tr>\n",
       "    <tr>\n",
       "      <th>27758</th>\n",
       "      <td>SUMINISTRO DE COMBUSTIBLES EL SEIS S. DE R.L. ...</td>\n",
       "      <td>PL/23961/EXP/ES/2022</td>\n",
       "      <td>20.88375</td>\n",
       "      <td>-102.70250</td>\n",
       "    </tr>\n",
       "    <tr>\n",
       "      <th>27759</th>\n",
       "      <td>GASOLINERA SACSALUM SA DE CV</td>\n",
       "      <td>PL/23960/EXP/ES/2022</td>\n",
       "      <td>16.32370</td>\n",
       "      <td>-91.97680</td>\n",
       "    </tr>\n",
       "    <tr>\n",
       "      <th>27764</th>\n",
       "      <td>AEROPUERTO INTERNACIONAL FELIPE ANGELES, SOCIE...</td>\n",
       "      <td>PL/23974/EXP/ES/2022</td>\n",
       "      <td>19.72579</td>\n",
       "      <td>-99.03263</td>\n",
       "    </tr>\n",
       "    <tr>\n",
       "      <th>27765</th>\n",
       "      <td>AEROPUERTO INTERNACIONAL FELIPE ANGELES, SOCIE...</td>\n",
       "      <td>PL/23975/EXP/ES/2022</td>\n",
       "      <td>19.76109</td>\n",
       "      <td>-98.98862</td>\n",
       "    </tr>\n",
       "    <tr>\n",
       "      <th>27766</th>\n",
       "      <td>AEROPUERTO INTERNACIONAL FELIPE ANGELES, SOCIE...</td>\n",
       "      <td>PL/23976/EXP/ES/2022</td>\n",
       "      <td>19.74581</td>\n",
       "      <td>-99.00842</td>\n",
       "    </tr>\n",
       "  </tbody>\n",
       "</table>\n",
       "<p>12959 rows × 4 columns</p>\n",
       "</div>"
      ],
      "text/plain": [
       "                                                       name  \\\n",
       "place_id                                                      \n",
       "2039             ESTACION DE SERVICIO CALAFIA, S.A. DE C.V.   \n",
       "2040                     LAS MEJORES ESTACIONES, S.A DE C.V   \n",
       "2041                                 DIAZ GAS, S.A. DE C.V.   \n",
       "2042                            COMBU-EXPRESS, S.A. DE C.V.   \n",
       "2043                                 PETROMAX, S.A. DE C.V.   \n",
       "...                                                     ...   \n",
       "27758     SUMINISTRO DE COMBUSTIBLES EL SEIS S. DE R.L. ...   \n",
       "27759                          GASOLINERA SACSALUM SA DE CV   \n",
       "27764     AEROPUERTO INTERNACIONAL FELIPE ANGELES, SOCIE...   \n",
       "27765     AEROPUERTO INTERNACIONAL FELIPE ANGELES, SOCIE...   \n",
       "27766     AEROPUERTO INTERNACIONAL FELIPE ANGELES, SOCIE...   \n",
       "\n",
       "                       cree_id  latitude  longitude  \n",
       "place_id                                             \n",
       "2039        PL/658/EXP/ES/2015  32.47641 -116.92140  \n",
       "2040        PL/902/EXP/ES/2015  20.30370  -99.74484  \n",
       "2041        PL/760/EXP/ES/2015  31.71947 -106.45140  \n",
       "2042        PL/825/EXP/ES/2015  20.71413 -103.30420  \n",
       "2043        PL/585/EXP/ES/2015  26.03787  -98.29977  \n",
       "...                        ...       ...        ...  \n",
       "27758     PL/23961/EXP/ES/2022  20.88375 -102.70250  \n",
       "27759     PL/23960/EXP/ES/2022  16.32370  -91.97680  \n",
       "27764     PL/23974/EXP/ES/2022  19.72579  -99.03263  \n",
       "27765     PL/23975/EXP/ES/2022  19.76109  -98.98862  \n",
       "27766     PL/23976/EXP/ES/2022  19.74581  -99.00842  \n",
       "\n",
       "[12959 rows x 4 columns]"
      ]
     },
     "execution_count": 6,
     "metadata": {},
     "output_type": "execute_result"
    }
   ],
   "source": [
    "import pandas as pd\n",
    "import numpy as np\n",
    "\n",
    "places = pd.DataFrame(places_list)\n",
    "places.set_index(\"place_id\",inplace=True)\n",
    "places.replace(0, np.nan, inplace=True)\n",
    "places"
   ]
  },
  {
   "cell_type": "markdown",
   "metadata": {},
   "source": [
    "## Fix coordinates\n",
    "\n",
    "Coordinates system consist in two values, latitude and longitude.\n",
    "\n",
    "latitude domain --> [-90, 90]\n",
    "\n",
    "longitude domain --> [-180, 180]\n",
    "\n",
    "For Mexico the coordinates ranges from:\n",
    "Latitude [14, 34]\n",
    "Longitude [-116, -86]\n",
    "\n",
    "![Coordinates in Mexico](images\\mapa-mexico-coordenadas-geograficas.jpg)"
   ]
  },
  {
   "cell_type": "markdown",
   "metadata": {},
   "source": [
    "### Exploring max and min values\n",
    "In following sorted data we can see some issues in coordinates:\n",
    "\n",
    "1. Station with place_id = 23393 have not valid coordinates (is not in domain) and the values does not have sense.\n",
    "2. Latitude domain is [-90,90], the last 4 stations does not have latitude in this domain, so we suspect this value is longitude and not latitude."
   ]
  },
  {
   "cell_type": "code",
   "execution_count": 116,
   "metadata": {},
   "outputs": [
    {
     "data": {
      "text/html": [
       "<div>\n",
       "<style scoped>\n",
       "    .dataframe tbody tr th:only-of-type {\n",
       "        vertical-align: middle;\n",
       "    }\n",
       "\n",
       "    .dataframe tbody tr th {\n",
       "        vertical-align: top;\n",
       "    }\n",
       "\n",
       "    .dataframe thead th {\n",
       "        text-align: right;\n",
       "    }\n",
       "</style>\n",
       "<table border=\"1\" class=\"dataframe\">\n",
       "  <thead>\n",
       "    <tr style=\"text-align: right;\">\n",
       "      <th></th>\n",
       "      <th>latitude</th>\n",
       "      <th>longitude</th>\n",
       "    </tr>\n",
       "    <tr>\n",
       "      <th>place_id</th>\n",
       "      <th></th>\n",
       "      <th></th>\n",
       "    </tr>\n",
       "  </thead>\n",
       "  <tbody>\n",
       "    <tr>\n",
       "      <th>23393</th>\n",
       "      <td>2272.49000</td>\n",
       "      <td>355773.10000</td>\n",
       "    </tr>\n",
       "    <tr>\n",
       "      <th>9351</th>\n",
       "      <td>32.71629</td>\n",
       "      <td>-114.73260</td>\n",
       "    </tr>\n",
       "    <tr>\n",
       "      <th>9675</th>\n",
       "      <td>32.67113</td>\n",
       "      <td>-115.40400</td>\n",
       "    </tr>\n",
       "    <tr>\n",
       "      <th>3909</th>\n",
       "      <td>32.66928</td>\n",
       "      <td>-115.39360</td>\n",
       "    </tr>\n",
       "    <tr>\n",
       "      <th>7740</th>\n",
       "      <td>32.66899</td>\n",
       "      <td>-115.42610</td>\n",
       "    </tr>\n",
       "    <tr>\n",
       "      <th>...</th>\n",
       "      <td>...</td>\n",
       "      <td>...</td>\n",
       "    </tr>\n",
       "    <tr>\n",
       "      <th>2415</th>\n",
       "      <td>14.67243</td>\n",
       "      <td>-92.15979</td>\n",
       "    </tr>\n",
       "    <tr>\n",
       "      <th>7146</th>\n",
       "      <td>-98.85688</td>\n",
       "      <td>19.35144</td>\n",
       "    </tr>\n",
       "    <tr>\n",
       "      <th>5852</th>\n",
       "      <td>-99.02986</td>\n",
       "      <td>19.38820</td>\n",
       "    </tr>\n",
       "    <tr>\n",
       "      <th>5812</th>\n",
       "      <td>-99.03223</td>\n",
       "      <td>19.41447</td>\n",
       "    </tr>\n",
       "    <tr>\n",
       "      <th>7024</th>\n",
       "      <td>-99.03712</td>\n",
       "      <td>19.48694</td>\n",
       "    </tr>\n",
       "  </tbody>\n",
       "</table>\n",
       "<p>12852 rows × 2 columns</p>\n",
       "</div>"
      ],
      "text/plain": [
       "            latitude     longitude\n",
       "place_id                          \n",
       "23393     2272.49000  355773.10000\n",
       "9351        32.71629    -114.73260\n",
       "9675        32.67113    -115.40400\n",
       "3909        32.66928    -115.39360\n",
       "7740        32.66899    -115.42610\n",
       "...              ...           ...\n",
       "2415        14.67243     -92.15979\n",
       "7146       -98.85688      19.35144\n",
       "5852       -99.02986      19.38820\n",
       "5812       -99.03223      19.41447\n",
       "7024       -99.03712      19.48694\n",
       "\n",
       "[12852 rows x 2 columns]"
      ]
     },
     "execution_count": 116,
     "metadata": {},
     "output_type": "execute_result"
    }
   ],
   "source": [
    "places[[\"latitude\",\"longitude\"]].dropna().sort_values(by=[\"latitude\",\"longitude\"],ascending=False)"
   ]
  },
  {
   "cell_type": "markdown",
   "metadata": {},
   "source": [
    "### Cleaning wrong coordinates\n",
    "Coordinates system does not have sense and we can't see it in a geographic map, so, we will drop it."
   ]
  },
  {
   "cell_type": "code",
   "execution_count": 117,
   "metadata": {},
   "outputs": [
    {
     "data": {
      "text/plain": [
       "name         INMOBILIARIA HOTELA S.A. DE C.V.\n",
       "cree_id                  PL/20670/EXP/ES/2017\n",
       "latitude                              2272.49\n",
       "longitude                            355773.1\n",
       "Name: 23393, dtype: object"
      ]
     },
     "execution_count": 117,
     "metadata": {},
     "output_type": "execute_result"
    }
   ],
   "source": [
    "places.loc[23393]"
   ]
  },
  {
   "cell_type": "code",
   "execution_count": 118,
   "metadata": {},
   "outputs": [
    {
     "data": {
      "text/plain": [
       "name         INMOBILIARIA HOTELA S.A. DE C.V.\n",
       "cree_id                  PL/20670/EXP/ES/2017\n",
       "latitude                                  NaN\n",
       "longitude                                 NaN\n",
       "Name: 23393, dtype: object"
      ]
     },
     "execution_count": 118,
     "metadata": {},
     "output_type": "execute_result"
    }
   ],
   "source": [
    "places.loc[23393,[\"latitude\",\"longitude\"]] = [np.nan,np.nan]\n",
    "places.loc[23393]"
   ]
  },
  {
   "cell_type": "markdown",
   "metadata": {},
   "source": [
    "### Change latitude and longitude\n",
    "\n",
    "We change latitud to longitude and longitude to latitude."
   ]
  },
  {
   "cell_type": "code",
   "execution_count": 119,
   "metadata": {},
   "outputs": [],
   "source": [
    "# Fix location coordinates\n",
    "for index in places.index:\n",
    "    # latitude domain [-90,90]\n",
    "    # longitude domain [-180,180]\n",
    "    if places.loc[index,\"latitude\"] > 90 or places.loc[index,\"latitude\"] < -90:\n",
    "        longitud = places.loc[index, \"latitude\"].copy()\n",
    "        latitud = places.loc[index, \"longitude\"].copy()\n",
    "        \n",
    "        places.loc[index, \"longitude\"] = longitud\n",
    "        places.loc[index, \"latitude\"] = latitud"
   ]
  },
  {
   "cell_type": "markdown",
   "metadata": {},
   "source": [
    "### First Boxplot"
   ]
  },
  {
   "cell_type": "code",
   "execution_count": 120,
   "metadata": {},
   "outputs": [
    {
     "data": {
      "image/png": "[encoded data removed]",
      "text/plain": [
       "<Figure size 720x360 with 2 Axes>"
      ]
     },
     "metadata": {
      "needs_background": "light"
     },
     "output_type": "display_data"
    }
   ],
   "source": [
    "import matplotlib.pyplot as plt\n",
    "\n",
    "plt.figure(figsize=(10,5))\n",
    "plt.style.use(\"bmh\")\n",
    "plt.subplot(1,2,1)\n",
    "places[[\"longitude\"]].boxplot()\n",
    "plt.subplot(1,2,2)\n",
    "places[[\"latitude\"]].boxplot()\n",
    "plt.show()"
   ]
  },
  {
   "cell_type": "markdown",
   "metadata": {},
   "source": [
    "### Fixing coordinates\n",
    "In previous boxplot we can see some values for longitude that are not valid because longitude values of aproximately 100 are in Myanmar or Tailand. We suspect that this values are in fact negative values because that makes sense."
   ]
  },
  {
   "cell_type": "code",
   "execution_count": 121,
   "metadata": {},
   "outputs": [
    {
     "name": "stdout",
     "output_type": "stream",
     "text": [
      "Values to fix: 23\n"
     ]
    }
   ],
   "source": [
    "print(\"Values to fix:\",len(places[[\"longitude\"]][places[\"longitude\"] > 50]))"
   ]
  },
  {
   "cell_type": "code",
   "execution_count": 122,
   "metadata": {},
   "outputs": [],
   "source": [
    "coordinates_fix_idx = places[[\"longitude\"]][places[\"longitude\"] > 50].index\n",
    "places.loc[coordinates_fix_idx, \"longitude\"] *= -1"
   ]
  },
  {
   "cell_type": "code",
   "execution_count": 123,
   "metadata": {},
   "outputs": [
    {
     "name": "stdout",
     "output_type": "stream",
     "text": [
      "Values to fix: 0\n"
     ]
    }
   ],
   "source": [
    "print(\"Values to fix:\",len(places[[\"longitude\"]][places[\"longitude\"] > 50]))"
   ]
  },
  {
   "cell_type": "markdown",
   "metadata": {},
   "source": [
    "### Second Boxplot\n",
    "\n",
    "Finally we can se the distribution for all gas stations coordinates. This values are in valid ranges."
   ]
  },
  {
   "cell_type": "code",
   "execution_count": 124,
   "metadata": {},
   "outputs": [
    {
     "data": {
      "image/png": "[encoded data removed]",
      "text/plain": [
       "<Figure size 720x360 with 2 Axes>"
      ]
     },
     "metadata": {
      "needs_background": "light"
     },
     "output_type": "display_data"
    }
   ],
   "source": [
    "import matplotlib.pyplot as plt\n",
    "\n",
    "plt.figure(figsize=(10,5))\n",
    "plt.style.use(\"bmh\")\n",
    "plt.subplot(1,2,1)\n",
    "places[[\"longitude\"]].boxplot()\n",
    "plt.subplot(1,2,2)\n",
    "places[[\"latitude\"]].boxplot()\n",
    "plt.show()"
   ]
  },
  {
   "cell_type": "markdown",
   "metadata": {},
   "source": [
    "## Get prices for gas stations"
   ]
  },
  {
   "cell_type": "code",
   "execution_count": 125,
   "metadata": {},
   "outputs": [],
   "source": [
    "url = \"https://bit.ly/2JNcTha\"\n",
    "r = requests.get(url, allow_redirects=True)"
   ]
  },
  {
   "cell_type": "code",
   "execution_count": 126,
   "metadata": {},
   "outputs": [
    {
     "name": "stdout",
     "output_type": "stream",
     "text": [
      "<Element 'places' at 0x000002916FA47810>\n"
     ]
    }
   ],
   "source": [
    "root = et.fromstring(r.content)\n",
    "print(root)"
   ]
  },
  {
   "cell_type": "markdown",
   "metadata": {},
   "source": [
    "### Extracting attributes function 2"
   ]
  },
  {
   "cell_type": "code",
   "execution_count": 127,
   "metadata": {},
   "outputs": [],
   "source": [
    "def price_info(idx: int):\n",
    "    \"\"\"\n",
    "    The function extract features from an xml file.\n",
    "    [regular, premium, diesel]\n",
    "    \"\"\"\n",
    "    place_dict = {}\n",
    "    # Get place_id\n",
    "    place_dict[\"place_id\"] = int(root[idx].attrib.get(\"place_id\"))\n",
    "\n",
    "    for gas_types in root[idx]:\n",
    "        place_dict[gas_types.get(\"type\")] = float(gas_types.text)\n",
    "        \n",
    "    return place_dict"
   ]
  },
  {
   "cell_type": "markdown",
   "metadata": {},
   "source": [
    "## Creating pandas dataframe for prices"
   ]
  },
  {
   "cell_type": "code",
   "execution_count": 128,
   "metadata": {},
   "outputs": [],
   "source": [
    "prices_list = []\n",
    "for i in range(len(root)):\n",
    "    prices_list.append(price_info(i))"
   ]
  },
  {
   "cell_type": "code",
   "execution_count": 129,
   "metadata": {},
   "outputs": [
    {
     "data": {
      "text/html": [
       "<div>\n",
       "<style scoped>\n",
       "    .dataframe tbody tr th:only-of-type {\n",
       "        vertical-align: middle;\n",
       "    }\n",
       "\n",
       "    .dataframe tbody tr th {\n",
       "        vertical-align: top;\n",
       "    }\n",
       "\n",
       "    .dataframe thead th {\n",
       "        text-align: right;\n",
       "    }\n",
       "</style>\n",
       "<table border=\"1\" class=\"dataframe\">\n",
       "  <thead>\n",
       "    <tr style=\"text-align: right;\">\n",
       "      <th></th>\n",
       "      <th>regular</th>\n",
       "      <th>premium</th>\n",
       "      <th>diesel</th>\n",
       "    </tr>\n",
       "    <tr>\n",
       "      <th>place_id</th>\n",
       "      <th></th>\n",
       "      <th></th>\n",
       "      <th></th>\n",
       "    </tr>\n",
       "  </thead>\n",
       "  <tbody>\n",
       "    <tr>\n",
       "      <th>2039</th>\n",
       "      <td>22.49</td>\n",
       "      <td>24.99</td>\n",
       "      <td>21.99</td>\n",
       "    </tr>\n",
       "    <tr>\n",
       "      <th>2040</th>\n",
       "      <td>21.25</td>\n",
       "      <td>23.19</td>\n",
       "      <td>23.09</td>\n",
       "    </tr>\n",
       "    <tr>\n",
       "      <th>2041</th>\n",
       "      <td>17.28</td>\n",
       "      <td>19.20</td>\n",
       "      <td>NaN</td>\n",
       "    </tr>\n",
       "    <tr>\n",
       "      <th>2042</th>\n",
       "      <td>21.79</td>\n",
       "      <td>24.39</td>\n",
       "      <td>23.54</td>\n",
       "    </tr>\n",
       "    <tr>\n",
       "      <th>2043</th>\n",
       "      <td>17.79</td>\n",
       "      <td>19.99</td>\n",
       "      <td>NaN</td>\n",
       "    </tr>\n",
       "    <tr>\n",
       "      <th>...</th>\n",
       "      <td>...</td>\n",
       "      <td>...</td>\n",
       "      <td>...</td>\n",
       "    </tr>\n",
       "    <tr>\n",
       "      <th>27732</th>\n",
       "      <td>22.69</td>\n",
       "      <td>23.79</td>\n",
       "      <td>NaN</td>\n",
       "    </tr>\n",
       "    <tr>\n",
       "      <th>27734</th>\n",
       "      <td>21.99</td>\n",
       "      <td>23.85</td>\n",
       "      <td>23.98</td>\n",
       "    </tr>\n",
       "    <tr>\n",
       "      <th>27738</th>\n",
       "      <td>20.62</td>\n",
       "      <td>22.11</td>\n",
       "      <td>NaN</td>\n",
       "    </tr>\n",
       "    <tr>\n",
       "      <th>27739</th>\n",
       "      <td>21.70</td>\n",
       "      <td>23.50</td>\n",
       "      <td>NaN</td>\n",
       "    </tr>\n",
       "    <tr>\n",
       "      <th>27766</th>\n",
       "      <td>21.77</td>\n",
       "      <td>23.41</td>\n",
       "      <td>23.17</td>\n",
       "    </tr>\n",
       "  </tbody>\n",
       "</table>\n",
       "<p>12717 rows × 3 columns</p>\n",
       "</div>"
      ],
      "text/plain": [
       "          regular  premium  diesel\n",
       "place_id                          \n",
       "2039        22.49    24.99   21.99\n",
       "2040        21.25    23.19   23.09\n",
       "2041        17.28    19.20     NaN\n",
       "2042        21.79    24.39   23.54\n",
       "2043        17.79    19.99     NaN\n",
       "...           ...      ...     ...\n",
       "27732       22.69    23.79     NaN\n",
       "27734       21.99    23.85   23.98\n",
       "27738       20.62    22.11     NaN\n",
       "27739       21.70    23.50     NaN\n",
       "27766       21.77    23.41   23.17\n",
       "\n",
       "[12717 rows x 3 columns]"
      ]
     },
     "execution_count": 129,
     "metadata": {},
     "output_type": "execute_result"
    }
   ],
   "source": [
    "import numpy as np\n",
    "\n",
    "prices = pd.DataFrame(places_list)\n",
    "prices.set_index(\"place_id\",inplace=True)\n",
    "prices = prices.groupby(prices.index).sum()\n",
    "prices.replace(0.0,np.nan,inplace=True)\n",
    "prices"
   ]
  },
  {
   "cell_type": "markdown",
   "metadata": {},
   "source": [
    "## Merge dataframes"
   ]
  },
  {
   "cell_type": "code",
   "execution_count": 131,
   "metadata": {},
   "outputs": [
    {
     "data": {
      "text/html": [
       "<div>\n",
       "<style scoped>\n",
       "    .dataframe tbody tr th:only-of-type {\n",
       "        vertical-align: middle;\n",
       "    }\n",
       "\n",
       "    .dataframe tbody tr th {\n",
       "        vertical-align: top;\n",
       "    }\n",
       "\n",
       "    .dataframe thead th {\n",
       "        text-align: right;\n",
       "    }\n",
       "</style>\n",
       "<table border=\"1\" class=\"dataframe\">\n",
       "  <thead>\n",
       "    <tr style=\"text-align: right;\">\n",
       "      <th></th>\n",
       "      <th>name</th>\n",
       "      <th>cree_id</th>\n",
       "      <th>latitude</th>\n",
       "      <th>longitude</th>\n",
       "      <th>regular</th>\n",
       "      <th>premium</th>\n",
       "      <th>diesel</th>\n",
       "    </tr>\n",
       "    <tr>\n",
       "      <th>place_id</th>\n",
       "      <th></th>\n",
       "      <th></th>\n",
       "      <th></th>\n",
       "      <th></th>\n",
       "      <th></th>\n",
       "      <th></th>\n",
       "      <th></th>\n",
       "    </tr>\n",
       "  </thead>\n",
       "  <tbody>\n",
       "    <tr>\n",
       "      <th>2039</th>\n",
       "      <td>ESTACION DE SERVICIO CALAFIA, S.A. DE C.V.</td>\n",
       "      <td>PL/658/EXP/ES/2015</td>\n",
       "      <td>32.47641</td>\n",
       "      <td>-116.92140</td>\n",
       "      <td>22.49</td>\n",
       "      <td>24.99</td>\n",
       "      <td>21.99</td>\n",
       "    </tr>\n",
       "    <tr>\n",
       "      <th>2040</th>\n",
       "      <td>LAS MEJORES ESTACIONES, S.A DE C.V</td>\n",
       "      <td>PL/902/EXP/ES/2015</td>\n",
       "      <td>20.30370</td>\n",
       "      <td>-99.74484</td>\n",
       "      <td>21.25</td>\n",
       "      <td>23.19</td>\n",
       "      <td>23.09</td>\n",
       "    </tr>\n",
       "    <tr>\n",
       "      <th>2041</th>\n",
       "      <td>DIAZ GAS, S.A. DE C.V.</td>\n",
       "      <td>PL/760/EXP/ES/2015</td>\n",
       "      <td>31.71947</td>\n",
       "      <td>-106.45140</td>\n",
       "      <td>17.28</td>\n",
       "      <td>19.20</td>\n",
       "      <td>NaN</td>\n",
       "    </tr>\n",
       "    <tr>\n",
       "      <th>2042</th>\n",
       "      <td>COMBU-EXPRESS, S.A. DE C.V.</td>\n",
       "      <td>PL/825/EXP/ES/2015</td>\n",
       "      <td>20.71413</td>\n",
       "      <td>-103.30420</td>\n",
       "      <td>21.79</td>\n",
       "      <td>24.39</td>\n",
       "      <td>23.54</td>\n",
       "    </tr>\n",
       "    <tr>\n",
       "      <th>2043</th>\n",
       "      <td>PETROMAX, S.A. DE C.V.</td>\n",
       "      <td>PL/585/EXP/ES/2015</td>\n",
       "      <td>26.03787</td>\n",
       "      <td>-98.29977</td>\n",
       "      <td>17.79</td>\n",
       "      <td>19.99</td>\n",
       "      <td>NaN</td>\n",
       "    </tr>\n",
       "    <tr>\n",
       "      <th>...</th>\n",
       "      <td>...</td>\n",
       "      <td>...</td>\n",
       "      <td>...</td>\n",
       "      <td>...</td>\n",
       "      <td>...</td>\n",
       "      <td>...</td>\n",
       "      <td>...</td>\n",
       "    </tr>\n",
       "    <tr>\n",
       "      <th>27758</th>\n",
       "      <td>SUMINISTRO DE COMBUSTIBLES EL SEIS S. DE R.L. ...</td>\n",
       "      <td>PL/23961/EXP/ES/2022</td>\n",
       "      <td>20.88375</td>\n",
       "      <td>-102.70250</td>\n",
       "      <td>NaN</td>\n",
       "      <td>NaN</td>\n",
       "      <td>NaN</td>\n",
       "    </tr>\n",
       "    <tr>\n",
       "      <th>27759</th>\n",
       "      <td>GASOLINERA SACSALUM SA DE CV</td>\n",
       "      <td>PL/23960/EXP/ES/2022</td>\n",
       "      <td>16.32370</td>\n",
       "      <td>-91.97680</td>\n",
       "      <td>NaN</td>\n",
       "      <td>NaN</td>\n",
       "      <td>NaN</td>\n",
       "    </tr>\n",
       "    <tr>\n",
       "      <th>27764</th>\n",
       "      <td>AEROPUERTO INTERNACIONAL FELIPE ANGELES, SOCIE...</td>\n",
       "      <td>PL/23974/EXP/ES/2022</td>\n",
       "      <td>19.72579</td>\n",
       "      <td>-99.03263</td>\n",
       "      <td>NaN</td>\n",
       "      <td>NaN</td>\n",
       "      <td>NaN</td>\n",
       "    </tr>\n",
       "    <tr>\n",
       "      <th>27765</th>\n",
       "      <td>AEROPUERTO INTERNACIONAL FELIPE ANGELES, SOCIE...</td>\n",
       "      <td>PL/23975/EXP/ES/2022</td>\n",
       "      <td>19.76109</td>\n",
       "      <td>-98.98862</td>\n",
       "      <td>NaN</td>\n",
       "      <td>NaN</td>\n",
       "      <td>NaN</td>\n",
       "    </tr>\n",
       "    <tr>\n",
       "      <th>27766</th>\n",
       "      <td>AEROPUERTO INTERNACIONAL FELIPE ANGELES, SOCIE...</td>\n",
       "      <td>PL/23976/EXP/ES/2022</td>\n",
       "      <td>19.74581</td>\n",
       "      <td>-99.00842</td>\n",
       "      <td>21.77</td>\n",
       "      <td>23.41</td>\n",
       "      <td>23.17</td>\n",
       "    </tr>\n",
       "  </tbody>\n",
       "</table>\n",
       "<p>12851 rows × 7 columns</p>\n",
       "</div>"
      ],
      "text/plain": [
       "                                                       name  \\\n",
       "place_id                                                      \n",
       "2039             ESTACION DE SERVICIO CALAFIA, S.A. DE C.V.   \n",
       "2040                     LAS MEJORES ESTACIONES, S.A DE C.V   \n",
       "2041                                 DIAZ GAS, S.A. DE C.V.   \n",
       "2042                            COMBU-EXPRESS, S.A. DE C.V.   \n",
       "2043                                 PETROMAX, S.A. DE C.V.   \n",
       "...                                                     ...   \n",
       "27758     SUMINISTRO DE COMBUSTIBLES EL SEIS S. DE R.L. ...   \n",
       "27759                          GASOLINERA SACSALUM SA DE CV   \n",
       "27764     AEROPUERTO INTERNACIONAL FELIPE ANGELES, SOCIE...   \n",
       "27765     AEROPUERTO INTERNACIONAL FELIPE ANGELES, SOCIE...   \n",
       "27766     AEROPUERTO INTERNACIONAL FELIPE ANGELES, SOCIE...   \n",
       "\n",
       "                       cree_id  latitude  longitude  regular  premium  diesel  \n",
       "place_id                                                                       \n",
       "2039        PL/658/EXP/ES/2015  32.47641 -116.92140    22.49    24.99   21.99  \n",
       "2040        PL/902/EXP/ES/2015  20.30370  -99.74484    21.25    23.19   23.09  \n",
       "2041        PL/760/EXP/ES/2015  31.71947 -106.45140    17.28    19.20     NaN  \n",
       "2042        PL/825/EXP/ES/2015  20.71413 -103.30420    21.79    24.39   23.54  \n",
       "2043        PL/585/EXP/ES/2015  26.03787  -98.29977    17.79    19.99     NaN  \n",
       "...                        ...       ...        ...      ...      ...     ...  \n",
       "27758     PL/23961/EXP/ES/2022  20.88375 -102.70250      NaN      NaN     NaN  \n",
       "27759     PL/23960/EXP/ES/2022  16.32370  -91.97680      NaN      NaN     NaN  \n",
       "27764     PL/23974/EXP/ES/2022  19.72579  -99.03263      NaN      NaN     NaN  \n",
       "27765     PL/23975/EXP/ES/2022  19.76109  -98.98862      NaN      NaN     NaN  \n",
       "27766     PL/23976/EXP/ES/2022  19.74581  -99.00842    21.77    23.41   23.17  \n",
       "\n",
       "[12851 rows x 7 columns]"
      ]
     },
     "execution_count": 131,
     "metadata": {},
     "output_type": "execute_result"
    }
   ],
   "source": [
    "df = places.merge(prices,how=\"left\",left_index=True,right_index=True)\n",
    "\n",
    "# Drop stations with nan location\n",
    "df.dropna(subset=[\"latitude\",\"longitude\"],inplace=True)\n",
    "df"
   ]
  },
  {
   "cell_type": "markdown",
   "metadata": {},
   "source": [
    "## Get map locations"
   ]
  },
  {
   "cell_type": "markdown",
   "metadata": {},
   "source": [
    "### Getting 100 nearest gas stations function 3"
   ]
  },
  {
   "cell_type": "code",
   "execution_count": 132,
   "metadata": {},
   "outputs": [],
   "source": [
    "def distances(latitude: float, longitude: float):\n",
    "    import geopy.distance\n",
    "    distances = []\n",
    "    for idx in df.index:\n",
    "        distances.append(\n",
    "            geopy.distance.geodesic(\n",
    "                (latitude, longitude),\n",
    "                (df.loc[idx,\"latitude\"], df.loc[idx,\"longitude\"])\n",
    "                ).km\n",
    "            )\n",
    "    distances = pd.DataFrame(distances, columns=[\"distances\"])\n",
    "    distances[\"place_id\"] = df.index\n",
    "    distances.set_index(\"place_id\",inplace=True)\n",
    "    distances_idx = distances.sort_values(by=\"distances\").index[1:100]\n",
    "    return list(distances_idx)"
   ]
  },
  {
   "cell_type": "code",
   "execution_count": 1,
   "metadata": {},
   "outputs": [],
   "source": [
    "from geopy.geocoders import Nominatim\n",
    "geolocator = Nominatim(user_agent=\"geoapiExercides\")"
   ]
  },
  {
   "cell_type": "code",
   "execution_count": 3,
   "metadata": {},
   "outputs": [
    {
     "data": {
      "text/plain": [
       "Location(General Anaya, Avenida Alfonso Reyes, Monterrey, Nuevo León, 64410, México, (25.6966744, -100.316846, 0.0))"
      ]
     },
     "execution_count": 3,
     "metadata": {},
     "output_type": "execute_result"
    }
   ],
   "source": [
    "geolocator.reverse(\"25.69651\"+\",\"+\"-100.31676\")"
   ]
  },
  {
   "cell_type": "markdown",
   "metadata": {},
   "source": [
    "## Plot map with locations"
   ]
  },
  {
   "cell_type": "code",
   "execution_count": 133,
   "metadata": {},
   "outputs": [
    {
     "data": {
      "text/html": [
       "<div style=\"width:100%;\"><div style=\"position:relative;width:100%;height:0;padding-bottom:60%;\"><span style=\"color:#565656\">Make this Notebook Trusted to load map: File -> Trust Notebook</span><iframe src=\"about:blank\" style=\"position:absolute;width:100%;height:100%;left:0;top:0;border:none !important;\" data-html=%3C%21DOCTYPE%20html%3E%0A%3Chead%3E%20%20%20%20%0A%20%20%20%20%3Cmeta%20http-equiv%3D%22content-type%22%20content%3D%22text/html%3B%20charset%3DUTF-8%22%20/%3E%0A%20%20%20%20%0A%20%20%20%20%20%20%20%20%3Cscript%3E%0A%20%20%20%20%20%20%20%20%20%20%20%20L_NO_TOUCH%20%3D%20false%3B%0A%20%20%20%20%20%20%20%20%20%20%20%20L_DISABLE_3D%20%3D%20false%3B%0A%20%20%20%20%20%20%20%20%3C/script%3E%0A%20%20%20%20%0A%20%20%20%20%3Cstyle%3Ehtml%2C%20body%20%7Bwidth%3A%20100%25%3Bheight%3A%20100%25%3Bmargin%3A%200%3Bpadding%3A%200%3B%7D%3C/style%3E%0A%20%20%20%20%3Cstyle%3E%23map%20%7Bposition%3Aabsolute%3Btop%3A0%3Bbottom%3A0%3Bright%3A0%3Bleft%3A0%3B%7D%3C/style%3E%0A%20%20%20%20%3Cscript%20src%3D%22https%3A//cdn.jsdelivr.net/npm/leaflet%401.6.0/dist/leaflet.js%22%3E%3C/script%3E%0A%20%20%20%20%3Cscript%20src%3D%22https%3A//code.jquery.com/jquery-1.12.4.min.js%22%3E%3C/script%3E%0A%20%20%20%20%3Cscript%20src%3D%22https%3A//maxcdn.bootstrapcdn.com/bootstrap/3.2.0/js/bootstrap.min.js%22%3E%3C/script%3E%0A%20%20%20%20%3Cscript%20src%3D%22https%3A//cdnjs.cloudflare.com/ajax/libs/Leaflet.awesome-markers/2.0.2/leaflet.awesome-markers.js%22%3E%3C/script%3E%0A%20%20%20%20%3Clink%20rel%3D%22stylesheet%22%20href%3D%22https%3A//cdn.jsdelivr.net/npm/leaflet%401.6.0/dist/leaflet.css%22/%3E%0A%20%20%20%20%3Clink%20rel%3D%22stylesheet%22%20href%3D%22https%3A//maxcdn.bootstrapcdn.com/bootstrap/3.2.0/css/bootstrap.min.css%22/%3E%0A%20%20%20%20%3Clink%20rel%3D%22stylesheet%22%20href%3D%22https%3A//maxcdn.bootstrapcdn.com/bootstrap/3.2.0/css/bootstrap-theme.min.css%22/%3E%0A%20%20%20%20%3Clink%20rel%3D%22stylesheet%22%20href%3D%22https%3A//maxcdn.bootstrapcdn.com/font-awesome/4.6.3/css/font-awesome.min.css%22/%3E%0A%20%20%20%20%3Clink%20rel%3D%22stylesheet%22%20href%3D%22https%3A//cdnjs.cloudflare.com/ajax/libs/Leaflet.awesome-markers/2.0.2/leaflet.awesome-markers.css%22/%3E%0A%20%20%20%20%3Clink%20rel%3D%22stylesheet%22%20href%3D%22https%3A//cdn.jsdelivr.net/gh/python-visualization/folium/folium/templates/leaflet.awesome.rotate.min.css%22/%3E%0A%20%20%20%20%0A%20%20%20%20%20%20%20%20%20%20%20%20%3Cmeta%20name%3D%22viewport%22%20content%3D%22width%3Ddevice-width%2C%0A%20%20%20%20%20%20%20%20%20%20%20%20%20%20%20%20initial-scale%3D1.0%2C%20maximum-scale%3D1.0%2C%20user-scalable%3Dno%22%20/%3E%0A%20%20%20%20%20%20%20%20%20%20%20%20%3Cstyle%3E%0A%20%20%20%20%20%20%20%20%20%20%20%20%20%20%20%20%23map_69c4093c35c84510a66873cc690378b6%20%7B%0A%20%20%20%20%20%20%20%20%20%20%20%20%20%20%20%20%20%20%20%20position%3A%20relative%3B%0A%20%20%20%20%20%20%20%20%20%20%20%20%20%20%20%20%20%20%20%20width%3A%20100.0%25%3B%0A%20%20%20%20%20%20%20%20%20%20%20%20%20%20%20%20%20%20%20%20height%3A%20100.0%25%3B%0A%20%20%20%20%20%20%20%20%20%20%20%20%20%20%20%20%20%20%20%20left%3A%200.0%25%3B%0A%20%20%20%20%20%20%20%20%20%20%20%20%20%20%20%20%20%20%20%20top%3A%200.0%25%3B%0A%20%20%20%20%20%20%20%20%20%20%20%20%20%20%20%20%7D%0A%20%20%20%20%20%20%20%20%20%20%20%20%3C/style%3E%0A%20%20%20%20%20%20%20%20%0A%3C/head%3E%0A%3Cbody%3E%20%20%20%20%0A%20%20%20%20%0A%20%20%20%20%20%20%20%20%20%20%20%20%3Cdiv%20class%3D%22folium-map%22%20id%3D%22map_69c4093c35c84510a66873cc690378b6%22%20%3E%3C/div%3E%0A%20%20%20%20%20%20%20%20%0A%3C/body%3E%0A%3Cscript%3E%20%20%20%20%0A%20%20%20%20%0A%20%20%20%20%20%20%20%20%20%20%20%20var%20map_69c4093c35c84510a66873cc690378b6%20%3D%20L.map%28%0A%20%20%20%20%20%20%20%20%20%20%20%20%20%20%20%20%22map_69c4093c35c84510a66873cc690378b6%22%2C%0A%20%20%20%20%20%20%20%20%20%20%20%20%20%20%20%20%7B%0A%20%20%20%20%20%20%20%20%20%20%20%20%20%20%20%20%20%20%20%20center%3A%20%5B25.69651%2C%20-100.31676%5D%2C%0A%20%20%20%20%20%20%20%20%20%20%20%20%20%20%20%20%20%20%20%20crs%3A%20L.CRS.EPSG3857%2C%0A%20%20%20%20%20%20%20%20%20%20%20%20%20%20%20%20%20%20%20%20zoom%3A%2013%2C%0A%20%20%20%20%20%20%20%20%20%20%20%20%20%20%20%20%20%20%20%20zoomControl%3A%20true%2C%0A%20%20%20%20%20%20%20%20%20%20%20%20%20%20%20%20%20%20%20%20preferCanvas%3A%20false%2C%0A%20%20%20%20%20%20%20%20%20%20%20%20%20%20%20%20%7D%0A%20%20%20%20%20%20%20%20%20%20%20%20%29%3B%0A%0A%20%20%20%20%20%20%20%20%20%20%20%20%0A%0A%20%20%20%20%20%20%20%20%0A%20%20%20%20%0A%20%20%20%20%20%20%20%20%20%20%20%20var%20tile_layer_2a98bf00d43b422c96a1202234862b9c%20%3D%20L.tileLayer%28%0A%20%20%20%20%20%20%20%20%20%20%20%20%20%20%20%20%22https%3A//%7Bs%7D.tile.openstreetmap.org/%7Bz%7D/%7Bx%7D/%7By%7D.png%22%2C%0A%20%20%20%20%20%20%20%20%20%20%20%20%20%20%20%20%7B%22attribution%22%3A%20%22Data%20by%20%5Cu0026copy%3B%20%5Cu003ca%20href%3D%5C%22http%3A//openstreetmap.org%5C%22%5Cu003eOpenStreetMap%5Cu003c/a%5Cu003e%2C%20under%20%5Cu003ca%20href%3D%5C%22http%3A//www.openstreetmap.org/copyright%5C%22%5Cu003eODbL%5Cu003c/a%5Cu003e.%22%2C%20%22detectRetina%22%3A%20false%2C%20%22maxNativeZoom%22%3A%2018%2C%20%22maxZoom%22%3A%2018%2C%20%22minZoom%22%3A%200%2C%20%22noWrap%22%3A%20false%2C%20%22opacity%22%3A%201%2C%20%22subdomains%22%3A%20%22abc%22%2C%20%22tms%22%3A%20false%7D%0A%20%20%20%20%20%20%20%20%20%20%20%20%29.addTo%28map_69c4093c35c84510a66873cc690378b6%29%3B%0A%20%20%20%20%20%20%20%20%0A%20%20%20%20%0A%20%20%20%20%20%20%20%20%20%20%20%20var%20marker_6d8fe0255459456db37c7cf78949d12f%20%3D%20L.marker%28%0A%20%20%20%20%20%20%20%20%20%20%20%20%20%20%20%20%5B25.69079%2C%20-100.315%5D%2C%0A%20%20%20%20%20%20%20%20%20%20%20%20%20%20%20%20%7B%7D%0A%20%20%20%20%20%20%20%20%20%20%20%20%29.addTo%28map_69c4093c35c84510a66873cc690378b6%29%3B%0A%20%20%20%20%20%20%20%20%0A%20%20%20%20%0A%20%20%20%20%20%20%20%20%20%20%20%20var%20icon_7847a7f9ca29427a9e809e50d363cdc7%20%3D%20L.AwesomeMarkers.icon%28%0A%20%20%20%20%20%20%20%20%20%20%20%20%20%20%20%20%7B%22extraClasses%22%3A%20%22fa-rotate-0%22%2C%20%22icon%22%3A%20%22info-sign%22%2C%20%22iconColor%22%3A%20%22white%22%2C%20%22markerColor%22%3A%20%22blue%22%2C%20%22prefix%22%3A%20%22glyphicon%22%7D%0A%20%20%20%20%20%20%20%20%20%20%20%20%29%3B%0A%20%20%20%20%20%20%20%20%20%20%20%20marker_6d8fe0255459456db37c7cf78949d12f.setIcon%28icon_7847a7f9ca29427a9e809e50d363cdc7%29%3B%0A%20%20%20%20%20%20%20%20%0A%20%20%20%20%0A%20%20%20%20%20%20%20%20var%20popup_695c15583944460eb46a4724f85471b0%20%3D%20L.popup%28%7B%22maxWidth%22%3A%20%22100%25%22%7D%29%3B%0A%0A%20%20%20%20%20%20%20%20%0A%20%20%20%20%20%20%20%20%20%20%20%20var%20html_814ee49f8fdd45909f3fb5cf145da13e%20%3D%20%24%28%60%3Cdiv%20id%3D%22html_814ee49f8fdd45909f3fb5cf145da13e%22%20style%3D%22width%3A%20100.0%25%3B%20height%3A%20100.0%25%3B%22%3EADMINISTRADORA%20Y%20CONTROLADORA%20DE%20CARBURANTES%20SA%20DE%20Regular%3A%2021.99%20Premium%3A%2022.29%20Diesel%3A%20nan%3C/div%3E%60%29%5B0%5D%3B%0A%20%20%20%20%20%20%20%20%20%20%20%20popup_695c15583944460eb46a4724f85471b0.setContent%28html_814ee49f8fdd45909f3fb5cf145da13e%29%3B%0A%20%20%20%20%20%20%20%20%0A%0A%20%20%20%20%20%20%20%20marker_6d8fe0255459456db37c7cf78949d12f.bindPopup%28popup_695c15583944460eb46a4724f85471b0%29%0A%20%20%20%20%20%20%20%20%3B%0A%0A%20%20%20%20%20%20%20%20%0A%20%20%20%20%0A%20%20%20%20%0A%20%20%20%20%20%20%20%20%20%20%20%20var%20marker_f778cd11fece4dee8dc1bc655cb4a034%20%3D%20L.marker%28%0A%20%20%20%20%20%20%20%20%20%20%20%20%20%20%20%20%5B25.68961%2C%20-100.3174%5D%2C%0A%20%20%20%20%20%20%20%20%20%20%20%20%20%20%20%20%7B%7D%0A%20%20%20%20%20%20%20%20%20%20%20%20%29.addTo%28map_69c4093c35c84510a66873cc690378b6%29%3B%0A%20%20%20%20%20%20%20%20%0A%20%20%20%20%0A%20%20%20%20%20%20%20%20%20%20%20%20var%20icon_241568229a9046f692d4c0fc2377ec1f%20%3D%20L.AwesomeMarkers.icon%28%0A%20%20%20%20%20%20%20%20%20%20%20%20%20%20%20%20%7B%22extraClasses%22%3A%20%22fa-rotate-0%22%2C%20%22icon%22%3A%20%22info-sign%22%2C%20%22iconColor%22%3A%20%22white%22%2C%20%22markerColor%22%3A%20%22blue%22%2C%20%22prefix%22%3A%20%22glyphicon%22%7D%0A%20%20%20%20%20%20%20%20%20%20%20%20%29%3B%0A%20%20%20%20%20%20%20%20%20%20%20%20marker_f778cd11fece4dee8dc1bc655cb4a034.setIcon%28icon_241568229a9046f692d4c0fc2377ec1f%29%3B%0A%20%20%20%20%20%20%20%20%0A%20%20%20%20%0A%20%20%20%20%20%20%20%20var%20popup_ce37fc657dfb4b1d8177acc9cbab76e5%20%3D%20L.popup%28%7B%22maxWidth%22%3A%20%22100%25%22%7D%29%3B%0A%0A%20%20%20%20%20%20%20%20%0A%20%20%20%20%20%20%20%20%20%20%20%20var%20html_1b9a1ce30756418e9bc62afa8bc94d5c%20%3D%20%24%28%60%3Cdiv%20id%3D%22html_1b9a1ce30756418e9bc62afa8bc94d5c%22%20style%3D%22width%3A%20100.0%25%3B%20height%3A%20100.0%25%3B%22%3ESERVICIOS%20GASOLINEROS%20DE%20MEXICO%2C%20S.A.%20DE%20C.V.%20Regular%3A%2023.29%20Premium%3A%2025.39%20Diesel%3A%20nan%3C/div%3E%60%29%5B0%5D%3B%0A%20%20%20%20%20%20%20%20%20%20%20%20popup_ce37fc657dfb4b1d8177acc9cbab76e5.setContent%28html_1b9a1ce30756418e9bc62afa8bc94d5c%29%3B%0A%20%20%20%20%20%20%20%20%0A%0A%20%20%20%20%20%20%20%20marker_f778cd11fece4dee8dc1bc655cb4a034.bindPopup%28popup_ce37fc657dfb4b1d8177acc9cbab76e5%29%0A%20%20%20%20%20%20%20%20%3B%0A%0A%20%20%20%20%20%20%20%20%0A%20%20%20%20%0A%20%20%20%20%0A%20%20%20%20%20%20%20%20%20%20%20%20var%20marker_ba6eaf7328a8467ab7c52225588aa46d%20%3D%20L.marker%28%0A%20%20%20%20%20%20%20%20%20%20%20%20%20%20%20%20%5B25.69621%2C%20-100.325%5D%2C%0A%20%20%20%20%20%20%20%20%20%20%20%20%20%20%20%20%7B%7D%0A%20%20%20%20%20%20%20%20%20%20%20%20%29.addTo%28map_69c4093c35c84510a66873cc690378b6%29%3B%0A%20%20%20%20%20%20%20%20%0A%20%20%20%20%0A%20%20%20%20%20%20%20%20%20%20%20%20var%20icon_a8562f4345d34d0290db06e83ac267d2%20%3D%20L.AwesomeMarkers.icon%28%0A%20%20%20%20%20%20%20%20%20%20%20%20%20%20%20%20%7B%22extraClasses%22%3A%20%22fa-rotate-0%22%2C%20%22icon%22%3A%20%22info-sign%22%2C%20%22iconColor%22%3A%20%22white%22%2C%20%22markerColor%22%3A%20%22blue%22%2C%20%22prefix%22%3A%20%22glyphicon%22%7D%0A%20%20%20%20%20%20%20%20%20%20%20%20%29%3B%0A%20%20%20%20%20%20%20%20%20%20%20%20marker_ba6eaf7328a8467ab7c52225588aa46d.setIcon%28icon_a8562f4345d34d0290db06e83ac267d2%29%3B%0A%20%20%20%20%20%20%20%20%0A%20%20%20%20%0A%20%20%20%20%20%20%20%20var%20popup_f84f5d9f3f404bf8b4d6e9702d05032c%20%3D%20L.popup%28%7B%22maxWidth%22%3A%20%22100%25%22%7D%29%3B%0A%0A%20%20%20%20%20%20%20%20%0A%20%20%20%20%20%20%20%20%20%20%20%20var%20html_6b41e0fef9fe42bd93c3a14addb4e291%20%3D%20%24%28%60%3Cdiv%20id%3D%22html_6b41e0fef9fe42bd93c3a14addb4e291%22%20style%3D%22width%3A%20100.0%25%3B%20height%3A%20100.0%25%3B%22%3ESERVICIO%20BERNARDO%20REYES%2C%20S.A.%20DE%20C.V.%20Regular%3A%2021.98%20Premium%3A%2025.09%20Diesel%3A%2023.38%3C/div%3E%60%29%5B0%5D%3B%0A%20%20%20%20%20%20%20%20%20%20%20%20popup_f84f5d9f3f404bf8b4d6e9702d05032c.setContent%28html_6b41e0fef9fe42bd93c3a14addb4e291%29%3B%0A%20%20%20%20%20%20%20%20%0A%0A%20%20%20%20%20%20%20%20marker_ba6eaf7328a8467ab7c52225588aa46d.bindPopup%28popup_f84f5d9f3f404bf8b4d6e9702d05032c%29%0A%20%20%20%20%20%20%20%20%3B%0A%0A%20%20%20%20%20%20%20%20%0A%20%20%20%20%0A%20%20%20%20%0A%20%20%20%20%20%20%20%20%20%20%20%20var%20marker_ba1e17389f2f48b99aff272c47689bce%20%3D%20L.marker%28%0A%20%20%20%20%20%20%20%20%20%20%20%20%20%20%20%20%5B25.68884%2C%20-100.3164%5D%2C%0A%20%20%20%20%20%20%20%20%20%20%20%20%20%20%20%20%7B%7D%0A%20%20%20%20%20%20%20%20%20%20%20%20%29.addTo%28map_69c4093c35c84510a66873cc690378b6%29%3B%0A%20%20%20%20%20%20%20%20%0A%20%20%20%20%0A%20%20%20%20%20%20%20%20%20%20%20%20var%20icon_c7d83c4593704a658a0b395793c0082d%20%3D%20L.AwesomeMarkers.icon%28%0A%20%20%20%20%20%20%20%20%20%20%20%20%20%20%20%20%7B%22extraClasses%22%3A%20%22fa-rotate-0%22%2C%20%22icon%22%3A%20%22info-sign%22%2C%20%22iconColor%22%3A%20%22white%22%2C%20%22markerColor%22%3A%20%22blue%22%2C%20%22prefix%22%3A%20%22glyphicon%22%7D%0A%20%20%20%20%20%20%20%20%20%20%20%20%29%3B%0A%20%20%20%20%20%20%20%20%20%20%20%20marker_ba1e17389f2f48b99aff272c47689bce.setIcon%28icon_c7d83c4593704a658a0b395793c0082d%29%3B%0A%20%20%20%20%20%20%20%20%0A%20%20%20%20%0A%20%20%20%20%20%20%20%20var%20popup_0fb7410c2dad4e9eb32fc9b4127fbc7a%20%3D%20L.popup%28%7B%22maxWidth%22%3A%20%22100%25%22%7D%29%3B%0A%0A%20%20%20%20%20%20%20%20%0A%20%20%20%20%20%20%20%20%20%20%20%20var%20html_403f5a9906db4b2782c4a9e198a35806%20%3D%20%24%28%60%3Cdiv%20id%3D%22html_403f5a9906db4b2782c4a9e198a35806%22%20style%3D%22width%3A%20100.0%25%3B%20height%3A%20100.0%25%3B%22%3EGAS%20NUEVO%20MILENIO%20S.A.%20DE%20C.V.%20Regular%3A%2023.29%20Premium%3A%2025.39%20Diesel%3A%20nan%3C/div%3E%60%29%5B0%5D%3B%0A%20%20%20%20%20%20%20%20%20%20%20%20popup_0fb7410c2dad4e9eb32fc9b4127fbc7a.setContent%28html_403f5a9906db4b2782c4a9e198a35806%29%3B%0A%20%20%20%20%20%20%20%20%0A%0A%20%20%20%20%20%20%20%20marker_ba1e17389f2f48b99aff272c47689bce.bindPopup%28popup_0fb7410c2dad4e9eb32fc9b4127fbc7a%29%0A%20%20%20%20%20%20%20%20%3B%0A%0A%20%20%20%20%20%20%20%20%0A%20%20%20%20%0A%20%20%20%20%0A%20%20%20%20%20%20%20%20%20%20%20%20var%20marker_215dfae9fa7543b098b4d90abcc98d50%20%3D%20L.marker%28%0A%20%20%20%20%20%20%20%20%20%20%20%20%20%20%20%20%5B25.70392%2C%20-100.3196%5D%2C%0A%20%20%20%20%20%20%20%20%20%20%20%20%20%20%20%20%7B%7D%0A%20%20%20%20%20%20%20%20%20%20%20%20%29.addTo%28map_69c4093c35c84510a66873cc690378b6%29%3B%0A%20%20%20%20%20%20%20%20%0A%20%20%20%20%0A%20%20%20%20%20%20%20%20%20%20%20%20var%20icon_56e3509b80c44e88bfa45b59989f9bb3%20%3D%20L.AwesomeMarkers.icon%28%0A%20%20%20%20%20%20%20%20%20%20%20%20%20%20%20%20%7B%22extraClasses%22%3A%20%22fa-rotate-0%22%2C%20%22icon%22%3A%20%22info-sign%22%2C%20%22iconColor%22%3A%20%22white%22%2C%20%22markerColor%22%3A%20%22blue%22%2C%20%22prefix%22%3A%20%22glyphicon%22%7D%0A%20%20%20%20%20%20%20%20%20%20%20%20%29%3B%0A%20%20%20%20%20%20%20%20%20%20%20%20marker_215dfae9fa7543b098b4d90abcc98d50.setIcon%28icon_56e3509b80c44e88bfa45b59989f9bb3%29%3B%0A%20%20%20%20%20%20%20%20%0A%20%20%20%20%0A%20%20%20%20%20%20%20%20var%20popup_cae3c3897a384ce4af1e6a19d54020bc%20%3D%20L.popup%28%7B%22maxWidth%22%3A%20%22100%25%22%7D%29%3B%0A%0A%20%20%20%20%20%20%20%20%0A%20%20%20%20%20%20%20%20%20%20%20%20var%20html_fe7be2623d7940439524ab11135d1f9b%20%3D%20%24%28%60%3Cdiv%20id%3D%22html_fe7be2623d7940439524ab11135d1f9b%22%20style%3D%22width%3A%20100.0%25%3B%20height%3A%20100.0%25%3B%22%3EPETROMAX%2C%20S.A.%20DE%20C.V.%20Regular%3A%2021.99%20Premium%3A%2025.39%20Diesel%3A%20nan%3C/div%3E%60%29%5B0%5D%3B%0A%20%20%20%20%20%20%20%20%20%20%20%20popup_cae3c3897a384ce4af1e6a19d54020bc.setContent%28html_fe7be2623d7940439524ab11135d1f9b%29%3B%0A%20%20%20%20%20%20%20%20%0A%0A%20%20%20%20%20%20%20%20marker_215dfae9fa7543b098b4d90abcc98d50.bindPopup%28popup_cae3c3897a384ce4af1e6a19d54020bc%29%0A%20%20%20%20%20%20%20%20%3B%0A%0A%20%20%20%20%20%20%20%20%0A%20%20%20%20%0A%20%20%20%20%0A%20%20%20%20%20%20%20%20%20%20%20%20var%20marker_8a5ec4a86c1549ee9b5b0a052758371b%20%3D%20L.marker%28%0A%20%20%20%20%20%20%20%20%20%20%20%20%20%20%20%20%5B25.69972%2C%20-100.3248%5D%2C%0A%20%20%20%20%20%20%20%20%20%20%20%20%20%20%20%20%7B%7D%0A%20%20%20%20%20%20%20%20%20%20%20%20%29.addTo%28map_69c4093c35c84510a66873cc690378b6%29%3B%0A%20%20%20%20%20%20%20%20%0A%20%20%20%20%0A%20%20%20%20%20%20%20%20%20%20%20%20var%20icon_58a0918293cf446bbb3fb4d0c4a5623d%20%3D%20L.AwesomeMarkers.icon%28%0A%20%20%20%20%20%20%20%20%20%20%20%20%20%20%20%20%7B%22extraClasses%22%3A%20%22fa-rotate-0%22%2C%20%22icon%22%3A%20%22info-sign%22%2C%20%22iconColor%22%3A%20%22white%22%2C%20%22markerColor%22%3A%20%22blue%22%2C%20%22prefix%22%3A%20%22glyphicon%22%7D%0A%20%20%20%20%20%20%20%20%20%20%20%20%29%3B%0A%20%20%20%20%20%20%20%20%20%20%20%20marker_8a5ec4a86c1549ee9b5b0a052758371b.setIcon%28icon_58a0918293cf446bbb3fb4d0c4a5623d%29%3B%0A%20%20%20%20%20%20%20%20%0A%20%20%20%20%0A%20%20%20%20%20%20%20%20var%20popup_51e0e3ba9eda4e2689520a3cf85d4c72%20%3D%20L.popup%28%7B%22maxWidth%22%3A%20%22100%25%22%7D%29%3B%0A%0A%20%20%20%20%20%20%20%20%0A%20%20%20%20%20%20%20%20%20%20%20%20var%20html_ae4ee57e473b441fa0ee8be52992c40b%20%3D%20%24%28%60%3Cdiv%20id%3D%22html_ae4ee57e473b441fa0ee8be52992c40b%22%20style%3D%22width%3A%20100.0%25%3B%20height%3A%20100.0%25%3B%22%3ESERVICIOS%20CHIMABEL%2C%20S.A.%20DE%20C.V.%20Regular%3A%2021.99%20Premium%3A%2025.16%20Diesel%3A%2019.7%3C/div%3E%60%29%5B0%5D%3B%0A%20%20%20%20%20%20%20%20%20%20%20%20popup_51e0e3ba9eda4e2689520a3cf85d4c72.setContent%28html_ae4ee57e473b441fa0ee8be52992c40b%29%3B%0A%20%20%20%20%20%20%20%20%0A%0A%20%20%20%20%20%20%20%20marker_8a5ec4a86c1549ee9b5b0a052758371b.bindPopup%28popup_51e0e3ba9eda4e2689520a3cf85d4c72%29%0A%20%20%20%20%20%20%20%20%3B%0A%0A%20%20%20%20%20%20%20%20%0A%20%20%20%20%0A%20%20%20%20%0A%20%20%20%20%20%20%20%20%20%20%20%20var%20marker_2ebd128ab2fc457eb73c2896ba9207e1%20%3D%20L.marker%28%0A%20%20%20%20%20%20%20%20%20%20%20%20%20%20%20%20%5B25.70643%2C%20-100.3143%5D%2C%0A%20%20%20%20%20%20%20%20%20%20%20%20%20%20%20%20%7B%7D%0A%20%20%20%20%20%20%20%20%20%20%20%20%29.addTo%28map_69c4093c35c84510a66873cc690378b6%29%3B%0A%20%20%20%20%20%20%20%20%0A%20%20%20%20%0A%20%20%20%20%20%20%20%20%20%20%20%20var%20icon_c510568acac44843918d2a61ab7a30f1%20%3D%20L.AwesomeMarkers.icon%28%0A%20%20%20%20%20%20%20%20%20%20%20%20%20%20%20%20%7B%22extraClasses%22%3A%20%22fa-rotate-0%22%2C%20%22icon%22%3A%20%22info-sign%22%2C%20%22iconColor%22%3A%20%22white%22%2C%20%22markerColor%22%3A%20%22blue%22%2C%20%22prefix%22%3A%20%22glyphicon%22%7D%0A%20%20%20%20%20%20%20%20%20%20%20%20%29%3B%0A%20%20%20%20%20%20%20%20%20%20%20%20marker_2ebd128ab2fc457eb73c2896ba9207e1.setIcon%28icon_c510568acac44843918d2a61ab7a30f1%29%3B%0A%20%20%20%20%20%20%20%20%0A%20%20%20%20%0A%20%20%20%20%20%20%20%20var%20popup_d2c8fd6ac4154f2882ea48ac41d00aea%20%3D%20L.popup%28%7B%22maxWidth%22%3A%20%22100%25%22%7D%29%3B%0A%0A%20%20%20%20%20%20%20%20%0A%20%20%20%20%20%20%20%20%20%20%20%20var%20html_b4dd91e46fa24ff1a40e76a6f4f9932d%20%3D%20%24%28%60%3Cdiv%20id%3D%22html_b4dd91e46fa24ff1a40e76a6f4f9932d%22%20style%3D%22width%3A%20100.0%25%3B%20height%3A%20100.0%25%3B%22%3ESERVICIOS%20GASOLINEROS%20DE%20MEXICO%2C%20S.A.%20DE%20C.V.%20Regular%3A%2023.29%20Premium%3A%2025.39%20Diesel%3A%20nan%3C/div%3E%60%29%5B0%5D%3B%0A%20%20%20%20%20%20%20%20%20%20%20%20popup_d2c8fd6ac4154f2882ea48ac41d00aea.setContent%28html_b4dd91e46fa24ff1a40e76a6f4f9932d%29%3B%0A%20%20%20%20%20%20%20%20%0A%0A%20%20%20%20%20%20%20%20marker_2ebd128ab2fc457eb73c2896ba9207e1.bindPopup%28popup_d2c8fd6ac4154f2882ea48ac41d00aea%29%0A%20%20%20%20%20%20%20%20%3B%0A%0A%20%20%20%20%20%20%20%20%0A%20%20%20%20%0A%20%20%20%20%0A%20%20%20%20%20%20%20%20%20%20%20%20var%20marker_de8a6dc3215347ec82ab7e9c4cb3b520%20%3D%20L.marker%28%0A%20%20%20%20%20%20%20%20%20%20%20%20%20%20%20%20%5B25.68669%2C%20-100.3123%5D%2C%0A%20%20%20%20%20%20%20%20%20%20%20%20%20%20%20%20%7B%7D%0A%20%20%20%20%20%20%20%20%20%20%20%20%29.addTo%28map_69c4093c35c84510a66873cc690378b6%29%3B%0A%20%20%20%20%20%20%20%20%0A%20%20%20%20%0A%20%20%20%20%20%20%20%20%20%20%20%20var%20icon_b109b36a31de4d8f9ef9b61228dba7d8%20%3D%20L.AwesomeMarkers.icon%28%0A%20%20%20%20%20%20%20%20%20%20%20%20%20%20%20%20%7B%22extraClasses%22%3A%20%22fa-rotate-0%22%2C%20%22icon%22%3A%20%22info-sign%22%2C%20%22iconColor%22%3A%20%22white%22%2C%20%22markerColor%22%3A%20%22blue%22%2C%20%22prefix%22%3A%20%22glyphicon%22%7D%0A%20%20%20%20%20%20%20%20%20%20%20%20%29%3B%0A%20%20%20%20%20%20%20%20%20%20%20%20marker_de8a6dc3215347ec82ab7e9c4cb3b520.setIcon%28icon_b109b36a31de4d8f9ef9b61228dba7d8%29%3B%0A%20%20%20%20%20%20%20%20%0A%20%20%20%20%0A%20%20%20%20%20%20%20%20var%20popup_bbe845a58e5047fd9f08a8d32b2477ac%20%3D%20L.popup%28%7B%22maxWidth%22%3A%20%22100%25%22%7D%29%3B%0A%0A%20%20%20%20%20%20%20%20%0A%20%20%20%20%20%20%20%20%20%20%20%20var%20html_30783a70297a4401b168ce137f281bc7%20%3D%20%24%28%60%3Cdiv%20id%3D%22html_30783a70297a4401b168ce137f281bc7%22%20style%3D%22width%3A%20100.0%25%3B%20height%3A%20100.0%25%3B%22%3ESERVICIOS%20GASOLINEROS%20DE%20MEXICO%2C%20S.A.%20DE%20C.V.%20Regular%3A%2023.29%20Premium%3A%2025.39%20Diesel%3A%20nan%3C/div%3E%60%29%5B0%5D%3B%0A%20%20%20%20%20%20%20%20%20%20%20%20popup_bbe845a58e5047fd9f08a8d32b2477ac.setContent%28html_30783a70297a4401b168ce137f281bc7%29%3B%0A%20%20%20%20%20%20%20%20%0A%0A%20%20%20%20%20%20%20%20marker_de8a6dc3215347ec82ab7e9c4cb3b520.bindPopup%28popup_bbe845a58e5047fd9f08a8d32b2477ac%29%0A%20%20%20%20%20%20%20%20%3B%0A%0A%20%20%20%20%20%20%20%20%0A%20%20%20%20%0A%20%20%20%20%0A%20%20%20%20%20%20%20%20%20%20%20%20var%20marker_aeb8949acb0245968cdc4899ff3c4636%20%3D%20L.marker%28%0A%20%20%20%20%20%20%20%20%20%20%20%20%20%20%20%20%5B25.70564%2C%20-100.3099%5D%2C%0A%20%20%20%20%20%20%20%20%20%20%20%20%20%20%20%20%7B%7D%0A%20%20%20%20%20%20%20%20%20%20%20%20%29.addTo%28map_69c4093c35c84510a66873cc690378b6%29%3B%0A%20%20%20%20%20%20%20%20%0A%20%20%20%20%0A%20%20%20%20%20%20%20%20%20%20%20%20var%20icon_9716d8454fc44d31a2f57f0946aea1de%20%3D%20L.AwesomeMarkers.icon%28%0A%20%20%20%20%20%20%20%20%20%20%20%20%20%20%20%20%7B%22extraClasses%22%3A%20%22fa-rotate-0%22%2C%20%22icon%22%3A%20%22info-sign%22%2C%20%22iconColor%22%3A%20%22white%22%2C%20%22markerColor%22%3A%20%22blue%22%2C%20%22prefix%22%3A%20%22glyphicon%22%7D%0A%20%20%20%20%20%20%20%20%20%20%20%20%29%3B%0A%20%20%20%20%20%20%20%20%20%20%20%20marker_aeb8949acb0245968cdc4899ff3c4636.setIcon%28icon_9716d8454fc44d31a2f57f0946aea1de%29%3B%0A%20%20%20%20%20%20%20%20%0A%20%20%20%20%0A%20%20%20%20%20%20%20%20var%20popup_af712311d83947109a037dcd1018671f%20%3D%20L.popup%28%7B%22maxWidth%22%3A%20%22100%25%22%7D%29%3B%0A%0A%20%20%20%20%20%20%20%20%0A%20%20%20%20%20%20%20%20%20%20%20%20var%20html_b89135ca5bda4909911467a603ed278e%20%3D%20%24%28%60%3Cdiv%20id%3D%22html_b89135ca5bda4909911467a603ed278e%22%20style%3D%22width%3A%20100.0%25%3B%20height%3A%20100.0%25%3B%22%3ESERVICIO%20EN%20GUERRERO%20NORTE%20SA%20DE%20CV%20%20Regular%3A%2023.0%20Premium%3A%2025.0%20Diesel%3A%2023.5%3C/div%3E%60%29%5B0%5D%3B%0A%20%20%20%20%20%20%20%20%20%20%20%20popup_af712311d83947109a037dcd1018671f.setContent%28html_b89135ca5bda4909911467a603ed278e%29%3B%0A%20%20%20%20%20%20%20%20%0A%0A%20%20%20%20%20%20%20%20marker_aeb8949acb0245968cdc4899ff3c4636.bindPopup%28popup_af712311d83947109a037dcd1018671f%29%0A%20%20%20%20%20%20%20%20%3B%0A%0A%20%20%20%20%20%20%20%20%0A%20%20%20%20%0A%20%20%20%20%0A%20%20%20%20%20%20%20%20%20%20%20%20var%20marker_e3f64a5d7a1e44eca0f0294f2aeb77f4%20%3D%20L.marker%28%0A%20%20%20%20%20%20%20%20%20%20%20%20%20%20%20%20%5B25.68647%2C%20-100.3233%5D%2C%0A%20%20%20%20%20%20%20%20%20%20%20%20%20%20%20%20%7B%7D%0A%20%20%20%20%20%20%20%20%20%20%20%20%29.addTo%28map_69c4093c35c84510a66873cc690378b6%29%3B%0A%20%20%20%20%20%20%20%20%0A%20%20%20%20%0A%20%20%20%20%20%20%20%20%20%20%20%20var%20icon_01ada79706e743c59e07f757263a8772%20%3D%20L.AwesomeMarkers.icon%28%0A%20%20%20%20%20%20%20%20%20%20%20%20%20%20%20%20%7B%22extraClasses%22%3A%20%22fa-rotate-0%22%2C%20%22icon%22%3A%20%22info-sign%22%2C%20%22iconColor%22%3A%20%22white%22%2C%20%22markerColor%22%3A%20%22blue%22%2C%20%22prefix%22%3A%20%22glyphicon%22%7D%0A%20%20%20%20%20%20%20%20%20%20%20%20%29%3B%0A%20%20%20%20%20%20%20%20%20%20%20%20marker_e3f64a5d7a1e44eca0f0294f2aeb77f4.setIcon%28icon_01ada79706e743c59e07f757263a8772%29%3B%0A%20%20%20%20%20%20%20%20%0A%20%20%20%20%0A%20%20%20%20%20%20%20%20var%20popup_00ddf0a766894ec7905b7cc29149c7c1%20%3D%20L.popup%28%7B%22maxWidth%22%3A%20%22100%25%22%7D%29%3B%0A%0A%20%20%20%20%20%20%20%20%0A%20%20%20%20%20%20%20%20%20%20%20%20var%20html_6ff051440163407c815265834cba7b4e%20%3D%20%24%28%60%3Cdiv%20id%3D%22html_6ff051440163407c815265834cba7b4e%22%20style%3D%22width%3A%20100.0%25%3B%20height%3A%20100.0%25%3B%22%3ESERVICIOS%20GASOLINEROS%20DE%20MEXICO%2C%20S.A.%20DE%20C.V.%20Regular%3A%2023.29%20Premium%3A%2025.39%20Diesel%3A%2023.39%3C/div%3E%60%29%5B0%5D%3B%0A%20%20%20%20%20%20%20%20%20%20%20%20popup_00ddf0a766894ec7905b7cc29149c7c1.setContent%28html_6ff051440163407c815265834cba7b4e%29%3B%0A%20%20%20%20%20%20%20%20%0A%0A%20%20%20%20%20%20%20%20marker_e3f64a5d7a1e44eca0f0294f2aeb77f4.bindPopup%28popup_00ddf0a766894ec7905b7cc29149c7c1%29%0A%20%20%20%20%20%20%20%20%3B%0A%0A%20%20%20%20%20%20%20%20%0A%20%20%20%20%0A%20%20%20%20%0A%20%20%20%20%20%20%20%20%20%20%20%20var%20marker_3d78ce162b6a4846813a6de4ae485e1e%20%3D%20L.marker%28%0A%20%20%20%20%20%20%20%20%20%20%20%20%20%20%20%20%5B25.68346%2C%20-100.3162%5D%2C%0A%20%20%20%20%20%20%20%20%20%20%20%20%20%20%20%20%7B%7D%0A%20%20%20%20%20%20%20%20%20%20%20%20%29.addTo%28map_69c4093c35c84510a66873cc690378b6%29%3B%0A%20%20%20%20%20%20%20%20%0A%20%20%20%20%0A%20%20%20%20%20%20%20%20%20%20%20%20var%20icon_2e9b5a63707f4d279e82a87d2219438a%20%3D%20L.AwesomeMarkers.icon%28%0A%20%20%20%20%20%20%20%20%20%20%20%20%20%20%20%20%7B%22extraClasses%22%3A%20%22fa-rotate-0%22%2C%20%22icon%22%3A%20%22info-sign%22%2C%20%22iconColor%22%3A%20%22white%22%2C%20%22markerColor%22%3A%20%22blue%22%2C%20%22prefix%22%3A%20%22glyphicon%22%7D%0A%20%20%20%20%20%20%20%20%20%20%20%20%29%3B%0A%20%20%20%20%20%20%20%20%20%20%20%20marker_3d78ce162b6a4846813a6de4ae485e1e.setIcon%28icon_2e9b5a63707f4d279e82a87d2219438a%29%3B%0A%20%20%20%20%20%20%20%20%0A%20%20%20%20%0A%20%20%20%20%20%20%20%20var%20popup_929a133d99ad450ca58438b300db097e%20%3D%20L.popup%28%7B%22maxWidth%22%3A%20%22100%25%22%7D%29%3B%0A%0A%20%20%20%20%20%20%20%20%0A%20%20%20%20%20%20%20%20%20%20%20%20var%20html_2ce5c316b11b46c1960f72846615a0dc%20%3D%20%24%28%60%3Cdiv%20id%3D%22html_2ce5c316b11b46c1960f72846615a0dc%22%20style%3D%22width%3A%20100.0%25%3B%20height%3A%20100.0%25%3B%22%3ESERVICIOS%20GASOLINEROS%20DE%20MEXICO%2C%20S.A.%20DE%20C.V.%20Regular%3A%2023.29%20Premium%3A%2025.39%20Diesel%3A%2023.39%3C/div%3E%60%29%5B0%5D%3B%0A%20%20%20%20%20%20%20%20%20%20%20%20popup_929a133d99ad450ca58438b300db097e.setContent%28html_2ce5c316b11b46c1960f72846615a0dc%29%3B%0A%20%20%20%20%20%20%20%20%0A%0A%20%20%20%20%20%20%20%20marker_3d78ce162b6a4846813a6de4ae485e1e.bindPopup%28popup_929a133d99ad450ca58438b300db097e%29%0A%20%20%20%20%20%20%20%20%3B%0A%0A%20%20%20%20%20%20%20%20%0A%20%20%20%20%0A%20%20%20%20%0A%20%20%20%20%20%20%20%20%20%20%20%20var%20marker_38da450863214ef7bd332e30e0900923%20%3D%20L.marker%28%0A%20%20%20%20%20%20%20%20%20%20%20%20%20%20%20%20%5B25.7081%2C%20-100.3097%5D%2C%0A%20%20%20%20%20%20%20%20%20%20%20%20%20%20%20%20%7B%7D%0A%20%20%20%20%20%20%20%20%20%20%20%20%29.addTo%28map_69c4093c35c84510a66873cc690378b6%29%3B%0A%20%20%20%20%20%20%20%20%0A%20%20%20%20%0A%20%20%20%20%20%20%20%20%20%20%20%20var%20icon_902626c385a4453cbb354d1dc556c4cd%20%3D%20L.AwesomeMarkers.icon%28%0A%20%20%20%20%20%20%20%20%20%20%20%20%20%20%20%20%7B%22extraClasses%22%3A%20%22fa-rotate-0%22%2C%20%22icon%22%3A%20%22info-sign%22%2C%20%22iconColor%22%3A%20%22white%22%2C%20%22markerColor%22%3A%20%22lightgreen%22%2C%20%22prefix%22%3A%20%22glyphicon%22%7D%0A%20%20%20%20%20%20%20%20%20%20%20%20%29%3B%0A%20%20%20%20%20%20%20%20%20%20%20%20marker_38da450863214ef7bd332e30e0900923.setIcon%28icon_902626c385a4453cbb354d1dc556c4cd%29%3B%0A%20%20%20%20%20%20%20%20%0A%20%20%20%20%0A%20%20%20%20%20%20%20%20var%20popup_a8583cd142394de7ac6355755e54e7a7%20%3D%20L.popup%28%7B%22maxWidth%22%3A%20%22100%25%22%7D%29%3B%0A%0A%20%20%20%20%20%20%20%20%0A%20%20%20%20%20%20%20%20%20%20%20%20var%20html_60f6812672454efba176f2b0ec6ff277%20%3D%20%24%28%60%3Cdiv%20id%3D%22html_60f6812672454efba176f2b0ec6ff277%22%20style%3D%22width%3A%20100.0%25%3B%20height%3A%20100.0%25%3B%22%3EENERGETICOS%20PARA%20TODOS%20S.%20A.%20DE%20C.%20V.%20Regular%3A%2019.91%20Premium%3A%2021.45%20Diesel%3A%2018.8%3C/div%3E%60%29%5B0%5D%3B%0A%20%20%20%20%20%20%20%20%20%20%20%20popup_a8583cd142394de7ac6355755e54e7a7.setContent%28html_60f6812672454efba176f2b0ec6ff277%29%3B%0A%20%20%20%20%20%20%20%20%0A%0A%20%20%20%20%20%20%20%20marker_38da450863214ef7bd332e30e0900923.bindPopup%28popup_a8583cd142394de7ac6355755e54e7a7%29%0A%20%20%20%20%20%20%20%20%3B%0A%0A%20%20%20%20%20%20%20%20%0A%20%20%20%20%0A%20%20%20%20%0A%20%20%20%20%20%20%20%20%20%20%20%20var%20marker_6477853725064429a670591af7ff70c6%20%3D%20L.marker%28%0A%20%20%20%20%20%20%20%20%20%20%20%20%20%20%20%20%5B25.68335%2C%20-100.3126%5D%2C%0A%20%20%20%20%20%20%20%20%20%20%20%20%20%20%20%20%7B%7D%0A%20%20%20%20%20%20%20%20%20%20%20%20%29.addTo%28map_69c4093c35c84510a66873cc690378b6%29%3B%0A%20%20%20%20%20%20%20%20%0A%20%20%20%20%0A%20%20%20%20%20%20%20%20%20%20%20%20var%20icon_5cd4541cb46d40d3a7419b3a0b653fc4%20%3D%20L.AwesomeMarkers.icon%28%0A%20%20%20%20%20%20%20%20%20%20%20%20%20%20%20%20%7B%22extraClasses%22%3A%20%22fa-rotate-0%22%2C%20%22icon%22%3A%20%22info-sign%22%2C%20%22iconColor%22%3A%20%22white%22%2C%20%22markerColor%22%3A%20%22blue%22%2C%20%22prefix%22%3A%20%22glyphicon%22%7D%0A%20%20%20%20%20%20%20%20%20%20%20%20%29%3B%0A%20%20%20%20%20%20%20%20%20%20%20%20marker_6477853725064429a670591af7ff70c6.setIcon%28icon_5cd4541cb46d40d3a7419b3a0b653fc4%29%3B%0A%20%20%20%20%20%20%20%20%0A%20%20%20%20%0A%20%20%20%20%20%20%20%20var%20popup_e14d4624621e45de8f95d1517388c407%20%3D%20L.popup%28%7B%22maxWidth%22%3A%20%22100%25%22%7D%29%3B%0A%0A%20%20%20%20%20%20%20%20%0A%20%20%20%20%20%20%20%20%20%20%20%20var%20html_836db8646e544c9da028acd2d2308d0c%20%3D%20%24%28%60%3Cdiv%20id%3D%22html_836db8646e544c9da028acd2d2308d0c%22%20style%3D%22width%3A%20100.0%25%3B%20height%3A%20100.0%25%3B%22%3EJESUS%20AGUIRRE%20VEGA%20Regular%3A%2021.98%20Premium%3A%2025.09%20Diesel%3A%20nan%3C/div%3E%60%29%5B0%5D%3B%0A%20%20%20%20%20%20%20%20%20%20%20%20popup_e14d4624621e45de8f95d1517388c407.setContent%28html_836db8646e544c9da028acd2d2308d0c%29%3B%0A%20%20%20%20%20%20%20%20%0A%0A%20%20%20%20%20%20%20%20marker_6477853725064429a670591af7ff70c6.bindPopup%28popup_e14d4624621e45de8f95d1517388c407%29%0A%20%20%20%20%20%20%20%20%3B%0A%0A%20%20%20%20%20%20%20%20%0A%20%20%20%20%0A%20%20%20%20%0A%20%20%20%20%20%20%20%20%20%20%20%20var%20marker_9af2f3f0c44a4fe8a591f7b5d999e4cb%20%3D%20L.marker%28%0A%20%20%20%20%20%20%20%20%20%20%20%20%20%20%20%20%5B25.70356%2C%20-100.3035%5D%2C%0A%20%20%20%20%20%20%20%20%20%20%20%20%20%20%20%20%7B%7D%0A%20%20%20%20%20%20%20%20%20%20%20%20%29.addTo%28map_69c4093c35c84510a66873cc690378b6%29%3B%0A%20%20%20%20%20%20%20%20%0A%20%20%20%20%0A%20%20%20%20%20%20%20%20%20%20%20%20var%20icon_6e8508d7bd5343bead4d4441845e689c%20%3D%20L.AwesomeMarkers.icon%28%0A%20%20%20%20%20%20%20%20%20%20%20%20%20%20%20%20%7B%22extraClasses%22%3A%20%22fa-rotate-0%22%2C%20%22icon%22%3A%20%22info-sign%22%2C%20%22iconColor%22%3A%20%22white%22%2C%20%22markerColor%22%3A%20%22blue%22%2C%20%22prefix%22%3A%20%22glyphicon%22%7D%0A%20%20%20%20%20%20%20%20%20%20%20%20%29%3B%0A%20%20%20%20%20%20%20%20%20%20%20%20marker_9af2f3f0c44a4fe8a591f7b5d999e4cb.setIcon%28icon_6e8508d7bd5343bead4d4441845e689c%29%3B%0A%20%20%20%20%20%20%20%20%0A%20%20%20%20%0A%20%20%20%20%20%20%20%20var%20popup_13e43eca45cf4a228f245de88e429128%20%3D%20L.popup%28%7B%22maxWidth%22%3A%20%22100%25%22%7D%29%3B%0A%0A%20%20%20%20%20%20%20%20%0A%20%20%20%20%20%20%20%20%20%20%20%20var%20html_8b8e8c4106e94c23b7db65f963c36501%20%3D%20%24%28%60%3Cdiv%20id%3D%22html_8b8e8c4106e94c23b7db65f963c36501%22%20style%3D%22width%3A%20100.0%25%3B%20height%3A%20100.0%25%3B%22%3ESERVICIOS%20GASOLINEROS%20DE%20MEXICO%2C%20S.A.%20DE%20C.V.%20Regular%3A%2023.29%20Premium%3A%2025.39%20Diesel%3A%2023.39%3C/div%3E%60%29%5B0%5D%3B%0A%20%20%20%20%20%20%20%20%20%20%20%20popup_13e43eca45cf4a228f245de88e429128.setContent%28html_8b8e8c4106e94c23b7db65f963c36501%29%3B%0A%20%20%20%20%20%20%20%20%0A%0A%20%20%20%20%20%20%20%20marker_9af2f3f0c44a4fe8a591f7b5d999e4cb.bindPopup%28popup_13e43eca45cf4a228f245de88e429128%29%0A%20%20%20%20%20%20%20%20%3B%0A%0A%20%20%20%20%20%20%20%20%0A%20%20%20%20%0A%20%20%20%20%0A%20%20%20%20%20%20%20%20%20%20%20%20var%20marker_28e67eb1816e4b3fb479ee870fe51df2%20%3D%20L.marker%28%0A%20%20%20%20%20%20%20%20%20%20%20%20%20%20%20%20%5B25.68581%2C%20-100.3277%5D%2C%0A%20%20%20%20%20%20%20%20%20%20%20%20%20%20%20%20%7B%7D%0A%20%20%20%20%20%20%20%20%20%20%20%20%29.addTo%28map_69c4093c35c84510a66873cc690378b6%29%3B%0A%20%20%20%20%20%20%20%20%0A%20%20%20%20%0A%20%20%20%20%20%20%20%20%20%20%20%20var%20icon_4c2f9d17b6e44d4d841c76bf9d8cce76%20%3D%20L.AwesomeMarkers.icon%28%0A%20%20%20%20%20%20%20%20%20%20%20%20%20%20%20%20%7B%22extraClasses%22%3A%20%22fa-rotate-0%22%2C%20%22icon%22%3A%20%22info-sign%22%2C%20%22iconColor%22%3A%20%22white%22%2C%20%22markerColor%22%3A%20%22blue%22%2C%20%22prefix%22%3A%20%22glyphicon%22%7D%0A%20%20%20%20%20%20%20%20%20%20%20%20%29%3B%0A%20%20%20%20%20%20%20%20%20%20%20%20marker_28e67eb1816e4b3fb479ee870fe51df2.setIcon%28icon_4c2f9d17b6e44d4d841c76bf9d8cce76%29%3B%0A%20%20%20%20%20%20%20%20%0A%20%20%20%20%0A%20%20%20%20%20%20%20%20var%20popup_bb5c3c6cb9dc4ce6bf5eda411b41033a%20%3D%20L.popup%28%7B%22maxWidth%22%3A%20%22100%25%22%7D%29%3B%0A%0A%20%20%20%20%20%20%20%20%0A%20%20%20%20%20%20%20%20%20%20%20%20var%20html_495f95080a264df88022da1c6577fccf%20%3D%20%24%28%60%3Cdiv%20id%3D%22html_495f95080a264df88022da1c6577fccf%22%20style%3D%22width%3A%20100.0%25%3B%20height%3A%20100.0%25%3B%22%3EDIANA%20BEATRIZ%20FLORES%20RODRIGUEZ%20Regular%3A%2021.99%20Premium%3A%2024.59%20Diesel%3A%2021.45%3C/div%3E%60%29%5B0%5D%3B%0A%20%20%20%20%20%20%20%20%20%20%20%20popup_bb5c3c6cb9dc4ce6bf5eda411b41033a.setContent%28html_495f95080a264df88022da1c6577fccf%29%3B%0A%20%20%20%20%20%20%20%20%0A%0A%20%20%20%20%20%20%20%20marker_28e67eb1816e4b3fb479ee870fe51df2.bindPopup%28popup_bb5c3c6cb9dc4ce6bf5eda411b41033a%29%0A%20%20%20%20%20%20%20%20%3B%0A%0A%20%20%20%20%20%20%20%20%0A%20%20%20%20%0A%20%20%20%20%0A%20%20%20%20%20%20%20%20%20%20%20%20var%20marker_f6925291e49c4165863052b613b67cfe%20%3D%20L.marker%28%0A%20%20%20%20%20%20%20%20%20%20%20%20%20%20%20%20%5B25.68691%2C%20-100.3305%5D%2C%0A%20%20%20%20%20%20%20%20%20%20%20%20%20%20%20%20%7B%7D%0A%20%20%20%20%20%20%20%20%20%20%20%20%29.addTo%28map_69c4093c35c84510a66873cc690378b6%29%3B%0A%20%20%20%20%20%20%20%20%0A%20%20%20%20%0A%20%20%20%20%20%20%20%20%20%20%20%20var%20icon_827c52828c99429fb7df27969a3f1e7a%20%3D%20L.AwesomeMarkers.icon%28%0A%20%20%20%20%20%20%20%20%20%20%20%20%20%20%20%20%7B%22extraClasses%22%3A%20%22fa-rotate-0%22%2C%20%22icon%22%3A%20%22info-sign%22%2C%20%22iconColor%22%3A%20%22white%22%2C%20%22markerColor%22%3A%20%22blue%22%2C%20%22prefix%22%3A%20%22glyphicon%22%7D%0A%20%20%20%20%20%20%20%20%20%20%20%20%29%3B%0A%20%20%20%20%20%20%20%20%20%20%20%20marker_f6925291e49c4165863052b613b67cfe.setIcon%28icon_827c52828c99429fb7df27969a3f1e7a%29%3B%0A%20%20%20%20%20%20%20%20%0A%20%20%20%20%0A%20%20%20%20%20%20%20%20var%20popup_1aed82a23d104860bb8e3335f663459e%20%3D%20L.popup%28%7B%22maxWidth%22%3A%20%22100%25%22%7D%29%3B%0A%0A%20%20%20%20%20%20%20%20%0A%20%20%20%20%20%20%20%20%20%20%20%20var%20html_40a44621b3654929bea58ec569398436%20%3D%20%24%28%60%3Cdiv%20id%3D%22html_40a44621b3654929bea58ec569398436%22%20style%3D%22width%3A%20100.0%25%3B%20height%3A%20100.0%25%3B%22%3ESERVICIOS%20GASOLINEROS%20DE%20MEXICO%2C%20S.A.%20DE%20C.V.%20Regular%3A%2023.29%20Premium%3A%2025.39%20Diesel%3A%2023.39%3C/div%3E%60%29%5B0%5D%3B%0A%20%20%20%20%20%20%20%20%20%20%20%20popup_1aed82a23d104860bb8e3335f663459e.setContent%28html_40a44621b3654929bea58ec569398436%29%3B%0A%20%20%20%20%20%20%20%20%0A%0A%20%20%20%20%20%20%20%20marker_f6925291e49c4165863052b613b67cfe.bindPopup%28popup_1aed82a23d104860bb8e3335f663459e%29%0A%20%20%20%20%20%20%20%20%3B%0A%0A%20%20%20%20%20%20%20%20%0A%20%20%20%20%0A%20%20%20%20%0A%20%20%20%20%20%20%20%20%20%20%20%20var%20marker_9ac82a6d2ed746139d8c2da09467d7f1%20%3D%20L.marker%28%0A%20%20%20%20%20%20%20%20%20%20%20%20%20%20%20%20%5B25.7044%2C%20-100.3318%5D%2C%0A%20%20%20%20%20%20%20%20%20%20%20%20%20%20%20%20%7B%7D%0A%20%20%20%20%20%20%20%20%20%20%20%20%29.addTo%28map_69c4093c35c84510a66873cc690378b6%29%3B%0A%20%20%20%20%20%20%20%20%0A%20%20%20%20%0A%20%20%20%20%20%20%20%20%20%20%20%20var%20icon_d50706dcb13a4f7f949206ba1f4ed753%20%3D%20L.AwesomeMarkers.icon%28%0A%20%20%20%20%20%20%20%20%20%20%20%20%20%20%20%20%7B%22extraClasses%22%3A%20%22fa-rotate-0%22%2C%20%22icon%22%3A%20%22info-sign%22%2C%20%22iconColor%22%3A%20%22white%22%2C%20%22markerColor%22%3A%20%22blue%22%2C%20%22prefix%22%3A%20%22glyphicon%22%7D%0A%20%20%20%20%20%20%20%20%20%20%20%20%29%3B%0A%20%20%20%20%20%20%20%20%20%20%20%20marker_9ac82a6d2ed746139d8c2da09467d7f1.setIcon%28icon_d50706dcb13a4f7f949206ba1f4ed753%29%3B%0A%20%20%20%20%20%20%20%20%0A%20%20%20%20%0A%20%20%20%20%20%20%20%20var%20popup_a9252991c57e4422ac791889860e7e1d%20%3D%20L.popup%28%7B%22maxWidth%22%3A%20%22100%25%22%7D%29%3B%0A%0A%20%20%20%20%20%20%20%20%0A%20%20%20%20%20%20%20%20%20%20%20%20var%20html_8782d8b2423f4cfeab219c3bb4754487%20%3D%20%24%28%60%3Cdiv%20id%3D%22html_8782d8b2423f4cfeab219c3bb4754487%22%20style%3D%22width%3A%20100.0%25%3B%20height%3A%20100.0%25%3B%22%3ESERVICO%20ARCO%20VIAL%2C%20S.A.%20DE%20C.V.%20Regular%3A%2021.98%20Premium%3A%2025.09%20Diesel%3A%20nan%3C/div%3E%60%29%5B0%5D%3B%0A%20%20%20%20%20%20%20%20%20%20%20%20popup_a9252991c57e4422ac791889860e7e1d.setContent%28html_8782d8b2423f4cfeab219c3bb4754487%29%3B%0A%20%20%20%20%20%20%20%20%0A%0A%20%20%20%20%20%20%20%20marker_9ac82a6d2ed746139d8c2da09467d7f1.bindPopup%28popup_a9252991c57e4422ac791889860e7e1d%29%0A%20%20%20%20%20%20%20%20%3B%0A%0A%20%20%20%20%20%20%20%20%0A%20%20%20%20%0A%20%20%20%20%0A%20%20%20%20%20%20%20%20%20%20%20%20var%20marker_72d12321a06640efad5853c9059469d6%20%3D%20L.marker%28%0A%20%20%20%20%20%20%20%20%20%20%20%20%20%20%20%20%5B25.70942%2C%20-100.3271%5D%2C%0A%20%20%20%20%20%20%20%20%20%20%20%20%20%20%20%20%7B%7D%0A%20%20%20%20%20%20%20%20%20%20%20%20%29.addTo%28map_69c4093c35c84510a66873cc690378b6%29%3B%0A%20%20%20%20%20%20%20%20%0A%20%20%20%20%0A%20%20%20%20%20%20%20%20%20%20%20%20var%20icon_d3ca148408d34392963583dd6292a437%20%3D%20L.AwesomeMarkers.icon%28%0A%20%20%20%20%20%20%20%20%20%20%20%20%20%20%20%20%7B%22extraClasses%22%3A%20%22fa-rotate-0%22%2C%20%22icon%22%3A%20%22info-sign%22%2C%20%22iconColor%22%3A%20%22white%22%2C%20%22markerColor%22%3A%20%22blue%22%2C%20%22prefix%22%3A%20%22glyphicon%22%7D%0A%20%20%20%20%20%20%20%20%20%20%20%20%29%3B%0A%20%20%20%20%20%20%20%20%20%20%20%20marker_72d12321a06640efad5853c9059469d6.setIcon%28icon_d3ca148408d34392963583dd6292a437%29%3B%0A%20%20%20%20%20%20%20%20%0A%20%20%20%20%0A%20%20%20%20%20%20%20%20var%20popup_47a47a2ffa484deba6fa38715bcf2b06%20%3D%20L.popup%28%7B%22maxWidth%22%3A%20%22100%25%22%7D%29%3B%0A%0A%20%20%20%20%20%20%20%20%0A%20%20%20%20%20%20%20%20%20%20%20%20var%20html_7b79bfb77ff84bd58121325602a3cf71%20%3D%20%24%28%60%3Cdiv%20id%3D%22html_7b79bfb77ff84bd58121325602a3cf71%22%20style%3D%22width%3A%20100.0%25%3B%20height%3A%20100.0%25%3B%22%3EESTACION%20ENERGETICA%20LOS%20ANGELES%20SA%20DE%20CV%20Regular%3A%2021.99%20Premium%3A%2025.16%20Diesel%3A%2022.99%3C/div%3E%60%29%5B0%5D%3B%0A%20%20%20%20%20%20%20%20%20%20%20%20popup_47a47a2ffa484deba6fa38715bcf2b06.setContent%28html_7b79bfb77ff84bd58121325602a3cf71%29%3B%0A%20%20%20%20%20%20%20%20%0A%0A%20%20%20%20%20%20%20%20marker_72d12321a06640efad5853c9059469d6.bindPopup%28popup_47a47a2ffa484deba6fa38715bcf2b06%29%0A%20%20%20%20%20%20%20%20%3B%0A%0A%20%20%20%20%20%20%20%20%0A%20%20%20%20%0A%20%20%20%20%0A%20%20%20%20%20%20%20%20%20%20%20%20var%20marker_091ef71e53c74239ac2391ad0236ba16%20%3D%20L.marker%28%0A%20%20%20%20%20%20%20%20%20%20%20%20%20%20%20%20%5B25.68298%2C%20-100.3067%5D%2C%0A%20%20%20%20%20%20%20%20%20%20%20%20%20%20%20%20%7B%7D%0A%20%20%20%20%20%20%20%20%20%20%20%20%29.addTo%28map_69c4093c35c84510a66873cc690378b6%29%3B%0A%20%20%20%20%20%20%20%20%0A%20%20%20%20%0A%20%20%20%20%20%20%20%20%20%20%20%20var%20icon_2d2919b7ad334942b5681c5e4b09fb7b%20%3D%20L.AwesomeMarkers.icon%28%0A%20%20%20%20%20%20%20%20%20%20%20%20%20%20%20%20%7B%22extraClasses%22%3A%20%22fa-rotate-0%22%2C%20%22icon%22%3A%20%22info-sign%22%2C%20%22iconColor%22%3A%20%22white%22%2C%20%22markerColor%22%3A%20%22blue%22%2C%20%22prefix%22%3A%20%22glyphicon%22%7D%0A%20%20%20%20%20%20%20%20%20%20%20%20%29%3B%0A%20%20%20%20%20%20%20%20%20%20%20%20marker_091ef71e53c74239ac2391ad0236ba16.setIcon%28icon_2d2919b7ad334942b5681c5e4b09fb7b%29%3B%0A%20%20%20%20%20%20%20%20%0A%20%20%20%20%0A%20%20%20%20%20%20%20%20var%20popup_8a3a9981714e4f04ab03049233649241%20%3D%20L.popup%28%7B%22maxWidth%22%3A%20%22100%25%22%7D%29%3B%0A%0A%20%20%20%20%20%20%20%20%0A%20%20%20%20%20%20%20%20%20%20%20%20var%20html_bddc7c0d43e34a0a83595af483a04c7a%20%3D%20%24%28%60%3Cdiv%20id%3D%22html_bddc7c0d43e34a0a83595af483a04c7a%22%20style%3D%22width%3A%20100.0%25%3B%20height%3A%20100.0%25%3B%22%3EGASOLINERA%20SERVICIO%20GARCIA%2C%20S.A.%20DE%20C.V.%20Regular%3A%2021.98%20Premium%3A%2025.09%20Diesel%3A%20nan%3C/div%3E%60%29%5B0%5D%3B%0A%20%20%20%20%20%20%20%20%20%20%20%20popup_8a3a9981714e4f04ab03049233649241.setContent%28html_bddc7c0d43e34a0a83595af483a04c7a%29%3B%0A%20%20%20%20%20%20%20%20%0A%0A%20%20%20%20%20%20%20%20marker_091ef71e53c74239ac2391ad0236ba16.bindPopup%28popup_8a3a9981714e4f04ab03049233649241%29%0A%20%20%20%20%20%20%20%20%3B%0A%0A%20%20%20%20%20%20%20%20%0A%20%20%20%20%0A%20%20%20%20%0A%20%20%20%20%20%20%20%20%20%20%20%20var%20marker_5216925ca0da44308a3aecbbcb75ff93%20%3D%20L.marker%28%0A%20%20%20%20%20%20%20%20%20%20%20%20%20%20%20%20%5B25.68087%2C%20-100.3223%5D%2C%0A%20%20%20%20%20%20%20%20%20%20%20%20%20%20%20%20%7B%7D%0A%20%20%20%20%20%20%20%20%20%20%20%20%29.addTo%28map_69c4093c35c84510a66873cc690378b6%29%3B%0A%20%20%20%20%20%20%20%20%0A%20%20%20%20%0A%20%20%20%20%20%20%20%20%20%20%20%20var%20icon_d524116f752b43979240861911f39ffa%20%3D%20L.AwesomeMarkers.icon%28%0A%20%20%20%20%20%20%20%20%20%20%20%20%20%20%20%20%7B%22extraClasses%22%3A%20%22fa-rotate-0%22%2C%20%22icon%22%3A%20%22info-sign%22%2C%20%22iconColor%22%3A%20%22white%22%2C%20%22markerColor%22%3A%20%22blue%22%2C%20%22prefix%22%3A%20%22glyphicon%22%7D%0A%20%20%20%20%20%20%20%20%20%20%20%20%29%3B%0A%20%20%20%20%20%20%20%20%20%20%20%20marker_5216925ca0da44308a3aecbbcb75ff93.setIcon%28icon_d524116f752b43979240861911f39ffa%29%3B%0A%20%20%20%20%20%20%20%20%0A%20%20%20%20%0A%20%20%20%20%20%20%20%20var%20popup_496b5e685af0492aa67df27bdfb48a09%20%3D%20L.popup%28%7B%22maxWidth%22%3A%20%22100%25%22%7D%29%3B%0A%0A%20%20%20%20%20%20%20%20%0A%20%20%20%20%20%20%20%20%20%20%20%20var%20html_68c58b730f264603b1807a87bb5c7c50%20%3D%20%24%28%60%3Cdiv%20id%3D%22html_68c58b730f264603b1807a87bb5c7c50%22%20style%3D%22width%3A%20100.0%25%3B%20height%3A%20100.0%25%3B%22%3EPABLO%20ESQUIVEL%20%20LAUREANO%20Regular%3A%2021.98%20Premium%3A%2025.09%20Diesel%3A%20nan%3C/div%3E%60%29%5B0%5D%3B%0A%20%20%20%20%20%20%20%20%20%20%20%20popup_496b5e685af0492aa67df27bdfb48a09.setContent%28html_68c58b730f264603b1807a87bb5c7c50%29%3B%0A%20%20%20%20%20%20%20%20%0A%0A%20%20%20%20%20%20%20%20marker_5216925ca0da44308a3aecbbcb75ff93.bindPopup%28popup_496b5e685af0492aa67df27bdfb48a09%29%0A%20%20%20%20%20%20%20%20%3B%0A%0A%20%20%20%20%20%20%20%20%0A%20%20%20%20%0A%20%20%20%20%0A%20%20%20%20%20%20%20%20%20%20%20%20var%20marker_f69f0513b8d94c29bcb09021d4d90840%20%3D%20L.marker%28%0A%20%20%20%20%20%20%20%20%20%20%20%20%20%20%20%20%5B25.67978%2C%20-100.3167%5D%2C%0A%20%20%20%20%20%20%20%20%20%20%20%20%20%20%20%20%7B%7D%0A%20%20%20%20%20%20%20%20%20%20%20%20%29.addTo%28map_69c4093c35c84510a66873cc690378b6%29%3B%0A%20%20%20%20%20%20%20%20%0A%20%20%20%20%0A%20%20%20%20%20%20%20%20%20%20%20%20var%20icon_5ad50a648fc14803983aa4c18d4b1772%20%3D%20L.AwesomeMarkers.icon%28%0A%20%20%20%20%20%20%20%20%20%20%20%20%20%20%20%20%7B%22extraClasses%22%3A%20%22fa-rotate-0%22%2C%20%22icon%22%3A%20%22info-sign%22%2C%20%22iconColor%22%3A%20%22white%22%2C%20%22markerColor%22%3A%20%22blue%22%2C%20%22prefix%22%3A%20%22glyphicon%22%7D%0A%20%20%20%20%20%20%20%20%20%20%20%20%29%3B%0A%20%20%20%20%20%20%20%20%20%20%20%20marker_f69f0513b8d94c29bcb09021d4d90840.setIcon%28icon_5ad50a648fc14803983aa4c18d4b1772%29%3B%0A%20%20%20%20%20%20%20%20%0A%20%20%20%20%0A%20%20%20%20%20%20%20%20var%20popup_3e604aeb8a994fe48736fd6189e931ea%20%3D%20L.popup%28%7B%22maxWidth%22%3A%20%22100%25%22%7D%29%3B%0A%0A%20%20%20%20%20%20%20%20%0A%20%20%20%20%20%20%20%20%20%20%20%20var%20html_c5f262aeb70e43369bb2a7ddbfa81ec8%20%3D%20%24%28%60%3Cdiv%20id%3D%22html_c5f262aeb70e43369bb2a7ddbfa81ec8%22%20style%3D%22width%3A%20100.0%25%3B%20height%3A%20100.0%25%3B%22%3ESERVICIOS%20CHIMABEL%2C%20S.A.%20DE%20C.V.%20Regular%3A%2022.39%20Premium%3A%2024.99%20Diesel%3A%2019.7%3C/div%3E%60%29%5B0%5D%3B%0A%20%20%20%20%20%20%20%20%20%20%20%20popup_3e604aeb8a994fe48736fd6189e931ea.setContent%28html_c5f262aeb70e43369bb2a7ddbfa81ec8%29%3B%0A%20%20%20%20%20%20%20%20%0A%0A%20%20%20%20%20%20%20%20marker_f69f0513b8d94c29bcb09021d4d90840.bindPopup%28popup_3e604aeb8a994fe48736fd6189e931ea%29%0A%20%20%20%20%20%20%20%20%3B%0A%0A%20%20%20%20%20%20%20%20%0A%20%20%20%20%0A%20%20%20%20%0A%20%20%20%20%20%20%20%20%20%20%20%20var%20marker_3fec0e30ee3c4fe6aaf83cf1e8ad2afa%20%3D%20L.marker%28%0A%20%20%20%20%20%20%20%20%20%20%20%20%20%20%20%20%5B25.69521%2C%20-100.2978%5D%2C%0A%20%20%20%20%20%20%20%20%20%20%20%20%20%20%20%20%7B%7D%0A%20%20%20%20%20%20%20%20%20%20%20%20%29.addTo%28map_69c4093c35c84510a66873cc690378b6%29%3B%0A%20%20%20%20%20%20%20%20%0A%20%20%20%20%0A%20%20%20%20%20%20%20%20%20%20%20%20var%20icon_effcdf45f7ad4e7b9378c4208488c782%20%3D%20L.AwesomeMarkers.icon%28%0A%20%20%20%20%20%20%20%20%20%20%20%20%20%20%20%20%7B%22extraClasses%22%3A%20%22fa-rotate-0%22%2C%20%22icon%22%3A%20%22info-sign%22%2C%20%22iconColor%22%3A%20%22white%22%2C%20%22markerColor%22%3A%20%22blue%22%2C%20%22prefix%22%3A%20%22glyphicon%22%7D%0A%20%20%20%20%20%20%20%20%20%20%20%20%29%3B%0A%20%20%20%20%20%20%20%20%20%20%20%20marker_3fec0e30ee3c4fe6aaf83cf1e8ad2afa.setIcon%28icon_effcdf45f7ad4e7b9378c4208488c782%29%3B%0A%20%20%20%20%20%20%20%20%0A%20%20%20%20%0A%20%20%20%20%20%20%20%20var%20popup_41db244d7d9141bea7b7c47e35d28663%20%3D%20L.popup%28%7B%22maxWidth%22%3A%20%22100%25%22%7D%29%3B%0A%0A%20%20%20%20%20%20%20%20%0A%20%20%20%20%20%20%20%20%20%20%20%20var%20html_f484fc54dfe24e3abe428e88b93b23f8%20%3D%20%24%28%60%3Cdiv%20id%3D%22html_f484fc54dfe24e3abe428e88b93b23f8%22%20style%3D%22width%3A%20100.0%25%3B%20height%3A%20100.0%25%3B%22%3ESERVICIOS%20GASOLINEROS%20DE%20MEXICO%2C%20S.A.%20DE%20C.V.%20Regular%3A%2023.29%20Premium%3A%2025.39%20Diesel%3A%2023.39%3C/div%3E%60%29%5B0%5D%3B%0A%20%20%20%20%20%20%20%20%20%20%20%20popup_41db244d7d9141bea7b7c47e35d28663.setContent%28html_f484fc54dfe24e3abe428e88b93b23f8%29%3B%0A%20%20%20%20%20%20%20%20%0A%0A%20%20%20%20%20%20%20%20marker_3fec0e30ee3c4fe6aaf83cf1e8ad2afa.bindPopup%28popup_41db244d7d9141bea7b7c47e35d28663%29%0A%20%20%20%20%20%20%20%20%3B%0A%0A%20%20%20%20%20%20%20%20%0A%20%20%20%20%0A%20%20%20%20%0A%20%20%20%20%20%20%20%20%20%20%20%20var%20marker_e82e28597a41471a856a79f21ab0dc40%20%3D%20L.marker%28%0A%20%20%20%20%20%20%20%20%20%20%20%20%20%20%20%20%5B25.70504%2C%20-100.3334%5D%2C%0A%20%20%20%20%20%20%20%20%20%20%20%20%20%20%20%20%7B%7D%0A%20%20%20%20%20%20%20%20%20%20%20%20%29.addTo%28map_69c4093c35c84510a66873cc690378b6%29%3B%0A%20%20%20%20%20%20%20%20%0A%20%20%20%20%0A%20%20%20%20%20%20%20%20%20%20%20%20var%20icon_47f17bf9f8c2460db17306780019c517%20%3D%20L.AwesomeMarkers.icon%28%0A%20%20%20%20%20%20%20%20%20%20%20%20%20%20%20%20%7B%22extraClasses%22%3A%20%22fa-rotate-0%22%2C%20%22icon%22%3A%20%22info-sign%22%2C%20%22iconColor%22%3A%20%22white%22%2C%20%22markerColor%22%3A%20%22blue%22%2C%20%22prefix%22%3A%20%22glyphicon%22%7D%0A%20%20%20%20%20%20%20%20%20%20%20%20%29%3B%0A%20%20%20%20%20%20%20%20%20%20%20%20marker_e82e28597a41471a856a79f21ab0dc40.setIcon%28icon_47f17bf9f8c2460db17306780019c517%29%3B%0A%20%20%20%20%20%20%20%20%0A%20%20%20%20%0A%20%20%20%20%20%20%20%20var%20popup_b9b5ed4dbefd4286821c64a7b7ea6401%20%3D%20L.popup%28%7B%22maxWidth%22%3A%20%22100%25%22%7D%29%3B%0A%0A%20%20%20%20%20%20%20%20%0A%20%20%20%20%20%20%20%20%20%20%20%20var%20html_55ff80d6e6af40b492fadb39cb9ad228%20%3D%20%24%28%60%3Cdiv%20id%3D%22html_55ff80d6e6af40b492fadb39cb9ad228%22%20style%3D%22width%3A%20100.0%25%3B%20height%3A%20100.0%25%3B%22%3EGRUPO%20GARP%20SA%20DE%20CV%20Regular%3A%2022.29%20Premium%3A%2024.34%20Diesel%3A%20nan%3C/div%3E%60%29%5B0%5D%3B%0A%20%20%20%20%20%20%20%20%20%20%20%20popup_b9b5ed4dbefd4286821c64a7b7ea6401.setContent%28html_55ff80d6e6af40b492fadb39cb9ad228%29%3B%0A%20%20%20%20%20%20%20%20%0A%0A%20%20%20%20%20%20%20%20marker_e82e28597a41471a856a79f21ab0dc40.bindPopup%28popup_b9b5ed4dbefd4286821c64a7b7ea6401%29%0A%20%20%20%20%20%20%20%20%3B%0A%0A%20%20%20%20%20%20%20%20%0A%20%20%20%20%0A%20%20%20%20%0A%20%20%20%20%20%20%20%20%20%20%20%20var%20marker_528363f45ba94bbaa7442f3f948ac535%20%3D%20L.marker%28%0A%20%20%20%20%20%20%20%20%20%20%20%20%20%20%20%20%5B25.68595%2C%20-100.3337%5D%2C%0A%20%20%20%20%20%20%20%20%20%20%20%20%20%20%20%20%7B%7D%0A%20%20%20%20%20%20%20%20%20%20%20%20%29.addTo%28map_69c4093c35c84510a66873cc690378b6%29%3B%0A%20%20%20%20%20%20%20%20%0A%20%20%20%20%0A%20%20%20%20%20%20%20%20%20%20%20%20var%20icon_83716d788a1343a2b02da5308567c1de%20%3D%20L.AwesomeMarkers.icon%28%0A%20%20%20%20%20%20%20%20%20%20%20%20%20%20%20%20%7B%22extraClasses%22%3A%20%22fa-rotate-0%22%2C%20%22icon%22%3A%20%22info-sign%22%2C%20%22iconColor%22%3A%20%22white%22%2C%20%22markerColor%22%3A%20%22blue%22%2C%20%22prefix%22%3A%20%22glyphicon%22%7D%0A%20%20%20%20%20%20%20%20%20%20%20%20%29%3B%0A%20%20%20%20%20%20%20%20%20%20%20%20marker_528363f45ba94bbaa7442f3f948ac535.setIcon%28icon_83716d788a1343a2b02da5308567c1de%29%3B%0A%20%20%20%20%20%20%20%20%0A%20%20%20%20%0A%20%20%20%20%20%20%20%20var%20popup_6b2765edd52a419e964b70a5d23f82d8%20%3D%20L.popup%28%7B%22maxWidth%22%3A%20%22100%25%22%7D%29%3B%0A%0A%20%20%20%20%20%20%20%20%0A%20%20%20%20%20%20%20%20%20%20%20%20var%20html_1e2c7438f8914675ae30d77542bf64c0%20%3D%20%24%28%60%3Cdiv%20id%3D%22html_1e2c7438f8914675ae30d77542bf64c0%22%20style%3D%22width%3A%20100.0%25%3B%20height%3A%20100.0%25%3B%22%3EORSAN%20DEL%20NORTE%20S.A.%20DE%20C.V.%20Regular%3A%2023.25%20Premium%3A%2025.75%20Diesel%3A%20nan%3C/div%3E%60%29%5B0%5D%3B%0A%20%20%20%20%20%20%20%20%20%20%20%20popup_6b2765edd52a419e964b70a5d23f82d8.setContent%28html_1e2c7438f8914675ae30d77542bf64c0%29%3B%0A%20%20%20%20%20%20%20%20%0A%0A%20%20%20%20%20%20%20%20marker_528363f45ba94bbaa7442f3f948ac535.bindPopup%28popup_6b2765edd52a419e964b70a5d23f82d8%29%0A%20%20%20%20%20%20%20%20%3B%0A%0A%20%20%20%20%20%20%20%20%0A%20%20%20%20%0A%20%20%20%20%0A%20%20%20%20%20%20%20%20%20%20%20%20var%20marker_ff68b5cb69ad400a9f1bf20ae3bd02c2%20%3D%20L.marker%28%0A%20%20%20%20%20%20%20%20%20%20%20%20%20%20%20%20%5B25.6776%2C%20-100.3203%5D%2C%0A%20%20%20%20%20%20%20%20%20%20%20%20%20%20%20%20%7B%7D%0A%20%20%20%20%20%20%20%20%20%20%20%20%29.addTo%28map_69c4093c35c84510a66873cc690378b6%29%3B%0A%20%20%20%20%20%20%20%20%0A%20%20%20%20%0A%20%20%20%20%20%20%20%20%20%20%20%20var%20icon_14237bd8017141368ed9ef9c80d6ad32%20%3D%20L.AwesomeMarkers.icon%28%0A%20%20%20%20%20%20%20%20%20%20%20%20%20%20%20%20%7B%22extraClasses%22%3A%20%22fa-rotate-0%22%2C%20%22icon%22%3A%20%22info-sign%22%2C%20%22iconColor%22%3A%20%22white%22%2C%20%22markerColor%22%3A%20%22blue%22%2C%20%22prefix%22%3A%20%22glyphicon%22%7D%0A%20%20%20%20%20%20%20%20%20%20%20%20%29%3B%0A%20%20%20%20%20%20%20%20%20%20%20%20marker_ff68b5cb69ad400a9f1bf20ae3bd02c2.setIcon%28icon_14237bd8017141368ed9ef9c80d6ad32%29%3B%0A%20%20%20%20%20%20%20%20%0A%20%20%20%20%0A%20%20%20%20%20%20%20%20var%20popup_02ab969a56f4415cab02d80912d92dfc%20%3D%20L.popup%28%7B%22maxWidth%22%3A%20%22100%25%22%7D%29%3B%0A%0A%20%20%20%20%20%20%20%20%0A%20%20%20%20%20%20%20%20%20%20%20%20var%20html_77d9d2c0f72a4ba88f661370c9285c1a%20%3D%20%24%28%60%3Cdiv%20id%3D%22html_77d9d2c0f72a4ba88f661370c9285c1a%22%20style%3D%22width%3A%20100.0%25%3B%20height%3A%20100.0%25%3B%22%3ESERVICIOS%20CHIMABEL%2C%20S.A.%20DE%20C.V.%20Regular%3A%2021.99%20Premium%3A%2024.99%20Diesel%3A%20nan%3C/div%3E%60%29%5B0%5D%3B%0A%20%20%20%20%20%20%20%20%20%20%20%20popup_02ab969a56f4415cab02d80912d92dfc.setContent%28html_77d9d2c0f72a4ba88f661370c9285c1a%29%3B%0A%20%20%20%20%20%20%20%20%0A%0A%20%20%20%20%20%20%20%20marker_ff68b5cb69ad400a9f1bf20ae3bd02c2.bindPopup%28popup_02ab969a56f4415cab02d80912d92dfc%29%0A%20%20%20%20%20%20%20%20%3B%0A%0A%20%20%20%20%20%20%20%20%0A%20%20%20%20%0A%20%20%20%20%0A%20%20%20%20%20%20%20%20%20%20%20%20var%20marker_42835dd9626e4201ba3582d1af15148b%20%3D%20L.marker%28%0A%20%20%20%20%20%20%20%20%20%20%20%20%20%20%20%20%5B25.71432%2C%20-100.3087%5D%2C%0A%20%20%20%20%20%20%20%20%20%20%20%20%20%20%20%20%7B%7D%0A%20%20%20%20%20%20%20%20%20%20%20%20%29.addTo%28map_69c4093c35c84510a66873cc690378b6%29%3B%0A%20%20%20%20%20%20%20%20%0A%20%20%20%20%0A%20%20%20%20%20%20%20%20%20%20%20%20var%20icon_085dc42c6b5e4f0cbed421ae92e4a187%20%3D%20L.AwesomeMarkers.icon%28%0A%20%20%20%20%20%20%20%20%20%20%20%20%20%20%20%20%7B%22extraClasses%22%3A%20%22fa-rotate-0%22%2C%20%22icon%22%3A%20%22info-sign%22%2C%20%22iconColor%22%3A%20%22white%22%2C%20%22markerColor%22%3A%20%22blue%22%2C%20%22prefix%22%3A%20%22glyphicon%22%7D%0A%20%20%20%20%20%20%20%20%20%20%20%20%29%3B%0A%20%20%20%20%20%20%20%20%20%20%20%20marker_42835dd9626e4201ba3582d1af15148b.setIcon%28icon_085dc42c6b5e4f0cbed421ae92e4a187%29%3B%0A%20%20%20%20%20%20%20%20%0A%20%20%20%20%0A%20%20%20%20%20%20%20%20var%20popup_f1c04c0797fe41ac9d3d0ebe90a1f53a%20%3D%20L.popup%28%7B%22maxWidth%22%3A%20%22100%25%22%7D%29%3B%0A%0A%20%20%20%20%20%20%20%20%0A%20%20%20%20%20%20%20%20%20%20%20%20var%20html_dcc733015a8549ef979b2653b14c7b82%20%3D%20%24%28%60%3Cdiv%20id%3D%22html_dcc733015a8549ef979b2653b14c7b82%22%20style%3D%22width%3A%20100.0%25%3B%20height%3A%20100.0%25%3B%22%3ESERVICIOS%20GASOLINEROS%20DE%20MEXICO%2C%20S.A.%20DE%20C.V.%20Regular%3A%2023.29%20Premium%3A%2025.39%20Diesel%3A%20nan%3C/div%3E%60%29%5B0%5D%3B%0A%20%20%20%20%20%20%20%20%20%20%20%20popup_f1c04c0797fe41ac9d3d0ebe90a1f53a.setContent%28html_dcc733015a8549ef979b2653b14c7b82%29%3B%0A%20%20%20%20%20%20%20%20%0A%0A%20%20%20%20%20%20%20%20marker_42835dd9626e4201ba3582d1af15148b.bindPopup%28popup_f1c04c0797fe41ac9d3d0ebe90a1f53a%29%0A%20%20%20%20%20%20%20%20%3B%0A%0A%20%20%20%20%20%20%20%20%0A%20%20%20%20%0A%20%20%20%20%0A%20%20%20%20%20%20%20%20%20%20%20%20var%20marker_f6e69af4710d4abf8b107acbb2750768%20%3D%20L.marker%28%0A%20%20%20%20%20%20%20%20%20%20%20%20%20%20%20%20%5B25.68728%2C%20-100.3357%5D%2C%0A%20%20%20%20%20%20%20%20%20%20%20%20%20%20%20%20%7B%7D%0A%20%20%20%20%20%20%20%20%20%20%20%20%29.addTo%28map_69c4093c35c84510a66873cc690378b6%29%3B%0A%20%20%20%20%20%20%20%20%0A%20%20%20%20%0A%20%20%20%20%20%20%20%20%20%20%20%20var%20icon_e4711f31f71f4e88bca97253a8b65717%20%3D%20L.AwesomeMarkers.icon%28%0A%20%20%20%20%20%20%20%20%20%20%20%20%20%20%20%20%7B%22extraClasses%22%3A%20%22fa-rotate-0%22%2C%20%22icon%22%3A%20%22info-sign%22%2C%20%22iconColor%22%3A%20%22white%22%2C%20%22markerColor%22%3A%20%22blue%22%2C%20%22prefix%22%3A%20%22glyphicon%22%7D%0A%20%20%20%20%20%20%20%20%20%20%20%20%29%3B%0A%20%20%20%20%20%20%20%20%20%20%20%20marker_f6e69af4710d4abf8b107acbb2750768.setIcon%28icon_e4711f31f71f4e88bca97253a8b65717%29%3B%0A%20%20%20%20%20%20%20%20%0A%20%20%20%20%0A%20%20%20%20%20%20%20%20var%20popup_e1cad8498a434626a6f81ca3387d481c%20%3D%20L.popup%28%7B%22maxWidth%22%3A%20%22100%25%22%7D%29%3B%0A%0A%20%20%20%20%20%20%20%20%0A%20%20%20%20%20%20%20%20%20%20%20%20var%20html_1e64370d0b4b4bd49ca544d311723552%20%3D%20%24%28%60%3Cdiv%20id%3D%22html_1e64370d0b4b4bd49ca544d311723552%22%20style%3D%22width%3A%20100.0%25%3B%20height%3A%20100.0%25%3B%22%3EGASOLINERA%20NUEVO%20LEON%2C%20S.A.%20DE%20C.V.%20Regular%3A%2022.99%20Premium%3A%2024.99%20Diesel%3A%2023.89%3C/div%3E%60%29%5B0%5D%3B%0A%20%20%20%20%20%20%20%20%20%20%20%20popup_e1cad8498a434626a6f81ca3387d481c.setContent%28html_1e64370d0b4b4bd49ca544d311723552%29%3B%0A%20%20%20%20%20%20%20%20%0A%0A%20%20%20%20%20%20%20%20marker_f6e69af4710d4abf8b107acbb2750768.bindPopup%28popup_e1cad8498a434626a6f81ca3387d481c%29%0A%20%20%20%20%20%20%20%20%3B%0A%0A%20%20%20%20%20%20%20%20%0A%20%20%20%20%0A%20%20%20%20%0A%20%20%20%20%20%20%20%20%20%20%20%20var%20marker_303e568de4ba4e15b3daa21414e9eae9%20%3D%20L.marker%28%0A%20%20%20%20%20%20%20%20%20%20%20%20%20%20%20%20%5B25.69842%2C%20-100.2952%5D%2C%0A%20%20%20%20%20%20%20%20%20%20%20%20%20%20%20%20%7B%7D%0A%20%20%20%20%20%20%20%20%20%20%20%20%29.addTo%28map_69c4093c35c84510a66873cc690378b6%29%3B%0A%20%20%20%20%20%20%20%20%0A%20%20%20%20%0A%20%20%20%20%20%20%20%20%20%20%20%20var%20icon_5e63da8aa7a5417aaf757296312f30b1%20%3D%20L.AwesomeMarkers.icon%28%0A%20%20%20%20%20%20%20%20%20%20%20%20%20%20%20%20%7B%22extraClasses%22%3A%20%22fa-rotate-0%22%2C%20%22icon%22%3A%20%22info-sign%22%2C%20%22iconColor%22%3A%20%22white%22%2C%20%22markerColor%22%3A%20%22blue%22%2C%20%22prefix%22%3A%20%22glyphicon%22%7D%0A%20%20%20%20%20%20%20%20%20%20%20%20%29%3B%0A%20%20%20%20%20%20%20%20%20%20%20%20marker_303e568de4ba4e15b3daa21414e9eae9.setIcon%28icon_5e63da8aa7a5417aaf757296312f30b1%29%3B%0A%20%20%20%20%20%20%20%20%0A%20%20%20%20%0A%20%20%20%20%20%20%20%20var%20popup_9ebd96d714ef40d7bdb34e67fd508c96%20%3D%20L.popup%28%7B%22maxWidth%22%3A%20%22100%25%22%7D%29%3B%0A%0A%20%20%20%20%20%20%20%20%0A%20%20%20%20%20%20%20%20%20%20%20%20var%20html_002b5408dfcc418cb88c0d442f6dc074%20%3D%20%24%28%60%3Cdiv%20id%3D%22html_002b5408dfcc418cb88c0d442f6dc074%22%20style%3D%22width%3A%20100.0%25%3B%20height%3A%20100.0%25%3B%22%3ESERVICIOS%20GASOLINEROS%20DE%20MEXICO%2C%20S.A.%20DE%20C.V.%20Regular%3A%2023.29%20Premium%3A%2025.39%20Diesel%3A%20nan%3C/div%3E%60%29%5B0%5D%3B%0A%20%20%20%20%20%20%20%20%20%20%20%20popup_9ebd96d714ef40d7bdb34e67fd508c96.setContent%28html_002b5408dfcc418cb88c0d442f6dc074%29%3B%0A%20%20%20%20%20%20%20%20%0A%0A%20%20%20%20%20%20%20%20marker_303e568de4ba4e15b3daa21414e9eae9.bindPopup%28popup_9ebd96d714ef40d7bdb34e67fd508c96%29%0A%20%20%20%20%20%20%20%20%3B%0A%0A%20%20%20%20%20%20%20%20%0A%20%20%20%20%0A%20%20%20%20%0A%20%20%20%20%20%20%20%20%20%20%20%20var%20marker_dce6144f2e494e878713c2da3ccf4dce%20%3D%20L.marker%28%0A%20%20%20%20%20%20%20%20%20%20%20%20%20%20%20%20%5B25.68775%2C%20-100.2967%5D%2C%0A%20%20%20%20%20%20%20%20%20%20%20%20%20%20%20%20%7B%7D%0A%20%20%20%20%20%20%20%20%20%20%20%20%29.addTo%28map_69c4093c35c84510a66873cc690378b6%29%3B%0A%20%20%20%20%20%20%20%20%0A%20%20%20%20%0A%20%20%20%20%20%20%20%20%20%20%20%20var%20icon_9a8e7032909a44cd93da639d277ca652%20%3D%20L.AwesomeMarkers.icon%28%0A%20%20%20%20%20%20%20%20%20%20%20%20%20%20%20%20%7B%22extraClasses%22%3A%20%22fa-rotate-0%22%2C%20%22icon%22%3A%20%22info-sign%22%2C%20%22iconColor%22%3A%20%22white%22%2C%20%22markerColor%22%3A%20%22blue%22%2C%20%22prefix%22%3A%20%22glyphicon%22%7D%0A%20%20%20%20%20%20%20%20%20%20%20%20%29%3B%0A%20%20%20%20%20%20%20%20%20%20%20%20marker_dce6144f2e494e878713c2da3ccf4dce.setIcon%28icon_9a8e7032909a44cd93da639d277ca652%29%3B%0A%20%20%20%20%20%20%20%20%0A%20%20%20%20%0A%20%20%20%20%20%20%20%20var%20popup_6d08de46fcc943e0a6c8870ad1f9d9b5%20%3D%20L.popup%28%7B%22maxWidth%22%3A%20%22100%25%22%7D%29%3B%0A%0A%20%20%20%20%20%20%20%20%0A%20%20%20%20%20%20%20%20%20%20%20%20var%20html_3923f6dc4c024769bb519a16d810606c%20%3D%20%24%28%60%3Cdiv%20id%3D%22html_3923f6dc4c024769bb519a16d810606c%22%20style%3D%22width%3A%20100.0%25%3B%20height%3A%20100.0%25%3B%22%3ESERVICIOS%20GASOLINEROS%20DE%20MEXICO%2C%20S.A.%20DE%20C.V.%20Regular%3A%2023.29%20Premium%3A%2025.39%20Diesel%3A%20nan%3C/div%3E%60%29%5B0%5D%3B%0A%20%20%20%20%20%20%20%20%20%20%20%20popup_6d08de46fcc943e0a6c8870ad1f9d9b5.setContent%28html_3923f6dc4c024769bb519a16d810606c%29%3B%0A%20%20%20%20%20%20%20%20%0A%0A%20%20%20%20%20%20%20%20marker_dce6144f2e494e878713c2da3ccf4dce.bindPopup%28popup_6d08de46fcc943e0a6c8870ad1f9d9b5%29%0A%20%20%20%20%20%20%20%20%3B%0A%0A%20%20%20%20%20%20%20%20%0A%20%20%20%20%0A%20%20%20%20%0A%20%20%20%20%20%20%20%20%20%20%20%20var%20marker_b3dc4042d4ec4b24a1928be8196d5661%20%3D%20L.marker%28%0A%20%20%20%20%20%20%20%20%20%20%20%20%20%20%20%20%5B25.69955%2C%20-100.2934%5D%2C%0A%20%20%20%20%20%20%20%20%20%20%20%20%20%20%20%20%7B%7D%0A%20%20%20%20%20%20%20%20%20%20%20%20%29.addTo%28map_69c4093c35c84510a66873cc690378b6%29%3B%0A%20%20%20%20%20%20%20%20%0A%20%20%20%20%0A%20%20%20%20%20%20%20%20%20%20%20%20var%20icon_500f311e5bf7476b83b5798b90a9356a%20%3D%20L.AwesomeMarkers.icon%28%0A%20%20%20%20%20%20%20%20%20%20%20%20%20%20%20%20%7B%22extraClasses%22%3A%20%22fa-rotate-0%22%2C%20%22icon%22%3A%20%22info-sign%22%2C%20%22iconColor%22%3A%20%22white%22%2C%20%22markerColor%22%3A%20%22lightgreen%22%2C%20%22prefix%22%3A%20%22glyphicon%22%7D%0A%20%20%20%20%20%20%20%20%20%20%20%20%29%3B%0A%20%20%20%20%20%20%20%20%20%20%20%20marker_b3dc4042d4ec4b24a1928be8196d5661.setIcon%28icon_500f311e5bf7476b83b5798b90a9356a%29%3B%0A%20%20%20%20%20%20%20%20%0A%20%20%20%20%0A%20%20%20%20%20%20%20%20var%20popup_a840caebf46d49e6820dddd579a2ee22%20%3D%20L.popup%28%7B%22maxWidth%22%3A%20%22100%25%22%7D%29%3B%0A%0A%20%20%20%20%20%20%20%20%0A%20%20%20%20%20%20%20%20%20%20%20%20var%20html_6f6369d52db24a79973b84ae28338e28%20%3D%20%24%28%60%3Cdiv%20id%3D%22html_6f6369d52db24a79973b84ae28338e28%22%20style%3D%22width%3A%20100.0%25%3B%20height%3A%20100.0%25%3B%22%3ERGA%20SERVIGAZ%2C%20S.A.%20DE%20C.V.%20Regular%3A%2021.27%20Premium%3A%2023.97%20Diesel%3A%2023.37%3C/div%3E%60%29%5B0%5D%3B%0A%20%20%20%20%20%20%20%20%20%20%20%20popup_a840caebf46d49e6820dddd579a2ee22.setContent%28html_6f6369d52db24a79973b84ae28338e28%29%3B%0A%20%20%20%20%20%20%20%20%0A%0A%20%20%20%20%20%20%20%20marker_b3dc4042d4ec4b24a1928be8196d5661.bindPopup%28popup_a840caebf46d49e6820dddd579a2ee22%29%0A%20%20%20%20%20%20%20%20%3B%0A%0A%20%20%20%20%20%20%20%20%0A%20%20%20%20%0A%20%20%20%20%0A%20%20%20%20%20%20%20%20%20%20%20%20var%20marker_de905c0771a0497b84fd2f1de326d0b8%20%3D%20L.marker%28%0A%20%20%20%20%20%20%20%20%20%20%20%20%20%20%20%20%5B25.67838%2C%20-100.3041%5D%2C%0A%20%20%20%20%20%20%20%20%20%20%20%20%20%20%20%20%7B%7D%0A%20%20%20%20%20%20%20%20%20%20%20%20%29.addTo%28map_69c4093c35c84510a66873cc690378b6%29%3B%0A%20%20%20%20%20%20%20%20%0A%20%20%20%20%0A%20%20%20%20%20%20%20%20%20%20%20%20var%20icon_b0f5d35ae4ce4de0bd0cf2f08d9257e5%20%3D%20L.AwesomeMarkers.icon%28%0A%20%20%20%20%20%20%20%20%20%20%20%20%20%20%20%20%7B%22extraClasses%22%3A%20%22fa-rotate-0%22%2C%20%22icon%22%3A%20%22info-sign%22%2C%20%22iconColor%22%3A%20%22white%22%2C%20%22markerColor%22%3A%20%22blue%22%2C%20%22prefix%22%3A%20%22glyphicon%22%7D%0A%20%20%20%20%20%20%20%20%20%20%20%20%29%3B%0A%20%20%20%20%20%20%20%20%20%20%20%20marker_de905c0771a0497b84fd2f1de326d0b8.setIcon%28icon_b0f5d35ae4ce4de0bd0cf2f08d9257e5%29%3B%0A%20%20%20%20%20%20%20%20%0A%20%20%20%20%0A%20%20%20%20%20%20%20%20var%20popup_f1de3006328d4531aa95ba159412b895%20%3D%20L.popup%28%7B%22maxWidth%22%3A%20%22100%25%22%7D%29%3B%0A%0A%20%20%20%20%20%20%20%20%0A%20%20%20%20%20%20%20%20%20%20%20%20var%20html_479c37136a794d05b9a591e4c0e0ef2f%20%3D%20%24%28%60%3Cdiv%20id%3D%22html_479c37136a794d05b9a591e4c0e0ef2f%22%20style%3D%22width%3A%20100.0%25%3B%20height%3A%20100.0%25%3B%22%3EGASOLINERA%20GARAGE%20MONTERREY%2C%20S.A.%20Regular%3A%2021.98%20Premium%3A%2025.09%20Diesel%3A%20nan%3C/div%3E%60%29%5B0%5D%3B%0A%20%20%20%20%20%20%20%20%20%20%20%20popup_f1de3006328d4531aa95ba159412b895.setContent%28html_479c37136a794d05b9a591e4c0e0ef2f%29%3B%0A%20%20%20%20%20%20%20%20%0A%0A%20%20%20%20%20%20%20%20marker_de905c0771a0497b84fd2f1de326d0b8.bindPopup%28popup_f1de3006328d4531aa95ba159412b895%29%0A%20%20%20%20%20%20%20%20%3B%0A%0A%20%20%20%20%20%20%20%20%0A%20%20%20%20%0A%20%20%20%20%0A%20%20%20%20%20%20%20%20%20%20%20%20var%20marker_09fe7014985d4aff96564e23d4fc0155%20%3D%20L.marker%28%0A%20%20%20%20%20%20%20%20%20%20%20%20%20%20%20%20%5B25.71785%2C%20-100.3101%5D%2C%0A%20%20%20%20%20%20%20%20%20%20%20%20%20%20%20%20%7B%7D%0A%20%20%20%20%20%20%20%20%20%20%20%20%29.addTo%28map_69c4093c35c84510a66873cc690378b6%29%3B%0A%20%20%20%20%20%20%20%20%0A%20%20%20%20%0A%20%20%20%20%20%20%20%20%20%20%20%20var%20icon_35de7c6c034e450d88344e750a7cff0f%20%3D%20L.AwesomeMarkers.icon%28%0A%20%20%20%20%20%20%20%20%20%20%20%20%20%20%20%20%7B%22extraClasses%22%3A%20%22fa-rotate-0%22%2C%20%22icon%22%3A%20%22info-sign%22%2C%20%22iconColor%22%3A%20%22white%22%2C%20%22markerColor%22%3A%20%22blue%22%2C%20%22prefix%22%3A%20%22glyphicon%22%7D%0A%20%20%20%20%20%20%20%20%20%20%20%20%29%3B%0A%20%20%20%20%20%20%20%20%20%20%20%20marker_09fe7014985d4aff96564e23d4fc0155.setIcon%28icon_35de7c6c034e450d88344e750a7cff0f%29%3B%0A%20%20%20%20%20%20%20%20%0A%20%20%20%20%0A%20%20%20%20%20%20%20%20var%20popup_9c3d2f3084f14502bb2d99b648ad404b%20%3D%20L.popup%28%7B%22maxWidth%22%3A%20%22100%25%22%7D%29%3B%0A%0A%20%20%20%20%20%20%20%20%0A%20%20%20%20%20%20%20%20%20%20%20%20var%20html_b29bc6e78ead45f890aa2a148afa6105%20%3D%20%24%28%60%3Cdiv%20id%3D%22html_b29bc6e78ead45f890aa2a148afa6105%22%20style%3D%22width%3A%20100.0%25%3B%20height%3A%20100.0%25%3B%22%3EESTACION%20DE%20SERVICIO%20LOS%20ANGELES%20SA%20DE%20CV%20Regular%3A%2023.29%20Premium%3A%2023.34%20Diesel%3A%2023.28%3C/div%3E%60%29%5B0%5D%3B%0A%20%20%20%20%20%20%20%20%20%20%20%20popup_9c3d2f3084f14502bb2d99b648ad404b.setContent%28html_b29bc6e78ead45f890aa2a148afa6105%29%3B%0A%20%20%20%20%20%20%20%20%0A%0A%20%20%20%20%20%20%20%20marker_09fe7014985d4aff96564e23d4fc0155.bindPopup%28popup_9c3d2f3084f14502bb2d99b648ad404b%29%0A%20%20%20%20%20%20%20%20%3B%0A%0A%20%20%20%20%20%20%20%20%0A%20%20%20%20%0A%20%20%20%20%0A%20%20%20%20%20%20%20%20%20%20%20%20var%20marker_5be6f3e5e3664544b430cf1616ab98de%20%3D%20L.marker%28%0A%20%20%20%20%20%20%20%20%20%20%20%20%20%20%20%20%5B25.68184%2C%20-100.2968%5D%2C%0A%20%20%20%20%20%20%20%20%20%20%20%20%20%20%20%20%7B%7D%0A%20%20%20%20%20%20%20%20%20%20%20%20%29.addTo%28map_69c4093c35c84510a66873cc690378b6%29%3B%0A%20%20%20%20%20%20%20%20%0A%20%20%20%20%0A%20%20%20%20%20%20%20%20%20%20%20%20var%20icon_d41132f35de94156a17e7baa04fdce6f%20%3D%20L.AwesomeMarkers.icon%28%0A%20%20%20%20%20%20%20%20%20%20%20%20%20%20%20%20%7B%22extraClasses%22%3A%20%22fa-rotate-0%22%2C%20%22icon%22%3A%20%22info-sign%22%2C%20%22iconColor%22%3A%20%22white%22%2C%20%22markerColor%22%3A%20%22blue%22%2C%20%22prefix%22%3A%20%22glyphicon%22%7D%0A%20%20%20%20%20%20%20%20%20%20%20%20%29%3B%0A%20%20%20%20%20%20%20%20%20%20%20%20marker_5be6f3e5e3664544b430cf1616ab98de.setIcon%28icon_d41132f35de94156a17e7baa04fdce6f%29%3B%0A%20%20%20%20%20%20%20%20%0A%20%20%20%20%0A%20%20%20%20%20%20%20%20var%20popup_90ebcfcb22d1409f8009e26936b7557d%20%3D%20L.popup%28%7B%22maxWidth%22%3A%20%22100%25%22%7D%29%3B%0A%0A%20%20%20%20%20%20%20%20%0A%20%20%20%20%20%20%20%20%20%20%20%20var%20html_74a48b066ee743038f808f53ac35e7f7%20%3D%20%24%28%60%3Cdiv%20id%3D%22html_74a48b066ee743038f808f53ac35e7f7%22%20style%3D%22width%3A%20100.0%25%3B%20height%3A%20100.0%25%3B%22%3ESERVICIO%20OBREGON%2C%20S.%20DE%20R.L.%20Regular%3A%2021.98%20Premium%3A%2025.09%20Diesel%3A%20nan%3C/div%3E%60%29%5B0%5D%3B%0A%20%20%20%20%20%20%20%20%20%20%20%20popup_90ebcfcb22d1409f8009e26936b7557d.setContent%28html_74a48b066ee743038f808f53ac35e7f7%29%3B%0A%20%20%20%20%20%20%20%20%0A%0A%20%20%20%20%20%20%20%20marker_5be6f3e5e3664544b430cf1616ab98de.bindPopup%28popup_90ebcfcb22d1409f8009e26936b7557d%29%0A%20%20%20%20%20%20%20%20%3B%0A%0A%20%20%20%20%20%20%20%20%0A%20%20%20%20%0A%20%20%20%20%0A%20%20%20%20%20%20%20%20%20%20%20%20var%20marker_2e033efef85f4df1858c0173682461eb%20%3D%20L.marker%28%0A%20%20%20%20%20%20%20%20%20%20%20%20%20%20%20%20%5B25.70434%2C%20-100.3419%5D%2C%0A%20%20%20%20%20%20%20%20%20%20%20%20%20%20%20%20%7B%7D%0A%20%20%20%20%20%20%20%20%20%20%20%20%29.addTo%28map_69c4093c35c84510a66873cc690378b6%29%3B%0A%20%20%20%20%20%20%20%20%0A%20%20%20%20%0A%20%20%20%20%20%20%20%20%20%20%20%20var%20icon_cc0279a939c448e8bbf2939f8276e76c%20%3D%20L.AwesomeMarkers.icon%28%0A%20%20%20%20%20%20%20%20%20%20%20%20%20%20%20%20%7B%22extraClasses%22%3A%20%22fa-rotate-0%22%2C%20%22icon%22%3A%20%22info-sign%22%2C%20%22iconColor%22%3A%20%22white%22%2C%20%22markerColor%22%3A%20%22blue%22%2C%20%22prefix%22%3A%20%22glyphicon%22%7D%0A%20%20%20%20%20%20%20%20%20%20%20%20%29%3B%0A%20%20%20%20%20%20%20%20%20%20%20%20marker_2e033efef85f4df1858c0173682461eb.setIcon%28icon_cc0279a939c448e8bbf2939f8276e76c%29%3B%0A%20%20%20%20%20%20%20%20%0A%20%20%20%20%0A%20%20%20%20%20%20%20%20var%20popup_c4dab5c6b7c04b318c1fdf2fa3d0403e%20%3D%20L.popup%28%7B%22maxWidth%22%3A%20%22100%25%22%7D%29%3B%0A%0A%20%20%20%20%20%20%20%20%0A%20%20%20%20%20%20%20%20%20%20%20%20var%20html_8e1cacd8e3f04f10a9492c38926e0dca%20%3D%20%24%28%60%3Cdiv%20id%3D%22html_8e1cacd8e3f04f10a9492c38926e0dca%22%20style%3D%22width%3A%20100.0%25%3B%20height%3A%20100.0%25%3B%22%3ESERVICIOS%20GASOLINEROS%20DE%20MEXICO%2C%20S.A.%20DE%20C.V.%20Regular%3A%2023.29%20Premium%3A%2025.39%20Diesel%3A%20nan%3C/div%3E%60%29%5B0%5D%3B%0A%20%20%20%20%20%20%20%20%20%20%20%20popup_c4dab5c6b7c04b318c1fdf2fa3d0403e.setContent%28html_8e1cacd8e3f04f10a9492c38926e0dca%29%3B%0A%20%20%20%20%20%20%20%20%0A%0A%20%20%20%20%20%20%20%20marker_2e033efef85f4df1858c0173682461eb.bindPopup%28popup_c4dab5c6b7c04b318c1fdf2fa3d0403e%29%0A%20%20%20%20%20%20%20%20%3B%0A%0A%20%20%20%20%20%20%20%20%0A%20%20%20%20%0A%20%20%20%20%0A%20%20%20%20%20%20%20%20%20%20%20%20var%20marker_e2ff2ccb778a420d8072bbcd65ec40d8%20%3D%20L.marker%28%0A%20%20%20%20%20%20%20%20%20%20%20%20%20%20%20%20%5B25.67642%2C%20-100.3317%5D%2C%0A%20%20%20%20%20%20%20%20%20%20%20%20%20%20%20%20%7B%7D%0A%20%20%20%20%20%20%20%20%20%20%20%20%29.addTo%28map_69c4093c35c84510a66873cc690378b6%29%3B%0A%20%20%20%20%20%20%20%20%0A%20%20%20%20%0A%20%20%20%20%20%20%20%20%20%20%20%20var%20icon_f47d02ab5fde4c1bb03607b7b67d741e%20%3D%20L.AwesomeMarkers.icon%28%0A%20%20%20%20%20%20%20%20%20%20%20%20%20%20%20%20%7B%22extraClasses%22%3A%20%22fa-rotate-0%22%2C%20%22icon%22%3A%20%22info-sign%22%2C%20%22iconColor%22%3A%20%22white%22%2C%20%22markerColor%22%3A%20%22lightgreen%22%2C%20%22prefix%22%3A%20%22glyphicon%22%7D%0A%20%20%20%20%20%20%20%20%20%20%20%20%29%3B%0A%20%20%20%20%20%20%20%20%20%20%20%20marker_e2ff2ccb778a420d8072bbcd65ec40d8.setIcon%28icon_f47d02ab5fde4c1bb03607b7b67d741e%29%3B%0A%20%20%20%20%20%20%20%20%0A%20%20%20%20%0A%20%20%20%20%20%20%20%20var%20popup_df2f94b63f564a8484f7e37a91f1146d%20%3D%20L.popup%28%7B%22maxWidth%22%3A%20%22100%25%22%7D%29%3B%0A%0A%20%20%20%20%20%20%20%20%0A%20%20%20%20%20%20%20%20%20%20%20%20var%20html_281d5b725d094771a9f7cfe137e1dab0%20%3D%20%24%28%60%3Cdiv%20id%3D%22html_281d5b725d094771a9f7cfe137e1dab0%22%20style%3D%22width%3A%20100.0%25%3B%20height%3A%20100.0%25%3B%22%3ESERVICIO%20JIMAL%20CENTRO%20SA%20DE%20CV%20%20Regular%3A%2019.9%20Premium%3A%2021.39%20Diesel%3A%20nan%3C/div%3E%60%29%5B0%5D%3B%0A%20%20%20%20%20%20%20%20%20%20%20%20popup_df2f94b63f564a8484f7e37a91f1146d.setContent%28html_281d5b725d094771a9f7cfe137e1dab0%29%3B%0A%20%20%20%20%20%20%20%20%0A%0A%20%20%20%20%20%20%20%20marker_e2ff2ccb778a420d8072bbcd65ec40d8.bindPopup%28popup_df2f94b63f564a8484f7e37a91f1146d%29%0A%20%20%20%20%20%20%20%20%3B%0A%0A%20%20%20%20%20%20%20%20%0A%20%20%20%20%0A%20%20%20%20%0A%20%20%20%20%20%20%20%20%20%20%20%20var%20marker_30a5400c50824685a47e97012b182a60%20%3D%20L.marker%28%0A%20%20%20%20%20%20%20%20%20%20%20%20%20%20%20%20%5B25.68674%2C%20-100.3416%5D%2C%0A%20%20%20%20%20%20%20%20%20%20%20%20%20%20%20%20%7B%7D%0A%20%20%20%20%20%20%20%20%20%20%20%20%29.addTo%28map_69c4093c35c84510a66873cc690378b6%29%3B%0A%20%20%20%20%20%20%20%20%0A%20%20%20%20%0A%20%20%20%20%20%20%20%20%20%20%20%20var%20icon_f2ad47f3e8aa48a899b45aa7e9457c5a%20%3D%20L.AwesomeMarkers.icon%28%0A%20%20%20%20%20%20%20%20%20%20%20%20%20%20%20%20%7B%22extraClasses%22%3A%20%22fa-rotate-0%22%2C%20%22icon%22%3A%20%22info-sign%22%2C%20%22iconColor%22%3A%20%22white%22%2C%20%22markerColor%22%3A%20%22blue%22%2C%20%22prefix%22%3A%20%22glyphicon%22%7D%0A%20%20%20%20%20%20%20%20%20%20%20%20%29%3B%0A%20%20%20%20%20%20%20%20%20%20%20%20marker_30a5400c50824685a47e97012b182a60.setIcon%28icon_f2ad47f3e8aa48a899b45aa7e9457c5a%29%3B%0A%20%20%20%20%20%20%20%20%0A%20%20%20%20%0A%20%20%20%20%20%20%20%20var%20popup_940718fa55c6449687adcbd7195bd532%20%3D%20L.popup%28%7B%22maxWidth%22%3A%20%22100%25%22%7D%29%3B%0A%0A%20%20%20%20%20%20%20%20%0A%20%20%20%20%20%20%20%20%20%20%20%20var%20html_abe1fac2aaef4f26977dd3f4c59e2fdf%20%3D%20%24%28%60%3Cdiv%20id%3D%22html_abe1fac2aaef4f26977dd3f4c59e2fdf%22%20style%3D%22width%3A%20100.0%25%3B%20height%3A%20100.0%25%3B%22%3ESERVICIOS%20GASOLINEROS%20DE%20MEXICO%2C%20S.A.%20DE%20C.V.%20Regular%3A%2023.29%20Premium%3A%2025.39%20Diesel%3A%20nan%3C/div%3E%60%29%5B0%5D%3B%0A%20%20%20%20%20%20%20%20%20%20%20%20popup_940718fa55c6449687adcbd7195bd532.setContent%28html_abe1fac2aaef4f26977dd3f4c59e2fdf%29%3B%0A%20%20%20%20%20%20%20%20%0A%0A%20%20%20%20%20%20%20%20marker_30a5400c50824685a47e97012b182a60.bindPopup%28popup_940718fa55c6449687adcbd7195bd532%29%0A%20%20%20%20%20%20%20%20%3B%0A%0A%20%20%20%20%20%20%20%20%0A%20%20%20%20%0A%20%20%20%20%0A%20%20%20%20%20%20%20%20%20%20%20%20var%20marker_8345566786c346948a9f289abaa2278a%20%3D%20L.marker%28%0A%20%20%20%20%20%20%20%20%20%20%20%20%20%20%20%20%5B25.68155%2C%20-100.2947%5D%2C%0A%20%20%20%20%20%20%20%20%20%20%20%20%20%20%20%20%7B%7D%0A%20%20%20%20%20%20%20%20%20%20%20%20%29.addTo%28map_69c4093c35c84510a66873cc690378b6%29%3B%0A%20%20%20%20%20%20%20%20%0A%20%20%20%20%0A%20%20%20%20%20%20%20%20%20%20%20%20var%20icon_a05d5af4549e4963834211a399757f9d%20%3D%20L.AwesomeMarkers.icon%28%0A%20%20%20%20%20%20%20%20%20%20%20%20%20%20%20%20%7B%22extraClasses%22%3A%20%22fa-rotate-0%22%2C%20%22icon%22%3A%20%22info-sign%22%2C%20%22iconColor%22%3A%20%22white%22%2C%20%22markerColor%22%3A%20%22blue%22%2C%20%22prefix%22%3A%20%22glyphicon%22%7D%0A%20%20%20%20%20%20%20%20%20%20%20%20%29%3B%0A%20%20%20%20%20%20%20%20%20%20%20%20marker_8345566786c346948a9f289abaa2278a.setIcon%28icon_a05d5af4549e4963834211a399757f9d%29%3B%0A%20%20%20%20%20%20%20%20%0A%20%20%20%20%0A%20%20%20%20%20%20%20%20var%20popup_f3f46ce5d769455298031fce6ffa6c2e%20%3D%20L.popup%28%7B%22maxWidth%22%3A%20%22100%25%22%7D%29%3B%0A%0A%20%20%20%20%20%20%20%20%0A%20%20%20%20%20%20%20%20%20%20%20%20var%20html_97dc55c29bd74897a78dae42f5015b8c%20%3D%20%24%28%60%3Cdiv%20id%3D%22html_97dc55c29bd74897a78dae42f5015b8c%22%20style%3D%22width%3A%20100.0%25%3B%20height%3A%20100.0%25%3B%22%3EGASOLINERA%20SERVICIO%20MODELO%2C%20S.A.%20DE%20C.V.%20Regular%3A%2021.98%20Premium%3A%2025.09%20Diesel%3A%20nan%3C/div%3E%60%29%5B0%5D%3B%0A%20%20%20%20%20%20%20%20%20%20%20%20popup_f3f46ce5d769455298031fce6ffa6c2e.setContent%28html_97dc55c29bd74897a78dae42f5015b8c%29%3B%0A%20%20%20%20%20%20%20%20%0A%0A%20%20%20%20%20%20%20%20marker_8345566786c346948a9f289abaa2278a.bindPopup%28popup_f3f46ce5d769455298031fce6ffa6c2e%29%0A%20%20%20%20%20%20%20%20%3B%0A%0A%20%20%20%20%20%20%20%20%0A%20%20%20%20%0A%20%20%20%20%0A%20%20%20%20%20%20%20%20%20%20%20%20var%20marker_5b54e697f5cd48428e362a536967df98%20%3D%20L.marker%28%0A%20%20%20%20%20%20%20%20%20%20%20%20%20%20%20%20%5B25.68686%2C%20-100.3427%5D%2C%0A%20%20%20%20%20%20%20%20%20%20%20%20%20%20%20%20%7B%7D%0A%20%20%20%20%20%20%20%20%20%20%20%20%29.addTo%28map_69c4093c35c84510a66873cc690378b6%29%3B%0A%20%20%20%20%20%20%20%20%0A%20%20%20%20%0A%20%20%20%20%20%20%20%20%20%20%20%20var%20icon_51236612fcc84683a77f71284dd9ab4c%20%3D%20L.AwesomeMarkers.icon%28%0A%20%20%20%20%20%20%20%20%20%20%20%20%20%20%20%20%7B%22extraClasses%22%3A%20%22fa-rotate-0%22%2C%20%22icon%22%3A%20%22info-sign%22%2C%20%22iconColor%22%3A%20%22white%22%2C%20%22markerColor%22%3A%20%22blue%22%2C%20%22prefix%22%3A%20%22glyphicon%22%7D%0A%20%20%20%20%20%20%20%20%20%20%20%20%29%3B%0A%20%20%20%20%20%20%20%20%20%20%20%20marker_5b54e697f5cd48428e362a536967df98.setIcon%28icon_51236612fcc84683a77f71284dd9ab4c%29%3B%0A%20%20%20%20%20%20%20%20%0A%20%20%20%20%0A%20%20%20%20%20%20%20%20var%20popup_9fcc424394304411a541d1dcc0ba1663%20%3D%20L.popup%28%7B%22maxWidth%22%3A%20%22100%25%22%7D%29%3B%0A%0A%20%20%20%20%20%20%20%20%0A%20%20%20%20%20%20%20%20%20%20%20%20var%20html_45e8fed3beae443fa2ab10d0ab9b22d8%20%3D%20%24%28%60%3Cdiv%20id%3D%22html_45e8fed3beae443fa2ab10d0ab9b22d8%22%20style%3D%22width%3A%20100.0%25%3B%20height%3A%20100.0%25%3B%22%3ESERVICIOS%20CHIMABEL%2C%20S.A.%20DE%20C.V.%20Regular%3A%2022.99%20Premium%3A%2024.99%20Diesel%3A%20nan%3C/div%3E%60%29%5B0%5D%3B%0A%20%20%20%20%20%20%20%20%20%20%20%20popup_9fcc424394304411a541d1dcc0ba1663.setContent%28html_45e8fed3beae443fa2ab10d0ab9b22d8%29%3B%0A%20%20%20%20%20%20%20%20%0A%0A%20%20%20%20%20%20%20%20marker_5b54e697f5cd48428e362a536967df98.bindPopup%28popup_9fcc424394304411a541d1dcc0ba1663%29%0A%20%20%20%20%20%20%20%20%3B%0A%0A%20%20%20%20%20%20%20%20%0A%20%20%20%20%0A%20%20%20%20%0A%20%20%20%20%20%20%20%20%20%20%20%20var%20marker_3abcb30521a74b88bcf2f706557cfef3%20%3D%20L.marker%28%0A%20%20%20%20%20%20%20%20%20%20%20%20%20%20%20%20%5B25.67644%2C%20-100.2981%5D%2C%0A%20%20%20%20%20%20%20%20%20%20%20%20%20%20%20%20%7B%7D%0A%20%20%20%20%20%20%20%20%20%20%20%20%29.addTo%28map_69c4093c35c84510a66873cc690378b6%29%3B%0A%20%20%20%20%20%20%20%20%0A%20%20%20%20%0A%20%20%20%20%20%20%20%20%20%20%20%20var%20icon_9405ae76e2244b0db07a35ae17a12293%20%3D%20L.AwesomeMarkers.icon%28%0A%20%20%20%20%20%20%20%20%20%20%20%20%20%20%20%20%7B%22extraClasses%22%3A%20%22fa-rotate-0%22%2C%20%22icon%22%3A%20%22info-sign%22%2C%20%22iconColor%22%3A%20%22white%22%2C%20%22markerColor%22%3A%20%22blue%22%2C%20%22prefix%22%3A%20%22glyphicon%22%7D%0A%20%20%20%20%20%20%20%20%20%20%20%20%29%3B%0A%20%20%20%20%20%20%20%20%20%20%20%20marker_3abcb30521a74b88bcf2f706557cfef3.setIcon%28icon_9405ae76e2244b0db07a35ae17a12293%29%3B%0A%20%20%20%20%20%20%20%20%0A%20%20%20%20%0A%20%20%20%20%20%20%20%20var%20popup_be1f0324becd4c9f86c05c58fee690f3%20%3D%20L.popup%28%7B%22maxWidth%22%3A%20%22100%25%22%7D%29%3B%0A%0A%20%20%20%20%20%20%20%20%0A%20%20%20%20%20%20%20%20%20%20%20%20var%20html_eba194083d4d4140925fd862c8fc3ec9%20%3D%20%24%28%60%3Cdiv%20id%3D%22html_eba194083d4d4140925fd862c8fc3ec9%22%20style%3D%22width%3A%20100.0%25%3B%20height%3A%20100.0%25%3B%22%3ESERVICIOS%20GASOLINEROS%20DE%20MEXICO%2C%20S.A.%20DE%20C.V.%20Regular%3A%2023.29%20Premium%3A%2025.39%20Diesel%3A%2018.79%3C/div%3E%60%29%5B0%5D%3B%0A%20%20%20%20%20%20%20%20%20%20%20%20popup_be1f0324becd4c9f86c05c58fee690f3.setContent%28html_eba194083d4d4140925fd862c8fc3ec9%29%3B%0A%20%20%20%20%20%20%20%20%0A%0A%20%20%20%20%20%20%20%20marker_3abcb30521a74b88bcf2f706557cfef3.bindPopup%28popup_be1f0324becd4c9f86c05c58fee690f3%29%0A%20%20%20%20%20%20%20%20%3B%0A%0A%20%20%20%20%20%20%20%20%0A%20%20%20%20%0A%20%20%20%20%0A%20%20%20%20%20%20%20%20%20%20%20%20var%20marker_ac43db40c3854dd194ecd242379d82d2%20%3D%20L.marker%28%0A%20%20%20%20%20%20%20%20%20%20%20%20%20%20%20%20%5B25.67446%2C%20-100.3329%5D%2C%0A%20%20%20%20%20%20%20%20%20%20%20%20%20%20%20%20%7B%7D%0A%20%20%20%20%20%20%20%20%20%20%20%20%29.addTo%28map_69c4093c35c84510a66873cc690378b6%29%3B%0A%20%20%20%20%20%20%20%20%0A%20%20%20%20%0A%20%20%20%20%20%20%20%20%20%20%20%20var%20icon_fbbfd0ac06d745699e8be0301fe31907%20%3D%20L.AwesomeMarkers.icon%28%0A%20%20%20%20%20%20%20%20%20%20%20%20%20%20%20%20%7B%22extraClasses%22%3A%20%22fa-rotate-0%22%2C%20%22icon%22%3A%20%22info-sign%22%2C%20%22iconColor%22%3A%20%22white%22%2C%20%22markerColor%22%3A%20%22blue%22%2C%20%22prefix%22%3A%20%22glyphicon%22%7D%0A%20%20%20%20%20%20%20%20%20%20%20%20%29%3B%0A%20%20%20%20%20%20%20%20%20%20%20%20marker_ac43db40c3854dd194ecd242379d82d2.setIcon%28icon_fbbfd0ac06d745699e8be0301fe31907%29%3B%0A%20%20%20%20%20%20%20%20%0A%20%20%20%20%0A%20%20%20%20%20%20%20%20var%20popup_a748ddf5e6bb435c9aaa002600f58230%20%3D%20L.popup%28%7B%22maxWidth%22%3A%20%22100%25%22%7D%29%3B%0A%0A%20%20%20%20%20%20%20%20%0A%20%20%20%20%20%20%20%20%20%20%20%20var%20html_7e31b74bbb284d43a683dad61db44796%20%3D%20%24%28%60%3Cdiv%20id%3D%22html_7e31b74bbb284d43a683dad61db44796%22%20style%3D%22width%3A%20100.0%25%3B%20height%3A%20100.0%25%3B%22%3ESERVICIOS%20GASOLINEROS%20DE%20MEXICO%2C%20S.A.%20DE%20C.V.%20Regular%3A%2023.29%20Premium%3A%2025.39%20Diesel%3A%20nan%3C/div%3E%60%29%5B0%5D%3B%0A%20%20%20%20%20%20%20%20%20%20%20%20popup_a748ddf5e6bb435c9aaa002600f58230.setContent%28html_7e31b74bbb284d43a683dad61db44796%29%3B%0A%20%20%20%20%20%20%20%20%0A%0A%20%20%20%20%20%20%20%20marker_ac43db40c3854dd194ecd242379d82d2.bindPopup%28popup_a748ddf5e6bb435c9aaa002600f58230%29%0A%20%20%20%20%20%20%20%20%3B%0A%0A%20%20%20%20%20%20%20%20%0A%20%20%20%20%0A%20%20%20%20%0A%20%20%20%20%20%20%20%20%20%20%20%20var%20marker_0c6fee115e454d3c94cf5f8e498bca06%20%3D%20L.marker%28%0A%20%20%20%20%20%20%20%20%20%20%20%20%20%20%20%20%5B25.67009%2C%20-100.3205%5D%2C%0A%20%20%20%20%20%20%20%20%20%20%20%20%20%20%20%20%7B%7D%0A%20%20%20%20%20%20%20%20%20%20%20%20%29.addTo%28map_69c4093c35c84510a66873cc690378b6%29%3B%0A%20%20%20%20%20%20%20%20%0A%20%20%20%20%0A%20%20%20%20%20%20%20%20%20%20%20%20var%20icon_42aacd7a317d4e75ad2cc04e15930e15%20%3D%20L.AwesomeMarkers.icon%28%0A%20%20%20%20%20%20%20%20%20%20%20%20%20%20%20%20%7B%22extraClasses%22%3A%20%22fa-rotate-0%22%2C%20%22icon%22%3A%20%22info-sign%22%2C%20%22iconColor%22%3A%20%22white%22%2C%20%22markerColor%22%3A%20%22blue%22%2C%20%22prefix%22%3A%20%22glyphicon%22%7D%0A%20%20%20%20%20%20%20%20%20%20%20%20%29%3B%0A%20%20%20%20%20%20%20%20%20%20%20%20marker_0c6fee115e454d3c94cf5f8e498bca06.setIcon%28icon_42aacd7a317d4e75ad2cc04e15930e15%29%3B%0A%20%20%20%20%20%20%20%20%0A%20%20%20%20%0A%20%20%20%20%20%20%20%20var%20popup_40c53c7fda5f459a83e30dcc1b41cd7c%20%3D%20L.popup%28%7B%22maxWidth%22%3A%20%22100%25%22%7D%29%3B%0A%0A%20%20%20%20%20%20%20%20%0A%20%20%20%20%20%20%20%20%20%20%20%20var%20html_1522de1988f447efb929527f4703784a%20%3D%20%24%28%60%3Cdiv%20id%3D%22html_1522de1988f447efb929527f4703784a%22%20style%3D%22width%3A%20100.0%25%3B%20height%3A%20100.0%25%3B%22%3EAUTO%20PARTES%20SERVICIO%20ROGELIO%2C%20S.A.%20Regular%3A%2021.98%20Premium%3A%2025.09%20Diesel%3A%20nan%3C/div%3E%60%29%5B0%5D%3B%0A%20%20%20%20%20%20%20%20%20%20%20%20popup_40c53c7fda5f459a83e30dcc1b41cd7c.setContent%28html_1522de1988f447efb929527f4703784a%29%3B%0A%20%20%20%20%20%20%20%20%0A%0A%20%20%20%20%20%20%20%20marker_0c6fee115e454d3c94cf5f8e498bca06.bindPopup%28popup_40c53c7fda5f459a83e30dcc1b41cd7c%29%0A%20%20%20%20%20%20%20%20%3B%0A%0A%20%20%20%20%20%20%20%20%0A%20%20%20%20%0A%20%20%20%20%0A%20%20%20%20%20%20%20%20%20%20%20%20var%20marker_8d900427c54b4d3089c22afb7a781485%20%3D%20L.marker%28%0A%20%20%20%20%20%20%20%20%20%20%20%20%20%20%20%20%5B25.69077%2C%20-100.2873%5D%2C%0A%20%20%20%20%20%20%20%20%20%20%20%20%20%20%20%20%7B%7D%0A%20%20%20%20%20%20%20%20%20%20%20%20%29.addTo%28map_69c4093c35c84510a66873cc690378b6%29%3B%0A%20%20%20%20%20%20%20%20%0A%20%20%20%20%0A%20%20%20%20%20%20%20%20%20%20%20%20var%20icon_242a872ee9d44dcfb5bf29a45ef453b9%20%3D%20L.AwesomeMarkers.icon%28%0A%20%20%20%20%20%20%20%20%20%20%20%20%20%20%20%20%7B%22extraClasses%22%3A%20%22fa-rotate-0%22%2C%20%22icon%22%3A%20%22info-sign%22%2C%20%22iconColor%22%3A%20%22white%22%2C%20%22markerColor%22%3A%20%22red%22%2C%20%22prefix%22%3A%20%22glyphicon%22%7D%0A%20%20%20%20%20%20%20%20%20%20%20%20%29%3B%0A%20%20%20%20%20%20%20%20%20%20%20%20marker_8d900427c54b4d3089c22afb7a781485.setIcon%28icon_242a872ee9d44dcfb5bf29a45ef453b9%29%3B%0A%20%20%20%20%20%20%20%20%0A%20%20%20%20%0A%20%20%20%20%20%20%20%20var%20popup_f55d740b804143f6acec97d56da81307%20%3D%20L.popup%28%7B%22maxWidth%22%3A%20%22100%25%22%7D%29%3B%0A%0A%20%20%20%20%20%20%20%20%0A%20%20%20%20%20%20%20%20%20%20%20%20var%20html_2b14b569f6c34e77b7cae2d719bfd524%20%3D%20%24%28%60%3Cdiv%20id%3D%22html_2b14b569f6c34e77b7cae2d719bfd524%22%20style%3D%22width%3A%20100.0%25%3B%20height%3A%20100.0%25%3B%22%3EORSAN%20DEL%20NORTE%20S.A.%20DE%20C.V.%20Regular%3A%2023.59%20Premium%3A%2025.79%20Diesel%3A%20nan%3C/div%3E%60%29%5B0%5D%3B%0A%20%20%20%20%20%20%20%20%20%20%20%20popup_f55d740b804143f6acec97d56da81307.setContent%28html_2b14b569f6c34e77b7cae2d719bfd524%29%3B%0A%20%20%20%20%20%20%20%20%0A%0A%20%20%20%20%20%20%20%20marker_8d900427c54b4d3089c22afb7a781485.bindPopup%28popup_f55d740b804143f6acec97d56da81307%29%0A%20%20%20%20%20%20%20%20%3B%0A%0A%20%20%20%20%20%20%20%20%0A%20%20%20%20%0A%20%20%20%20%0A%20%20%20%20%20%20%20%20%20%20%20%20var%20marker_7b895a3ffb014a12a1c641a9c0868565%20%3D%20L.marker%28%0A%20%20%20%20%20%20%20%20%20%20%20%20%20%20%20%20%5B25.71138%2C%20-100.2911%5D%2C%0A%20%20%20%20%20%20%20%20%20%20%20%20%20%20%20%20%7B%7D%0A%20%20%20%20%20%20%20%20%20%20%20%20%29.addTo%28map_69c4093c35c84510a66873cc690378b6%29%3B%0A%20%20%20%20%20%20%20%20%0A%20%20%20%20%0A%20%20%20%20%20%20%20%20%20%20%20%20var%20icon_8e04a1d600b9433bbaa02d5088dddcbe%20%3D%20L.AwesomeMarkers.icon%28%0A%20%20%20%20%20%20%20%20%20%20%20%20%20%20%20%20%7B%22extraClasses%22%3A%20%22fa-rotate-0%22%2C%20%22icon%22%3A%20%22info-sign%22%2C%20%22iconColor%22%3A%20%22white%22%2C%20%22markerColor%22%3A%20%22blue%22%2C%20%22prefix%22%3A%20%22glyphicon%22%7D%0A%20%20%20%20%20%20%20%20%20%20%20%20%29%3B%0A%20%20%20%20%20%20%20%20%20%20%20%20marker_7b895a3ffb014a12a1c641a9c0868565.setIcon%28icon_8e04a1d600b9433bbaa02d5088dddcbe%29%3B%0A%20%20%20%20%20%20%20%20%0A%20%20%20%20%0A%20%20%20%20%20%20%20%20var%20popup_d01cc60a242046319d039fedf727a2a0%20%3D%20L.popup%28%7B%22maxWidth%22%3A%20%22100%25%22%7D%29%3B%0A%0A%20%20%20%20%20%20%20%20%0A%20%20%20%20%20%20%20%20%20%20%20%20var%20html_05bdcc43ed0c4729ba495b52d6e5349d%20%3D%20%24%28%60%3Cdiv%20id%3D%22html_05bdcc43ed0c4729ba495b52d6e5349d%22%20style%3D%22width%3A%20100.0%25%3B%20height%3A%20100.0%25%3B%22%3EADMINISTRADORA%20DEL%20MERCADO%20DE%20ABASTOS%20ESTRELLA%2C%20SA%20Regular%3A%2021.99%20Premium%3A%2024.35%20Diesel%3A%2023.0%3C/div%3E%60%29%5B0%5D%3B%0A%20%20%20%20%20%20%20%20%20%20%20%20popup_d01cc60a242046319d039fedf727a2a0.setContent%28html_05bdcc43ed0c4729ba495b52d6e5349d%29%3B%0A%20%20%20%20%20%20%20%20%0A%0A%20%20%20%20%20%20%20%20marker_7b895a3ffb014a12a1c641a9c0868565.bindPopup%28popup_d01cc60a242046319d039fedf727a2a0%29%0A%20%20%20%20%20%20%20%20%3B%0A%0A%20%20%20%20%20%20%20%20%0A%20%20%20%20%0A%20%20%20%20%0A%20%20%20%20%20%20%20%20%20%20%20%20var%20marker_07a598057b094186810eb5c642cc690f%20%3D%20L.marker%28%0A%20%20%20%20%20%20%20%20%20%20%20%20%20%20%20%20%5B25.70414%2C%20-100.2871%5D%2C%0A%20%20%20%20%20%20%20%20%20%20%20%20%20%20%20%20%7B%7D%0A%20%20%20%20%20%20%20%20%20%20%20%20%29.addTo%28map_69c4093c35c84510a66873cc690378b6%29%3B%0A%20%20%20%20%20%20%20%20%0A%20%20%20%20%0A%20%20%20%20%20%20%20%20%20%20%20%20var%20icon_ece8f745b95c4a3783b484d5231578ee%20%3D%20L.AwesomeMarkers.icon%28%0A%20%20%20%20%20%20%20%20%20%20%20%20%20%20%20%20%7B%22extraClasses%22%3A%20%22fa-rotate-0%22%2C%20%22icon%22%3A%20%22info-sign%22%2C%20%22iconColor%22%3A%20%22white%22%2C%20%22markerColor%22%3A%20%22lightgreen%22%2C%20%22prefix%22%3A%20%22glyphicon%22%7D%0A%20%20%20%20%20%20%20%20%20%20%20%20%29%3B%0A%20%20%20%20%20%20%20%20%20%20%20%20marker_07a598057b094186810eb5c642cc690f.setIcon%28icon_ece8f745b95c4a3783b484d5231578ee%29%3B%0A%20%20%20%20%20%20%20%20%0A%20%20%20%20%0A%20%20%20%20%20%20%20%20var%20popup_28f8fea065584ac09092b00f61e1b2b3%20%3D%20L.popup%28%7B%22maxWidth%22%3A%20%22100%25%22%7D%29%3B%0A%0A%20%20%20%20%20%20%20%20%0A%20%20%20%20%20%20%20%20%20%20%20%20var%20html_d6e1ec93874944e6a3ce657284112fbb%20%3D%20%24%28%60%3Cdiv%20id%3D%22html_d6e1ec93874944e6a3ce657284112fbb%22%20style%3D%22width%3A%20100.0%25%3B%20height%3A%20100.0%25%3B%22%3EGrupo%20Gasolinero%20el%20Milagro%20SA%20de%20CV%20Regular%3A%2021.97%20Premium%3A%2023.99%20Diesel%3A%20nan%3C/div%3E%60%29%5B0%5D%3B%0A%20%20%20%20%20%20%20%20%20%20%20%20popup_28f8fea065584ac09092b00f61e1b2b3.setContent%28html_d6e1ec93874944e6a3ce657284112fbb%29%3B%0A%20%20%20%20%20%20%20%20%0A%0A%20%20%20%20%20%20%20%20marker_07a598057b094186810eb5c642cc690f.bindPopup%28popup_28f8fea065584ac09092b00f61e1b2b3%29%0A%20%20%20%20%20%20%20%20%3B%0A%0A%20%20%20%20%20%20%20%20%0A%20%20%20%20%0A%20%20%20%20%0A%20%20%20%20%20%20%20%20%20%20%20%20var%20marker_c95a4fac782a42d9a045f32a13a3837d%20%3D%20L.marker%28%0A%20%20%20%20%20%20%20%20%20%20%20%20%20%20%20%20%5B25.68799%2C%20-100.3467%5D%2C%0A%20%20%20%20%20%20%20%20%20%20%20%20%20%20%20%20%7B%7D%0A%20%20%20%20%20%20%20%20%20%20%20%20%29.addTo%28map_69c4093c35c84510a66873cc690378b6%29%3B%0A%20%20%20%20%20%20%20%20%0A%20%20%20%20%0A%20%20%20%20%20%20%20%20%20%20%20%20var%20icon_1f2599f057d84376b5b6aa3d3ea720c8%20%3D%20L.AwesomeMarkers.icon%28%0A%20%20%20%20%20%20%20%20%20%20%20%20%20%20%20%20%7B%22extraClasses%22%3A%20%22fa-rotate-0%22%2C%20%22icon%22%3A%20%22info-sign%22%2C%20%22iconColor%22%3A%20%22white%22%2C%20%22markerColor%22%3A%20%22blue%22%2C%20%22prefix%22%3A%20%22glyphicon%22%7D%0A%20%20%20%20%20%20%20%20%20%20%20%20%29%3B%0A%20%20%20%20%20%20%20%20%20%20%20%20marker_c95a4fac782a42d9a045f32a13a3837d.setIcon%28icon_1f2599f057d84376b5b6aa3d3ea720c8%29%3B%0A%20%20%20%20%20%20%20%20%0A%20%20%20%20%0A%20%20%20%20%20%20%20%20var%20popup_a79f7f7e125d4bbd85e252726d0d75cc%20%3D%20L.popup%28%7B%22maxWidth%22%3A%20%22100%25%22%7D%29%3B%0A%0A%20%20%20%20%20%20%20%20%0A%20%20%20%20%20%20%20%20%20%20%20%20var%20html_33ec96cf84584a38a1561c9d5e58cf69%20%3D%20%24%28%60%3Cdiv%20id%3D%22html_33ec96cf84584a38a1561c9d5e58cf69%22%20style%3D%22width%3A%20100.0%25%3B%20height%3A%20100.0%25%3B%22%3ESERVICIO%20COSMART%20MITRAS%20SA%20DE%20CV%20Regular%3A%2023.29%20Premium%3A%2025.39%20Diesel%3A%20nan%3C/div%3E%60%29%5B0%5D%3B%0A%20%20%20%20%20%20%20%20%20%20%20%20popup_a79f7f7e125d4bbd85e252726d0d75cc.setContent%28html_33ec96cf84584a38a1561c9d5e58cf69%29%3B%0A%20%20%20%20%20%20%20%20%0A%0A%20%20%20%20%20%20%20%20marker_c95a4fac782a42d9a045f32a13a3837d.bindPopup%28popup_a79f7f7e125d4bbd85e252726d0d75cc%29%0A%20%20%20%20%20%20%20%20%3B%0A%0A%20%20%20%20%20%20%20%20%0A%20%20%20%20%0A%20%20%20%20%0A%20%20%20%20%20%20%20%20%20%20%20%20var%20marker_852f48204ea14c8fb210552c022b28a9%20%3D%20L.marker%28%0A%20%20%20%20%20%20%20%20%20%20%20%20%20%20%20%20%5B25.67186%2C%20-100.3329%5D%2C%0A%20%20%20%20%20%20%20%20%20%20%20%20%20%20%20%20%7B%7D%0A%20%20%20%20%20%20%20%20%20%20%20%20%29.addTo%28map_69c4093c35c84510a66873cc690378b6%29%3B%0A%20%20%20%20%20%20%20%20%0A%20%20%20%20%0A%20%20%20%20%20%20%20%20%20%20%20%20var%20icon_3dbd878ea34c417eafb0924f98d69435%20%3D%20L.AwesomeMarkers.icon%28%0A%20%20%20%20%20%20%20%20%20%20%20%20%20%20%20%20%7B%22extraClasses%22%3A%20%22fa-rotate-0%22%2C%20%22icon%22%3A%20%22info-sign%22%2C%20%22iconColor%22%3A%20%22white%22%2C%20%22markerColor%22%3A%20%22blue%22%2C%20%22prefix%22%3A%20%22glyphicon%22%7D%0A%20%20%20%20%20%20%20%20%20%20%20%20%29%3B%0A%20%20%20%20%20%20%20%20%20%20%20%20marker_852f48204ea14c8fb210552c022b28a9.setIcon%28icon_3dbd878ea34c417eafb0924f98d69435%29%3B%0A%20%20%20%20%20%20%20%20%0A%20%20%20%20%0A%20%20%20%20%20%20%20%20var%20popup_e1f02501896f474181ad9a92b5f51348%20%3D%20L.popup%28%7B%22maxWidth%22%3A%20%22100%25%22%7D%29%3B%0A%0A%20%20%20%20%20%20%20%20%0A%20%20%20%20%20%20%20%20%20%20%20%20var%20html_855c07c11f224af3ad8481d1b6e93a02%20%3D%20%24%28%60%3Cdiv%20id%3D%22html_855c07c11f224af3ad8481d1b6e93a02%22%20style%3D%22width%3A%20100.0%25%3B%20height%3A%20100.0%25%3B%22%3EReflex%20S.A.%20de%20C.V.%20%20Regular%3A%2023.29%20Premium%3A%2025.39%20Diesel%3A%20nan%3C/div%3E%60%29%5B0%5D%3B%0A%20%20%20%20%20%20%20%20%20%20%20%20popup_e1f02501896f474181ad9a92b5f51348.setContent%28html_855c07c11f224af3ad8481d1b6e93a02%29%3B%0A%20%20%20%20%20%20%20%20%0A%0A%20%20%20%20%20%20%20%20marker_852f48204ea14c8fb210552c022b28a9.bindPopup%28popup_e1f02501896f474181ad9a92b5f51348%29%0A%20%20%20%20%20%20%20%20%3B%0A%0A%20%20%20%20%20%20%20%20%0A%20%20%20%20%0A%20%20%20%20%0A%20%20%20%20%20%20%20%20%20%20%20%20var%20marker_9fca841e25dc4a538b90110046f382d6%20%3D%20L.marker%28%0A%20%20%20%20%20%20%20%20%20%20%20%20%20%20%20%20%5B25.67029%2C%20-100.3298%5D%2C%0A%20%20%20%20%20%20%20%20%20%20%20%20%20%20%20%20%7B%7D%0A%20%20%20%20%20%20%20%20%20%20%20%20%29.addTo%28map_69c4093c35c84510a66873cc690378b6%29%3B%0A%20%20%20%20%20%20%20%20%0A%20%20%20%20%0A%20%20%20%20%20%20%20%20%20%20%20%20var%20icon_0e0b8b8fd1344672801c4cfc1d0e3752%20%3D%20L.AwesomeMarkers.icon%28%0A%20%20%20%20%20%20%20%20%20%20%20%20%20%20%20%20%7B%22extraClasses%22%3A%20%22fa-rotate-0%22%2C%20%22icon%22%3A%20%22info-sign%22%2C%20%22iconColor%22%3A%20%22white%22%2C%20%22markerColor%22%3A%20%22lightgreen%22%2C%20%22prefix%22%3A%20%22glyphicon%22%7D%0A%20%20%20%20%20%20%20%20%20%20%20%20%29%3B%0A%20%20%20%20%20%20%20%20%20%20%20%20marker_9fca841e25dc4a538b90110046f382d6.setIcon%28icon_0e0b8b8fd1344672801c4cfc1d0e3752%29%3B%0A%20%20%20%20%20%20%20%20%0A%20%20%20%20%0A%20%20%20%20%20%20%20%20var%20popup_459d5996893148fb99f37e721c51a559%20%3D%20L.popup%28%7B%22maxWidth%22%3A%20%22100%25%22%7D%29%3B%0A%0A%20%20%20%20%20%20%20%20%0A%20%20%20%20%20%20%20%20%20%20%20%20var%20html_452c8be31ffb41d0895bde0862743563%20%3D%20%24%28%60%3Cdiv%20id%3D%22html_452c8be31ffb41d0895bde0862743563%22%20style%3D%22width%3A%20100.0%25%3B%20height%3A%20100.0%25%3B%22%3EVALORES%20ENERGETICOS%20COMERCIALES%20Y%20DE%20SERVICIOS%20SA%20%20Regular%3A%2021.79%20Premium%3A%2024.09%20Diesel%3A%20nan%3C/div%3E%60%29%5B0%5D%3B%0A%20%20%20%20%20%20%20%20%20%20%20%20popup_459d5996893148fb99f37e721c51a559.setContent%28html_452c8be31ffb41d0895bde0862743563%29%3B%0A%20%20%20%20%20%20%20%20%0A%0A%20%20%20%20%20%20%20%20marker_9fca841e25dc4a538b90110046f382d6.bindPopup%28popup_459d5996893148fb99f37e721c51a559%29%0A%20%20%20%20%20%20%20%20%3B%0A%0A%20%20%20%20%20%20%20%20%0A%20%20%20%20%0A%20%20%20%20%0A%20%20%20%20%20%20%20%20%20%20%20%20var%20marker_76434e6a5e464a00a4d8de5bbdb165aa%20%3D%20L.marker%28%0A%20%20%20%20%20%20%20%20%20%20%20%20%20%20%20%20%5B25.68051%2C%20-100.2902%5D%2C%0A%20%20%20%20%20%20%20%20%20%20%20%20%20%20%20%20%7B%7D%0A%20%20%20%20%20%20%20%20%20%20%20%20%29.addTo%28map_69c4093c35c84510a66873cc690378b6%29%3B%0A%20%20%20%20%20%20%20%20%0A%20%20%20%20%0A%20%20%20%20%20%20%20%20%20%20%20%20var%20icon_e444d1872a2044a78bdc6ef77997455d%20%3D%20L.AwesomeMarkers.icon%28%0A%20%20%20%20%20%20%20%20%20%20%20%20%20%20%20%20%7B%22extraClasses%22%3A%20%22fa-rotate-0%22%2C%20%22icon%22%3A%20%22info-sign%22%2C%20%22iconColor%22%3A%20%22white%22%2C%20%22markerColor%22%3A%20%22lightgreen%22%2C%20%22prefix%22%3A%20%22glyphicon%22%7D%0A%20%20%20%20%20%20%20%20%20%20%20%20%29%3B%0A%20%20%20%20%20%20%20%20%20%20%20%20marker_76434e6a5e464a00a4d8de5bbdb165aa.setIcon%28icon_e444d1872a2044a78bdc6ef77997455d%29%3B%0A%20%20%20%20%20%20%20%20%0A%20%20%20%20%0A%20%20%20%20%20%20%20%20var%20popup_0f212b9ece824f6e87a90c2a78023f7e%20%3D%20L.popup%28%7B%22maxWidth%22%3A%20%22100%25%22%7D%29%3B%0A%0A%20%20%20%20%20%20%20%20%0A%20%20%20%20%20%20%20%20%20%20%20%20var%20html_37789a90664b4cfdbf1a46cba53972f5%20%3D%20%24%28%60%3Cdiv%20id%3D%22html_37789a90664b4cfdbf1a46cba53972f5%22%20style%3D%22width%3A%20100.0%25%3B%20height%3A%20100.0%25%3B%22%3ESERVICIO%20PARQUE%20FUNDIDORA%20SA%20DE%20CV%20Regular%3A%2021.29%20Premium%3A%2024.09%20Diesel%3A%20nan%3C/div%3E%60%29%5B0%5D%3B%0A%20%20%20%20%20%20%20%20%20%20%20%20popup_0f212b9ece824f6e87a90c2a78023f7e.setContent%28html_37789a90664b4cfdbf1a46cba53972f5%29%3B%0A%20%20%20%20%20%20%20%20%0A%0A%20%20%20%20%20%20%20%20marker_76434e6a5e464a00a4d8de5bbdb165aa.bindPopup%28popup_0f212b9ece824f6e87a90c2a78023f7e%29%0A%20%20%20%20%20%20%20%20%3B%0A%0A%20%20%20%20%20%20%20%20%0A%20%20%20%20%0A%20%20%20%20%0A%20%20%20%20%20%20%20%20%20%20%20%20var%20marker_5ad6925f14e54156858d8787ac4a7ae5%20%3D%20L.marker%28%0A%20%20%20%20%20%20%20%20%20%20%20%20%20%20%20%20%5B25.66751%2C%20-100.3207%5D%2C%0A%20%20%20%20%20%20%20%20%20%20%20%20%20%20%20%20%7B%7D%0A%20%20%20%20%20%20%20%20%20%20%20%20%29.addTo%28map_69c4093c35c84510a66873cc690378b6%29%3B%0A%20%20%20%20%20%20%20%20%0A%20%20%20%20%0A%20%20%20%20%20%20%20%20%20%20%20%20var%20icon_4feefaf3abf347569187a9ee9b239836%20%3D%20L.AwesomeMarkers.icon%28%0A%20%20%20%20%20%20%20%20%20%20%20%20%20%20%20%20%7B%22extraClasses%22%3A%20%22fa-rotate-0%22%2C%20%22icon%22%3A%20%22info-sign%22%2C%20%22iconColor%22%3A%20%22white%22%2C%20%22markerColor%22%3A%20%22blue%22%2C%20%22prefix%22%3A%20%22glyphicon%22%7D%0A%20%20%20%20%20%20%20%20%20%20%20%20%29%3B%0A%20%20%20%20%20%20%20%20%20%20%20%20marker_5ad6925f14e54156858d8787ac4a7ae5.setIcon%28icon_4feefaf3abf347569187a9ee9b239836%29%3B%0A%20%20%20%20%20%20%20%20%0A%20%20%20%20%0A%20%20%20%20%20%20%20%20var%20popup_3e40016e90dd4c938cce5a13ed8b83cd%20%3D%20L.popup%28%7B%22maxWidth%22%3A%20%22100%25%22%7D%29%3B%0A%0A%20%20%20%20%20%20%20%20%0A%20%20%20%20%20%20%20%20%20%20%20%20var%20html_a17ce3b362324907b480ac067032cd37%20%3D%20%24%28%60%3Cdiv%20id%3D%22html_a17ce3b362324907b480ac067032cd37%22%20style%3D%22width%3A%20100.0%25%3B%20height%3A%20100.0%25%3B%22%3EPETROMAX%2C%20S.A.%20DE%20C.V.%20Regular%3A%2021.99%20Premium%3A%2025.39%20Diesel%3A%20nan%3C/div%3E%60%29%5B0%5D%3B%0A%20%20%20%20%20%20%20%20%20%20%20%20popup_3e40016e90dd4c938cce5a13ed8b83cd.setContent%28html_a17ce3b362324907b480ac067032cd37%29%3B%0A%20%20%20%20%20%20%20%20%0A%0A%20%20%20%20%20%20%20%20marker_5ad6925f14e54156858d8787ac4a7ae5.bindPopup%28popup_3e40016e90dd4c938cce5a13ed8b83cd%29%0A%20%20%20%20%20%20%20%20%3B%0A%0A%20%20%20%20%20%20%20%20%0A%20%20%20%20%0A%20%20%20%20%0A%20%20%20%20%20%20%20%20%20%20%20%20var%20marker_bc4ccf2ce6ef401a8648c2764818c814%20%3D%20L.marker%28%0A%20%20%20%20%20%20%20%20%20%20%20%20%20%20%20%20%5B25.72574%2C%20-100.3175%5D%2C%0A%20%20%20%20%20%20%20%20%20%20%20%20%20%20%20%20%7B%7D%0A%20%20%20%20%20%20%20%20%20%20%20%20%29.addTo%28map_69c4093c35c84510a66873cc690378b6%29%3B%0A%20%20%20%20%20%20%20%20%0A%20%20%20%20%0A%20%20%20%20%20%20%20%20%20%20%20%20var%20icon_2acaa26c419d469c846980973eec800f%20%3D%20L.AwesomeMarkers.icon%28%0A%20%20%20%20%20%20%20%20%20%20%20%20%20%20%20%20%7B%22extraClasses%22%3A%20%22fa-rotate-0%22%2C%20%22icon%22%3A%20%22info-sign%22%2C%20%22iconColor%22%3A%20%22white%22%2C%20%22markerColor%22%3A%20%22blue%22%2C%20%22prefix%22%3A%20%22glyphicon%22%7D%0A%20%20%20%20%20%20%20%20%20%20%20%20%29%3B%0A%20%20%20%20%20%20%20%20%20%20%20%20marker_bc4ccf2ce6ef401a8648c2764818c814.setIcon%28icon_2acaa26c419d469c846980973eec800f%29%3B%0A%20%20%20%20%20%20%20%20%0A%20%20%20%20%0A%20%20%20%20%20%20%20%20var%20popup_fe176e9efb3445f8b0c04c05fc3e28e9%20%3D%20L.popup%28%7B%22maxWidth%22%3A%20%22100%25%22%7D%29%3B%0A%0A%20%20%20%20%20%20%20%20%0A%20%20%20%20%20%20%20%20%20%20%20%20var%20html_af93c0ae07494d12a4a0bd98bc6a54bf%20%3D%20%24%28%60%3Cdiv%20id%3D%22html_af93c0ae07494d12a4a0bd98bc6a54bf%22%20style%3D%22width%3A%20100.0%25%3B%20height%3A%20100.0%25%3B%22%3EPETROMAX%2C%20S.A.%20DE%20C.V.%20Regular%3A%2023.29%20Premium%3A%2025.39%20Diesel%3A%20nan%3C/div%3E%60%29%5B0%5D%3B%0A%20%20%20%20%20%20%20%20%20%20%20%20popup_fe176e9efb3445f8b0c04c05fc3e28e9.setContent%28html_af93c0ae07494d12a4a0bd98bc6a54bf%29%3B%0A%20%20%20%20%20%20%20%20%0A%0A%20%20%20%20%20%20%20%20marker_bc4ccf2ce6ef401a8648c2764818c814.bindPopup%28popup_fe176e9efb3445f8b0c04c05fc3e28e9%29%0A%20%20%20%20%20%20%20%20%3B%0A%0A%20%20%20%20%20%20%20%20%0A%20%20%20%20%0A%20%20%20%20%0A%20%20%20%20%20%20%20%20%20%20%20%20var%20marker_01098c9392404b06b1651130945392ba%20%3D%20L.marker%28%0A%20%20%20%20%20%20%20%20%20%20%20%20%20%20%20%20%5B25.6798%2C%20-100.29%5D%2C%0A%20%20%20%20%20%20%20%20%20%20%20%20%20%20%20%20%7B%7D%0A%20%20%20%20%20%20%20%20%20%20%20%20%29.addTo%28map_69c4093c35c84510a66873cc690378b6%29%3B%0A%20%20%20%20%20%20%20%20%0A%20%20%20%20%0A%20%20%20%20%20%20%20%20%20%20%20%20var%20icon_7bb89ca9f42d437697c9d4ffec1bc7d1%20%3D%20L.AwesomeMarkers.icon%28%0A%20%20%20%20%20%20%20%20%20%20%20%20%20%20%20%20%7B%22extraClasses%22%3A%20%22fa-rotate-0%22%2C%20%22icon%22%3A%20%22info-sign%22%2C%20%22iconColor%22%3A%20%22white%22%2C%20%22markerColor%22%3A%20%22lightgreen%22%2C%20%22prefix%22%3A%20%22glyphicon%22%7D%0A%20%20%20%20%20%20%20%20%20%20%20%20%29%3B%0A%20%20%20%20%20%20%20%20%20%20%20%20marker_01098c9392404b06b1651130945392ba.setIcon%28icon_7bb89ca9f42d437697c9d4ffec1bc7d1%29%3B%0A%20%20%20%20%20%20%20%20%0A%20%20%20%20%0A%20%20%20%20%20%20%20%20var%20popup_af88110bc4b04fc5aeedf8b32ac0b2ce%20%3D%20L.popup%28%7B%22maxWidth%22%3A%20%22100%25%22%7D%29%3B%0A%0A%20%20%20%20%20%20%20%20%0A%20%20%20%20%20%20%20%20%20%20%20%20var%20html_ed06b1ce673f4ef6bd37dbacba527ab8%20%3D%20%24%28%60%3Cdiv%20id%3D%22html_ed06b1ce673f4ef6bd37dbacba527ab8%22%20style%3D%22width%3A%20100.0%25%3B%20height%3A%20100.0%25%3B%22%3EMARIA%20DEL%20CARMEN%20ANDREA%20ESTRADA%20NAVARRO%20Regular%3A%2021.59%20Premium%3A%2024.3%20Diesel%3A%20nan%3C/div%3E%60%29%5B0%5D%3B%0A%20%20%20%20%20%20%20%20%20%20%20%20popup_af88110bc4b04fc5aeedf8b32ac0b2ce.setContent%28html_ed06b1ce673f4ef6bd37dbacba527ab8%29%3B%0A%20%20%20%20%20%20%20%20%0A%0A%20%20%20%20%20%20%20%20marker_01098c9392404b06b1651130945392ba.bindPopup%28popup_af88110bc4b04fc5aeedf8b32ac0b2ce%29%0A%20%20%20%20%20%20%20%20%3B%0A%0A%20%20%20%20%20%20%20%20%0A%20%20%20%20%0A%20%20%20%20%0A%20%20%20%20%20%20%20%20%20%20%20%20var%20marker_c27fe79fe0364d12ac73d2f40e2f1b1e%20%3D%20L.marker%28%0A%20%20%20%20%20%20%20%20%20%20%20%20%20%20%20%20%5B25.70467%2C%20-100.3482%5D%2C%0A%20%20%20%20%20%20%20%20%20%20%20%20%20%20%20%20%7B%7D%0A%20%20%20%20%20%20%20%20%20%20%20%20%29.addTo%28map_69c4093c35c84510a66873cc690378b6%29%3B%0A%20%20%20%20%20%20%20%20%0A%20%20%20%20%0A%20%20%20%20%20%20%20%20%20%20%20%20var%20icon_9ab883b4e1d74925b71897fa0dce3ea6%20%3D%20L.AwesomeMarkers.icon%28%0A%20%20%20%20%20%20%20%20%20%20%20%20%20%20%20%20%7B%22extraClasses%22%3A%20%22fa-rotate-0%22%2C%20%22icon%22%3A%20%22info-sign%22%2C%20%22iconColor%22%3A%20%22white%22%2C%20%22markerColor%22%3A%20%22blue%22%2C%20%22prefix%22%3A%20%22glyphicon%22%7D%0A%20%20%20%20%20%20%20%20%20%20%20%20%29%3B%0A%20%20%20%20%20%20%20%20%20%20%20%20marker_c27fe79fe0364d12ac73d2f40e2f1b1e.setIcon%28icon_9ab883b4e1d74925b71897fa0dce3ea6%29%3B%0A%20%20%20%20%20%20%20%20%0A%20%20%20%20%0A%20%20%20%20%20%20%20%20var%20popup_cfc56b600cff4a56a10e517895d950b2%20%3D%20L.popup%28%7B%22maxWidth%22%3A%20%22100%25%22%7D%29%3B%0A%0A%20%20%20%20%20%20%20%20%0A%20%20%20%20%20%20%20%20%20%20%20%20var%20html_2a2522ddce504ef391b3932ad72ce238%20%3D%20%24%28%60%3Cdiv%20id%3D%22html_2a2522ddce504ef391b3932ad72ce238%22%20style%3D%22width%3A%20100.0%25%3B%20height%3A%20100.0%25%3B%22%3ESERVICIOS%20GASOLINEROS%20DE%20MEXICO%2C%20S.A.%20DE%20C.V.%20Regular%3A%2023.29%20Premium%3A%2025.39%20Diesel%3A%20nan%3C/div%3E%60%29%5B0%5D%3B%0A%20%20%20%20%20%20%20%20%20%20%20%20popup_cfc56b600cff4a56a10e517895d950b2.setContent%28html_2a2522ddce504ef391b3932ad72ce238%29%3B%0A%20%20%20%20%20%20%20%20%0A%0A%20%20%20%20%20%20%20%20marker_c27fe79fe0364d12ac73d2f40e2f1b1e.bindPopup%28popup_cfc56b600cff4a56a10e517895d950b2%29%0A%20%20%20%20%20%20%20%20%3B%0A%0A%20%20%20%20%20%20%20%20%0A%20%20%20%20%0A%20%20%20%20%0A%20%20%20%20%20%20%20%20%20%20%20%20var%20marker_19b736fce8bf46349d1e7a3ede745327%20%3D%20L.marker%28%0A%20%20%20%20%20%20%20%20%20%20%20%20%20%20%20%20%5B25.72447%2C%20-100.3279%5D%2C%0A%20%20%20%20%20%20%20%20%20%20%20%20%20%20%20%20%7B%7D%0A%20%20%20%20%20%20%20%20%20%20%20%20%29.addTo%28map_69c4093c35c84510a66873cc690378b6%29%3B%0A%20%20%20%20%20%20%20%20%0A%20%20%20%20%0A%20%20%20%20%20%20%20%20%20%20%20%20var%20icon_cf24a696b0db4debaeb25989a9a0f56e%20%3D%20L.AwesomeMarkers.icon%28%0A%20%20%20%20%20%20%20%20%20%20%20%20%20%20%20%20%7B%22extraClasses%22%3A%20%22fa-rotate-0%22%2C%20%22icon%22%3A%20%22info-sign%22%2C%20%22iconColor%22%3A%20%22white%22%2C%20%22markerColor%22%3A%20%22blue%22%2C%20%22prefix%22%3A%20%22glyphicon%22%7D%0A%20%20%20%20%20%20%20%20%20%20%20%20%29%3B%0A%20%20%20%20%20%20%20%20%20%20%20%20marker_19b736fce8bf46349d1e7a3ede745327.setIcon%28icon_cf24a696b0db4debaeb25989a9a0f56e%29%3B%0A%20%20%20%20%20%20%20%20%0A%20%20%20%20%0A%20%20%20%20%20%20%20%20var%20popup_b8c9eea4dc22480bae299d3ea912ad6a%20%3D%20L.popup%28%7B%22maxWidth%22%3A%20%22100%25%22%7D%29%3B%0A%0A%20%20%20%20%20%20%20%20%0A%20%20%20%20%20%20%20%20%20%20%20%20var%20html_d6020856838f4bbd8410f004cef2c215%20%3D%20%24%28%60%3Cdiv%20id%3D%22html_d6020856838f4bbd8410f004cef2c215%22%20style%3D%22width%3A%20100.0%25%3B%20height%3A%20100.0%25%3B%22%3ESERVICO%20ARCO%20VIAL%2C%20S.A.%20DE%20C.V.%20Regular%3A%2021.98%20Premium%3A%2025.09%20Diesel%3A%20nan%3C/div%3E%60%29%5B0%5D%3B%0A%20%20%20%20%20%20%20%20%20%20%20%20popup_b8c9eea4dc22480bae299d3ea912ad6a.setContent%28html_d6020856838f4bbd8410f004cef2c215%29%3B%0A%20%20%20%20%20%20%20%20%0A%0A%20%20%20%20%20%20%20%20marker_19b736fce8bf46349d1e7a3ede745327.bindPopup%28popup_b8c9eea4dc22480bae299d3ea912ad6a%29%0A%20%20%20%20%20%20%20%20%3B%0A%0A%20%20%20%20%20%20%20%20%0A%20%20%20%20%0A%20%20%20%20%0A%20%20%20%20%20%20%20%20%20%20%20%20var%20marker_3177f197f4ce49fb9800c7a2bb47827a%20%3D%20L.marker%28%0A%20%20%20%20%20%20%20%20%20%20%20%20%20%20%20%20%5B25.7095%2C%20-100.2872%5D%2C%0A%20%20%20%20%20%20%20%20%20%20%20%20%20%20%20%20%7B%7D%0A%20%20%20%20%20%20%20%20%20%20%20%20%29.addTo%28map_69c4093c35c84510a66873cc690378b6%29%3B%0A%20%20%20%20%20%20%20%20%0A%20%20%20%20%0A%20%20%20%20%20%20%20%20%20%20%20%20var%20icon_9c65210073184e16a50345296a09d8b1%20%3D%20L.AwesomeMarkers.icon%28%0A%20%20%20%20%20%20%20%20%20%20%20%20%20%20%20%20%7B%22extraClasses%22%3A%20%22fa-rotate-0%22%2C%20%22icon%22%3A%20%22info-sign%22%2C%20%22iconColor%22%3A%20%22white%22%2C%20%22markerColor%22%3A%20%22blue%22%2C%20%22prefix%22%3A%20%22glyphicon%22%7D%0A%20%20%20%20%20%20%20%20%20%20%20%20%29%3B%0A%20%20%20%20%20%20%20%20%20%20%20%20marker_3177f197f4ce49fb9800c7a2bb47827a.setIcon%28icon_9c65210073184e16a50345296a09d8b1%29%3B%0A%20%20%20%20%20%20%20%20%0A%20%20%20%20%0A%20%20%20%20%20%20%20%20var%20popup_86e18fab0f5b42948397eac942ea5e53%20%3D%20L.popup%28%7B%22maxWidth%22%3A%20%22100%25%22%7D%29%3B%0A%0A%20%20%20%20%20%20%20%20%0A%20%20%20%20%20%20%20%20%20%20%20%20var%20html_b9725c7d81194b7dac074ac85d2c4f41%20%3D%20%24%28%60%3Cdiv%20id%3D%22html_b9725c7d81194b7dac074ac85d2c4f41%22%20style%3D%22width%3A%20100.0%25%3B%20height%3A%20100.0%25%3B%22%3ECOMBUSTIBLES%20TERMOGAS%20SA%20DE%20CV%20Regular%3A%2022.29%20Premium%3A%2024.55%20Diesel%3A%2023.39%3C/div%3E%60%29%5B0%5D%3B%0A%20%20%20%20%20%20%20%20%20%20%20%20popup_86e18fab0f5b42948397eac942ea5e53.setContent%28html_b9725c7d81194b7dac074ac85d2c4f41%29%3B%0A%20%20%20%20%20%20%20%20%0A%0A%20%20%20%20%20%20%20%20marker_3177f197f4ce49fb9800c7a2bb47827a.bindPopup%28popup_86e18fab0f5b42948397eac942ea5e53%29%0A%20%20%20%20%20%20%20%20%3B%0A%0A%20%20%20%20%20%20%20%20%0A%20%20%20%20%0A%20%20%20%20%0A%20%20%20%20%20%20%20%20%20%20%20%20var%20marker_a783f79a206b4cfb881771c22a38b974%20%3D%20L.marker%28%0A%20%20%20%20%20%20%20%20%20%20%20%20%20%20%20%20%5B25.68344%2C%20-100.287%5D%2C%0A%20%20%20%20%20%20%20%20%20%20%20%20%20%20%20%20%7B%7D%0A%20%20%20%20%20%20%20%20%20%20%20%20%29.addTo%28map_69c4093c35c84510a66873cc690378b6%29%3B%0A%20%20%20%20%20%20%20%20%0A%20%20%20%20%0A%20%20%20%20%20%20%20%20%20%20%20%20var%20icon_de2ccf512e28461c9e69a81765d713f7%20%3D%20L.AwesomeMarkers.icon%28%0A%20%20%20%20%20%20%20%20%20%20%20%20%20%20%20%20%7B%22extraClasses%22%3A%20%22fa-rotate-0%22%2C%20%22icon%22%3A%20%22info-sign%22%2C%20%22iconColor%22%3A%20%22white%22%2C%20%22markerColor%22%3A%20%22lightgreen%22%2C%20%22prefix%22%3A%20%22glyphicon%22%7D%0A%20%20%20%20%20%20%20%20%20%20%20%20%29%3B%0A%20%20%20%20%20%20%20%20%20%20%20%20marker_a783f79a206b4cfb881771c22a38b974.setIcon%28icon_de2ccf512e28461c9e69a81765d713f7%29%3B%0A%20%20%20%20%20%20%20%20%0A%20%20%20%20%0A%20%20%20%20%20%20%20%20var%20popup_e994d5d5ccb34435a56cb457a724378f%20%3D%20L.popup%28%7B%22maxWidth%22%3A%20%22100%25%22%7D%29%3B%0A%0A%20%20%20%20%20%20%20%20%0A%20%20%20%20%20%20%20%20%20%20%20%20var%20html_1281cf628a7b4289b50573e9b7063ca9%20%3D%20%24%28%60%3Cdiv%20id%3D%22html_1281cf628a7b4289b50573e9b7063ca9%22%20style%3D%22width%3A%20100.0%25%3B%20height%3A%20100.0%25%3B%22%3ESERVIGAZ%20COLON%2C%20S.A.%20DE%20C.V.%20Regular%3A%2021.27%20Premium%3A%2023.97%20Diesel%3A%2023.37%3C/div%3E%60%29%5B0%5D%3B%0A%20%20%20%20%20%20%20%20%20%20%20%20popup_e994d5d5ccb34435a56cb457a724378f.setContent%28html_1281cf628a7b4289b50573e9b7063ca9%29%3B%0A%20%20%20%20%20%20%20%20%0A%0A%20%20%20%20%20%20%20%20marker_a783f79a206b4cfb881771c22a38b974.bindPopup%28popup_e994d5d5ccb34435a56cb457a724378f%29%0A%20%20%20%20%20%20%20%20%3B%0A%0A%20%20%20%20%20%20%20%20%0A%20%20%20%20%0A%20%20%20%20%0A%20%20%20%20%20%20%20%20%20%20%20%20var%20marker_97cb2078996441459181fea1f67ce4f0%20%3D%20L.marker%28%0A%20%20%20%20%20%20%20%20%20%20%20%20%20%20%20%20%5B25.70514%2C%20-100.3487%5D%2C%0A%20%20%20%20%20%20%20%20%20%20%20%20%20%20%20%20%7B%7D%0A%20%20%20%20%20%20%20%20%20%20%20%20%29.addTo%28map_69c4093c35c84510a66873cc690378b6%29%3B%0A%20%20%20%20%20%20%20%20%0A%20%20%20%20%0A%20%20%20%20%20%20%20%20%20%20%20%20var%20icon_939208d548984288a28b6b54df54c379%20%3D%20L.AwesomeMarkers.icon%28%0A%20%20%20%20%20%20%20%20%20%20%20%20%20%20%20%20%7B%22extraClasses%22%3A%20%22fa-rotate-0%22%2C%20%22icon%22%3A%20%22info-sign%22%2C%20%22iconColor%22%3A%20%22white%22%2C%20%22markerColor%22%3A%20%22blue%22%2C%20%22prefix%22%3A%20%22glyphicon%22%7D%0A%20%20%20%20%20%20%20%20%20%20%20%20%29%3B%0A%20%20%20%20%20%20%20%20%20%20%20%20marker_97cb2078996441459181fea1f67ce4f0.setIcon%28icon_939208d548984288a28b6b54df54c379%29%3B%0A%20%20%20%20%20%20%20%20%0A%20%20%20%20%0A%20%20%20%20%20%20%20%20var%20popup_e0467cf8ba4441609df21b3085499fb7%20%3D%20L.popup%28%7B%22maxWidth%22%3A%20%22100%25%22%7D%29%3B%0A%0A%20%20%20%20%20%20%20%20%0A%20%20%20%20%20%20%20%20%20%20%20%20var%20html_a4e25b6f11d54076ad7d2ec574ca37a4%20%3D%20%24%28%60%3Cdiv%20id%3D%22html_a4e25b6f11d54076ad7d2ec574ca37a4%22%20style%3D%22width%3A%20100.0%25%3B%20height%3A%20100.0%25%3B%22%3ESERVICIOS%20GASOLINEROS%20DE%20MEXICO%2C%20S.A.%20DE%20C.V.%20Regular%3A%2023.29%20Premium%3A%2025.39%20Diesel%3A%20nan%3C/div%3E%60%29%5B0%5D%3B%0A%20%20%20%20%20%20%20%20%20%20%20%20popup_e0467cf8ba4441609df21b3085499fb7.setContent%28html_a4e25b6f11d54076ad7d2ec574ca37a4%29%3B%0A%20%20%20%20%20%20%20%20%0A%0A%20%20%20%20%20%20%20%20marker_97cb2078996441459181fea1f67ce4f0.bindPopup%28popup_e0467cf8ba4441609df21b3085499fb7%29%0A%20%20%20%20%20%20%20%20%3B%0A%0A%20%20%20%20%20%20%20%20%0A%20%20%20%20%0A%20%20%20%20%0A%20%20%20%20%20%20%20%20%20%20%20%20var%20marker_7d67d1399c72404eac7d995d949b2ca8%20%3D%20L.marker%28%0A%20%20%20%20%20%20%20%20%20%20%20%20%20%20%20%20%5B25.67683%2C%20-100.291%5D%2C%0A%20%20%20%20%20%20%20%20%20%20%20%20%20%20%20%20%7B%7D%0A%20%20%20%20%20%20%20%20%20%20%20%20%29.addTo%28map_69c4093c35c84510a66873cc690378b6%29%3B%0A%20%20%20%20%20%20%20%20%0A%20%20%20%20%0A%20%20%20%20%20%20%20%20%20%20%20%20var%20icon_21631cbdae1d426792d16ded5f0641d9%20%3D%20L.AwesomeMarkers.icon%28%0A%20%20%20%20%20%20%20%20%20%20%20%20%20%20%20%20%7B%22extraClasses%22%3A%20%22fa-rotate-0%22%2C%20%22icon%22%3A%20%22info-sign%22%2C%20%22iconColor%22%3A%20%22white%22%2C%20%22markerColor%22%3A%20%22blue%22%2C%20%22prefix%22%3A%20%22glyphicon%22%7D%0A%20%20%20%20%20%20%20%20%20%20%20%20%29%3B%0A%20%20%20%20%20%20%20%20%20%20%20%20marker_7d67d1399c72404eac7d995d949b2ca8.setIcon%28icon_21631cbdae1d426792d16ded5f0641d9%29%3B%0A%20%20%20%20%20%20%20%20%0A%20%20%20%20%0A%20%20%20%20%20%20%20%20var%20popup_6ea17687137046b89e2480606408e120%20%3D%20L.popup%28%7B%22maxWidth%22%3A%20%22100%25%22%7D%29%3B%0A%0A%20%20%20%20%20%20%20%20%0A%20%20%20%20%20%20%20%20%20%20%20%20var%20html_93c0162196f140f9a0550e56fe7bdd63%20%3D%20%24%28%60%3Cdiv%20id%3D%22html_93c0162196f140f9a0550e56fe7bdd63%22%20style%3D%22width%3A%20100.0%25%3B%20height%3A%20100.0%25%3B%22%3ESERVICIOS%20GASOLINEROS%20DE%20MEXICO%2C%20S.A.%20DE%20C.V.%20Regular%3A%2023.29%20Premium%3A%2025.39%20Diesel%3A%20nan%3C/div%3E%60%29%5B0%5D%3B%0A%20%20%20%20%20%20%20%20%20%20%20%20popup_6ea17687137046b89e2480606408e120.setContent%28html_93c0162196f140f9a0550e56fe7bdd63%29%3B%0A%20%20%20%20%20%20%20%20%0A%0A%20%20%20%20%20%20%20%20marker_7d67d1399c72404eac7d995d949b2ca8.bindPopup%28popup_6ea17687137046b89e2480606408e120%29%0A%20%20%20%20%20%20%20%20%3B%0A%0A%20%20%20%20%20%20%20%20%0A%20%20%20%20%0A%20%20%20%20%0A%20%20%20%20%20%20%20%20%20%20%20%20var%20marker_d11750f6c2964d7d9ce808144a7f5faf%20%3D%20L.marker%28%0A%20%20%20%20%20%20%20%20%20%20%20%20%20%20%20%20%5B25.67207%2C%20-100.3374%5D%2C%0A%20%20%20%20%20%20%20%20%20%20%20%20%20%20%20%20%7B%7D%0A%20%20%20%20%20%20%20%20%20%20%20%20%29.addTo%28map_69c4093c35c84510a66873cc690378b6%29%3B%0A%20%20%20%20%20%20%20%20%0A%20%20%20%20%0A%20%20%20%20%20%20%20%20%20%20%20%20var%20icon_047db48743c94f5ea75b88f22fad5bd8%20%3D%20L.AwesomeMarkers.icon%28%0A%20%20%20%20%20%20%20%20%20%20%20%20%20%20%20%20%7B%22extraClasses%22%3A%20%22fa-rotate-0%22%2C%20%22icon%22%3A%20%22info-sign%22%2C%20%22iconColor%22%3A%20%22white%22%2C%20%22markerColor%22%3A%20%22blue%22%2C%20%22prefix%22%3A%20%22glyphicon%22%7D%0A%20%20%20%20%20%20%20%20%20%20%20%20%29%3B%0A%20%20%20%20%20%20%20%20%20%20%20%20marker_d11750f6c2964d7d9ce808144a7f5faf.setIcon%28icon_047db48743c94f5ea75b88f22fad5bd8%29%3B%0A%20%20%20%20%20%20%20%20%0A%20%20%20%20%0A%20%20%20%20%20%20%20%20var%20popup_2021c33cc88d4cd8a05979ada91df032%20%3D%20L.popup%28%7B%22maxWidth%22%3A%20%22100%25%22%7D%29%3B%0A%0A%20%20%20%20%20%20%20%20%0A%20%20%20%20%20%20%20%20%20%20%20%20var%20html_512dd0f4c98b4cdd9b1552dab0f2dc9c%20%3D%20%24%28%60%3Cdiv%20id%3D%22html_512dd0f4c98b4cdd9b1552dab0f2dc9c%22%20style%3D%22width%3A%20100.0%25%3B%20height%3A%20100.0%25%3B%22%3EAUTO%20SERVICIO%20OBISPADO%2C%20S.A.%20DE%20C.V.%20Regular%3A%2022.99%20Premium%3A%2024.99%20Diesel%3A%20nan%3C/div%3E%60%29%5B0%5D%3B%0A%20%20%20%20%20%20%20%20%20%20%20%20popup_2021c33cc88d4cd8a05979ada91df032.setContent%28html_512dd0f4c98b4cdd9b1552dab0f2dc9c%29%3B%0A%20%20%20%20%20%20%20%20%0A%0A%20%20%20%20%20%20%20%20marker_d11750f6c2964d7d9ce808144a7f5faf.bindPopup%28popup_2021c33cc88d4cd8a05979ada91df032%29%0A%20%20%20%20%20%20%20%20%3B%0A%0A%20%20%20%20%20%20%20%20%0A%20%20%20%20%0A%20%20%20%20%0A%20%20%20%20%20%20%20%20%20%20%20%20var%20marker_a52dcf3c5ea44d20890e7a9aa47de3cf%20%3D%20L.marker%28%0A%20%20%20%20%20%20%20%20%20%20%20%20%20%20%20%20%5B25.71691%2C%20-100.3423%5D%2C%0A%20%20%20%20%20%20%20%20%20%20%20%20%20%20%20%20%7B%7D%0A%20%20%20%20%20%20%20%20%20%20%20%20%29.addTo%28map_69c4093c35c84510a66873cc690378b6%29%3B%0A%20%20%20%20%20%20%20%20%0A%20%20%20%20%0A%20%20%20%20%20%20%20%20%20%20%20%20var%20icon_d21cfdf08e514d6cb709f56473263430%20%3D%20L.AwesomeMarkers.icon%28%0A%20%20%20%20%20%20%20%20%20%20%20%20%20%20%20%20%7B%22extraClasses%22%3A%20%22fa-rotate-0%22%2C%20%22icon%22%3A%20%22info-sign%22%2C%20%22iconColor%22%3A%20%22white%22%2C%20%22markerColor%22%3A%20%22blue%22%2C%20%22prefix%22%3A%20%22glyphicon%22%7D%0A%20%20%20%20%20%20%20%20%20%20%20%20%29%3B%0A%20%20%20%20%20%20%20%20%20%20%20%20marker_a52dcf3c5ea44d20890e7a9aa47de3cf.setIcon%28icon_d21cfdf08e514d6cb709f56473263430%29%3B%0A%20%20%20%20%20%20%20%20%0A%20%20%20%20%0A%20%20%20%20%20%20%20%20var%20popup_85553f8188a64633ae5e67f5b58b9329%20%3D%20L.popup%28%7B%22maxWidth%22%3A%20%22100%25%22%7D%29%3B%0A%0A%20%20%20%20%20%20%20%20%0A%20%20%20%20%20%20%20%20%20%20%20%20var%20html_0bb4c718ce8c465fa5e77151dd22321a%20%3D%20%24%28%60%3Cdiv%20id%3D%22html_0bb4c718ce8c465fa5e77151dd22321a%22%20style%3D%22width%3A%20100.0%25%3B%20height%3A%20100.0%25%3B%22%3ESERVICIOS%20GASOLINEROS%20DE%20MEXICO%2C%20S.A.%20DE%20C.V.%20Regular%3A%2023.29%20Premium%3A%2025.39%20Diesel%3A%2023.39%3C/div%3E%60%29%5B0%5D%3B%0A%20%20%20%20%20%20%20%20%20%20%20%20popup_85553f8188a64633ae5e67f5b58b9329.setContent%28html_0bb4c718ce8c465fa5e77151dd22321a%29%3B%0A%20%20%20%20%20%20%20%20%0A%0A%20%20%20%20%20%20%20%20marker_a52dcf3c5ea44d20890e7a9aa47de3cf.bindPopup%28popup_85553f8188a64633ae5e67f5b58b9329%29%0A%20%20%20%20%20%20%20%20%3B%0A%0A%20%20%20%20%20%20%20%20%0A%20%20%20%20%0A%20%20%20%20%0A%20%20%20%20%20%20%20%20%20%20%20%20var%20marker_e653d00871af453382a3ed84b0071c58%20%3D%20L.marker%28%0A%20%20%20%20%20%20%20%20%20%20%20%20%20%20%20%20%5B25.6974%2C%20-100.3511%5D%2C%0A%20%20%20%20%20%20%20%20%20%20%20%20%20%20%20%20%7B%7D%0A%20%20%20%20%20%20%20%20%20%20%20%20%29.addTo%28map_69c4093c35c84510a66873cc690378b6%29%3B%0A%20%20%20%20%20%20%20%20%0A%20%20%20%20%0A%20%20%20%20%20%20%20%20%20%20%20%20var%20icon_cf66c5fe78b644abadafd6feda8730e0%20%3D%20L.AwesomeMarkers.icon%28%0A%20%20%20%20%20%20%20%20%20%20%20%20%20%20%20%20%7B%22extraClasses%22%3A%20%22fa-rotate-0%22%2C%20%22icon%22%3A%20%22info-sign%22%2C%20%22iconColor%22%3A%20%22white%22%2C%20%22markerColor%22%3A%20%22lightgreen%22%2C%20%22prefix%22%3A%20%22glyphicon%22%7D%0A%20%20%20%20%20%20%20%20%20%20%20%20%29%3B%0A%20%20%20%20%20%20%20%20%20%20%20%20marker_e653d00871af453382a3ed84b0071c58.setIcon%28icon_cf66c5fe78b644abadafd6feda8730e0%29%3B%0A%20%20%20%20%20%20%20%20%0A%20%20%20%20%0A%20%20%20%20%20%20%20%20var%20popup_90e30b297b1448bfb010d545f7851fb1%20%3D%20L.popup%28%7B%22maxWidth%22%3A%20%22100%25%22%7D%29%3B%0A%0A%20%20%20%20%20%20%20%20%0A%20%20%20%20%20%20%20%20%20%20%20%20var%20html_dc6d58001e6b4ee99c8082dc7c0d0205%20%3D%20%24%28%60%3Cdiv%20id%3D%22html_dc6d58001e6b4ee99c8082dc7c0d0205%22%20style%3D%22width%3A%20100.0%25%3B%20height%3A%20100.0%25%3B%22%3ESERVIGAZ%20GONZALITOS%2C%20S.A.%20DE%20C.V.%20Regular%3A%2021.89%20Premium%3A%2024.39%20Diesel%3A%20nan%3C/div%3E%60%29%5B0%5D%3B%0A%20%20%20%20%20%20%20%20%20%20%20%20popup_90e30b297b1448bfb010d545f7851fb1.setContent%28html_dc6d58001e6b4ee99c8082dc7c0d0205%29%3B%0A%20%20%20%20%20%20%20%20%0A%0A%20%20%20%20%20%20%20%20marker_e653d00871af453382a3ed84b0071c58.bindPopup%28popup_90e30b297b1448bfb010d545f7851fb1%29%0A%20%20%20%20%20%20%20%20%3B%0A%0A%20%20%20%20%20%20%20%20%0A%20%20%20%20%0A%20%20%20%20%0A%20%20%20%20%20%20%20%20%20%20%20%20var%20marker_b6982fee41864c6ca17a66d39051dd4f%20%3D%20L.marker%28%0A%20%20%20%20%20%20%20%20%20%20%20%20%20%20%20%20%5B25.6653%2C%20-100.3125%5D%2C%0A%20%20%20%20%20%20%20%20%20%20%20%20%20%20%20%20%7B%7D%0A%20%20%20%20%20%20%20%20%20%20%20%20%29.addTo%28map_69c4093c35c84510a66873cc690378b6%29%3B%0A%20%20%20%20%20%20%20%20%0A%20%20%20%20%0A%20%20%20%20%20%20%20%20%20%20%20%20var%20icon_6b026673055c4792a4d044d4fb793a1c%20%3D%20L.AwesomeMarkers.icon%28%0A%20%20%20%20%20%20%20%20%20%20%20%20%20%20%20%20%7B%22extraClasses%22%3A%20%22fa-rotate-0%22%2C%20%22icon%22%3A%20%22info-sign%22%2C%20%22iconColor%22%3A%20%22white%22%2C%20%22markerColor%22%3A%20%22green%22%2C%20%22prefix%22%3A%20%22glyphicon%22%7D%0A%20%20%20%20%20%20%20%20%20%20%20%20%29%3B%0A%20%20%20%20%20%20%20%20%20%20%20%20marker_b6982fee41864c6ca17a66d39051dd4f.setIcon%28icon_6b026673055c4792a4d044d4fb793a1c%29%3B%0A%20%20%20%20%20%20%20%20%0A%20%20%20%20%0A%20%20%20%20%20%20%20%20var%20popup_dad4814f6a2749f1bc166feec96fc4ef%20%3D%20L.popup%28%7B%22maxWidth%22%3A%20%22100%25%22%7D%29%3B%0A%0A%20%20%20%20%20%20%20%20%0A%20%20%20%20%20%20%20%20%20%20%20%20var%20html_9e80c9eb9699477bb0bfeeda51a07e78%20%3D%20%24%28%60%3Cdiv%20id%3D%22html_9e80c9eb9699477bb0bfeeda51a07e78%22%20style%3D%22width%3A%20100.0%25%3B%20height%3A%20100.0%25%3B%22%3EGARAGES%20Y%20TURISMO%2C%20S.A.%20DE%20C.V.%20Regular%3A%2015.95%20Premium%3A%2017.89%20Diesel%3A%20nan%3C/div%3E%60%29%5B0%5D%3B%0A%20%20%20%20%20%20%20%20%20%20%20%20popup_dad4814f6a2749f1bc166feec96fc4ef.setContent%28html_9e80c9eb9699477bb0bfeeda51a07e78%29%3B%0A%20%20%20%20%20%20%20%20%0A%0A%20%20%20%20%20%20%20%20marker_b6982fee41864c6ca17a66d39051dd4f.bindPopup%28popup_dad4814f6a2749f1bc166feec96fc4ef%29%0A%20%20%20%20%20%20%20%20%3B%0A%0A%20%20%20%20%20%20%20%20%0A%20%20%20%20%0A%20%20%20%20%0A%20%20%20%20%20%20%20%20%20%20%20%20var%20marker_95852ae9550e4d4ab3f0ca9388108898%20%3D%20L.marker%28%0A%20%20%20%20%20%20%20%20%20%20%20%20%20%20%20%20%5B25.6702%2C%20-100.3358%5D%2C%0A%20%20%20%20%20%20%20%20%20%20%20%20%20%20%20%20%7B%7D%0A%20%20%20%20%20%20%20%20%20%20%20%20%29.addTo%28map_69c4093c35c84510a66873cc690378b6%29%3B%0A%20%20%20%20%20%20%20%20%0A%20%20%20%20%0A%20%20%20%20%20%20%20%20%20%20%20%20var%20icon_1f1d2855f3074735a6de3f812c7a3a65%20%3D%20L.AwesomeMarkers.icon%28%0A%20%20%20%20%20%20%20%20%20%20%20%20%20%20%20%20%7B%22extraClasses%22%3A%20%22fa-rotate-0%22%2C%20%22icon%22%3A%20%22info-sign%22%2C%20%22iconColor%22%3A%20%22white%22%2C%20%22markerColor%22%3A%20%22blue%22%2C%20%22prefix%22%3A%20%22glyphicon%22%7D%0A%20%20%20%20%20%20%20%20%20%20%20%20%29%3B%0A%20%20%20%20%20%20%20%20%20%20%20%20marker_95852ae9550e4d4ab3f0ca9388108898.setIcon%28icon_1f1d2855f3074735a6de3f812c7a3a65%29%3B%0A%20%20%20%20%20%20%20%20%0A%20%20%20%20%0A%20%20%20%20%20%20%20%20var%20popup_38d87efd817b4ec8a409b0b02463bb7d%20%3D%20L.popup%28%7B%22maxWidth%22%3A%20%22100%25%22%7D%29%3B%0A%0A%20%20%20%20%20%20%20%20%0A%20%20%20%20%20%20%20%20%20%20%20%20var%20html_4a92aad6eac148e4b529336533e4ea4f%20%3D%20%24%28%60%3Cdiv%20id%3D%22html_4a92aad6eac148e4b529336533e4ea4f%22%20style%3D%22width%3A%20100.0%25%3B%20height%3A%20100.0%25%3B%22%3ESERVICIOS%20GASOLINEROS%20DE%20MEXICO%2C%20S.A.%20DE%20C.V.%20Regular%3A%2023.29%20Premium%3A%2025.39%20Diesel%3A%20nan%3C/div%3E%60%29%5B0%5D%3B%0A%20%20%20%20%20%20%20%20%20%20%20%20popup_38d87efd817b4ec8a409b0b02463bb7d.setContent%28html_4a92aad6eac148e4b529336533e4ea4f%29%3B%0A%20%20%20%20%20%20%20%20%0A%0A%20%20%20%20%20%20%20%20marker_95852ae9550e4d4ab3f0ca9388108898.bindPopup%28popup_38d87efd817b4ec8a409b0b02463bb7d%29%0A%20%20%20%20%20%20%20%20%3B%0A%0A%20%20%20%20%20%20%20%20%0A%20%20%20%20%0A%20%20%20%20%0A%20%20%20%20%20%20%20%20%20%20%20%20var%20marker_ca2cc8fb110e4e60a98ce1b2c1c5499f%20%3D%20L.marker%28%0A%20%20%20%20%20%20%20%20%20%20%20%20%20%20%20%20%5B25.71264%2C%20-100.3468%5D%2C%0A%20%20%20%20%20%20%20%20%20%20%20%20%20%20%20%20%7B%7D%0A%20%20%20%20%20%20%20%20%20%20%20%20%29.addTo%28map_69c4093c35c84510a66873cc690378b6%29%3B%0A%20%20%20%20%20%20%20%20%0A%20%20%20%20%0A%20%20%20%20%20%20%20%20%20%20%20%20var%20icon_26a6011c88f44c79911943205e7be3af%20%3D%20L.AwesomeMarkers.icon%28%0A%20%20%20%20%20%20%20%20%20%20%20%20%20%20%20%20%7B%22extraClasses%22%3A%20%22fa-rotate-0%22%2C%20%22icon%22%3A%20%22info-sign%22%2C%20%22iconColor%22%3A%20%22white%22%2C%20%22markerColor%22%3A%20%22blue%22%2C%20%22prefix%22%3A%20%22glyphicon%22%7D%0A%20%20%20%20%20%20%20%20%20%20%20%20%29%3B%0A%20%20%20%20%20%20%20%20%20%20%20%20marker_ca2cc8fb110e4e60a98ce1b2c1c5499f.setIcon%28icon_26a6011c88f44c79911943205e7be3af%29%3B%0A%20%20%20%20%20%20%20%20%0A%20%20%20%20%0A%20%20%20%20%20%20%20%20var%20popup_9c967ad964af4993b80933a2e3739788%20%3D%20L.popup%28%7B%22maxWidth%22%3A%20%22100%25%22%7D%29%3B%0A%0A%20%20%20%20%20%20%20%20%0A%20%20%20%20%20%20%20%20%20%20%20%20var%20html_d2b565e1b5604671807ec8f4950fe3ca%20%3D%20%24%28%60%3Cdiv%20id%3D%22html_d2b565e1b5604671807ec8f4950fe3ca%22%20style%3D%22width%3A%20100.0%25%3B%20height%3A%20100.0%25%3B%22%3ESERVICIOS%20GASOLINEROS%20DE%20MEXICO%2C%20S.A.%20DE%20C.V.%20Regular%3A%2023.29%20Premium%3A%2025.39%20Diesel%3A%2023.39%3C/div%3E%60%29%5B0%5D%3B%0A%20%20%20%20%20%20%20%20%20%20%20%20popup_9c967ad964af4993b80933a2e3739788.setContent%28html_d2b565e1b5604671807ec8f4950fe3ca%29%3B%0A%20%20%20%20%20%20%20%20%0A%0A%20%20%20%20%20%20%20%20marker_ca2cc8fb110e4e60a98ce1b2c1c5499f.bindPopup%28popup_9c967ad964af4993b80933a2e3739788%29%0A%20%20%20%20%20%20%20%20%3B%0A%0A%20%20%20%20%20%20%20%20%0A%20%20%20%20%0A%20%20%20%20%0A%20%20%20%20%20%20%20%20%20%20%20%20var%20marker_c9a6cc2bd5cf4dada955375257d65264%20%3D%20L.marker%28%0A%20%20%20%20%20%20%20%20%20%20%20%20%20%20%20%20%5B25.70644%2C%20-100.2835%5D%2C%0A%20%20%20%20%20%20%20%20%20%20%20%20%20%20%20%20%7B%7D%0A%20%20%20%20%20%20%20%20%20%20%20%20%29.addTo%28map_69c4093c35c84510a66873cc690378b6%29%3B%0A%20%20%20%20%20%20%20%20%0A%20%20%20%20%0A%20%20%20%20%20%20%20%20%20%20%20%20var%20icon_fbb7d8ddea5244f2ab1abf40cede45ba%20%3D%20L.AwesomeMarkers.icon%28%0A%20%20%20%20%20%20%20%20%20%20%20%20%20%20%20%20%7B%22extraClasses%22%3A%20%22fa-rotate-0%22%2C%20%22icon%22%3A%20%22info-sign%22%2C%20%22iconColor%22%3A%20%22white%22%2C%20%22markerColor%22%3A%20%22blue%22%2C%20%22prefix%22%3A%20%22glyphicon%22%7D%0A%20%20%20%20%20%20%20%20%20%20%20%20%29%3B%0A%20%20%20%20%20%20%20%20%20%20%20%20marker_c9a6cc2bd5cf4dada955375257d65264.setIcon%28icon_fbb7d8ddea5244f2ab1abf40cede45ba%29%3B%0A%20%20%20%20%20%20%20%20%0A%20%20%20%20%0A%20%20%20%20%20%20%20%20var%20popup_9b1c158f07b242aea9a95c2847c4b5a3%20%3D%20L.popup%28%7B%22maxWidth%22%3A%20%22100%25%22%7D%29%3B%0A%0A%20%20%20%20%20%20%20%20%0A%20%20%20%20%20%20%20%20%20%20%20%20var%20html_9622322f2d8846e89948fdcfa640c16b%20%3D%20%24%28%60%3Cdiv%20id%3D%22html_9622322f2d8846e89948fdcfa640c16b%22%20style%3D%22width%3A%20100.0%25%3B%20height%3A%20100.0%25%3B%22%3EENERGETICOS%20LOS%20ANDES%20S.A.%20DE%20C.V.%20Regular%3A%2022.29%20Premium%3A%2024.99%20Diesel%3A%20nan%3C/div%3E%60%29%5B0%5D%3B%0A%20%20%20%20%20%20%20%20%20%20%20%20popup_9b1c158f07b242aea9a95c2847c4b5a3.setContent%28html_9622322f2d8846e89948fdcfa640c16b%29%3B%0A%20%20%20%20%20%20%20%20%0A%0A%20%20%20%20%20%20%20%20marker_c9a6cc2bd5cf4dada955375257d65264.bindPopup%28popup_9b1c158f07b242aea9a95c2847c4b5a3%29%0A%20%20%20%20%20%20%20%20%3B%0A%0A%20%20%20%20%20%20%20%20%0A%20%20%20%20%0A%20%20%20%20%0A%20%20%20%20%20%20%20%20%20%20%20%20var%20marker_4602ad2e4fe04050bbd69859f7e97ef6%20%3D%20L.marker%28%0A%20%20%20%20%20%20%20%20%20%20%20%20%20%20%20%20%5B25.70716%2C%20-100.2837%5D%2C%0A%20%20%20%20%20%20%20%20%20%20%20%20%20%20%20%20%7B%7D%0A%20%20%20%20%20%20%20%20%20%20%20%20%29.addTo%28map_69c4093c35c84510a66873cc690378b6%29%3B%0A%20%20%20%20%20%20%20%20%0A%20%20%20%20%0A%20%20%20%20%20%20%20%20%20%20%20%20var%20icon_9af622d9d8b0493b881e4ef2e7cda82a%20%3D%20L.AwesomeMarkers.icon%28%0A%20%20%20%20%20%20%20%20%20%20%20%20%20%20%20%20%7B%22extraClasses%22%3A%20%22fa-rotate-0%22%2C%20%22icon%22%3A%20%22info-sign%22%2C%20%22iconColor%22%3A%20%22white%22%2C%20%22markerColor%22%3A%20%22lightgreen%22%2C%20%22prefix%22%3A%20%22glyphicon%22%7D%0A%20%20%20%20%20%20%20%20%20%20%20%20%29%3B%0A%20%20%20%20%20%20%20%20%20%20%20%20marker_4602ad2e4fe04050bbd69859f7e97ef6.setIcon%28icon_9af622d9d8b0493b881e4ef2e7cda82a%29%3B%0A%20%20%20%20%20%20%20%20%0A%20%20%20%20%0A%20%20%20%20%20%20%20%20var%20popup_089c8dd8717f421baed27018fb0ab298%20%3D%20L.popup%28%7B%22maxWidth%22%3A%20%22100%25%22%7D%29%3B%0A%0A%20%20%20%20%20%20%20%20%0A%20%20%20%20%20%20%20%20%20%20%20%20var%20html_f42bc1a92cca49788e899289f892d3ed%20%3D%20%24%28%60%3Cdiv%20id%3D%22html_f42bc1a92cca49788e899289f892d3ed%22%20style%3D%22width%3A%20100.0%25%3B%20height%3A%20100.0%25%3B%22%3ESERVICIO%20PLAZA%20JARDIN%2C%20S.A.%20DE%20C.V.%20Regular%3A%2019.4%20Premium%3A%2020.4%20Diesel%3A%20nan%3C/div%3E%60%29%5B0%5D%3B%0A%20%20%20%20%20%20%20%20%20%20%20%20popup_089c8dd8717f421baed27018fb0ab298.setContent%28html_f42bc1a92cca49788e899289f892d3ed%29%3B%0A%20%20%20%20%20%20%20%20%0A%0A%20%20%20%20%20%20%20%20marker_4602ad2e4fe04050bbd69859f7e97ef6.bindPopup%28popup_089c8dd8717f421baed27018fb0ab298%29%0A%20%20%20%20%20%20%20%20%3B%0A%0A%20%20%20%20%20%20%20%20%0A%20%20%20%20%0A%20%20%20%20%0A%20%20%20%20%20%20%20%20%20%20%20%20var%20marker_71c14e20de7b4387ae81da97e2cbfe57%20%3D%20L.marker%28%0A%20%20%20%20%20%20%20%20%20%20%20%20%20%20%20%20%5B25.72363%2C%20-100.337%5D%2C%0A%20%20%20%20%20%20%20%20%20%20%20%20%20%20%20%20%7B%7D%0A%20%20%20%20%20%20%20%20%20%20%20%20%29.addTo%28map_69c4093c35c84510a66873cc690378b6%29%3B%0A%20%20%20%20%20%20%20%20%0A%20%20%20%20%0A%20%20%20%20%20%20%20%20%20%20%20%20var%20icon_88b898fb362943558353f872ceecbc49%20%3D%20L.AwesomeMarkers.icon%28%0A%20%20%20%20%20%20%20%20%20%20%20%20%20%20%20%20%7B%22extraClasses%22%3A%20%22fa-rotate-0%22%2C%20%22icon%22%3A%20%22info-sign%22%2C%20%22iconColor%22%3A%20%22white%22%2C%20%22markerColor%22%3A%20%22blue%22%2C%20%22prefix%22%3A%20%22glyphicon%22%7D%0A%20%20%20%20%20%20%20%20%20%20%20%20%29%3B%0A%20%20%20%20%20%20%20%20%20%20%20%20marker_71c14e20de7b4387ae81da97e2cbfe57.setIcon%28icon_88b898fb362943558353f872ceecbc49%29%3B%0A%20%20%20%20%20%20%20%20%0A%20%20%20%20%0A%20%20%20%20%20%20%20%20var%20popup_4939a014cc9748248fa9b4e01dfce757%20%3D%20L.popup%28%7B%22maxWidth%22%3A%20%22100%25%22%7D%29%3B%0A%0A%20%20%20%20%20%20%20%20%0A%20%20%20%20%20%20%20%20%20%20%20%20var%20html_1c800105b617403995f9eaca29469d40%20%3D%20%24%28%60%3Cdiv%20id%3D%22html_1c800105b617403995f9eaca29469d40%22%20style%3D%22width%3A%20100.0%25%3B%20height%3A%20100.0%25%3B%22%3ESERVICIOS%20GASOLINEROS%20DE%20MEXICO%2C%20S.A.%20DE%20C.V.%20Regular%3A%2023.29%20Premium%3A%2025.39%20Diesel%3A%20nan%3C/div%3E%60%29%5B0%5D%3B%0A%20%20%20%20%20%20%20%20%20%20%20%20popup_4939a014cc9748248fa9b4e01dfce757.setContent%28html_1c800105b617403995f9eaca29469d40%29%3B%0A%20%20%20%20%20%20%20%20%0A%0A%20%20%20%20%20%20%20%20marker_71c14e20de7b4387ae81da97e2cbfe57.bindPopup%28popup_4939a014cc9748248fa9b4e01dfce757%29%0A%20%20%20%20%20%20%20%20%3B%0A%0A%20%20%20%20%20%20%20%20%0A%20%20%20%20%0A%20%20%20%20%0A%20%20%20%20%20%20%20%20%20%20%20%20var%20marker_0afc1bb509324a399750c4b409b375ff%20%3D%20L.marker%28%0A%20%20%20%20%20%20%20%20%20%20%20%20%20%20%20%20%5B25.71722%2C%20-100.3449%5D%2C%0A%20%20%20%20%20%20%20%20%20%20%20%20%20%20%20%20%7B%7D%0A%20%20%20%20%20%20%20%20%20%20%20%20%29.addTo%28map_69c4093c35c84510a66873cc690378b6%29%3B%0A%20%20%20%20%20%20%20%20%0A%20%20%20%20%0A%20%20%20%20%20%20%20%20%20%20%20%20var%20icon_01fc18f0d258401a827d96bdc3d8471d%20%3D%20L.AwesomeMarkers.icon%28%0A%20%20%20%20%20%20%20%20%20%20%20%20%20%20%20%20%7B%22extraClasses%22%3A%20%22fa-rotate-0%22%2C%20%22icon%22%3A%20%22info-sign%22%2C%20%22iconColor%22%3A%20%22white%22%2C%20%22markerColor%22%3A%20%22blue%22%2C%20%22prefix%22%3A%20%22glyphicon%22%7D%0A%20%20%20%20%20%20%20%20%20%20%20%20%29%3B%0A%20%20%20%20%20%20%20%20%20%20%20%20marker_0afc1bb509324a399750c4b409b375ff.setIcon%28icon_01fc18f0d258401a827d96bdc3d8471d%29%3B%0A%20%20%20%20%20%20%20%20%0A%20%20%20%20%0A%20%20%20%20%20%20%20%20var%20popup_c322103d3fc840889be5d66d95ac478e%20%3D%20L.popup%28%7B%22maxWidth%22%3A%20%22100%25%22%7D%29%3B%0A%0A%20%20%20%20%20%20%20%20%0A%20%20%20%20%20%20%20%20%20%20%20%20var%20html_66611c6892054075afee4ad6172f5ffd%20%3D%20%24%28%60%3Cdiv%20id%3D%22html_66611c6892054075afee4ad6172f5ffd%22%20style%3D%22width%3A%20100.0%25%3B%20height%3A%20100.0%25%3B%22%3ELLANTYGAS%20SA%20DE%20CV%20%20Regular%3A%2022.29%20Premium%3A%2024.34%20Diesel%3A%20nan%3C/div%3E%60%29%5B0%5D%3B%0A%20%20%20%20%20%20%20%20%20%20%20%20popup_c322103d3fc840889be5d66d95ac478e.setContent%28html_66611c6892054075afee4ad6172f5ffd%29%3B%0A%20%20%20%20%20%20%20%20%0A%0A%20%20%20%20%20%20%20%20marker_0afc1bb509324a399750c4b409b375ff.bindPopup%28popup_c322103d3fc840889be5d66d95ac478e%29%0A%20%20%20%20%20%20%20%20%3B%0A%0A%20%20%20%20%20%20%20%20%0A%20%20%20%20%0A%20%20%20%20%0A%20%20%20%20%20%20%20%20%20%20%20%20var%20marker_db03c453526f444d808896f82107119a%20%3D%20L.marker%28%0A%20%20%20%20%20%20%20%20%20%20%20%20%20%20%20%20%5B25.66434%2C%20-100.3064%5D%2C%0A%20%20%20%20%20%20%20%20%20%20%20%20%20%20%20%20%7B%7D%0A%20%20%20%20%20%20%20%20%20%20%20%20%29.addTo%28map_69c4093c35c84510a66873cc690378b6%29%3B%0A%20%20%20%20%20%20%20%20%0A%20%20%20%20%0A%20%20%20%20%20%20%20%20%20%20%20%20var%20icon_f00c783a70094913bc2dec83d567d0a8%20%3D%20L.AwesomeMarkers.icon%28%0A%20%20%20%20%20%20%20%20%20%20%20%20%20%20%20%20%7B%22extraClasses%22%3A%20%22fa-rotate-0%22%2C%20%22icon%22%3A%20%22info-sign%22%2C%20%22iconColor%22%3A%20%22white%22%2C%20%22markerColor%22%3A%20%22blue%22%2C%20%22prefix%22%3A%20%22glyphicon%22%7D%0A%20%20%20%20%20%20%20%20%20%20%20%20%29%3B%0A%20%20%20%20%20%20%20%20%20%20%20%20marker_db03c453526f444d808896f82107119a.setIcon%28icon_f00c783a70094913bc2dec83d567d0a8%29%3B%0A%20%20%20%20%20%20%20%20%0A%20%20%20%20%0A%20%20%20%20%20%20%20%20var%20popup_f8a29a9370124ff7b7a45b18f0b6f47e%20%3D%20L.popup%28%7B%22maxWidth%22%3A%20%22100%25%22%7D%29%3B%0A%0A%20%20%20%20%20%20%20%20%0A%20%20%20%20%20%20%20%20%20%20%20%20var%20html_f7d8b7f0348b4028b9d0aa77fbbffd15%20%3D%20%24%28%60%3Cdiv%20id%3D%22html_f7d8b7f0348b4028b9d0aa77fbbffd15%22%20style%3D%22width%3A%20100.0%25%3B%20height%3A%20100.0%25%3B%22%3ECombustibles%20Barrio%20Antiguo%2C%20S.A.%20de%20C.V.%20Regular%3A%2021.99%20Premium%3A%2024.35%20Diesel%3A%2023.2%3C/div%3E%60%29%5B0%5D%3B%0A%20%20%20%20%20%20%20%20%20%20%20%20popup_f8a29a9370124ff7b7a45b18f0b6f47e.setContent%28html_f7d8b7f0348b4028b9d0aa77fbbffd15%29%3B%0A%20%20%20%20%20%20%20%20%0A%0A%20%20%20%20%20%20%20%20marker_db03c453526f444d808896f82107119a.bindPopup%28popup_f8a29a9370124ff7b7a45b18f0b6f47e%29%0A%20%20%20%20%20%20%20%20%3B%0A%0A%20%20%20%20%20%20%20%20%0A%20%20%20%20%0A%20%20%20%20%0A%20%20%20%20%20%20%20%20%20%20%20%20var%20marker_f6c40d9f18fc452195d5a494ea5371dc%20%3D%20L.marker%28%0A%20%20%20%20%20%20%20%20%20%20%20%20%20%20%20%20%5B25.71853%2C%20-100.2887%5D%2C%0A%20%20%20%20%20%20%20%20%20%20%20%20%20%20%20%20%7B%7D%0A%20%20%20%20%20%20%20%20%20%20%20%20%29.addTo%28map_69c4093c35c84510a66873cc690378b6%29%3B%0A%20%20%20%20%20%20%20%20%0A%20%20%20%20%0A%20%20%20%20%20%20%20%20%20%20%20%20var%20icon_fa3b9f538a98469bb5177f8ad96b4143%20%3D%20L.AwesomeMarkers.icon%28%0A%20%20%20%20%20%20%20%20%20%20%20%20%20%20%20%20%7B%22extraClasses%22%3A%20%22fa-rotate-0%22%2C%20%22icon%22%3A%20%22info-sign%22%2C%20%22iconColor%22%3A%20%22white%22%2C%20%22markerColor%22%3A%20%22blue%22%2C%20%22prefix%22%3A%20%22glyphicon%22%7D%0A%20%20%20%20%20%20%20%20%20%20%20%20%29%3B%0A%20%20%20%20%20%20%20%20%20%20%20%20marker_f6c40d9f18fc452195d5a494ea5371dc.setIcon%28icon_fa3b9f538a98469bb5177f8ad96b4143%29%3B%0A%20%20%20%20%20%20%20%20%0A%20%20%20%20%0A%20%20%20%20%20%20%20%20var%20popup_68aceef3ce7643e9bcbf5b2de5bfd49f%20%3D%20L.popup%28%7B%22maxWidth%22%3A%20%22100%25%22%7D%29%3B%0A%0A%20%20%20%20%20%20%20%20%0A%20%20%20%20%20%20%20%20%20%20%20%20var%20html_eaa04e4d51fa4116ac2af995a868b713%20%3D%20%24%28%60%3Cdiv%20id%3D%22html_eaa04e4d51fa4116ac2af995a868b713%22%20style%3D%22width%3A%20100.0%25%3B%20height%3A%20100.0%25%3B%22%3EPETROMAX%2C%20S.A.%20DE%20C.V.%20Regular%3A%2022.49%20Premium%3A%2025.39%20Diesel%3A%20nan%3C/div%3E%60%29%5B0%5D%3B%0A%20%20%20%20%20%20%20%20%20%20%20%20popup_68aceef3ce7643e9bcbf5b2de5bfd49f.setContent%28html_eaa04e4d51fa4116ac2af995a868b713%29%3B%0A%20%20%20%20%20%20%20%20%0A%0A%20%20%20%20%20%20%20%20marker_f6c40d9f18fc452195d5a494ea5371dc.bindPopup%28popup_68aceef3ce7643e9bcbf5b2de5bfd49f%29%0A%20%20%20%20%20%20%20%20%3B%0A%0A%20%20%20%20%20%20%20%20%0A%20%20%20%20%0A%20%20%20%20%0A%20%20%20%20%20%20%20%20%20%20%20%20var%20marker_824776691b0a4b6f95746d53fe5aa5e0%20%3D%20L.marker%28%0A%20%20%20%20%20%20%20%20%20%20%20%20%20%20%20%20%5B25.71178%2C%20-100.3499%5D%2C%0A%20%20%20%20%20%20%20%20%20%20%20%20%20%20%20%20%7B%7D%0A%20%20%20%20%20%20%20%20%20%20%20%20%29.addTo%28map_69c4093c35c84510a66873cc690378b6%29%3B%0A%20%20%20%20%20%20%20%20%0A%20%20%20%20%0A%20%20%20%20%20%20%20%20%20%20%20%20var%20icon_a89b3a889b7440f388c4d39429bab744%20%3D%20L.AwesomeMarkers.icon%28%0A%20%20%20%20%20%20%20%20%20%20%20%20%20%20%20%20%7B%22extraClasses%22%3A%20%22fa-rotate-0%22%2C%20%22icon%22%3A%20%22info-sign%22%2C%20%22iconColor%22%3A%20%22white%22%2C%20%22markerColor%22%3A%20%22blue%22%2C%20%22prefix%22%3A%20%22glyphicon%22%7D%0A%20%20%20%20%20%20%20%20%20%20%20%20%29%3B%0A%20%20%20%20%20%20%20%20%20%20%20%20marker_824776691b0a4b6f95746d53fe5aa5e0.setIcon%28icon_a89b3a889b7440f388c4d39429bab744%29%3B%0A%20%20%20%20%20%20%20%20%0A%20%20%20%20%0A%20%20%20%20%20%20%20%20var%20popup_9ef4a883dda74fffb93f627e8e1c252d%20%3D%20L.popup%28%7B%22maxWidth%22%3A%20%22100%25%22%7D%29%3B%0A%0A%20%20%20%20%20%20%20%20%0A%20%20%20%20%20%20%20%20%20%20%20%20var%20html_376af56b794c4f39ad2c5dac70403fbf%20%3D%20%24%28%60%3Cdiv%20id%3D%22html_376af56b794c4f39ad2c5dac70403fbf%22%20style%3D%22width%3A%20100.0%25%3B%20height%3A%20100.0%25%3B%22%3EGASOLINERA%20GONZALITOS%20S.A.%20DE%20C.V.%20Regular%3A%2023.29%20Premium%3A%2025.39%20Diesel%3A%20nan%3C/div%3E%60%29%5B0%5D%3B%0A%20%20%20%20%20%20%20%20%20%20%20%20popup_9ef4a883dda74fffb93f627e8e1c252d.setContent%28html_376af56b794c4f39ad2c5dac70403fbf%29%3B%0A%20%20%20%20%20%20%20%20%0A%0A%20%20%20%20%20%20%20%20marker_824776691b0a4b6f95746d53fe5aa5e0.bindPopup%28popup_9ef4a883dda74fffb93f627e8e1c252d%29%0A%20%20%20%20%20%20%20%20%3B%0A%0A%20%20%20%20%20%20%20%20%0A%20%20%20%20%0A%20%20%20%20%0A%20%20%20%20%20%20%20%20%20%20%20%20var%20marker_c7c5e9e0a2a543abbc5b1c3471c85524%20%3D%20L.marker%28%0A%20%20%20%20%20%20%20%20%20%20%20%20%20%20%20%20%5B25.71665%2C%20-100.3466%5D%2C%0A%20%20%20%20%20%20%20%20%20%20%20%20%20%20%20%20%7B%7D%0A%20%20%20%20%20%20%20%20%20%20%20%20%29.addTo%28map_69c4093c35c84510a66873cc690378b6%29%3B%0A%20%20%20%20%20%20%20%20%0A%20%20%20%20%0A%20%20%20%20%20%20%20%20%20%20%20%20var%20icon_d38affaeeb48426b97d920e69a3be815%20%3D%20L.AwesomeMarkers.icon%28%0A%20%20%20%20%20%20%20%20%20%20%20%20%20%20%20%20%7B%22extraClasses%22%3A%20%22fa-rotate-0%22%2C%20%22icon%22%3A%20%22info-sign%22%2C%20%22iconColor%22%3A%20%22white%22%2C%20%22markerColor%22%3A%20%22blue%22%2C%20%22prefix%22%3A%20%22glyphicon%22%7D%0A%20%20%20%20%20%20%20%20%20%20%20%20%29%3B%0A%20%20%20%20%20%20%20%20%20%20%20%20marker_c7c5e9e0a2a543abbc5b1c3471c85524.setIcon%28icon_d38affaeeb48426b97d920e69a3be815%29%3B%0A%20%20%20%20%20%20%20%20%0A%20%20%20%20%0A%20%20%20%20%20%20%20%20var%20popup_72acdde7218f45be80ee6eb945d0f387%20%3D%20L.popup%28%7B%22maxWidth%22%3A%20%22100%25%22%7D%29%3B%0A%0A%20%20%20%20%20%20%20%20%0A%20%20%20%20%20%20%20%20%20%20%20%20var%20html_111f289c6f434afb9cb911911609a677%20%3D%20%24%28%60%3Cdiv%20id%3D%22html_111f289c6f434afb9cb911911609a677%22%20style%3D%22width%3A%20100.0%25%3B%20height%3A%20100.0%25%3B%22%3ESERVICIOS%20GASOLINEROS%20DE%20MEXICO%2C%20S.A.%20DE%20C.V.%20Regular%3A%2023.29%20Premium%3A%2025.39%20Diesel%3A%20nan%3C/div%3E%60%29%5B0%5D%3B%0A%20%20%20%20%20%20%20%20%20%20%20%20popup_72acdde7218f45be80ee6eb945d0f387.setContent%28html_111f289c6f434afb9cb911911609a677%29%3B%0A%20%20%20%20%20%20%20%20%0A%0A%20%20%20%20%20%20%20%20marker_c7c5e9e0a2a543abbc5b1c3471c85524.bindPopup%28popup_72acdde7218f45be80ee6eb945d0f387%29%0A%20%20%20%20%20%20%20%20%3B%0A%0A%20%20%20%20%20%20%20%20%0A%20%20%20%20%0A%20%20%20%20%0A%20%20%20%20%20%20%20%20%20%20%20%20var%20marker_4c46ff4ed87d40538910c0338dd54c29%20%3D%20L.marker%28%0A%20%20%20%20%20%20%20%20%20%20%20%20%20%20%20%20%5B25.72248%2C%20-100.2925%5D%2C%0A%20%20%20%20%20%20%20%20%20%20%20%20%20%20%20%20%7B%7D%0A%20%20%20%20%20%20%20%20%20%20%20%20%29.addTo%28map_69c4093c35c84510a66873cc690378b6%29%3B%0A%20%20%20%20%20%20%20%20%0A%20%20%20%20%0A%20%20%20%20%20%20%20%20%20%20%20%20var%20icon_bbfdb6ad4d954a14b0d6d36644dad6b0%20%3D%20L.AwesomeMarkers.icon%28%0A%20%20%20%20%20%20%20%20%20%20%20%20%20%20%20%20%7B%22extraClasses%22%3A%20%22fa-rotate-0%22%2C%20%22icon%22%3A%20%22info-sign%22%2C%20%22iconColor%22%3A%20%22white%22%2C%20%22markerColor%22%3A%20%22lightgreen%22%2C%20%22prefix%22%3A%20%22glyphicon%22%7D%0A%20%20%20%20%20%20%20%20%20%20%20%20%29%3B%0A%20%20%20%20%20%20%20%20%20%20%20%20marker_4c46ff4ed87d40538910c0338dd54c29.setIcon%28icon_bbfdb6ad4d954a14b0d6d36644dad6b0%29%3B%0A%20%20%20%20%20%20%20%20%0A%20%20%20%20%0A%20%20%20%20%20%20%20%20var%20popup_d8886087059142a89a28b81054f09ff3%20%3D%20L.popup%28%7B%22maxWidth%22%3A%20%22100%25%22%7D%29%3B%0A%0A%20%20%20%20%20%20%20%20%0A%20%20%20%20%20%20%20%20%20%20%20%20var%20html_abc46da41ddd4e01a3dc9b013f34b263%20%3D%20%24%28%60%3Cdiv%20id%3D%22html_abc46da41ddd4e01a3dc9b013f34b263%22%20style%3D%22width%3A%20100.0%25%3B%20height%3A%20100.0%25%3B%22%3EYLIGARZA%20S.A.%20DE%20C.V.%20Regular%3A%2021.95%20Premium%3A%2025.15%20Diesel%3A%2024.95%3C/div%3E%60%29%5B0%5D%3B%0A%20%20%20%20%20%20%20%20%20%20%20%20popup_d8886087059142a89a28b81054f09ff3.setContent%28html_abc46da41ddd4e01a3dc9b013f34b263%29%3B%0A%20%20%20%20%20%20%20%20%0A%0A%20%20%20%20%20%20%20%20marker_4c46ff4ed87d40538910c0338dd54c29.bindPopup%28popup_d8886087059142a89a28b81054f09ff3%29%0A%20%20%20%20%20%20%20%20%3B%0A%0A%20%20%20%20%20%20%20%20%0A%20%20%20%20%0A%20%20%20%20%0A%20%20%20%20%20%20%20%20%20%20%20%20var%20marker_47863cea719c4606886606b6337d07db%20%3D%20L.marker%28%0A%20%20%20%20%20%20%20%20%20%20%20%20%20%20%20%20%5B25.72147%2C%20-100.3428%5D%2C%0A%20%20%20%20%20%20%20%20%20%20%20%20%20%20%20%20%7B%7D%0A%20%20%20%20%20%20%20%20%20%20%20%20%29.addTo%28map_69c4093c35c84510a66873cc690378b6%29%3B%0A%20%20%20%20%20%20%20%20%0A%20%20%20%20%0A%20%20%20%20%20%20%20%20%20%20%20%20var%20icon_b5c32d5e8b75404b971b5cefc6a6ebdc%20%3D%20L.AwesomeMarkers.icon%28%0A%20%20%20%20%20%20%20%20%20%20%20%20%20%20%20%20%7B%22extraClasses%22%3A%20%22fa-rotate-0%22%2C%20%22icon%22%3A%20%22info-sign%22%2C%20%22iconColor%22%3A%20%22white%22%2C%20%22markerColor%22%3A%20%22lightgreen%22%2C%20%22prefix%22%3A%20%22glyphicon%22%7D%0A%20%20%20%20%20%20%20%20%20%20%20%20%29%3B%0A%20%20%20%20%20%20%20%20%20%20%20%20marker_47863cea719c4606886606b6337d07db.setIcon%28icon_b5c32d5e8b75404b971b5cefc6a6ebdc%29%3B%0A%20%20%20%20%20%20%20%20%0A%20%20%20%20%0A%20%20%20%20%20%20%20%20var%20popup_bd324c51bfc940a1a27214fbb9276cd0%20%3D%20L.popup%28%7B%22maxWidth%22%3A%20%22100%25%22%7D%29%3B%0A%0A%20%20%20%20%20%20%20%20%0A%20%20%20%20%20%20%20%20%20%20%20%20var%20html_2d1cd0c00d794625929223f676c26e74%20%3D%20%24%28%60%3Cdiv%20id%3D%22html_2d1cd0c00d794625929223f676c26e74%22%20style%3D%22width%3A%20100.0%25%3B%20height%3A%20100.0%25%3B%22%3EGAS%20HUINALA%2C%20S.A.%20DE%20C.V.%20Regular%3A%2021.89%20Premium%3A%2024.09%20Diesel%3A%20nan%3C/div%3E%60%29%5B0%5D%3B%0A%20%20%20%20%20%20%20%20%20%20%20%20popup_bd324c51bfc940a1a27214fbb9276cd0.setContent%28html_2d1cd0c00d794625929223f676c26e74%29%3B%0A%20%20%20%20%20%20%20%20%0A%0A%20%20%20%20%20%20%20%20marker_47863cea719c4606886606b6337d07db.bindPopup%28popup_bd324c51bfc940a1a27214fbb9276cd0%29%0A%20%20%20%20%20%20%20%20%3B%0A%0A%20%20%20%20%20%20%20%20%0A%20%20%20%20%0A%20%20%20%20%0A%20%20%20%20%20%20%20%20%20%20%20%20var%20marker_0cf5b868f4b3497781ac062ffef85411%20%3D%20L.marker%28%0A%20%20%20%20%20%20%20%20%20%20%20%20%20%20%20%20%5B25.70331%2C%20-100.2796%5D%2C%0A%20%20%20%20%20%20%20%20%20%20%20%20%20%20%20%20%7B%7D%0A%20%20%20%20%20%20%20%20%20%20%20%20%29.addTo%28map_69c4093c35c84510a66873cc690378b6%29%3B%0A%20%20%20%20%20%20%20%20%0A%20%20%20%20%0A%20%20%20%20%20%20%20%20%20%20%20%20var%20icon_2ec44bb6dcfb48779e959b92e5b14306%20%3D%20L.AwesomeMarkers.icon%28%0A%20%20%20%20%20%20%20%20%20%20%20%20%20%20%20%20%7B%22extraClasses%22%3A%20%22fa-rotate-0%22%2C%20%22icon%22%3A%20%22info-sign%22%2C%20%22iconColor%22%3A%20%22white%22%2C%20%22markerColor%22%3A%20%22blue%22%2C%20%22prefix%22%3A%20%22glyphicon%22%7D%0A%20%20%20%20%20%20%20%20%20%20%20%20%29%3B%0A%20%20%20%20%20%20%20%20%20%20%20%20marker_0cf5b868f4b3497781ac062ffef85411.setIcon%28icon_2ec44bb6dcfb48779e959b92e5b14306%29%3B%0A%20%20%20%20%20%20%20%20%0A%20%20%20%20%0A%20%20%20%20%20%20%20%20var%20popup_569894c8230d41609d6cc9cd53fe36a8%20%3D%20L.popup%28%7B%22maxWidth%22%3A%20%22100%25%22%7D%29%3B%0A%0A%20%20%20%20%20%20%20%20%0A%20%20%20%20%20%20%20%20%20%20%20%20var%20html_46ded6b7de824c3ebe8a1438c3217788%20%3D%20%24%28%60%3Cdiv%20id%3D%22html_46ded6b7de824c3ebe8a1438c3217788%22%20style%3D%22width%3A%20100.0%25%3B%20height%3A%20100.0%25%3B%22%3EORSAN%20DEL%20NORTE%20S.A.%20DE%20C.V.%20Regular%3A%2022.19%20Premium%3A%2025.19%20Diesel%3A%2022.49%3C/div%3E%60%29%5B0%5D%3B%0A%20%20%20%20%20%20%20%20%20%20%20%20popup_569894c8230d41609d6cc9cd53fe36a8.setContent%28html_46ded6b7de824c3ebe8a1438c3217788%29%3B%0A%20%20%20%20%20%20%20%20%0A%0A%20%20%20%20%20%20%20%20marker_0cf5b868f4b3497781ac062ffef85411.bindPopup%28popup_569894c8230d41609d6cc9cd53fe36a8%29%0A%20%20%20%20%20%20%20%20%3B%0A%0A%20%20%20%20%20%20%20%20%0A%20%20%20%20%0A%20%20%20%20%0A%20%20%20%20%20%20%20%20%20%20%20%20var%20marker_8dddd4e94f234732b799051de6dd1ce5%20%3D%20L.marker%28%0A%20%20%20%20%20%20%20%20%20%20%20%20%20%20%20%20%5B25.66198%2C%20-100.3138%5D%2C%0A%20%20%20%20%20%20%20%20%20%20%20%20%20%20%20%20%7B%7D%0A%20%20%20%20%20%20%20%20%20%20%20%20%29.addTo%28map_69c4093c35c84510a66873cc690378b6%29%3B%0A%20%20%20%20%20%20%20%20%0A%20%20%20%20%0A%20%20%20%20%20%20%20%20%20%20%20%20var%20icon_fa485090a1934e2face83dc0d51a1b4c%20%3D%20L.AwesomeMarkers.icon%28%0A%20%20%20%20%20%20%20%20%20%20%20%20%20%20%20%20%7B%22extraClasses%22%3A%20%22fa-rotate-0%22%2C%20%22icon%22%3A%20%22info-sign%22%2C%20%22iconColor%22%3A%20%22white%22%2C%20%22markerColor%22%3A%20%22lightgreen%22%2C%20%22prefix%22%3A%20%22glyphicon%22%7D%0A%20%20%20%20%20%20%20%20%20%20%20%20%29%3B%0A%20%20%20%20%20%20%20%20%20%20%20%20marker_8dddd4e94f234732b799051de6dd1ce5.setIcon%28icon_fa485090a1934e2face83dc0d51a1b4c%29%3B%0A%20%20%20%20%20%20%20%20%0A%20%20%20%20%0A%20%20%20%20%20%20%20%20var%20popup_b6f163bf4eae492881e26c8bd1eeffcf%20%3D%20L.popup%28%7B%22maxWidth%22%3A%20%22100%25%22%7D%29%3B%0A%0A%20%20%20%20%20%20%20%20%0A%20%20%20%20%20%20%20%20%20%20%20%20var%20html_b6a14512a7b7407aaad5282d2ffe7e51%20%3D%20%24%28%60%3Cdiv%20id%3D%22html_b6a14512a7b7407aaad5282d2ffe7e51%22%20style%3D%22width%3A%20100.0%25%3B%20height%3A%20100.0%25%3B%22%3ESERVICIO%20PLAZA%20JARDIN%2C%20S.A.%20DE%20C.V.%20Regular%3A%2019.99%20Premium%3A%2020.2%20Diesel%3A%2020.3%3C/div%3E%60%29%5B0%5D%3B%0A%20%20%20%20%20%20%20%20%20%20%20%20popup_b6f163bf4eae492881e26c8bd1eeffcf.setContent%28html_b6a14512a7b7407aaad5282d2ffe7e51%29%3B%0A%20%20%20%20%20%20%20%20%0A%0A%20%20%20%20%20%20%20%20marker_8dddd4e94f234732b799051de6dd1ce5.bindPopup%28popup_b6f163bf4eae492881e26c8bd1eeffcf%29%0A%20%20%20%20%20%20%20%20%3B%0A%0A%20%20%20%20%20%20%20%20%0A%20%20%20%20%0A%20%20%20%20%0A%20%20%20%20%20%20%20%20%20%20%20%20var%20marker_24c6f5bb8d3843d58cb196ea46a26a5e%20%3D%20L.marker%28%0A%20%20%20%20%20%20%20%20%20%20%20%20%20%20%20%20%5B25.7226%2C%20-100.3424%5D%2C%0A%20%20%20%20%20%20%20%20%20%20%20%20%20%20%20%20%7B%7D%0A%20%20%20%20%20%20%20%20%20%20%20%20%29.addTo%28map_69c4093c35c84510a66873cc690378b6%29%3B%0A%20%20%20%20%20%20%20%20%0A%20%20%20%20%0A%20%20%20%20%20%20%20%20%20%20%20%20var%20icon_9d911c1a42c44fa88bfb6e63a1d25bd6%20%3D%20L.AwesomeMarkers.icon%28%0A%20%20%20%20%20%20%20%20%20%20%20%20%20%20%20%20%7B%22extraClasses%22%3A%20%22fa-rotate-0%22%2C%20%22icon%22%3A%20%22info-sign%22%2C%20%22iconColor%22%3A%20%22white%22%2C%20%22markerColor%22%3A%20%22lightgreen%22%2C%20%22prefix%22%3A%20%22glyphicon%22%7D%0A%20%20%20%20%20%20%20%20%20%20%20%20%29%3B%0A%20%20%20%20%20%20%20%20%20%20%20%20marker_24c6f5bb8d3843d58cb196ea46a26a5e.setIcon%28icon_9d911c1a42c44fa88bfb6e63a1d25bd6%29%3B%0A%20%20%20%20%20%20%20%20%0A%20%20%20%20%0A%20%20%20%20%20%20%20%20var%20popup_cafc36fd7949481394fdc699443d9ab5%20%3D%20L.popup%28%7B%22maxWidth%22%3A%20%22100%25%22%7D%29%3B%0A%0A%20%20%20%20%20%20%20%20%0A%20%20%20%20%20%20%20%20%20%20%20%20var%20html_83feffa72bdf4f45a6d1e7c21d1f2212%20%3D%20%24%28%60%3Cdiv%20id%3D%22html_83feffa72bdf4f45a6d1e7c21d1f2212%22%20style%3D%22width%3A%20100.0%25%3B%20height%3A%20100.0%25%3B%22%3ESERVICIO%20TOPO%20CHICO%20SA%20DE%20CV%20Regular%3A%2021.69%20Premium%3A%2024.09%20Diesel%3A%20nan%3C/div%3E%60%29%5B0%5D%3B%0A%20%20%20%20%20%20%20%20%20%20%20%20popup_cafc36fd7949481394fdc699443d9ab5.setContent%28html_83feffa72bdf4f45a6d1e7c21d1f2212%29%3B%0A%20%20%20%20%20%20%20%20%0A%0A%20%20%20%20%20%20%20%20marker_24c6f5bb8d3843d58cb196ea46a26a5e.bindPopup%28popup_cafc36fd7949481394fdc699443d9ab5%29%0A%20%20%20%20%20%20%20%20%3B%0A%0A%20%20%20%20%20%20%20%20%0A%20%20%20%20%0A%20%20%20%20%0A%20%20%20%20%20%20%20%20%20%20%20%20var%20marker_cb3d3f7092ff4612b8614ebe47159717%20%3D%20L.marker%28%0A%20%20%20%20%20%20%20%20%20%20%20%20%20%20%20%20%5B25.71555%2C%20-100.2844%5D%2C%0A%20%20%20%20%20%20%20%20%20%20%20%20%20%20%20%20%7B%7D%0A%20%20%20%20%20%20%20%20%20%20%20%20%29.addTo%28map_69c4093c35c84510a66873cc690378b6%29%3B%0A%20%20%20%20%20%20%20%20%0A%20%20%20%20%0A%20%20%20%20%20%20%20%20%20%20%20%20var%20icon_6f1a4a4976374efdb77085f731dee2b9%20%3D%20L.AwesomeMarkers.icon%28%0A%20%20%20%20%20%20%20%20%20%20%20%20%20%20%20%20%7B%22extraClasses%22%3A%20%22fa-rotate-0%22%2C%20%22icon%22%3A%20%22info-sign%22%2C%20%22iconColor%22%3A%20%22white%22%2C%20%22markerColor%22%3A%20%22blue%22%2C%20%22prefix%22%3A%20%22glyphicon%22%7D%0A%20%20%20%20%20%20%20%20%20%20%20%20%29%3B%0A%20%20%20%20%20%20%20%20%20%20%20%20marker_cb3d3f7092ff4612b8614ebe47159717.setIcon%28icon_6f1a4a4976374efdb77085f731dee2b9%29%3B%0A%20%20%20%20%20%20%20%20%0A%20%20%20%20%0A%20%20%20%20%20%20%20%20var%20popup_8c03405ba4594710af92c3fc46abfcfe%20%3D%20L.popup%28%7B%22maxWidth%22%3A%20%22100%25%22%7D%29%3B%0A%0A%20%20%20%20%20%20%20%20%0A%20%20%20%20%20%20%20%20%20%20%20%20var%20html_7526d15671ab4e3ba9a7a2fe17ed2661%20%3D%20%24%28%60%3Cdiv%20id%3D%22html_7526d15671ab4e3ba9a7a2fe17ed2661%22%20style%3D%22width%3A%20100.0%25%3B%20height%3A%20100.0%25%3B%22%3EORSAN%20DEL%20NORTE%20S.A.%20DE%20C.V.%20Regular%3A%2022.39%20Premium%3A%2025.49%20Diesel%3A%2023.65%3C/div%3E%60%29%5B0%5D%3B%0A%20%20%20%20%20%20%20%20%20%20%20%20popup_8c03405ba4594710af92c3fc46abfcfe.setContent%28html_7526d15671ab4e3ba9a7a2fe17ed2661%29%3B%0A%20%20%20%20%20%20%20%20%0A%0A%20%20%20%20%20%20%20%20marker_cb3d3f7092ff4612b8614ebe47159717.bindPopup%28popup_8c03405ba4594710af92c3fc46abfcfe%29%0A%20%20%20%20%20%20%20%20%3B%0A%0A%20%20%20%20%20%20%20%20%0A%20%20%20%20%0A%20%20%20%20%0A%20%20%20%20%20%20%20%20%20%20%20%20var%20marker_3f7b36bb0072420daed6d1d6cca3c269%20%3D%20L.marker%28%0A%20%20%20%20%20%20%20%20%20%20%20%20%20%20%20%20%5B25.68306%2C%20-100.2806%5D%2C%0A%20%20%20%20%20%20%20%20%20%20%20%20%20%20%20%20%7B%7D%0A%20%20%20%20%20%20%20%20%20%20%20%20%29.addTo%28map_69c4093c35c84510a66873cc690378b6%29%3B%0A%20%20%20%20%20%20%20%20%0A%20%20%20%20%0A%20%20%20%20%20%20%20%20%20%20%20%20var%20icon_8e030e0aa9914fbe885069cad46eb4c6%20%3D%20L.AwesomeMarkers.icon%28%0A%20%20%20%20%20%20%20%20%20%20%20%20%20%20%20%20%7B%22extraClasses%22%3A%20%22fa-rotate-0%22%2C%20%22icon%22%3A%20%22info-sign%22%2C%20%22iconColor%22%3A%20%22white%22%2C%20%22markerColor%22%3A%20%22lightgreen%22%2C%20%22prefix%22%3A%20%22glyphicon%22%7D%0A%20%20%20%20%20%20%20%20%20%20%20%20%29%3B%0A%20%20%20%20%20%20%20%20%20%20%20%20marker_3f7b36bb0072420daed6d1d6cca3c269.setIcon%28icon_8e030e0aa9914fbe885069cad46eb4c6%29%3B%0A%20%20%20%20%20%20%20%20%0A%20%20%20%20%0A%20%20%20%20%20%20%20%20var%20popup_68652b8cad2249f598507b05a0816bca%20%3D%20L.popup%28%7B%22maxWidth%22%3A%20%22100%25%22%7D%29%3B%0A%0A%20%20%20%20%20%20%20%20%0A%20%20%20%20%20%20%20%20%20%20%20%20var%20html_7e1ef0eb546f45408bf0af7564305b57%20%3D%20%24%28%60%3Cdiv%20id%3D%22html_7e1ef0eb546f45408bf0af7564305b57%22%20style%3D%22width%3A%20100.0%25%3B%20height%3A%20100.0%25%3B%22%3ESERVICIO%20SESAMO%2C%20S.A.%20DE%20C.V.%20Regular%3A%2021.69%20Premium%3A%2025.15%20Diesel%3A%20nan%3C/div%3E%60%29%5B0%5D%3B%0A%20%20%20%20%20%20%20%20%20%20%20%20popup_68652b8cad2249f598507b05a0816bca.setContent%28html_7e1ef0eb546f45408bf0af7564305b57%29%3B%0A%20%20%20%20%20%20%20%20%0A%0A%20%20%20%20%20%20%20%20marker_3f7b36bb0072420daed6d1d6cca3c269.bindPopup%28popup_68652b8cad2249f598507b05a0816bca%29%0A%20%20%20%20%20%20%20%20%3B%0A%0A%20%20%20%20%20%20%20%20%0A%20%20%20%20%0A%20%20%20%20%0A%20%20%20%20%20%20%20%20%20%20%20%20var%20marker_7e68daf08f4445bf842fbee832795414%20%3D%20L.marker%28%0A%20%20%20%20%20%20%20%20%20%20%20%20%20%20%20%20%5B25.71437%2C%20-100.3507%5D%2C%0A%20%20%20%20%20%20%20%20%20%20%20%20%20%20%20%20%7B%7D%0A%20%20%20%20%20%20%20%20%20%20%20%20%29.addTo%28map_69c4093c35c84510a66873cc690378b6%29%3B%0A%20%20%20%20%20%20%20%20%0A%20%20%20%20%0A%20%20%20%20%20%20%20%20%20%20%20%20var%20icon_00d3a14340eb4e96a2baef3ee33281eb%20%3D%20L.AwesomeMarkers.icon%28%0A%20%20%20%20%20%20%20%20%20%20%20%20%20%20%20%20%7B%22extraClasses%22%3A%20%22fa-rotate-0%22%2C%20%22icon%22%3A%20%22info-sign%22%2C%20%22iconColor%22%3A%20%22white%22%2C%20%22markerColor%22%3A%20%22blue%22%2C%20%22prefix%22%3A%20%22glyphicon%22%7D%0A%20%20%20%20%20%20%20%20%20%20%20%20%29%3B%0A%20%20%20%20%20%20%20%20%20%20%20%20marker_7e68daf08f4445bf842fbee832795414.setIcon%28icon_00d3a14340eb4e96a2baef3ee33281eb%29%3B%0A%20%20%20%20%20%20%20%20%0A%20%20%20%20%0A%20%20%20%20%20%20%20%20var%20popup_3c4e92b7c61d4998b7cb8699904ef17d%20%3D%20L.popup%28%7B%22maxWidth%22%3A%20%22100%25%22%7D%29%3B%0A%0A%20%20%20%20%20%20%20%20%0A%20%20%20%20%20%20%20%20%20%20%20%20var%20html_fe634083bac24eccb216cfecb9d3a013%20%3D%20%24%28%60%3Cdiv%20id%3D%22html_fe634083bac24eccb216cfecb9d3a013%22%20style%3D%22width%3A%20100.0%25%3B%20height%3A%20100.0%25%3B%22%3ESERVICIOS%20GASOLINEROS%20DE%20MEXICO%2C%20S.A.%20DE%20C.V.%20Regular%3A%2023.29%20Premium%3A%2025.39%20Diesel%3A%20nan%3C/div%3E%60%29%5B0%5D%3B%0A%20%20%20%20%20%20%20%20%20%20%20%20popup_3c4e92b7c61d4998b7cb8699904ef17d.setContent%28html_fe634083bac24eccb216cfecb9d3a013%29%3B%0A%20%20%20%20%20%20%20%20%0A%0A%20%20%20%20%20%20%20%20marker_7e68daf08f4445bf842fbee832795414.bindPopup%28popup_3c4e92b7c61d4998b7cb8699904ef17d%29%0A%20%20%20%20%20%20%20%20%3B%0A%0A%20%20%20%20%20%20%20%20%0A%20%20%20%20%0A%20%20%20%20%0A%20%20%20%20%20%20%20%20%20%20%20%20var%20marker_186c417a16fc4226949e28ead83f9f51%20%3D%20L.marker%28%0A%20%20%20%20%20%20%20%20%20%20%20%20%20%20%20%20%5B25.6649%2C%20-100.3348%5D%2C%0A%20%20%20%20%20%20%20%20%20%20%20%20%20%20%20%20%7B%7D%0A%20%20%20%20%20%20%20%20%20%20%20%20%29.addTo%28map_69c4093c35c84510a66873cc690378b6%29%3B%0A%20%20%20%20%20%20%20%20%0A%20%20%20%20%0A%20%20%20%20%20%20%20%20%20%20%20%20var%20icon_0e62bfa4cfbb4654a1e7e06210955f61%20%3D%20L.AwesomeMarkers.icon%28%0A%20%20%20%20%20%20%20%20%20%20%20%20%20%20%20%20%7B%22extraClasses%22%3A%20%22fa-rotate-0%22%2C%20%22icon%22%3A%20%22info-sign%22%2C%20%22iconColor%22%3A%20%22white%22%2C%20%22markerColor%22%3A%20%22blue%22%2C%20%22prefix%22%3A%20%22glyphicon%22%7D%0A%20%20%20%20%20%20%20%20%20%20%20%20%29%3B%0A%20%20%20%20%20%20%20%20%20%20%20%20marker_186c417a16fc4226949e28ead83f9f51.setIcon%28icon_0e62bfa4cfbb4654a1e7e06210955f61%29%3B%0A%20%20%20%20%20%20%20%20%0A%20%20%20%20%0A%20%20%20%20%20%20%20%20var%20popup_45a1ab2f27124a0fa715d7349e4a62fc%20%3D%20L.popup%28%7B%22maxWidth%22%3A%20%22100%25%22%7D%29%3B%0A%0A%20%20%20%20%20%20%20%20%0A%20%20%20%20%20%20%20%20%20%20%20%20var%20html_5be8671e92c447d8a73de66261131f27%20%3D%20%24%28%60%3Cdiv%20id%3D%22html_5be8671e92c447d8a73de66261131f27%22%20style%3D%22width%3A%20100.0%25%3B%20height%3A%20100.0%25%3B%22%3ESERVICIO%20TUNEL%20LOMA%20LARGA%2C%20S.A.%20DE%20C.V.%20Regular%3A%2022.3%20Premium%3A%2024.87%20Diesel%3A%20nan%3C/div%3E%60%29%5B0%5D%3B%0A%20%20%20%20%20%20%20%20%20%20%20%20popup_45a1ab2f27124a0fa715d7349e4a62fc.setContent%28html_5be8671e92c447d8a73de66261131f27%29%3B%0A%20%20%20%20%20%20%20%20%0A%0A%20%20%20%20%20%20%20%20marker_186c417a16fc4226949e28ead83f9f51.bindPopup%28popup_45a1ab2f27124a0fa715d7349e4a62fc%29%0A%20%20%20%20%20%20%20%20%3B%0A%0A%20%20%20%20%20%20%20%20%0A%20%20%20%20%0A%20%20%20%20%0A%20%20%20%20%20%20%20%20%20%20%20%20var%20marker_39d620c8dd554be4b99e1459847f7c77%20%3D%20L.marker%28%0A%20%20%20%20%20%20%20%20%20%20%20%20%20%20%20%20%5B25.66944%2C%20-100.2906%5D%2C%0A%20%20%20%20%20%20%20%20%20%20%20%20%20%20%20%20%7B%7D%0A%20%20%20%20%20%20%20%20%20%20%20%20%29.addTo%28map_69c4093c35c84510a66873cc690378b6%29%3B%0A%20%20%20%20%20%20%20%20%0A%20%20%20%20%0A%20%20%20%20%20%20%20%20%20%20%20%20var%20icon_22907b67e7e44d678ffa898a0c429215%20%3D%20L.AwesomeMarkers.icon%28%0A%20%20%20%20%20%20%20%20%20%20%20%20%20%20%20%20%7B%22extraClasses%22%3A%20%22fa-rotate-0%22%2C%20%22icon%22%3A%20%22info-sign%22%2C%20%22iconColor%22%3A%20%22white%22%2C%20%22markerColor%22%3A%20%22blue%22%2C%20%22prefix%22%3A%20%22glyphicon%22%7D%0A%20%20%20%20%20%20%20%20%20%20%20%20%29%3B%0A%20%20%20%20%20%20%20%20%20%20%20%20marker_39d620c8dd554be4b99e1459847f7c77.setIcon%28icon_22907b67e7e44d678ffa898a0c429215%29%3B%0A%20%20%20%20%20%20%20%20%0A%20%20%20%20%0A%20%20%20%20%20%20%20%20var%20popup_e9d6b93f93694bf6920adeb5e7b7d6c9%20%3D%20L.popup%28%7B%22maxWidth%22%3A%20%22100%25%22%7D%29%3B%0A%0A%20%20%20%20%20%20%20%20%0A%20%20%20%20%20%20%20%20%20%20%20%20var%20html_3d9324bd7df644aeb0bcb64e164e691d%20%3D%20%24%28%60%3Cdiv%20id%3D%22html_3d9324bd7df644aeb0bcb64e164e691d%22%20style%3D%22width%3A%20100.0%25%3B%20height%3A%20100.0%25%3B%22%3EORSAN%20DEL%20NORTE%20S.A.%20DE%20C.V.%20Regular%3A%2022.55%20Premium%3A%2025.29%20Diesel%3A%2023.49%3C/div%3E%60%29%5B0%5D%3B%0A%20%20%20%20%20%20%20%20%20%20%20%20popup_e9d6b93f93694bf6920adeb5e7b7d6c9.setContent%28html_3d9324bd7df644aeb0bcb64e164e691d%29%3B%0A%20%20%20%20%20%20%20%20%0A%0A%20%20%20%20%20%20%20%20marker_39d620c8dd554be4b99e1459847f7c77.bindPopup%28popup_e9d6b93f93694bf6920adeb5e7b7d6c9%29%0A%20%20%20%20%20%20%20%20%3B%0A%0A%20%20%20%20%20%20%20%20%0A%20%20%20%20%0A%20%20%20%20%0A%20%20%20%20%20%20%20%20%20%20%20%20var%20marker_377d25dd56a74889960f243380f81bf9%20%3D%20L.marker%28%0A%20%20%20%20%20%20%20%20%20%20%20%20%20%20%20%20%5B25.69741%2C%20-100.3565%5D%2C%0A%20%20%20%20%20%20%20%20%20%20%20%20%20%20%20%20%7B%7D%0A%20%20%20%20%20%20%20%20%20%20%20%20%29.addTo%28map_69c4093c35c84510a66873cc690378b6%29%3B%0A%20%20%20%20%20%20%20%20%0A%20%20%20%20%0A%20%20%20%20%20%20%20%20%20%20%20%20var%20icon_1392e9b27a154ccc9c7c52a7ac5488bd%20%3D%20L.AwesomeMarkers.icon%28%0A%20%20%20%20%20%20%20%20%20%20%20%20%20%20%20%20%7B%22extraClasses%22%3A%20%22fa-rotate-0%22%2C%20%22icon%22%3A%20%22info-sign%22%2C%20%22iconColor%22%3A%20%22white%22%2C%20%22markerColor%22%3A%20%22blue%22%2C%20%22prefix%22%3A%20%22glyphicon%22%7D%0A%20%20%20%20%20%20%20%20%20%20%20%20%29%3B%0A%20%20%20%20%20%20%20%20%20%20%20%20marker_377d25dd56a74889960f243380f81bf9.setIcon%28icon_1392e9b27a154ccc9c7c52a7ac5488bd%29%3B%0A%20%20%20%20%20%20%20%20%0A%20%20%20%20%0A%20%20%20%20%20%20%20%20var%20popup_46e8a49a78274bf68693c819a617423b%20%3D%20L.popup%28%7B%22maxWidth%22%3A%20%22100%25%22%7D%29%3B%0A%0A%20%20%20%20%20%20%20%20%0A%20%20%20%20%20%20%20%20%20%20%20%20var%20html_5d55a6f6fc6345f3a4a4d38550d6e851%20%3D%20%24%28%60%3Cdiv%20id%3D%22html_5d55a6f6fc6345f3a4a4d38550d6e851%22%20style%3D%22width%3A%20100.0%25%3B%20height%3A%20100.0%25%3B%22%3ESERVICIOS%20GASOLINEROS%20DE%20MEXICO%2C%20S.A.%20DE%20C.V.%20Regular%3A%2023.29%20Premium%3A%2025.39%20Diesel%3A%20nan%3C/div%3E%60%29%5B0%5D%3B%0A%20%20%20%20%20%20%20%20%20%20%20%20popup_46e8a49a78274bf68693c819a617423b.setContent%28html_5d55a6f6fc6345f3a4a4d38550d6e851%29%3B%0A%20%20%20%20%20%20%20%20%0A%0A%20%20%20%20%20%20%20%20marker_377d25dd56a74889960f243380f81bf9.bindPopup%28popup_46e8a49a78274bf68693c819a617423b%29%0A%20%20%20%20%20%20%20%20%3B%0A%0A%20%20%20%20%20%20%20%20%0A%20%20%20%20%0A%20%20%20%20%0A%20%20%20%20%20%20%20%20%20%20%20%20var%20marker_5f4f090b80f04606a49c177de2eb856e%20%3D%20L.marker%28%0A%20%20%20%20%20%20%20%20%20%20%20%20%20%20%20%20%5B25.69114%2C%20-100.2774%5D%2C%0A%20%20%20%20%20%20%20%20%20%20%20%20%20%20%20%20%7B%7D%0A%20%20%20%20%20%20%20%20%20%20%20%20%29.addTo%28map_69c4093c35c84510a66873cc690378b6%29%3B%0A%20%20%20%20%20%20%20%20%0A%20%20%20%20%0A%20%20%20%20%20%20%20%20%20%20%20%20var%20icon_19e07aa2e27d4bdbac9a5d471f81cafc%20%3D%20L.AwesomeMarkers.icon%28%0A%20%20%20%20%20%20%20%20%20%20%20%20%20%20%20%20%7B%22extraClasses%22%3A%20%22fa-rotate-0%22%2C%20%22icon%22%3A%20%22info-sign%22%2C%20%22iconColor%22%3A%20%22white%22%2C%20%22markerColor%22%3A%20%22blue%22%2C%20%22prefix%22%3A%20%22glyphicon%22%7D%0A%20%20%20%20%20%20%20%20%20%20%20%20%29%3B%0A%20%20%20%20%20%20%20%20%20%20%20%20marker_5f4f090b80f04606a49c177de2eb856e.setIcon%28icon_19e07aa2e27d4bdbac9a5d471f81cafc%29%3B%0A%20%20%20%20%20%20%20%20%0A%20%20%20%20%0A%20%20%20%20%20%20%20%20var%20popup_356e6b5ee67b41abaa9e4db857e673c2%20%3D%20L.popup%28%7B%22maxWidth%22%3A%20%22100%25%22%7D%29%3B%0A%0A%20%20%20%20%20%20%20%20%0A%20%20%20%20%20%20%20%20%20%20%20%20var%20html_5129273db21d40d6a64369d76034bdcb%20%3D%20%24%28%60%3Cdiv%20id%3D%22html_5129273db21d40d6a64369d76034bdcb%22%20style%3D%22width%3A%20100.0%25%3B%20height%3A%20100.0%25%3B%22%3ESERVICIO%20CALZADA%20UNION%20SA%20DE%20CV%20Regular%3A%2021.99%20Premium%3A%2024.64%20Diesel%3A%20nan%3C/div%3E%60%29%5B0%5D%3B%0A%20%20%20%20%20%20%20%20%20%20%20%20popup_356e6b5ee67b41abaa9e4db857e673c2.setContent%28html_5129273db21d40d6a64369d76034bdcb%29%3B%0A%20%20%20%20%20%20%20%20%0A%0A%20%20%20%20%20%20%20%20marker_5f4f090b80f04606a49c177de2eb856e.bindPopup%28popup_356e6b5ee67b41abaa9e4db857e673c2%29%0A%20%20%20%20%20%20%20%20%3B%0A%0A%20%20%20%20%20%20%20%20%0A%20%20%20%20%0A%20%20%20%20%0A%20%20%20%20%20%20%20%20%20%20%20%20var%20marker_5cc6cfc839a74e2fb30d764f99c155c4%20%3D%20L.marker%28%0A%20%20%20%20%20%20%20%20%20%20%20%20%20%20%20%20%5B25.66454%2C%20-100.2981%5D%2C%0A%20%20%20%20%20%20%20%20%20%20%20%20%20%20%20%20%7B%7D%0A%20%20%20%20%20%20%20%20%20%20%20%20%29.addTo%28map_69c4093c35c84510a66873cc690378b6%29%3B%0A%20%20%20%20%20%20%20%20%0A%20%20%20%20%0A%20%20%20%20%20%20%20%20%20%20%20%20var%20icon_198902f85663415e9fb1cbf6342188ff%20%3D%20L.AwesomeMarkers.icon%28%0A%20%20%20%20%20%20%20%20%20%20%20%20%20%20%20%20%7B%22extraClasses%22%3A%20%22fa-rotate-0%22%2C%20%22icon%22%3A%20%22info-sign%22%2C%20%22iconColor%22%3A%20%22white%22%2C%20%22markerColor%22%3A%20%22blue%22%2C%20%22prefix%22%3A%20%22glyphicon%22%7D%0A%20%20%20%20%20%20%20%20%20%20%20%20%29%3B%0A%20%20%20%20%20%20%20%20%20%20%20%20marker_5cc6cfc839a74e2fb30d764f99c155c4.setIcon%28icon_198902f85663415e9fb1cbf6342188ff%29%3B%0A%20%20%20%20%20%20%20%20%0A%20%20%20%20%0A%20%20%20%20%20%20%20%20var%20popup_f2977c6d276c47e89cebb95c087c6789%20%3D%20L.popup%28%7B%22maxWidth%22%3A%20%22100%25%22%7D%29%3B%0A%0A%20%20%20%20%20%20%20%20%0A%20%20%20%20%20%20%20%20%20%20%20%20var%20html_c21344fb15d14b5eac31d55e3ecb9fa4%20%3D%20%24%28%60%3Cdiv%20id%3D%22html_c21344fb15d14b5eac31d55e3ecb9fa4%22%20style%3D%22width%3A%20100.0%25%3B%20height%3A%20100.0%25%3B%22%3EGAS%20GARZA%20SADA%2C%20S.A.%20DE%20C.V.%20Regular%3A%2022.79%20Premium%3A%2025.19%20Diesel%3A%20nan%3C/div%3E%60%29%5B0%5D%3B%0A%20%20%20%20%20%20%20%20%20%20%20%20popup_f2977c6d276c47e89cebb95c087c6789.setContent%28html_c21344fb15d14b5eac31d55e3ecb9fa4%29%3B%0A%20%20%20%20%20%20%20%20%0A%0A%20%20%20%20%20%20%20%20marker_5cc6cfc839a74e2fb30d764f99c155c4.bindPopup%28popup_f2977c6d276c47e89cebb95c087c6789%29%0A%20%20%20%20%20%20%20%20%3B%0A%0A%20%20%20%20%20%20%20%20%0A%20%20%20%20%0A%20%20%20%20%0A%20%20%20%20%20%20%20%20%20%20%20%20var%20marker_19b7f1ee478948c78ed7f4e17cb9567e%20%3D%20L.marker%28%0A%20%20%20%20%20%20%20%20%20%20%20%20%20%20%20%20%5B25.69688%2C%20-100.3575%5D%2C%0A%20%20%20%20%20%20%20%20%20%20%20%20%20%20%20%20%7B%7D%0A%20%20%20%20%20%20%20%20%20%20%20%20%29.addTo%28map_69c4093c35c84510a66873cc690378b6%29%3B%0A%20%20%20%20%20%20%20%20%0A%20%20%20%20%0A%20%20%20%20%20%20%20%20%20%20%20%20var%20icon_8dbd2c853089459c80272e02b5949f4e%20%3D%20L.AwesomeMarkers.icon%28%0A%20%20%20%20%20%20%20%20%20%20%20%20%20%20%20%20%7B%22extraClasses%22%3A%20%22fa-rotate-0%22%2C%20%22icon%22%3A%20%22info-sign%22%2C%20%22iconColor%22%3A%20%22white%22%2C%20%22markerColor%22%3A%20%22blue%22%2C%20%22prefix%22%3A%20%22glyphicon%22%7D%0A%20%20%20%20%20%20%20%20%20%20%20%20%29%3B%0A%20%20%20%20%20%20%20%20%20%20%20%20marker_19b7f1ee478948c78ed7f4e17cb9567e.setIcon%28icon_8dbd2c853089459c80272e02b5949f4e%29%3B%0A%20%20%20%20%20%20%20%20%0A%20%20%20%20%0A%20%20%20%20%20%20%20%20var%20popup_1059c3b9d65e4d7a92a2c764596c21e3%20%3D%20L.popup%28%7B%22maxWidth%22%3A%20%22100%25%22%7D%29%3B%0A%0A%20%20%20%20%20%20%20%20%0A%20%20%20%20%20%20%20%20%20%20%20%20var%20html_503a05b1330647a2ab55236522df15ec%20%3D%20%24%28%60%3Cdiv%20id%3D%22html_503a05b1330647a2ab55236522df15ec%22%20style%3D%22width%3A%20100.0%25%3B%20height%3A%20100.0%25%3B%22%3EPETROMAX%2C%20S.A.%20DE%20C.V.%20Regular%3A%2023.29%20Premium%3A%2025.39%20Diesel%3A%20nan%3C/div%3E%60%29%5B0%5D%3B%0A%20%20%20%20%20%20%20%20%20%20%20%20popup_1059c3b9d65e4d7a92a2c764596c21e3.setContent%28html_503a05b1330647a2ab55236522df15ec%29%3B%0A%20%20%20%20%20%20%20%20%0A%0A%20%20%20%20%20%20%20%20marker_19b7f1ee478948c78ed7f4e17cb9567e.bindPopup%28popup_1059c3b9d65e4d7a92a2c764596c21e3%29%0A%20%20%20%20%20%20%20%20%3B%0A%0A%20%20%20%20%20%20%20%20%0A%20%20%20%20%0A%20%20%20%20%0A%20%20%20%20%20%20%20%20%20%20%20%20var%20marker_6aa1efd9ebc24be0a4f24b8ad84aea83%20%3D%20L.marker%28%0A%20%20%20%20%20%20%20%20%20%20%20%20%20%20%20%20%5B25.68678%2C%20-100.2774%5D%2C%0A%20%20%20%20%20%20%20%20%20%20%20%20%20%20%20%20%7B%7D%0A%20%20%20%20%20%20%20%20%20%20%20%20%29.addTo%28map_69c4093c35c84510a66873cc690378b6%29%3B%0A%20%20%20%20%20%20%20%20%0A%20%20%20%20%0A%20%20%20%20%20%20%20%20%20%20%20%20var%20icon_c5cff45d30b44ef5a11b0fb63bcba2e2%20%3D%20L.AwesomeMarkers.icon%28%0A%20%20%20%20%20%20%20%20%20%20%20%20%20%20%20%20%7B%22extraClasses%22%3A%20%22fa-rotate-0%22%2C%20%22icon%22%3A%20%22info-sign%22%2C%20%22iconColor%22%3A%20%22white%22%2C%20%22markerColor%22%3A%20%22lightgreen%22%2C%20%22prefix%22%3A%20%22glyphicon%22%7D%0A%20%20%20%20%20%20%20%20%20%20%20%20%29%3B%0A%20%20%20%20%20%20%20%20%20%20%20%20marker_6aa1efd9ebc24be0a4f24b8ad84aea83.setIcon%28icon_c5cff45d30b44ef5a11b0fb63bcba2e2%29%3B%0A%20%20%20%20%20%20%20%20%0A%20%20%20%20%0A%20%20%20%20%20%20%20%20var%20popup_c4b3ec436c9b40fc82e6435974ec401b%20%3D%20L.popup%28%7B%22maxWidth%22%3A%20%22100%25%22%7D%29%3B%0A%0A%20%20%20%20%20%20%20%20%0A%20%20%20%20%20%20%20%20%20%20%20%20var%20html_cad0402f47ca4721866574a9e01e1e13%20%3D%20%24%28%60%3Cdiv%20id%3D%22html_cad0402f47ca4721866574a9e01e1e13%22%20style%3D%22width%3A%20100.0%25%3B%20height%3A%20100.0%25%3B%22%3ESERVICIO%20TOPO%20CHICO%20SA%20DE%20CV%20Regular%3A%2021.69%20Premium%3A%2024.09%20Diesel%3A%20nan%3C/div%3E%60%29%5B0%5D%3B%0A%20%20%20%20%20%20%20%20%20%20%20%20popup_c4b3ec436c9b40fc82e6435974ec401b.setContent%28html_cad0402f47ca4721866574a9e01e1e13%29%3B%0A%20%20%20%20%20%20%20%20%0A%0A%20%20%20%20%20%20%20%20marker_6aa1efd9ebc24be0a4f24b8ad84aea83.bindPopup%28popup_c4b3ec436c9b40fc82e6435974ec401b%29%0A%20%20%20%20%20%20%20%20%3B%0A%0A%20%20%20%20%20%20%20%20%0A%20%20%20%20%0A%20%20%20%20%0A%20%20%20%20%20%20%20%20%20%20%20%20var%20marker_b1eb2a47fc5849039007326a8964bd6d%20%3D%20L.marker%28%0A%20%20%20%20%20%20%20%20%20%20%20%20%20%20%20%20%5B25.66034%2C%20-100.3081%5D%2C%0A%20%20%20%20%20%20%20%20%20%20%20%20%20%20%20%20%7B%7D%0A%20%20%20%20%20%20%20%20%20%20%20%20%29.addTo%28map_69c4093c35c84510a66873cc690378b6%29%3B%0A%20%20%20%20%20%20%20%20%0A%20%20%20%20%0A%20%20%20%20%20%20%20%20%20%20%20%20var%20icon_83c558de3b244a0794e4f1c41a7790b9%20%3D%20L.AwesomeMarkers.icon%28%0A%20%20%20%20%20%20%20%20%20%20%20%20%20%20%20%20%7B%22extraClasses%22%3A%20%22fa-rotate-0%22%2C%20%22icon%22%3A%20%22info-sign%22%2C%20%22iconColor%22%3A%20%22white%22%2C%20%22markerColor%22%3A%20%22lightgreen%22%2C%20%22prefix%22%3A%20%22glyphicon%22%7D%0A%20%20%20%20%20%20%20%20%20%20%20%20%29%3B%0A%20%20%20%20%20%20%20%20%20%20%20%20marker_b1eb2a47fc5849039007326a8964bd6d.setIcon%28icon_83c558de3b244a0794e4f1c41a7790b9%29%3B%0A%20%20%20%20%20%20%20%20%0A%20%20%20%20%0A%20%20%20%20%20%20%20%20var%20popup_c518a1a8f73f4b54a97986918d8effce%20%3D%20L.popup%28%7B%22maxWidth%22%3A%20%22100%25%22%7D%29%3B%0A%0A%20%20%20%20%20%20%20%20%0A%20%20%20%20%20%20%20%20%20%20%20%20var%20html_147d3aa2d6e5465fa3d928bf283b3fcf%20%3D%20%24%28%60%3Cdiv%20id%3D%22html_147d3aa2d6e5465fa3d928bf283b3fcf%22%20style%3D%22width%3A%20100.0%25%3B%20height%3A%20100.0%25%3B%22%3ESERGIO%20XAVIER%20GARCIA%20ANCIRA%20Regular%3A%2021.69%20Premium%3A%2024.09%20Diesel%3A%20nan%3C/div%3E%60%29%5B0%5D%3B%0A%20%20%20%20%20%20%20%20%20%20%20%20popup_c518a1a8f73f4b54a97986918d8effce.setContent%28html_147d3aa2d6e5465fa3d928bf283b3fcf%29%3B%0A%20%20%20%20%20%20%20%20%0A%0A%20%20%20%20%20%20%20%20marker_b1eb2a47fc5849039007326a8964bd6d.bindPopup%28popup_c518a1a8f73f4b54a97986918d8effce%29%0A%20%20%20%20%20%20%20%20%3B%0A%0A%20%20%20%20%20%20%20%20%0A%20%20%20%20%0A%20%20%20%20%0A%20%20%20%20%20%20%20%20%20%20%20%20var%20marker_4e1211c5b2e0455eb5cb8802091e6fa8%20%3D%20L.marker%28%0A%20%20%20%20%20%20%20%20%20%20%20%20%20%20%20%20%5B25.70812%2C%20-100.3558%5D%2C%0A%20%20%20%20%20%20%20%20%20%20%20%20%20%20%20%20%7B%7D%0A%20%20%20%20%20%20%20%20%20%20%20%20%29.addTo%28map_69c4093c35c84510a66873cc690378b6%29%3B%0A%20%20%20%20%20%20%20%20%0A%20%20%20%20%0A%20%20%20%20%20%20%20%20%20%20%20%20var%20icon_8ae18c291a4042aa813a8816019d1c12%20%3D%20L.AwesomeMarkers.icon%28%0A%20%20%20%20%20%20%20%20%20%20%20%20%20%20%20%20%7B%22extraClasses%22%3A%20%22fa-rotate-0%22%2C%20%22icon%22%3A%20%22info-sign%22%2C%20%22iconColor%22%3A%20%22white%22%2C%20%22markerColor%22%3A%20%22blue%22%2C%20%22prefix%22%3A%20%22glyphicon%22%7D%0A%20%20%20%20%20%20%20%20%20%20%20%20%29%3B%0A%20%20%20%20%20%20%20%20%20%20%20%20marker_4e1211c5b2e0455eb5cb8802091e6fa8.setIcon%28icon_8ae18c291a4042aa813a8816019d1c12%29%3B%0A%20%20%20%20%20%20%20%20%0A%20%20%20%20%0A%20%20%20%20%20%20%20%20var%20popup_efa9a1bf815c41879a8897e44a11ae1a%20%3D%20L.popup%28%7B%22maxWidth%22%3A%20%22100%25%22%7D%29%3B%0A%0A%20%20%20%20%20%20%20%20%0A%20%20%20%20%20%20%20%20%20%20%20%20var%20html_98377da847704080b05988df616fa42e%20%3D%20%24%28%60%3Cdiv%20id%3D%22html_98377da847704080b05988df616fa42e%22%20style%3D%22width%3A%20100.0%25%3B%20height%3A%20100.0%25%3B%22%3ESERVICIOS%20GASOLINEROS%20DE%20MEXICO%2C%20S.A.%20DE%20C.V.%20Regular%3A%2023.29%20Premium%3A%2025.39%20Diesel%3A%2023.39%3C/div%3E%60%29%5B0%5D%3B%0A%20%20%20%20%20%20%20%20%20%20%20%20popup_efa9a1bf815c41879a8897e44a11ae1a.setContent%28html_98377da847704080b05988df616fa42e%29%3B%0A%20%20%20%20%20%20%20%20%0A%0A%20%20%20%20%20%20%20%20marker_4e1211c5b2e0455eb5cb8802091e6fa8.bindPopup%28popup_efa9a1bf815c41879a8897e44a11ae1a%29%0A%20%20%20%20%20%20%20%20%3B%0A%0A%20%20%20%20%20%20%20%20%0A%20%20%20%20%0A%20%20%20%20%0A%20%20%20%20%20%20%20%20%20%20%20%20var%20marker_30f00dc1dcd3405087427ddbee7adb7c%20%3D%20L.marker%28%0A%20%20%20%20%20%20%20%20%20%20%20%20%20%20%20%20%5B25.66302%2C%20-100.2976%5D%2C%0A%20%20%20%20%20%20%20%20%20%20%20%20%20%20%20%20%7B%7D%0A%20%20%20%20%20%20%20%20%20%20%20%20%29.addTo%28map_69c4093c35c84510a66873cc690378b6%29%3B%0A%20%20%20%20%20%20%20%20%0A%20%20%20%20%0A%20%20%20%20%20%20%20%20%20%20%20%20var%20icon_2ed45f7eb95f4ef0b6770a6451d8026b%20%3D%20L.AwesomeMarkers.icon%28%0A%20%20%20%20%20%20%20%20%20%20%20%20%20%20%20%20%7B%22extraClasses%22%3A%20%22fa-rotate-0%22%2C%20%22icon%22%3A%20%22info-sign%22%2C%20%22iconColor%22%3A%20%22white%22%2C%20%22markerColor%22%3A%20%22blue%22%2C%20%22prefix%22%3A%20%22glyphicon%22%7D%0A%20%20%20%20%20%20%20%20%20%20%20%20%29%3B%0A%20%20%20%20%20%20%20%20%20%20%20%20marker_30f00dc1dcd3405087427ddbee7adb7c.setIcon%28icon_2ed45f7eb95f4ef0b6770a6451d8026b%29%3B%0A%20%20%20%20%20%20%20%20%0A%20%20%20%20%0A%20%20%20%20%20%20%20%20var%20popup_11d201dab5fd4fd1b4b8b7e30c8b2d24%20%3D%20L.popup%28%7B%22maxWidth%22%3A%20%22100%25%22%7D%29%3B%0A%0A%20%20%20%20%20%20%20%20%0A%20%20%20%20%20%20%20%20%20%20%20%20var%20html_7f2ae2f6b40d45c093d7d9b5c6ab263d%20%3D%20%24%28%60%3Cdiv%20id%3D%22html_7f2ae2f6b40d45c093d7d9b5c6ab263d%22%20style%3D%22width%3A%20100.0%25%3B%20height%3A%20100.0%25%3B%22%3ESERVICIOS%20GASOLINEROS%20DE%20MEXICO%2C%20S.A.%20DE%20C.V.%20Regular%3A%2023.19%20Premium%3A%2025.39%20Diesel%3A%2023.39%3C/div%3E%60%29%5B0%5D%3B%0A%20%20%20%20%20%20%20%20%20%20%20%20popup_11d201dab5fd4fd1b4b8b7e30c8b2d24.setContent%28html_7f2ae2f6b40d45c093d7d9b5c6ab263d%29%3B%0A%20%20%20%20%20%20%20%20%0A%0A%20%20%20%20%20%20%20%20marker_30f00dc1dcd3405087427ddbee7adb7c.bindPopup%28popup_11d201dab5fd4fd1b4b8b7e30c8b2d24%29%0A%20%20%20%20%20%20%20%20%3B%0A%0A%20%20%20%20%20%20%20%20%0A%20%20%20%20%0A%20%20%20%20%0A%20%20%20%20%20%20%20%20%20%20%20%20var%20marker_0c595472d2ec4e22b177d61d823f6d50%20%3D%20L.marker%28%0A%20%20%20%20%20%20%20%20%20%20%20%20%20%20%20%20%5B25.66274%2C%20-100.2978%5D%2C%0A%20%20%20%20%20%20%20%20%20%20%20%20%20%20%20%20%7B%7D%0A%20%20%20%20%20%20%20%20%20%20%20%20%29.addTo%28map_69c4093c35c84510a66873cc690378b6%29%3B%0A%20%20%20%20%20%20%20%20%0A%20%20%20%20%0A%20%20%20%20%20%20%20%20%20%20%20%20var%20icon_bd901d56ec2f43b48329153157d786b4%20%3D%20L.AwesomeMarkers.icon%28%0A%20%20%20%20%20%20%20%20%20%20%20%20%20%20%20%20%7B%22extraClasses%22%3A%20%22fa-rotate-0%22%2C%20%22icon%22%3A%20%22info-sign%22%2C%20%22iconColor%22%3A%20%22white%22%2C%20%22markerColor%22%3A%20%22blue%22%2C%20%22prefix%22%3A%20%22glyphicon%22%7D%0A%20%20%20%20%20%20%20%20%20%20%20%20%29%3B%0A%20%20%20%20%20%20%20%20%20%20%20%20marker_0c595472d2ec4e22b177d61d823f6d50.setIcon%28icon_bd901d56ec2f43b48329153157d786b4%29%3B%0A%20%20%20%20%20%20%20%20%0A%20%20%20%20%0A%20%20%20%20%20%20%20%20var%20popup_70bf06114670403589530f16b324b2eb%20%3D%20L.popup%28%7B%22maxWidth%22%3A%20%22100%25%22%7D%29%3B%0A%0A%20%20%20%20%20%20%20%20%0A%20%20%20%20%20%20%20%20%20%20%20%20var%20html_f909ddb3895d4884b1997c5a8df0dcb4%20%3D%20%24%28%60%3Cdiv%20id%3D%22html_f909ddb3895d4884b1997c5a8df0dcb4%22%20style%3D%22width%3A%20100.0%25%3B%20height%3A%20100.0%25%3B%22%3EGS%20GAS%20Q.%2C%20S.A.%20DE%20C.V.%20Regular%3A%2022.93%20Premium%3A%2025.13%20Diesel%3A%2023.89%3C/div%3E%60%29%5B0%5D%3B%0A%20%20%20%20%20%20%20%20%20%20%20%20popup_70bf06114670403589530f16b324b2eb.setContent%28html_f909ddb3895d4884b1997c5a8df0dcb4%29%3B%0A%20%20%20%20%20%20%20%20%0A%0A%20%20%20%20%20%20%20%20marker_0c595472d2ec4e22b177d61d823f6d50.bindPopup%28popup_70bf06114670403589530f16b324b2eb%29%0A%20%20%20%20%20%20%20%20%3B%0A%0A%20%20%20%20%20%20%20%20%0A%20%20%20%20%0A%20%20%20%20%0A%20%20%20%20%20%20%20%20%20%20%20%20var%20marker_29d65fe167414a2d80457f018a2f4667%20%3D%20L.marker%28%0A%20%20%20%20%20%20%20%20%20%20%20%20%20%20%20%20%5B25.70874%2C%20-100.2766%5D%2C%0A%20%20%20%20%20%20%20%20%20%20%20%20%20%20%20%20%7B%7D%0A%20%20%20%20%20%20%20%20%20%20%20%20%29.addTo%28map_69c4093c35c84510a66873cc690378b6%29%3B%0A%20%20%20%20%20%20%20%20%0A%20%20%20%20%0A%20%20%20%20%20%20%20%20%20%20%20%20var%20icon_a030ac42a7bc49b2b96eda0886e319dc%20%3D%20L.AwesomeMarkers.icon%28%0A%20%20%20%20%20%20%20%20%20%20%20%20%20%20%20%20%7B%22extraClasses%22%3A%20%22fa-rotate-0%22%2C%20%22icon%22%3A%20%22info-sign%22%2C%20%22iconColor%22%3A%20%22white%22%2C%20%22markerColor%22%3A%20%22blue%22%2C%20%22prefix%22%3A%20%22glyphicon%22%7D%0A%20%20%20%20%20%20%20%20%20%20%20%20%29%3B%0A%20%20%20%20%20%20%20%20%20%20%20%20marker_29d65fe167414a2d80457f018a2f4667.setIcon%28icon_a030ac42a7bc49b2b96eda0886e319dc%29%3B%0A%20%20%20%20%20%20%20%20%0A%20%20%20%20%0A%20%20%20%20%20%20%20%20var%20popup_4cc0a86e43154ac8aa61faac8981fbd7%20%3D%20L.popup%28%7B%22maxWidth%22%3A%20%22100%25%22%7D%29%3B%0A%0A%20%20%20%20%20%20%20%20%0A%20%20%20%20%20%20%20%20%20%20%20%20var%20html_4bb7d7e69d4b4754bea7fe1520d23c54%20%3D%20%24%28%60%3Cdiv%20id%3D%22html_4bb7d7e69d4b4754bea7fe1520d23c54%22%20style%3D%22width%3A%20100.0%25%3B%20height%3A%20100.0%25%3B%22%3EPETROMAX%2C%20S.A.%20DE%20C.V.%20Regular%3A%2022.29%20Premium%3A%2024.99%20Diesel%3A%2022.49%3C/div%3E%60%29%5B0%5D%3B%0A%20%20%20%20%20%20%20%20%20%20%20%20popup_4cc0a86e43154ac8aa61faac8981fbd7.setContent%28html_4bb7d7e69d4b4754bea7fe1520d23c54%29%3B%0A%20%20%20%20%20%20%20%20%0A%0A%20%20%20%20%20%20%20%20marker_29d65fe167414a2d80457f018a2f4667.bindPopup%28popup_4cc0a86e43154ac8aa61faac8981fbd7%29%0A%20%20%20%20%20%20%20%20%3B%0A%0A%20%20%20%20%20%20%20%20%0A%20%20%20%20%0A%20%20%20%20%0A%20%20%20%20%20%20%20%20%20%20%20%20var%20marker_3b5ac01e9d8a48b5a0efae0fb5b6d7b1%20%3D%20L.marker%28%0A%20%20%20%20%20%20%20%20%20%20%20%20%20%20%20%20%5B25.66791%2C%20-100.3451%5D%2C%0A%20%20%20%20%20%20%20%20%20%20%20%20%20%20%20%20%7B%7D%0A%20%20%20%20%20%20%20%20%20%20%20%20%29.addTo%28map_69c4093c35c84510a66873cc690378b6%29%3B%0A%20%20%20%20%20%20%20%20%0A%20%20%20%20%0A%20%20%20%20%20%20%20%20%20%20%20%20var%20icon_4a659ab685d84c32ae49e4dad02c4858%20%3D%20L.AwesomeMarkers.icon%28%0A%20%20%20%20%20%20%20%20%20%20%20%20%20%20%20%20%7B%22extraClasses%22%3A%20%22fa-rotate-0%22%2C%20%22icon%22%3A%20%22info-sign%22%2C%20%22iconColor%22%3A%20%22white%22%2C%20%22markerColor%22%3A%20%22blue%22%2C%20%22prefix%22%3A%20%22glyphicon%22%7D%0A%20%20%20%20%20%20%20%20%20%20%20%20%29%3B%0A%20%20%20%20%20%20%20%20%20%20%20%20marker_3b5ac01e9d8a48b5a0efae0fb5b6d7b1.setIcon%28icon_4a659ab685d84c32ae49e4dad02c4858%29%3B%0A%20%20%20%20%20%20%20%20%0A%20%20%20%20%0A%20%20%20%20%20%20%20%20var%20popup_bbfa0413aed045bd8d3e3a6ffa92ba58%20%3D%20L.popup%28%7B%22maxWidth%22%3A%20%22100%25%22%7D%29%3B%0A%0A%20%20%20%20%20%20%20%20%0A%20%20%20%20%20%20%20%20%20%20%20%20var%20html_64eb682eaa1c4cc8a75d4cdd59989421%20%3D%20%24%28%60%3Cdiv%20id%3D%22html_64eb682eaa1c4cc8a75d4cdd59989421%22%20style%3D%22width%3A%20100.0%25%3B%20height%3A%20100.0%25%3B%22%3EORSAN%20DEL%20NORTE%20S.A.%20DE%20C.V.%20Regular%3A%2022.59%20Premium%3A%2025.25%20Diesel%3A%2023.39%3C/div%3E%60%29%5B0%5D%3B%0A%20%20%20%20%20%20%20%20%20%20%20%20popup_bbfa0413aed045bd8d3e3a6ffa92ba58.setContent%28html_64eb682eaa1c4cc8a75d4cdd59989421%29%3B%0A%20%20%20%20%20%20%20%20%0A%0A%20%20%20%20%20%20%20%20marker_3b5ac01e9d8a48b5a0efae0fb5b6d7b1.bindPopup%28popup_bbfa0413aed045bd8d3e3a6ffa92ba58%29%0A%20%20%20%20%20%20%20%20%3B%0A%0A%20%20%20%20%20%20%20%20%0A%20%20%20%20%0A%20%20%20%20%0A%20%20%20%20%20%20%20%20%20%20%20%20var%20marker_87b4699b0c244653b632ffe8c141a21f%20%3D%20L.marker%28%0A%20%20%20%20%20%20%20%20%20%20%20%20%20%20%20%20%5B25.68284%2C%20-100.2771%5D%2C%0A%20%20%20%20%20%20%20%20%20%20%20%20%20%20%20%20%7B%7D%0A%20%20%20%20%20%20%20%20%20%20%20%20%29.addTo%28map_69c4093c35c84510a66873cc690378b6%29%3B%0A%20%20%20%20%20%20%20%20%0A%20%20%20%20%0A%20%20%20%20%20%20%20%20%20%20%20%20var%20icon_863aabc0505b41468140fb16f39d6f23%20%3D%20L.AwesomeMarkers.icon%28%0A%20%20%20%20%20%20%20%20%20%20%20%20%20%20%20%20%7B%22extraClasses%22%3A%20%22fa-rotate-0%22%2C%20%22icon%22%3A%20%22info-sign%22%2C%20%22iconColor%22%3A%20%22white%22%2C%20%22markerColor%22%3A%20%22blue%22%2C%20%22prefix%22%3A%20%22glyphicon%22%7D%0A%20%20%20%20%20%20%20%20%20%20%20%20%29%3B%0A%20%20%20%20%20%20%20%20%20%20%20%20marker_87b4699b0c244653b632ffe8c141a21f.setIcon%28icon_863aabc0505b41468140fb16f39d6f23%29%3B%0A%20%20%20%20%20%20%20%20%0A%20%20%20%20%0A%20%20%20%20%20%20%20%20var%20popup_27b80866c80c47b5ac79d573719bd824%20%3D%20L.popup%28%7B%22maxWidth%22%3A%20%22100%25%22%7D%29%3B%0A%0A%20%20%20%20%20%20%20%20%0A%20%20%20%20%20%20%20%20%20%20%20%20var%20html_5aa2e95b24d04c32bc00470e6880c6cc%20%3D%20%24%28%60%3Cdiv%20id%3D%22html_5aa2e95b24d04c32bc00470e6880c6cc%22%20style%3D%22width%3A%20100.0%25%3B%20height%3A%20100.0%25%3B%22%3EGASOLINERA%202029%2C%20S.%20A.%20DE%20C.%20V.%20Regular%3A%2021.99%20Premium%3A%2024.59%20Diesel%3A%2022.99%3C/div%3E%60%29%5B0%5D%3B%0A%20%20%20%20%20%20%20%20%20%20%20%20popup_27b80866c80c47b5ac79d573719bd824.setContent%28html_5aa2e95b24d04c32bc00470e6880c6cc%29%3B%0A%20%20%20%20%20%20%20%20%0A%0A%20%20%20%20%20%20%20%20marker_87b4699b0c244653b632ffe8c141a21f.bindPopup%28popup_27b80866c80c47b5ac79d573719bd824%29%0A%20%20%20%20%20%20%20%20%3B%0A%0A%20%20%20%20%20%20%20%20%0A%20%20%20%20%0A%20%20%20%20%0A%20%20%20%20%20%20%20%20%20%20%20%20var%20marker_46ae5cb36b4f4181b709d1dee3395c69%20%3D%20L.marker%28%0A%20%20%20%20%20%20%20%20%20%20%20%20%20%20%20%20%5B25.6608%2C%20-100.3009%5D%2C%0A%20%20%20%20%20%20%20%20%20%20%20%20%20%20%20%20%7B%7D%0A%20%20%20%20%20%20%20%20%20%20%20%20%29.addTo%28map_69c4093c35c84510a66873cc690378b6%29%3B%0A%20%20%20%20%20%20%20%20%0A%20%20%20%20%0A%20%20%20%20%20%20%20%20%20%20%20%20var%20icon_25583c67b9e4421aba131faf21191893%20%3D%20L.AwesomeMarkers.icon%28%0A%20%20%20%20%20%20%20%20%20%20%20%20%20%20%20%20%7B%22extraClasses%22%3A%20%22fa-rotate-0%22%2C%20%22icon%22%3A%20%22info-sign%22%2C%20%22iconColor%22%3A%20%22white%22%2C%20%22markerColor%22%3A%20%22blue%22%2C%20%22prefix%22%3A%20%22glyphicon%22%7D%0A%20%20%20%20%20%20%20%20%20%20%20%20%29%3B%0A%20%20%20%20%20%20%20%20%20%20%20%20marker_46ae5cb36b4f4181b709d1dee3395c69.setIcon%28icon_25583c67b9e4421aba131faf21191893%29%3B%0A%20%20%20%20%20%20%20%20%0A%20%20%20%20%0A%20%20%20%20%20%20%20%20var%20popup_6a6d749f9ee547babde5320589021e57%20%3D%20L.popup%28%7B%22maxWidth%22%3A%20%22100%25%22%7D%29%3B%0A%0A%20%20%20%20%20%20%20%20%0A%20%20%20%20%20%20%20%20%20%20%20%20var%20html_f957d7e370f64eeda5ddf46221e5468b%20%3D%20%24%28%60%3Cdiv%20id%3D%22html_f957d7e370f64eeda5ddf46221e5468b%22%20style%3D%22width%3A%20100.0%25%3B%20height%3A%20100.0%25%3B%22%3ESERVICIO%20AYUTLA%20SA%20DE%20CV%20Regular%3A%2022.94%20Premium%3A%2025.14%20Diesel%3A%20nan%3C/div%3E%60%29%5B0%5D%3B%0A%20%20%20%20%20%20%20%20%20%20%20%20popup_6a6d749f9ee547babde5320589021e57.setContent%28html_f957d7e370f64eeda5ddf46221e5468b%29%3B%0A%20%20%20%20%20%20%20%20%0A%0A%20%20%20%20%20%20%20%20marker_46ae5cb36b4f4181b709d1dee3395c69.bindPopup%28popup_6a6d749f9ee547babde5320589021e57%29%0A%20%20%20%20%20%20%20%20%3B%0A%0A%20%20%20%20%20%20%20%20%0A%20%20%20%20%0A%20%20%20%20%0A%20%20%20%20%20%20%20%20%20%20%20%20var%20marker_d3aaefb5ca8e4660820cc2edcb2af8e5%20%3D%20L.marker%28%0A%20%20%20%20%20%20%20%20%20%20%20%20%20%20%20%20%5B25.68117%2C%20-100.3576%5D%2C%0A%20%20%20%20%20%20%20%20%20%20%20%20%20%20%20%20%7B%7D%0A%20%20%20%20%20%20%20%20%20%20%20%20%29.addTo%28map_69c4093c35c84510a66873cc690378b6%29%3B%0A%20%20%20%20%20%20%20%20%0A%20%20%20%20%0A%20%20%20%20%20%20%20%20%20%20%20%20var%20icon_1ffb596b18a841f185f16e227226dc35%20%3D%20L.AwesomeMarkers.icon%28%0A%20%20%20%20%20%20%20%20%20%20%20%20%20%20%20%20%7B%22extraClasses%22%3A%20%22fa-rotate-0%22%2C%20%22icon%22%3A%20%22info-sign%22%2C%20%22iconColor%22%3A%20%22white%22%2C%20%22markerColor%22%3A%20%22lightred%22%2C%20%22prefix%22%3A%20%22glyphicon%22%7D%0A%20%20%20%20%20%20%20%20%20%20%20%20%29%3B%0A%20%20%20%20%20%20%20%20%20%20%20%20marker_d3aaefb5ca8e4660820cc2edcb2af8e5.setIcon%28icon_1ffb596b18a841f185f16e227226dc35%29%3B%0A%20%20%20%20%20%20%20%20%0A%20%20%20%20%0A%20%20%20%20%20%20%20%20var%20popup_b53d0f8495904d61bcf6c2c031be0b9f%20%3D%20L.popup%28%7B%22maxWidth%22%3A%20%22100%25%22%7D%29%3B%0A%0A%20%20%20%20%20%20%20%20%0A%20%20%20%20%20%20%20%20%20%20%20%20var%20html_8ad00970022e4dd08e72980fd07bd312%20%3D%20%24%28%60%3Cdiv%20id%3D%22html_8ad00970022e4dd08e72980fd07bd312%22%20style%3D%22width%3A%20100.0%25%3B%20height%3A%20100.0%25%3B%22%3EORSAN%20DEL%20NORTE%20S.A.%20DE%20C.V.%20Regular%3A%2023.48%20Premium%3A%2025.59%20Diesel%3A%2023.55%3C/div%3E%60%29%5B0%5D%3B%0A%20%20%20%20%20%20%20%20%20%20%20%20popup_b53d0f8495904d61bcf6c2c031be0b9f.setContent%28html_8ad00970022e4dd08e72980fd07bd312%29%3B%0A%20%20%20%20%20%20%20%20%0A%0A%20%20%20%20%20%20%20%20marker_d3aaefb5ca8e4660820cc2edcb2af8e5.bindPopup%28popup_b53d0f8495904d61bcf6c2c031be0b9f%29%0A%20%20%20%20%20%20%20%20%3B%0A%0A%20%20%20%20%20%20%20%20%0A%20%20%20%20%0A%20%20%20%20%0A%20%20%20%20%20%20%20%20%20%20%20%20var%20marker_df26ba0889a348659518c6c66d709172%20%3D%20L.marker%28%0A%20%20%20%20%20%20%20%20%20%20%20%20%20%20%20%20%5B25.70161%2C%20-100.3616%5D%2C%0A%20%20%20%20%20%20%20%20%20%20%20%20%20%20%20%20%7B%7D%0A%20%20%20%20%20%20%20%20%20%20%20%20%29.addTo%28map_69c4093c35c84510a66873cc690378b6%29%3B%0A%20%20%20%20%20%20%20%20%0A%20%20%20%20%0A%20%20%20%20%20%20%20%20%20%20%20%20var%20icon_285d963ba9d7434e9f324808d9d5f54c%20%3D%20L.AwesomeMarkers.icon%28%0A%20%20%20%20%20%20%20%20%20%20%20%20%20%20%20%20%7B%22extraClasses%22%3A%20%22fa-rotate-0%22%2C%20%22icon%22%3A%20%22info-sign%22%2C%20%22iconColor%22%3A%20%22white%22%2C%20%22markerColor%22%3A%20%22blue%22%2C%20%22prefix%22%3A%20%22glyphicon%22%7D%0A%20%20%20%20%20%20%20%20%20%20%20%20%29%3B%0A%20%20%20%20%20%20%20%20%20%20%20%20marker_df26ba0889a348659518c6c66d709172.setIcon%28icon_285d963ba9d7434e9f324808d9d5f54c%29%3B%0A%20%20%20%20%20%20%20%20%0A%20%20%20%20%0A%20%20%20%20%20%20%20%20var%20popup_7e2e5ff7ac264c0a8e7dc34ce3618e09%20%3D%20L.popup%28%7B%22maxWidth%22%3A%20%22100%25%22%7D%29%3B%0A%0A%20%20%20%20%20%20%20%20%0A%20%20%20%20%20%20%20%20%20%20%20%20var%20html_61147b2a475244869f4840028bbed6d1%20%3D%20%24%28%60%3Cdiv%20id%3D%22html_61147b2a475244869f4840028bbed6d1%22%20style%3D%22width%3A%20100.0%25%3B%20height%3A%20100.0%25%3B%22%3ESERVICIOS%20GASOLINEROS%20DE%20MEXICO%2C%20S.A.%20DE%20C.V.%20Regular%3A%2023.29%20Premium%3A%2025.39%20Diesel%3A%2023.39%3C/div%3E%60%29%5B0%5D%3B%0A%20%20%20%20%20%20%20%20%20%20%20%20popup_7e2e5ff7ac264c0a8e7dc34ce3618e09.setContent%28html_61147b2a475244869f4840028bbed6d1%29%3B%0A%20%20%20%20%20%20%20%20%0A%0A%20%20%20%20%20%20%20%20marker_df26ba0889a348659518c6c66d709172.bindPopup%28popup_7e2e5ff7ac264c0a8e7dc34ce3618e09%29%0A%20%20%20%20%20%20%20%20%3B%0A%0A%20%20%20%20%20%20%20%20%0A%20%20%20%20%0A%20%20%20%20%0A%20%20%20%20%20%20%20%20%20%20%20%20var%20marker_fa59f85c3f6646608cc9a4129c93eb80%20%3D%20L.marker%28%0A%20%20%20%20%20%20%20%20%20%20%20%20%20%20%20%20%5B25.72145%2C%20-100.2806%5D%2C%0A%20%20%20%20%20%20%20%20%20%20%20%20%20%20%20%20%7B%7D%0A%20%20%20%20%20%20%20%20%20%20%20%20%29.addTo%28map_69c4093c35c84510a66873cc690378b6%29%3B%0A%20%20%20%20%20%20%20%20%0A%20%20%20%20%0A%20%20%20%20%20%20%20%20%20%20%20%20var%20icon_6879a6597f754ef78aa187652d1f8467%20%3D%20L.AwesomeMarkers.icon%28%0A%20%20%20%20%20%20%20%20%20%20%20%20%20%20%20%20%7B%22extraClasses%22%3A%20%22fa-rotate-0%22%2C%20%22icon%22%3A%20%22info-sign%22%2C%20%22iconColor%22%3A%20%22white%22%2C%20%22markerColor%22%3A%20%22lightgreen%22%2C%20%22prefix%22%3A%20%22glyphicon%22%7D%0A%20%20%20%20%20%20%20%20%20%20%20%20%29%3B%0A%20%20%20%20%20%20%20%20%20%20%20%20marker_fa59f85c3f6646608cc9a4129c93eb80.setIcon%28icon_6879a6597f754ef78aa187652d1f8467%29%3B%0A%20%20%20%20%20%20%20%20%0A%20%20%20%20%0A%20%20%20%20%20%20%20%20var%20popup_647e912f24804d5f8479e7d96f838574%20%3D%20L.popup%28%7B%22maxWidth%22%3A%20%22100%25%22%7D%29%3B%0A%0A%20%20%20%20%20%20%20%20%0A%20%20%20%20%20%20%20%20%20%20%20%20var%20html_a0638b7fd9f8471eaef2b7a91654b2f1%20%3D%20%24%28%60%3Cdiv%20id%3D%22html_a0638b7fd9f8471eaef2b7a91654b2f1%22%20style%3D%22width%3A%20100.0%25%3B%20height%3A%20100.0%25%3B%22%3ESERVICIO%20GAS%20LINCOLN%20S.A.%20DE%20C.V.%20Regular%3A%2021.95%20Premium%3A%2024.97%20Diesel%3A%2023.89%3C/div%3E%60%29%5B0%5D%3B%0A%20%20%20%20%20%20%20%20%20%20%20%20popup_647e912f24804d5f8479e7d96f838574.setContent%28html_a0638b7fd9f8471eaef2b7a91654b2f1%29%3B%0A%20%20%20%20%20%20%20%20%0A%0A%20%20%20%20%20%20%20%20marker_fa59f85c3f6646608cc9a4129c93eb80.bindPopup%28popup_647e912f24804d5f8479e7d96f838574%29%0A%20%20%20%20%20%20%20%20%3B%0A%0A%20%20%20%20%20%20%20%20%0A%20%20%20%20%0A%20%20%20%20%0A%20%20%20%20%20%20%20%20%20%20%20%20var%20marker_392799162d5748b7bcdddc18bc54ec7b%20%3D%20L.marker%28%0A%20%20%20%20%20%20%20%20%20%20%20%20%20%20%20%20%5B25.68494%2C%20-100.2729%5D%2C%0A%20%20%20%20%20%20%20%20%20%20%20%20%20%20%20%20%7B%7D%0A%20%20%20%20%20%20%20%20%20%20%20%20%29.addTo%28map_69c4093c35c84510a66873cc690378b6%29%3B%0A%20%20%20%20%20%20%20%20%0A%20%20%20%20%0A%20%20%20%20%20%20%20%20%20%20%20%20var%20icon_a561f0c26c6c421fb8c95f49faa9000b%20%3D%20L.AwesomeMarkers.icon%28%0A%20%20%20%20%20%20%20%20%20%20%20%20%20%20%20%20%7B%22extraClasses%22%3A%20%22fa-rotate-0%22%2C%20%22icon%22%3A%20%22info-sign%22%2C%20%22iconColor%22%3A%20%22white%22%2C%20%22markerColor%22%3A%20%22blue%22%2C%20%22prefix%22%3A%20%22glyphicon%22%7D%0A%20%20%20%20%20%20%20%20%20%20%20%20%29%3B%0A%20%20%20%20%20%20%20%20%20%20%20%20marker_392799162d5748b7bcdddc18bc54ec7b.setIcon%28icon_a561f0c26c6c421fb8c95f49faa9000b%29%3B%0A%20%20%20%20%20%20%20%20%0A%20%20%20%20%0A%20%20%20%20%20%20%20%20var%20popup_4075e33412b44660994666657d7e34e7%20%3D%20L.popup%28%7B%22maxWidth%22%3A%20%22100%25%22%7D%29%3B%0A%0A%20%20%20%20%20%20%20%20%0A%20%20%20%20%20%20%20%20%20%20%20%20var%20html_9e9fcb380fce430b8aa6d8ad6a4da2d5%20%3D%20%24%28%60%3Cdiv%20id%3D%22html_9e9fcb380fce430b8aa6d8ad6a4da2d5%22%20style%3D%22width%3A%20100.0%25%3B%20height%3A%20100.0%25%3B%22%3EPETROMAX%2C%20S.A.%20DE%20C.V.%20Regular%3A%2022.29%20Premium%3A%2024.99%20Diesel%3A%20nan%3C/div%3E%60%29%5B0%5D%3B%0A%20%20%20%20%20%20%20%20%20%20%20%20popup_4075e33412b44660994666657d7e34e7.setContent%28html_9e9fcb380fce430b8aa6d8ad6a4da2d5%29%3B%0A%20%20%20%20%20%20%20%20%0A%0A%20%20%20%20%20%20%20%20marker_392799162d5748b7bcdddc18bc54ec7b.bindPopup%28popup_4075e33412b44660994666657d7e34e7%29%0A%20%20%20%20%20%20%20%20%3B%0A%0A%20%20%20%20%20%20%20%20%0A%20%20%20%20%0A%20%20%20%20%0A%20%20%20%20%20%20%20%20%20%20%20%20var%20marker_ffecf0ef3d4042f4809a9152aa8e470e%20%3D%20L.marker%28%0A%20%20%20%20%20%20%20%20%20%20%20%20%20%20%20%20%5B25.7364%2C%20-100.3044%5D%2C%0A%20%20%20%20%20%20%20%20%20%20%20%20%20%20%20%20%7B%7D%0A%20%20%20%20%20%20%20%20%20%20%20%20%29.addTo%28map_69c4093c35c84510a66873cc690378b6%29%3B%0A%20%20%20%20%20%20%20%20%0A%20%20%20%20%0A%20%20%20%20%20%20%20%20%20%20%20%20var%20icon_4a494001e13a476da9c6e28a954441a2%20%3D%20L.AwesomeMarkers.icon%28%0A%20%20%20%20%20%20%20%20%20%20%20%20%20%20%20%20%7B%22extraClasses%22%3A%20%22fa-rotate-0%22%2C%20%22icon%22%3A%20%22info-sign%22%2C%20%22iconColor%22%3A%20%22white%22%2C%20%22markerColor%22%3A%20%22blue%22%2C%20%22prefix%22%3A%20%22glyphicon%22%7D%0A%20%20%20%20%20%20%20%20%20%20%20%20%29%3B%0A%20%20%20%20%20%20%20%20%20%20%20%20marker_ffecf0ef3d4042f4809a9152aa8e470e.setIcon%28icon_4a494001e13a476da9c6e28a954441a2%29%3B%0A%20%20%20%20%20%20%20%20%0A%20%20%20%20%0A%20%20%20%20%20%20%20%20var%20popup_46acfb82f0384af4a2cfea109ef6d6f3%20%3D%20L.popup%28%7B%22maxWidth%22%3A%20%22100%25%22%7D%29%3B%0A%0A%20%20%20%20%20%20%20%20%0A%20%20%20%20%20%20%20%20%20%20%20%20var%20html_ce4cd247145446948ac94ae8003abdda%20%3D%20%24%28%60%3Cdiv%20id%3D%22html_ce4cd247145446948ac94ae8003abdda%22%20style%3D%22width%3A%20100.0%25%3B%20height%3A%20100.0%25%3B%22%3EGASOLINERA%20ANAHUAC%20%2C%20S.A.%20DE%20C.V.%20Regular%3A%2021.98%20Premium%3A%2024.77%20Diesel%3A%20nan%3C/div%3E%60%29%5B0%5D%3B%0A%20%20%20%20%20%20%20%20%20%20%20%20popup_46acfb82f0384af4a2cfea109ef6d6f3.setContent%28html_ce4cd247145446948ac94ae8003abdda%29%3B%0A%20%20%20%20%20%20%20%20%0A%0A%20%20%20%20%20%20%20%20marker_ffecf0ef3d4042f4809a9152aa8e470e.bindPopup%28popup_46acfb82f0384af4a2cfea109ef6d6f3%29%0A%20%20%20%20%20%20%20%20%3B%0A%0A%20%20%20%20%20%20%20%20%0A%20%20%20%20%0A%3C/script%3E onload=\"this.contentDocument.open();this.contentDocument.write(    decodeURIComponent(this.getAttribute('data-html')));this.contentDocument.close();\" allowfullscreen webkitallowfullscreen mozallowfullscreen></iframe></div></div>"
      ],
      "text/plain": [
       "<folium.folium.Map at 0x2910b4a4fa0>"
      ]
     },
     "execution_count": 133,
     "metadata": {},
     "output_type": "execute_result"
    }
   ],
   "source": [
    "import folium\n",
    "\n",
    "# Select location\n",
    "center = [25.69651, -100.31676]\n",
    "\n",
    "# gas type [\"regular\",\"premium\",\"diesel\"]\n",
    "gas_type = \"regular\"\n",
    "\n",
    "map = folium.Map(\n",
    "    location = [center[0],center[1]],\n",
    "    zoom_start = 13\n",
    "    )\n",
    "\n",
    "distance_index = distances(center[0],center[1])\n",
    "\n",
    "max_price = df.loc[distance_index, gas_type].max()\n",
    "min_price = df.loc[distance_index, gas_type].min()\n",
    "\n",
    "thresold1 = df.loc[distance_index,gas_type].quantile(0.25)\n",
    "thresold2 = df.loc[distance_index,gas_type].quantile(0.75)\n",
    "#thresold1 = (max_price-min_price)*0.25 + min_price\n",
    "#thresold2 = (max_price-min_price)*0.75 + min_price\n",
    "\n",
    "for idx in distance_index:\n",
    "    price = df.loc[idx,gas_type]\n",
    "    \n",
    "    if price < thresold1 and price > min_price:\n",
    "        set_color = \"lightgreen\"\n",
    "        \n",
    "    elif price >= thresold1 and price <= thresold2:\n",
    "        set_color = \"blue\"\n",
    "        \n",
    "    elif price > thresold2 and price < max_price:\n",
    "        set_color = \"lightred\"\n",
    "        \n",
    "    if price == min_price:\n",
    "        set_color = \"green\"\n",
    "        \n",
    "    elif price == max_price:\n",
    "        set_color = \"red\"\n",
    "\n",
    "    folium.Marker(\n",
    "        location=[df.loc[idx,\"latitude\"], df.loc[idx,\"longitude\"]],\n",
    "        popup=df.loc[idx,\"name\"]+\"\\nRegular: \"+str(df.loc[idx,\"regular\"])+\"\\nPremium: \"+ \\\n",
    "            str(df.loc[idx,\"premium\"])+\"\\nDiesel: \"+str(df.loc[idx,\"diesel\"]),\n",
    "        icon=folium.Icon(color=set_color)\n",
    "    ).add_to(map)\n",
    "\n",
    "map"
   ]
  },
  {
   "cell_type": "markdown",
   "metadata": {},
   "source": [
    "## Export dataframe and map"
   ]
  },
  {
   "cell_type": "code",
   "execution_count": 43,
   "metadata": {},
   "outputs": [],
   "source": [
    "from datetime import datetime\n",
    "import re\n",
    "\n",
    "#Creating name of file based in date\n",
    "date_ex = re.sub(\"[-]\",\"\",str(datetime.today()))\n",
    "date_ex = re.sub(\"[ ]\",\"_\",date_ex)\n",
    "date_ex = re.sub(\"[:]\",\"\",date_ex)\n",
    "date_ex = date_ex[:-7]\n",
    "\n",
    "df.to_csv(\"export_files\\gas_prices_{}.csv\".format(date_ex))\n",
    "map.save(\"export_files\\map_{}.html\".format(date_ex))"
   ]
  }
 ],
 "metadata": {
  "interpreter": {
   "hash": "60be713148929cc7b3e8f61adf12124ea268898f94907036d1fa158e91da1f3f"
  },
  "kernelspec": {
   "display_name": "Python 3.9.2 64-bit",
   "language": "python",
   "name": "python3"
  },
  "language_info": {
   "codemirror_mode": {
    "name": "ipython",
    "version": 3
   },
   "file_extension": ".py",
   "mimetype": "text/x-python",
   "name": "python",
   "nbconvert_exporter": "python",
   "pygments_lexer": "ipython3",
   "version": "3.9.2"
  },
  "orig_nbformat": 4
 },
 "nbformat": 4,
 "nbformat_minor": 2
}
